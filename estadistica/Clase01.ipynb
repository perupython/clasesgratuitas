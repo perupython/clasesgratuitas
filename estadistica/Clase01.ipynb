{
 "cells": [
  {
   "cell_type": "markdown",
   "id": "13cddb5f-629b-4148-a805-dbb179667c55",
   "metadata": {},
   "source": [
    "# **Python y Estadística sin aburrirse 🚀**"
   ]
  },
  {
   "cell_type": "markdown",
   "id": "3f4a1f96-2d96-4786-9c78-1c31441d6b68",
   "metadata": {},
   "source": [
    "Bienvenidos a este live 👋.  \n",
    "Hoy vamos a repasar **fundamentos de Python** y **estadística práctica**, pero con ejemplos que se entienden al toque."
   ]
  },
  {
   "cell_type": "markdown",
   "id": "481b8241-9237-431c-943b-8db54fcbf8e8",
   "metadata": {},
   "source": [
    "### 1. Errores comunes en Python (¡y cómo evitarlos!)"
   ]
  },
  {
   "cell_type": "markdown",
   "id": "78529ea7-aae1-4b5d-b710-a893b8e269ce",
   "metadata": {},
   "source": [
    "Ejemplo 1: `IndentationError`\n",
    "```python\n",
    "# Error clásico: mala indentación\n",
    "for i in range(3):\n",
    "print(i)   # <- Esto rompe\n",
    "\n",
    "# Solución ✅\n",
    "for i in range(3):\n",
    "    print(i)"
   ]
  },
  {
   "cell_type": "code",
   "execution_count": 57,
   "id": "0ce627a6-fd70-4997-bdfc-941deb22ce7f",
   "metadata": {},
   "outputs": [],
   "source": [
    "# for i in range(3):\n",
    "# print(i)"
   ]
  },
  {
   "cell_type": "code",
   "execution_count": 58,
   "id": "bb162d72-b5dd-43c2-bff7-f6078b6eeb61",
   "metadata": {},
   "outputs": [
    {
     "name": "stdout",
     "output_type": "stream",
     "text": [
      "0\n",
      "1\n",
      "2\n"
     ]
    }
   ],
   "source": [
    "for i in range(3):\n",
    "    print(i)"
   ]
  },
  {
   "cell_type": "code",
   "execution_count": 59,
   "id": "5e05df80-39fb-4754-93cf-1b89f6ca89a1",
   "metadata": {},
   "outputs": [
    {
     "name": "stdout",
     "output_type": "stream",
     "text": [
      "Es mayor de edad\n"
     ]
    }
   ],
   "source": [
    "edad = 30\n",
    "if edad >= 18:\n",
    "    print('Es mayor de edad')\n",
    "else:\n",
    "    print('Es menor de edad')"
   ]
  },
  {
   "cell_type": "code",
   "execution_count": 110,
   "id": "60c60dae-3d99-475d-8566-7193c4907f4a",
   "metadata": {},
   "outputs": [
    {
     "ename": "ValueError",
     "evalue": "invalid literal for int() with base 10: '3.0'",
     "output_type": "error",
     "traceback": [
      "\u001b[31m---------------------------------------------------------------------------\u001b[39m",
      "\u001b[31mValueError\u001b[39m                                Traceback (most recent call last)",
      "\u001b[36mCell\u001b[39m\u001b[36m \u001b[39m\u001b[32mIn[110]\u001b[39m\u001b[32m, line 2\u001b[39m\n\u001b[32m      1\u001b[39m \u001b[38;5;66;03m# Realizar conversiones en otros tipos dedatos\u001b[39;00m\n\u001b[32m----> \u001b[39m\u001b[32m2\u001b[39m \u001b[38;5;28;43mint\u001b[39;49m\u001b[43m(\u001b[49m\u001b[33;43m'\u001b[39;49m\u001b[33;43m3.0\u001b[39;49m\u001b[33;43m'\u001b[39;49m\u001b[43m)\u001b[49m\n",
      "\u001b[31mValueError\u001b[39m: invalid literal for int() with base 10: '3.0'"
     ]
    }
   ],
   "source": [
    "# Realizar conversiones en otros tipos dedatos\n",
    "int('3.0')"
   ]
  },
  {
   "cell_type": "code",
   "execution_count": 61,
   "id": "a2146a90-10d4-4e6f-87a7-4e2edc96100b",
   "metadata": {},
   "outputs": [
    {
     "data": {
      "text/plain": [
       "3"
      ]
     },
     "execution_count": 61,
     "metadata": {},
     "output_type": "execute_result"
    }
   ],
   "source": [
    "int(3)"
   ]
  },
  {
   "cell_type": "code",
   "execution_count": 62,
   "id": "8ac0761f-aeb7-478f-bf78-87d1b8583e65",
   "metadata": {},
   "outputs": [
    {
     "data": {
      "text/plain": [
       "3"
      ]
     },
     "execution_count": 62,
     "metadata": {},
     "output_type": "execute_result"
    }
   ],
   "source": [
    "int(3.0)"
   ]
  },
  {
   "cell_type": "code",
   "execution_count": 63,
   "id": "62fab4cf-2ece-4228-a7f9-b7098beefcaf",
   "metadata": {},
   "outputs": [
    {
     "data": {
      "text/plain": [
       "3"
      ]
     },
     "execution_count": 63,
     "metadata": {},
     "output_type": "execute_result"
    }
   ],
   "source": [
    "int('3')"
   ]
  },
  {
   "cell_type": "code",
   "execution_count": 111,
   "id": "42868a7e-96db-41f1-8e5b-bf657a763530",
   "metadata": {},
   "outputs": [
    {
     "ename": "TypeError",
     "evalue": "can only concatenate str (not \"int\") to str",
     "output_type": "error",
     "traceback": [
      "\u001b[31m---------------------------------------------------------------------------\u001b[39m",
      "\u001b[31mTypeError\u001b[39m                                 Traceback (most recent call last)",
      "\u001b[36mCell\u001b[39m\u001b[36m \u001b[39m\u001b[32mIn[111]\u001b[39m\u001b[32m, line 2\u001b[39m\n\u001b[32m      1\u001b[39m \u001b[38;5;66;03m# Operacion matematica\u001b[39;00m\n\u001b[32m----> \u001b[39m\u001b[32m2\u001b[39m \u001b[33;43m'\u001b[39;49m\u001b[33;43m3\u001b[39;49m\u001b[33;43m'\u001b[39;49m\u001b[43m \u001b[49m\u001b[43m+\u001b[49m\u001b[43m \u001b[49m\u001b[32;43m5\u001b[39;49m\n",
      "\u001b[31mTypeError\u001b[39m: can only concatenate str (not \"int\") to str"
     ]
    }
   ],
   "source": [
    "# Operacion matematica\n",
    "'3' + 5"
   ]
  },
  {
   "cell_type": "code",
   "execution_count": 65,
   "id": "b0aa66c7-9294-484a-855e-8a8a09b3ee40",
   "metadata": {},
   "outputs": [
    {
     "data": {
      "text/plain": [
       "'33'"
      ]
     },
     "execution_count": 65,
     "metadata": {},
     "output_type": "execute_result"
    }
   ],
   "source": [
    "'3' + '3'"
   ]
  },
  {
   "cell_type": "code",
   "execution_count": 66,
   "id": "30bc7898-d0d4-4d7e-991f-06e9162bd544",
   "metadata": {},
   "outputs": [
    {
     "data": {
      "text/plain": [
       "6"
      ]
     },
     "execution_count": 66,
     "metadata": {},
     "output_type": "execute_result"
    }
   ],
   "source": [
    "3 + 3"
   ]
  },
  {
   "cell_type": "code",
   "execution_count": 112,
   "id": "349e3104-8558-4660-adab-3c8db34563e6",
   "metadata": {},
   "outputs": [
    {
     "ename": "IndexError",
     "evalue": "list index out of range",
     "output_type": "error",
     "traceback": [
      "\u001b[31m---------------------------------------------------------------------------\u001b[39m",
      "\u001b[31mIndexError\u001b[39m                                Traceback (most recent call last)",
      "\u001b[36mCell\u001b[39m\u001b[36m \u001b[39m\u001b[32mIn[112]\u001b[39m\u001b[32m, line 4\u001b[39m\n\u001b[32m      1\u001b[39m frutas = [\u001b[33m'\u001b[39m\u001b[33mmanzana\u001b[39m\u001b[33m'\u001b[39m, \u001b[33m'\u001b[39m\u001b[33mpera\u001b[39m\u001b[33m'\u001b[39m, \u001b[33m'\u001b[39m\u001b[33muva\u001b[39m\u001b[33m'\u001b[39m, \u001b[33m'\u001b[39m\u001b[33mmango\u001b[39m\u001b[33m'\u001b[39m]\n\u001b[32m      3\u001b[39m \u001b[38;5;66;03m# Indexacion\u001b[39;00m\n\u001b[32m----> \u001b[39m\u001b[32m4\u001b[39m \u001b[43mfrutas\u001b[49m\u001b[43m[\u001b[49m\u001b[32;43m8\u001b[39;49m\u001b[43m]\u001b[49m\n",
      "\u001b[31mIndexError\u001b[39m: list index out of range"
     ]
    }
   ],
   "source": [
    "frutas = ['manzana', 'pera', 'uva', 'mango']\n",
    "\n",
    "# Indexacion\n",
    "frutas[8]"
   ]
  },
  {
   "cell_type": "markdown",
   "id": "135a1984-65a1-41e4-9495-eba224e239d5",
   "metadata": {},
   "source": [
    "Ejemplo 2: usar print en vez de return"
   ]
  },
  {
   "cell_type": "code",
   "execution_count": 68,
   "id": "4532d0a4-c2b7-4f70-8a05-1efa47080eec",
   "metadata": {},
   "outputs": [],
   "source": [
    "def suma(a, b):\n",
    "    print(a + b)"
   ]
  },
  {
   "cell_type": "code",
   "execution_count": 69,
   "id": "09a14be3-ed3a-4a94-b6e2-09da538c8a8a",
   "metadata": {},
   "outputs": [
    {
     "name": "stdout",
     "output_type": "stream",
     "text": [
      "5\n",
      "Resultado: None\n"
     ]
    }
   ],
   "source": [
    "# Llamas a la funcion\n",
    "resultado = suma(2, 3) # Muestra 5\n",
    "print(f'Resultado: {resultado}')"
   ]
  },
  {
   "cell_type": "code",
   "execution_count": 70,
   "id": "e1aa41c9-c147-490c-8624-612d5fcda65b",
   "metadata": {},
   "outputs": [],
   "source": [
    "def suma(a, b):\n",
    "    return a + b"
   ]
  },
  {
   "cell_type": "code",
   "execution_count": 71,
   "id": "c209fdfc-546b-4100-9cb2-a1bcf014aaa5",
   "metadata": {},
   "outputs": [
    {
     "name": "stdout",
     "output_type": "stream",
     "text": [
      "Resultado: 5\n"
     ]
    }
   ],
   "source": [
    "print(f'Resultado: {suma(2, 3)}')"
   ]
  },
  {
   "cell_type": "markdown",
   "id": "69720655-f122-4518-9680-e92150faf51a",
   "metadata": {},
   "source": [
    "### 2. Python aplicado a la vida real"
   ]
  },
  {
   "cell_type": "markdown",
   "id": "60a7b412-9ba4-4fa7-9f47-a404c0153d3c",
   "metadata": {},
   "source": [
    "Ejemplo 3: convertir soles a dólares"
   ]
  },
  {
   "cell_type": "code",
   "execution_count": 72,
   "id": "74941512-0111-4eb2-8dce-952fb4fe43e0",
   "metadata": {},
   "outputs": [],
   "source": [
    "def convertir_soles_a_dolares(soles, tipo_cambio=3.56):\n",
    "    return soles / tipo_cambio"
   ]
  },
  {
   "cell_type": "code",
   "execution_count": 73,
   "id": "728fcb27-0069-41db-875a-d0f225bfdab1",
   "metadata": {},
   "outputs": [
    {
     "name": "stdout",
     "output_type": "stream",
     "text": [
      "100 soles en dólares: 28.089887640449437\n"
     ]
    }
   ],
   "source": [
    "print(f'100 soles en dólares: {convertir_soles_a_dolares(100)}')"
   ]
  },
  {
   "cell_type": "markdown",
   "id": "9b9afafa-2a1c-42ae-9739-8744e21eaf7e",
   "metadata": {},
   "source": [
    "Ejemplo 4: contar palabras en un texto"
   ]
  },
  {
   "cell_type": "code",
   "execution_count": 74,
   "id": "86f7b128-189c-4dd4-b99e-fb30c3d2c620",
   "metadata": {},
   "outputs": [
    {
     "name": "stdout",
     "output_type": "stream",
     "text": [
      "Existen 9 palabras\n"
     ]
    }
   ],
   "source": [
    "texto = \"python es genial y la estadistica tambien es genial\"\n",
    "palabras = texto.split()\n",
    "longitud = len(palabras)\n",
    "print(f'Existen {longitud} palabras')"
   ]
  },
  {
   "cell_type": "markdown",
   "id": "06769286-a4a4-47f5-b457-22c3115f87ad",
   "metadata": {},
   "source": [
    "### 3. Mini Tour de librerías para análisis de datos"
   ]
  },
  {
   "cell_type": "code",
   "execution_count": 113,
   "id": "731977bb-c2b2-4ffe-8306-a364059610e8",
   "metadata": {},
   "outputs": [],
   "source": [
    "import pandas as pd # Manipulación de datos\n",
    "import numpy as np # Calculo numerico\n",
    "import matplotlib.pyplot as plt # Visualizacion de datos\n",
    "import seaborn as sns # Visualizacion estadistica"
   ]
  },
  {
   "cell_type": "code",
   "execution_count": 76,
   "id": "3f364fe6-7fbb-4d6a-972a-c1784c60a6d8",
   "metadata": {},
   "outputs": [],
   "source": [
    "# Dataset ejemplo\n",
    "data = {\n",
    "    'Edad': [20, 22, 21, 19, 18, 23, 22, 21, 20, 48],\n",
    "    'Notas': [15, 18, 17, 20, 18, 15, 14, 16, 19, 5]\n",
    "}"
   ]
  },
  {
   "cell_type": "code",
   "execution_count": 77,
   "id": "4c30a8ab-f9cf-42d8-a595-c4db5e65bbb0",
   "metadata": {},
   "outputs": [
    {
     "data": {
      "text/html": [
       "<div>\n",
       "<style scoped>\n",
       "    .dataframe tbody tr th:only-of-type {\n",
       "        vertical-align: middle;\n",
       "    }\n",
       "\n",
       "    .dataframe tbody tr th {\n",
       "        vertical-align: top;\n",
       "    }\n",
       "\n",
       "    .dataframe thead th {\n",
       "        text-align: right;\n",
       "    }\n",
       "</style>\n",
       "<table border=\"1\" class=\"dataframe\">\n",
       "  <thead>\n",
       "    <tr style=\"text-align: right;\">\n",
       "      <th></th>\n",
       "      <th>Edad</th>\n",
       "      <th>Notas</th>\n",
       "    </tr>\n",
       "  </thead>\n",
       "  <tbody>\n",
       "    <tr>\n",
       "      <th>0</th>\n",
       "      <td>20</td>\n",
       "      <td>15</td>\n",
       "    </tr>\n",
       "    <tr>\n",
       "      <th>1</th>\n",
       "      <td>22</td>\n",
       "      <td>18</td>\n",
       "    </tr>\n",
       "    <tr>\n",
       "      <th>2</th>\n",
       "      <td>21</td>\n",
       "      <td>17</td>\n",
       "    </tr>\n",
       "    <tr>\n",
       "      <th>3</th>\n",
       "      <td>19</td>\n",
       "      <td>20</td>\n",
       "    </tr>\n",
       "    <tr>\n",
       "      <th>4</th>\n",
       "      <td>18</td>\n",
       "      <td>18</td>\n",
       "    </tr>\n",
       "  </tbody>\n",
       "</table>\n",
       "</div>"
      ],
      "text/plain": [
       "   Edad  Notas\n",
       "0    20     15\n",
       "1    22     18\n",
       "2    21     17\n",
       "3    19     20\n",
       "4    18     18"
      ]
     },
     "execution_count": 77,
     "metadata": {},
     "output_type": "execute_result"
    }
   ],
   "source": [
    "df = pd.DataFrame(data)\n",
    "df.head()"
   ]
  },
  {
   "cell_type": "code",
   "execution_count": 78,
   "id": "8ebe689e-1599-4e72-b6f2-b7c776d03ff1",
   "metadata": {},
   "outputs": [
    {
     "data": {
      "text/html": [
       "<div>\n",
       "<style scoped>\n",
       "    .dataframe tbody tr th:only-of-type {\n",
       "        vertical-align: middle;\n",
       "    }\n",
       "\n",
       "    .dataframe tbody tr th {\n",
       "        vertical-align: top;\n",
       "    }\n",
       "\n",
       "    .dataframe thead th {\n",
       "        text-align: right;\n",
       "    }\n",
       "</style>\n",
       "<table border=\"1\" class=\"dataframe\">\n",
       "  <thead>\n",
       "    <tr style=\"text-align: right;\">\n",
       "      <th></th>\n",
       "      <th>Edad</th>\n",
       "      <th>Notas</th>\n",
       "    </tr>\n",
       "  </thead>\n",
       "  <tbody>\n",
       "    <tr>\n",
       "      <th>count</th>\n",
       "      <td>10.000000</td>\n",
       "      <td>10.000000</td>\n",
       "    </tr>\n",
       "    <tr>\n",
       "      <th>mean</th>\n",
       "      <td>23.400000</td>\n",
       "      <td>15.700000</td>\n",
       "    </tr>\n",
       "    <tr>\n",
       "      <th>std</th>\n",
       "      <td>8.771165</td>\n",
       "      <td>4.217688</td>\n",
       "    </tr>\n",
       "    <tr>\n",
       "      <th>min</th>\n",
       "      <td>18.000000</td>\n",
       "      <td>5.000000</td>\n",
       "    </tr>\n",
       "    <tr>\n",
       "      <th>25%</th>\n",
       "      <td>20.000000</td>\n",
       "      <td>15.000000</td>\n",
       "    </tr>\n",
       "    <tr>\n",
       "      <th>50%</th>\n",
       "      <td>21.000000</td>\n",
       "      <td>16.500000</td>\n",
       "    </tr>\n",
       "    <tr>\n",
       "      <th>75%</th>\n",
       "      <td>22.000000</td>\n",
       "      <td>18.000000</td>\n",
       "    </tr>\n",
       "    <tr>\n",
       "      <th>max</th>\n",
       "      <td>48.000000</td>\n",
       "      <td>20.000000</td>\n",
       "    </tr>\n",
       "  </tbody>\n",
       "</table>\n",
       "</div>"
      ],
      "text/plain": [
       "            Edad      Notas\n",
       "count  10.000000  10.000000\n",
       "mean   23.400000  15.700000\n",
       "std     8.771165   4.217688\n",
       "min    18.000000   5.000000\n",
       "25%    20.000000  15.000000\n",
       "50%    21.000000  16.500000\n",
       "75%    22.000000  18.000000\n",
       "max    48.000000  20.000000"
      ]
     },
     "execution_count": 78,
     "metadata": {},
     "output_type": "execute_result"
    }
   ],
   "source": [
    "df.describe()"
   ]
  },
  {
   "cell_type": "code",
   "execution_count": 79,
   "id": "bebb330c-7278-4c5e-a354-c42ccd1764a2",
   "metadata": {},
   "outputs": [
    {
     "data": {
      "image/png": "[encoded data removed]",
      "text/plain": [
       "<Figure size 640x480 with 1 Axes>"
      ]
     },
     "metadata": {},
     "output_type": "display_data"
    }
   ],
   "source": [
    "# Histograma\n",
    "plt.hist(df['Notas'], bins=7, edgecolor='black', color='skyblue')\n",
    "plt.title('Distribución de notas')\n",
    "plt.show()"
   ]
  },
  {
   "cell_type": "code",
   "execution_count": 80,
   "id": "576d03e4-db79-4043-aaf4-aac0f472b113",
   "metadata": {},
   "outputs": [
    {
     "data": {
      "image/png": "[encoded data removed]",
      "text/plain": [
       "<Figure size 640x480 with 1 Axes>"
      ]
     },
     "metadata": {},
     "output_type": "display_data"
    }
   ],
   "source": [
    "# Histograma\n",
    "plt.hist(df['Edad'], bins=6, edgecolor='black', color='skyblue')\n",
    "plt.title('Distribución de edades')\n",
    "plt.show()"
   ]
  },
  {
   "cell_type": "code",
   "execution_count": 81,
   "id": "02d8b1a6-5024-40fc-89bf-9dfda7ebd262",
   "metadata": {},
   "outputs": [
    {
     "data": {
      "image/png": "[encoded data removed]",
      "text/plain": [
       "<Figure size 640x480 with 1 Axes>"
      ]
     },
     "metadata": {},
     "output_type": "display_data"
    }
   ],
   "source": [
    "# Boxplot con seaborn\n",
    "sns.boxplot(x=df['Notas'])\n",
    "plt.title('Notas')\n",
    "plt.show()"
   ]
  },
  {
   "cell_type": "markdown",
   "id": "2e1d0c0f-ac5d-40f9-9ee6-b8ae90e65973",
   "metadata": {},
   "source": [
    "### 4. Trucos de estadística básicos"
   ]
  },
  {
   "cell_type": "code",
   "execution_count": 84,
   "id": "fb233d12-9f8f-4a25-9fc3-2ac78d5173aa",
   "metadata": {},
   "outputs": [
    {
     "data": {
      "text/plain": [
       "0    15\n",
       "1    18\n",
       "2    17\n",
       "3    20\n",
       "4    18\n",
       "5    15\n",
       "6    14\n",
       "7    16\n",
       "8    19\n",
       "9     5\n",
       "Name: Notas, dtype: int64"
      ]
     },
     "execution_count": 84,
     "metadata": {},
     "output_type": "execute_result"
    }
   ],
   "source": [
    "df['Notas'] # serie -> columna"
   ]
  },
  {
   "cell_type": "code",
   "execution_count": 91,
   "id": "cc269ff9-46e0-49e2-85ac-02d0786db606",
   "metadata": {},
   "outputs": [
    {
     "data": {
      "text/plain": [
       "np.float64(15.7)"
      ]
     },
     "execution_count": 91,
     "metadata": {},
     "output_type": "execute_result"
    }
   ],
   "source": [
    "df['Notas'].mean() # Promedio: utilizado cuando NO HAY valores atipicos"
   ]
  },
  {
   "cell_type": "code",
   "execution_count": 90,
   "id": "90f5d34a-4231-4054-9e27-6feb9443f6fe",
   "metadata": {},
   "outputs": [
    {
     "data": {
      "text/plain": [
       "np.float64(16.5)"
      ]
     },
     "execution_count": 90,
     "metadata": {},
     "output_type": "execute_result"
    }
   ],
   "source": [
    "df['Notas'].median() # Mediana: utilizado cuando HAY valores atipicos"
   ]
  },
  {
   "cell_type": "code",
   "execution_count": 89,
   "id": "aa0a686d-a654-43d5-8827-187756d1cd8f",
   "metadata": {},
   "outputs": [
    {
     "data": {
      "text/plain": [
       "np.int64(15)"
      ]
     },
     "execution_count": 89,
     "metadata": {},
     "output_type": "execute_result"
    }
   ],
   "source": [
    "df['Notas'].mode()[0] # Moda:"
   ]
  },
  {
   "cell_type": "code",
   "execution_count": 92,
   "id": "db1d9a09-0564-48ac-8fe7-02eb1fe2d5f0",
   "metadata": {},
   "outputs": [
    {
     "data": {
      "text/plain": [
       "np.float64(4.2176876234364356)"
      ]
     },
     "execution_count": 92,
     "metadata": {},
     "output_type": "execute_result"
    }
   ],
   "source": [
    "df['Notas'].std() # Desviación estandar"
   ]
  },
  {
   "cell_type": "code",
   "execution_count": 109,
   "id": "46c4786b-0d47-45b1-a517-2099f7069413",
   "metadata": {},
   "outputs": [
    {
     "data": {
      "text/plain": [
       "np.float64(17.788888888888888)"
      ]
     },
     "execution_count": 109,
     "metadata": {},
     "output_type": "execute_result"
    }
   ],
   "source": [
    "df['Notas'].var() # Varianza"
   ]
  },
  {
   "cell_type": "code",
   "execution_count": 108,
   "id": "967303f5-3abf-4079-af13-3beb16002c4f",
   "metadata": {},
   "outputs": [
    {
     "data": {
      "text/plain": [
       "np.float64(5.065623023711363)"
      ]
     },
     "execution_count": 108,
     "metadata": {},
     "output_type": "execute_result"
    }
   ],
   "source": [
    "df['Notas'].kurtosis() # Kurtosis"
   ]
  },
  {
   "cell_type": "code",
   "execution_count": 107,
   "id": "f24508d4-8bd2-43f5-af97-cd7bfa012292",
   "metadata": {},
   "outputs": [
    {
     "data": {
      "text/plain": [
       "np.float64(-2.015248272053214)"
      ]
     },
     "execution_count": 107,
     "metadata": {},
     "output_type": "execute_result"
    }
   ],
   "source": [
    "df['Notas'].skew() # Sesgo"
   ]
  },
  {
   "cell_type": "code",
   "execution_count": 106,
   "id": "ba1024b0-ab0a-421d-96a6-98952dbc2ed6",
   "metadata": {},
   "outputs": [
    {
     "data": {
      "text/plain": [
       "np.int64(157)"
      ]
     },
     "execution_count": 106,
     "metadata": {},
     "output_type": "execute_result"
    }
   ],
   "source": [
    "df['Notas'].sum() # Suma de las notas"
   ]
  },
  {
   "cell_type": "code",
   "execution_count": 105,
   "id": "5b78a2cd-1484-4b7e-973e-e66105122a4e",
   "metadata": {},
   "outputs": [
    {
     "data": {
      "text/plain": [
       "np.int64(5)"
      ]
     },
     "execution_count": 105,
     "metadata": {},
     "output_type": "execute_result"
    }
   ],
   "source": [
    "df['Notas'].min() # Valor minimo"
   ]
  },
  {
   "cell_type": "code",
   "execution_count": 104,
   "id": "5cc1a33b-b9b6-4538-ad4e-f0c2a16e02ec",
   "metadata": {},
   "outputs": [
    {
     "data": {
      "text/plain": [
       "np.int64(20)"
      ]
     },
     "execution_count": 104,
     "metadata": {},
     "output_type": "execute_result"
    }
   ],
   "source": [
    "df['Notas'].max() # Valor maximo"
   ]
  },
  {
   "cell_type": "code",
   "execution_count": 102,
   "id": "12275cda-fc4a-485c-a3a1-74c6665c20a2",
   "metadata": {},
   "outputs": [
    {
     "data": {
      "text/plain": [
       "np.int64(3)"
      ]
     },
     "execution_count": 102,
     "metadata": {},
     "output_type": "execute_result"
    }
   ],
   "source": [
    "df['Notas'].argmax() # Indice del valor maximo"
   ]
  },
  {
   "cell_type": "code",
   "execution_count": 101,
   "id": "2642384f-4b27-4fb8-b293-8e5db88a6316",
   "metadata": {},
   "outputs": [
    {
     "data": {
      "text/plain": [
       "np.int64(9)"
      ]
     },
     "execution_count": 101,
     "metadata": {},
     "output_type": "execute_result"
    }
   ],
   "source": [
    "df['Notas'].argmin() # Indices del valor minimo"
   ]
  }
 ],
 "metadata": {
  "kernelspec": {
   "display_name": "Python 3 (ipykernel)",
   "language": "python",
   "name": "python3"
  },
  "language_info": {
   "codemirror_mode": {
    "name": "ipython",
    "version": 3
   },
   "file_extension": ".py",
   "mimetype": "text/x-python",
   "name": "python",
   "nbconvert_exporter": "python",
   "pygments_lexer": "ipython3",
   "version": "3.13.7"
  },
  "widgets": {
   "application/vnd.jupyter.widget-state+json": {
    "state": {},
    "version_major": 2,
    "version_minor": 0
   }
  }
 },
 "nbformat": 4,
 "nbformat_minor": 5
}
