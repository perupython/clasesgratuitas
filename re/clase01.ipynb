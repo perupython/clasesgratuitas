{
 "cells": [
  {
   "cell_type": "code",
   "execution_count": 1,
   "id": "a0de55c7",
   "metadata": {},
   "outputs": [],
   "source": [
    "import re # Modulo de expresiones regualres"
   ]
  },
  {
   "cell_type": "markdown",
   "id": "ec2e7a44",
   "metadata": {},
   "source": [
    "## **Ejercicios prácticos**"
   ]
  },
  {
   "cell_type": "markdown",
   "id": "6c4bca8d",
   "metadata": {},
   "source": [
    "1️⃣ Validar correos electrónicos corporativos\n",
    "\n",
    "- Solo aceptar correos que terminen en @empresa.com."
   ]
  },
  {
   "cell_type": "code",
   "execution_count": 7,
   "id": "979a1aea",
   "metadata": {},
   "outputs": [
    {
     "name": "stdout",
     "output_type": "stream",
     "text": [
      "['ana@empresa.com']\n"
     ]
    }
   ],
   "source": [
    "correos = [\"ana@empresa.com\", \"pepe@gmail.com\", \"ventas@empresa.com.pe\"]\n",
    "patron = r\"^[\\w\\.-]+@empresa\\.com$\"\n",
    "\n",
    "print([c for c in correos if re.match(patron, c)])"
   ]
  },
  {
   "cell_type": "markdown",
   "id": "8a021cdb",
   "metadata": {},
   "source": [
    "2️⃣ Extraer números de factura en un texto\n",
    "- En un correo aparecen frases como \"Factura #2024-009\" y queremos el número."
   ]
  },
  {
   "cell_type": "code",
   "execution_count": 18,
   "id": "77cd746f",
   "metadata": {},
   "outputs": [
    {
     "data": {
      "text/plain": [
       "['2024-009', '2025-010']"
      ]
     },
     "execution_count": 18,
     "metadata": {},
     "output_type": "execute_result"
    }
   ],
   "source": [
    "texto = \"Adjunto Factura ###2024-009 y la #2025-010\"\n",
    "regex = r\"#(\\d{4}-\\d{3})\"\n",
    "\n",
    "re.findall(regex, texto)"
   ]
  },
  {
   "cell_type": "markdown",
   "id": "70efc775",
   "metadata": {},
   "source": [
    "3️⃣ Reemplazar múltiple espacios por uno solo\n",
    "- Normalizar cadenas con espacios “rebeldes”."
   ]
  },
  {
   "cell_type": "code",
   "execution_count": 17,
   "id": "e314b5d5",
   "metadata": {},
   "outputs": [
    {
     "data": {
      "text/plain": [
       "'Datos desordenados aquí'"
      ]
     },
     "execution_count": 17,
     "metadata": {},
     "output_type": "execute_result"
    }
   ],
   "source": [
    "s = \"Datos    desordenados     aquí\"\n",
    "regex = r\"\\s+\"\n",
    "\n",
    "re.sub(regex,\" \", s)"
   ]
  },
  {
   "cell_type": "markdown",
   "id": "ef4196db",
   "metadata": {},
   "source": [
    "4️⃣ Validar números de teléfono peruanos\n",
    "- Aceptar formatos tipo +51 987654321 o 987654321."
   ]
  },
  {
   "cell_type": "code",
   "execution_count": 33,
   "id": "8b79d197",
   "metadata": {},
   "outputs": [
    {
     "name": "stdout",
     "output_type": "stream",
     "text": [
      "['+51 987654321']\n"
     ]
    }
   ],
   "source": [
    "telefonos = [\"+51 987654321\", \"987654321\", \"51-987654321\"]\n",
    "regex = r'^(?:\\+51\\s?)(?:\\d{9})$'\n",
    "\n",
    "print([t for t in telefonos if re.match(regex, t)])"
   ]
  },
  {
   "cell_type": "markdown",
   "id": "85d3d1a9",
   "metadata": {},
   "source": [
    "5️⃣ Capturar URLs de un texto\n",
    "- Extraer enlaces HTTP/HTTPS."
   ]
  },
  {
   "cell_type": "code",
   "execution_count": 36,
   "id": "bf72034c",
   "metadata": {},
   "outputs": [
    {
     "name": "stdout",
     "output_type": "stream",
     "text": [
      "['https://openai.com', 'http://example.org']\n"
     ]
    }
   ],
   "source": [
    "texto = \"Mira https://openai.com o http://example.org\"\n",
    "regex = r\"https?://[^\\s]+\"\n",
    "\n",
    "print(re.findall(regex, texto))"
   ]
  },
  {
   "cell_type": "markdown",
   "id": "cad886b5",
   "metadata": {},
   "source": [
    "6️⃣ Comprobar contraseña segura\n",
    "- Al menos 8 caracteres, una mayúscula, una minúscula, un dígito."
   ]
  },
  {
   "cell_type": "code",
   "execution_count": null,
   "id": "6a83086c",
   "metadata": {},
   "outputs": [
    {
     "name": "stdout",
     "output_type": "stream",
     "text": [
      "['Hola1234']\n"
     ]
    }
   ],
   "source": [
    "regex = r\"^(?=.*[a-z])(?=.*[A-Z])(?=.*\\d).{8,}$\"\n",
    "\n",
    "contraseñas = [\"Hola1234\", \"todoenminus\", \"MAYUSCULA1\"]\n",
    "print([c for c in contraseñas if re.match(regex, c)])"
   ]
  },
  {
   "cell_type": "markdown",
   "id": "99ff0ae0",
   "metadata": {},
   "source": [
    "7️⃣ Dividir log de Apache por IP y fecha\n",
    "- Extraer IP y fecha de líneas de log."
   ]
  },
  {
   "cell_type": "code",
   "execution_count": 42,
   "id": "1d027cf5",
   "metadata": {},
   "outputs": [
    {
     "name": "stdout",
     "output_type": "stream",
     "text": [
      "[('192.168.1.10', '20/Sep/2025:12:00:00 +0000')]\n"
     ]
    }
   ],
   "source": [
    "log = '192.168.1.10 - - [20/Sep/2025:12:00:00 +0000] \"GET /index.html\" 200 1234'\n",
    "regex = r'^(\\d+\\.\\d+\\.\\d+\\.\\d+).*\\[(.*?)\\]'\n",
    "\n",
    "print(re.findall(regex, log))\n",
    "# ➜ [('192.168.1.10', '20/Sep/2025:12:00:00 +0000')]"
   ]
  },
  {
   "cell_type": "markdown",
   "id": "4d343eca",
   "metadata": {},
   "source": [
    "8️⃣ Extraer menciones de Twitter/Instagram\n",
    "- Encontrar usuarios tipo @usuario_99."
   ]
  },
  {
   "cell_type": "code",
   "execution_count": 49,
   "id": "e2a9b86a",
   "metadata": {},
   "outputs": [
    {
     "name": "stdout",
     "output_type": "stream",
     "text": [
      "['@Yoshio', '@data_science']\n"
     ]
    }
   ],
   "source": [
    "texto = \"Gracias a @Yoshio y @data_science por el soporte!\"\n",
    "regex = r'@\\w{1,15}'\n",
    "\n",
    "print(re.findall(regex, texto))\n",
    "# ➜ ['@Yoshio', '@data_science']"
   ]
  },
  {
   "cell_type": "markdown",
   "id": "08079fe3",
   "metadata": {},
   "source": [
    "9️⃣ Validar horas 24h (HH:MM)\n",
    "- Aceptar 00:00 a 23:59."
   ]
  },
  {
   "cell_type": "code",
   "execution_count": 55,
   "id": "2f207b9c",
   "metadata": {},
   "outputs": [
    {
     "name": "stdout",
     "output_type": "stream",
     "text": [
      "['23:59', '00:00']\n"
     ]
    }
   ],
   "source": [
    "horas = [\"23:59\", \"7:30\", \"25:00\", \"00:00\"]\n",
    "regex = r\"^(?:[01]\\d|2[0-3]):[0-5]\\d$\"\n",
    "\n",
    "print([h for h in horas if re.match(regex, h)])\n",
    "# ➜ ['23:59', '00:00']"
   ]
  },
  {
   "cell_type": "markdown",
   "id": "e2158918",
   "metadata": {},
   "source": [
    "🔟 Detectar enlaces Markdown\n",
    "- De [texto](url) obtener texto y URL."
   ]
  },
  {
   "cell_type": "code",
   "execution_count": null,
   "id": "871a6dd0",
   "metadata": {},
   "outputs": [
    {
     "name": "stdout",
     "output_type": "stream",
     "text": [
      "[('OpenAI', 'https://openai.com'), ('Docs', 'https://docs.python.org')]\n"
     ]
    },
    {
     "ename": "",
     "evalue": "",
     "output_type": "error",
     "traceback": [
      "\u001b[1;31mEl kernel se bloqueó al ejecutar código en la celda actual o en una celda anterior. \n",
      "\u001b[1;31mRevise el código de las celdas para identificar una posible causa del error. \n",
      "\u001b[1;31mHaga clic <a href='https://aka.ms/vscodeJupyterKernelCrash'>aquí</a> para obtener más información. \n",
      "\u001b[1;31mVea Jupyter <a href='command:jupyter.viewOutput'>log</a> para obtener más detalles."
     ]
    }
   ],
   "source": [
    "md = \"Visita [OpenAI](https://openai.com) y [Docs](https://docs.python.org)\"\n",
    "regex = r\"\\[([^\\]]+)\\]\\(([^)]+)\\)\"\n",
    "\n",
    "print(re.findall(regex, md))"
   ]
  },
  {
   "cell_type": "markdown",
   "id": "f6684b4b",
   "metadata": {},
   "source": [
    "Dividir un CSV simple en campos\n",
    "\n",
    "- Separar campos incluso si hay comillas."
   ]
  },
  {
   "cell_type": "code",
   "execution_count": null,
   "id": "4a5a4ae4",
   "metadata": {},
   "outputs": [],
   "source": [
    "linea = '123,\"Juan, Pérez\",5000'\n",
    "patron = r'\"[^\"]*\"|[^,]+'\n",
    "\n",
    "print([c.strip('\"') for c in re.findall(patron, linea)])\n",
    "# ➜ ['123', 'Juan, Pérez', '5000']"
   ]
  }
 ],
 "metadata": {
  "kernelspec": {
   "display_name": "Python 3",
   "language": "python",
   "name": "python3"
  },
  "language_info": {
   "codemirror_mode": {
    "name": "ipython",
    "version": 3
   },
   "file_extension": ".py",
   "mimetype": "text/x-python",
   "name": "python",
   "nbconvert_exporter": "python",
   "pygments_lexer": "ipython3",
   "version": "3.13.7"
  }
 },
 "nbformat": 4,
 "nbformat_minor": 5
}
