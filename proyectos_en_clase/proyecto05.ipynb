{
 "cells": [
  {
   "cell_type": "markdown",
   "id": "780a5410",
   "metadata": {},
   "source": [
    "![Redes Sociales](../redes_sociales_pythonperu.png)"
   ]
  },
  {
   "cell_type": "markdown",
   "id": "94893d03",
   "metadata": {},
   "source": [
    "# **🎯Mini proyecto: Registro de ventas de una tienda**"
   ]
  },
  {
   "cell_type": "markdown",
   "id": "e6dd383d",
   "metadata": {},
   "source": [
    "Vas a simular la gestión de un registro de ventas de una pequeña tienda. El objetivo es usar pandas para:\n",
    "\n",
    "- Crear el DataFrame inicial\n",
    "\n",
    "- Añadir registros nuevos\n",
    "\n",
    "- Editar registros existentes\n",
    "\n",
    "- Filtrar ventas por fecha, producto o monto\n",
    "\n",
    "- Generar estadísticas básicas: total vendido, venta promedio, producto más vendido, etc.\n",
    "\n",
    "- Guardar y leer los datos en CSV o Excel"
   ]
  },
  {
   "cell_type": "markdown",
   "id": "7cd3e141",
   "metadata": {},
   "source": [
    "Columna\tDescripción:\n",
    "- ID:\tID de la venta (autoincremental)\n",
    "- Fecha:\tFecha de la venta\n",
    "- Cliente:\tNombre del cliente\n",
    "- Producto:\tNombre del producto vendido\n",
    "- Cantidad:\tUnidades vendidas\n",
    "- Precio Unitario:\tPrecio por unidad\n",
    "- Total:\tTotal de la venta (Cantidad * Precio Unitario)"
   ]
  },
  {
   "cell_type": "code",
   "execution_count": 2,
   "id": "5b9f22f9",
   "metadata": {},
   "outputs": [],
   "source": [
    "# ! pip install pandas\n",
    "# Manipulación de datos\n",
    "import pandas as pd"
   ]
  },
  {
   "cell_type": "code",
   "execution_count": null,
   "id": "ca31106e",
   "metadata": {},
   "outputs": [],
   "source": [
    "data = {\n",
    "    'ID': [0, 1],\n",
    "    'Fecha': ['2023-10-01', '2023-10-02'],\n",
    "    'Cliente': ['Juan Rivera', 'Ana Gomez'],\n",
    "    'Producto': ['Laptop', 'Mouse'],\n",
    "    'Cantidad': [1, 3],\n",
    "    'Precio Unitario': [1500, 110],\n",
    "}"
   ]
  },
  {
   "cell_type": "code",
   "execution_count": 4,
   "id": "5600f2eb",
   "metadata": {},
   "outputs": [
    {
     "data": {
      "text/html": [
       "<div>\n",
       "<style scoped>\n",
       "    .dataframe tbody tr th:only-of-type {\n",
       "        vertical-align: middle;\n",
       "    }\n",
       "\n",
       "    .dataframe tbody tr th {\n",
       "        vertical-align: top;\n",
       "    }\n",
       "\n",
       "    .dataframe thead th {\n",
       "        text-align: right;\n",
       "    }\n",
       "</style>\n",
       "<table border=\"1\" class=\"dataframe\">\n",
       "  <thead>\n",
       "    <tr style=\"text-align: right;\">\n",
       "      <th></th>\n",
       "      <th>ID</th>\n",
       "      <th>Fecha</th>\n",
       "      <th>Cliente</th>\n",
       "      <th>Producto</th>\n",
       "      <th>Cantidad</th>\n",
       "      <th>Precio Unitario</th>\n",
       "    </tr>\n",
       "  </thead>\n",
       "  <tbody>\n",
       "    <tr>\n",
       "      <th>0</th>\n",
       "      <td>0</td>\n",
       "      <td>2023-10-01</td>\n",
       "      <td>Juan Rivera</td>\n",
       "      <td>Laptop</td>\n",
       "      <td>1</td>\n",
       "      <td>1500</td>\n",
       "    </tr>\n",
       "    <tr>\n",
       "      <th>1</th>\n",
       "      <td>1</td>\n",
       "      <td>2023-10-02</td>\n",
       "      <td>Ana Gomez</td>\n",
       "      <td>Mouse</td>\n",
       "      <td>3</td>\n",
       "      <td>110</td>\n",
       "    </tr>\n",
       "  </tbody>\n",
       "</table>\n",
       "</div>"
      ],
      "text/plain": [
       "   ID       Fecha      Cliente Producto  Cantidad  Precio Unitario\n",
       "0   0  2023-10-01  Juan Rivera   Laptop         1             1500\n",
       "1   1  2023-10-02    Ana Gomez    Mouse         3              110"
      ]
     },
     "execution_count": 4,
     "metadata": {},
     "output_type": "execute_result"
    }
   ],
   "source": [
    "df = pd.DataFrame(data)\n",
    "df.head()  # Muestra las primeras filas del DataFrame"
   ]
  },
  {
   "cell_type": "code",
   "execution_count": 5,
   "id": "a7f3dc3a",
   "metadata": {},
   "outputs": [
    {
     "name": "stdout",
     "output_type": "stream",
     "text": [
      "<class 'pandas.core.frame.DataFrame'>\n",
      "RangeIndex: 2 entries, 0 to 1\n",
      "Data columns (total 6 columns):\n",
      " #   Column           Non-Null Count  Dtype \n",
      "---  ------           --------------  ----- \n",
      " 0   ID               2 non-null      int64 \n",
      " 1   Fecha            2 non-null      object\n",
      " 2   Cliente          2 non-null      object\n",
      " 3   Producto         2 non-null      object\n",
      " 4   Cantidad         2 non-null      int64 \n",
      " 5   Precio Unitario  2 non-null      int64 \n",
      "dtypes: int64(3), object(3)\n",
      "memory usage: 228.0+ bytes\n"
     ]
    }
   ],
   "source": [
    "df.info()  # Información general del DataFrame"
   ]
  },
  {
   "cell_type": "code",
   "execution_count": 6,
   "id": "b3a6c799",
   "metadata": {},
   "outputs": [
    {
     "data": {
      "text/plain": [
       "0    Juan Rivera\n",
       "1      Ana Gomez\n",
       "Name: Cliente, dtype: object"
      ]
     },
     "execution_count": 6,
     "metadata": {},
     "output_type": "execute_result"
    }
   ],
   "source": [
    "# Seleccionar una columna\n",
    "df['Cliente']"
   ]
  },
  {
   "cell_type": "code",
   "execution_count": 9,
   "id": "43dcf45d",
   "metadata": {},
   "outputs": [],
   "source": [
    "# Agregar una nueva columna\n",
    "df['Total'] = df['Cantidad'] * df['Precio Unitario']"
   ]
  },
  {
   "cell_type": "code",
   "execution_count": 13,
   "id": "b91dad38",
   "metadata": {},
   "outputs": [
    {
     "data": {
      "text/html": [
       "<div>\n",
       "<style scoped>\n",
       "    .dataframe tbody tr th:only-of-type {\n",
       "        vertical-align: middle;\n",
       "    }\n",
       "\n",
       "    .dataframe tbody tr th {\n",
       "        vertical-align: top;\n",
       "    }\n",
       "\n",
       "    .dataframe thead th {\n",
       "        text-align: right;\n",
       "    }\n",
       "</style>\n",
       "<table border=\"1\" class=\"dataframe\">\n",
       "  <thead>\n",
       "    <tr style=\"text-align: right;\">\n",
       "      <th></th>\n",
       "      <th>id</th>\n",
       "      <th>fecha</th>\n",
       "      <th>cliente</th>\n",
       "      <th>producto</th>\n",
       "      <th>cantidad</th>\n",
       "      <th>precio_unitario</th>\n",
       "      <th>total</th>\n",
       "    </tr>\n",
       "  </thead>\n",
       "  <tbody>\n",
       "    <tr>\n",
       "      <th>0</th>\n",
       "      <td>0</td>\n",
       "      <td>2023-10-01</td>\n",
       "      <td>Juan Rivera</td>\n",
       "      <td>Laptop</td>\n",
       "      <td>1</td>\n",
       "      <td>1500</td>\n",
       "      <td>1500</td>\n",
       "    </tr>\n",
       "    <tr>\n",
       "      <th>1</th>\n",
       "      <td>1</td>\n",
       "      <td>2023-10-02</td>\n",
       "      <td>Ana Gomez</td>\n",
       "      <td>Mouse</td>\n",
       "      <td>3</td>\n",
       "      <td>110</td>\n",
       "      <td>330</td>\n",
       "    </tr>\n",
       "  </tbody>\n",
       "</table>\n",
       "</div>"
      ],
      "text/plain": [
       "   id       fecha      cliente producto  cantidad  precio_unitario  total\n",
       "0   0  2023-10-01  Juan Rivera   Laptop         1             1500   1500\n",
       "1   1  2023-10-02    Ana Gomez    Mouse         3              110    330"
      ]
     },
     "execution_count": 13,
     "metadata": {},
     "output_type": "execute_result"
    }
   ],
   "source": [
    "df.head()"
   ]
  },
  {
   "cell_type": "code",
   "execution_count": null,
   "id": "72ee62c7",
   "metadata": {},
   "outputs": [],
   "source": [
    "# Convencion snake_case para nombres de columnas\n",
    "df.columns = df.columns.str.strip().str.replace(' ', '_').str.lower()"
   ]
  },
  {
   "cell_type": "code",
   "execution_count": 14,
   "id": "c72563e3",
   "metadata": {},
   "outputs": [
    {
     "data": {
      "text/html": [
       "<div>\n",
       "<style scoped>\n",
       "    .dataframe tbody tr th:only-of-type {\n",
       "        vertical-align: middle;\n",
       "    }\n",
       "\n",
       "    .dataframe tbody tr th {\n",
       "        vertical-align: top;\n",
       "    }\n",
       "\n",
       "    .dataframe thead th {\n",
       "        text-align: right;\n",
       "    }\n",
       "</style>\n",
       "<table border=\"1\" class=\"dataframe\">\n",
       "  <thead>\n",
       "    <tr style=\"text-align: right;\">\n",
       "      <th></th>\n",
       "      <th>id</th>\n",
       "      <th>fecha</th>\n",
       "      <th>cliente</th>\n",
       "      <th>producto</th>\n",
       "      <th>cantidad</th>\n",
       "      <th>precio_unitario</th>\n",
       "      <th>total</th>\n",
       "    </tr>\n",
       "  </thead>\n",
       "  <tbody>\n",
       "    <tr>\n",
       "      <th>0</th>\n",
       "      <td>0</td>\n",
       "      <td>2023-10-01</td>\n",
       "      <td>Juan Rivera</td>\n",
       "      <td>Laptop</td>\n",
       "      <td>1</td>\n",
       "      <td>1500</td>\n",
       "      <td>1500</td>\n",
       "    </tr>\n",
       "    <tr>\n",
       "      <th>1</th>\n",
       "      <td>1</td>\n",
       "      <td>2023-10-02</td>\n",
       "      <td>Ana Gomez</td>\n",
       "      <td>Mouse</td>\n",
       "      <td>3</td>\n",
       "      <td>110</td>\n",
       "      <td>330</td>\n",
       "    </tr>\n",
       "    <tr>\n",
       "      <th>2</th>\n",
       "      <td>2</td>\n",
       "      <td>2023-10-03</td>\n",
       "      <td>Carlos Perez</td>\n",
       "      <td>Teclado</td>\n",
       "      <td>2</td>\n",
       "      <td>50</td>\n",
       "      <td>100</td>\n",
       "    </tr>\n",
       "  </tbody>\n",
       "</table>\n",
       "</div>"
      ],
      "text/plain": [
       "   id       fecha       cliente producto  cantidad  precio_unitario  total\n",
       "0   0  2023-10-01   Juan Rivera   Laptop         1             1500   1500\n",
       "1   1  2023-10-02     Ana Gomez    Mouse         3              110    330\n",
       "2   2  2023-10-03  Carlos Perez  Teclado         2               50    100"
      ]
     },
     "execution_count": 14,
     "metadata": {},
     "output_type": "execute_result"
    }
   ],
   "source": [
    "# Añadir un registro nuevo\n",
    "nueva_venta = {\n",
    "    'id': 2,\n",
    "    'fecha': '2023-10-03',\n",
    "    'cliente': 'Carlos Perez',\n",
    "    'producto': 'Teclado',\n",
    "    'cantidad': 2,\n",
    "    'precio_unitario': 50,\n",
    "}\n",
    "\n",
    "nueva_venta['total'] = nueva_venta['cantidad'] * nueva_venta['precio_unitario']\n",
    "\n",
    "df = pd.concat([df, pd.DataFrame([nueva_venta])], ignore_index = True)\n",
    "df.head()"
   ]
  },
  {
   "cell_type": "markdown",
   "id": "043a3eae",
   "metadata": {},
   "source": [
    "- Editar registros existentes"
   ]
  },
  {
   "cell_type": "code",
   "execution_count": null,
   "id": "56e722bf",
   "metadata": {},
   "outputs": [
    {
     "data": {
      "text/html": [
       "<div>\n",
       "<style scoped>\n",
       "    .dataframe tbody tr th:only-of-type {\n",
       "        vertical-align: middle;\n",
       "    }\n",
       "\n",
       "    .dataframe tbody tr th {\n",
       "        vertical-align: top;\n",
       "    }\n",
       "\n",
       "    .dataframe thead th {\n",
       "        text-align: right;\n",
       "    }\n",
       "</style>\n",
       "<table border=\"1\" class=\"dataframe\">\n",
       "  <thead>\n",
       "    <tr style=\"text-align: right;\">\n",
       "      <th></th>\n",
       "      <th>id</th>\n",
       "      <th>fecha</th>\n",
       "      <th>cliente</th>\n",
       "      <th>producto</th>\n",
       "      <th>cantidad</th>\n",
       "      <th>precio_unitario</th>\n",
       "      <th>total</th>\n",
       "    </tr>\n",
       "  </thead>\n",
       "  <tbody>\n",
       "    <tr>\n",
       "      <th>0</th>\n",
       "      <td>0</td>\n",
       "      <td>2023-10-01</td>\n",
       "      <td>Juan Rivera</td>\n",
       "      <td>Laptop</td>\n",
       "      <td>1</td>\n",
       "      <td>1500</td>\n",
       "      <td>1500</td>\n",
       "    </tr>\n",
       "    <tr>\n",
       "      <th>1</th>\n",
       "      <td>1</td>\n",
       "      <td>2023-10-02</td>\n",
       "      <td>Ana Gomez</td>\n",
       "      <td>Mouse</td>\n",
       "      <td>3</td>\n",
       "      <td>110</td>\n",
       "      <td>330</td>\n",
       "    </tr>\n",
       "    <tr>\n",
       "      <th>2</th>\n",
       "      <td>2</td>\n",
       "      <td>2023-10-03</td>\n",
       "      <td>Carlos Perez</td>\n",
       "      <td>Teclado</td>\n",
       "      <td>5</td>\n",
       "      <td>50</td>\n",
       "      <td>250</td>\n",
       "    </tr>\n",
       "  </tbody>\n",
       "</table>\n",
       "</div>"
      ],
      "text/plain": [
       "   id       fecha       cliente producto  cantidad  precio_unitario  total\n",
       "0   0  2023-10-01   Juan Rivera   Laptop         1             1500   1500\n",
       "1   1  2023-10-02     Ana Gomez    Mouse         3              110    330\n",
       "2   2  2023-10-03  Carlos Perez  Teclado         5               50    250"
      ]
     },
     "execution_count": 15,
     "metadata": {},
     "output_type": "execute_result"
    }
   ],
   "source": [
    "# Cambiar cantidad de venta\n",
    "filtro = (df['id'] == 2)\n",
    "\n",
    "df.loc[filtro, 'cantidad'] = 5\n",
    "df.loc[filtro, 'total'] = df.loc[filtro, 'cantidad'] * df.loc[filtro, 'precio_unitario']\n",
    "df.head()"
   ]
  },
  {
   "cell_type": "markdown",
   "id": "9c1d926c",
   "metadata": {},
   "source": [
    "- Filtrar ventas por fecha, producto o monto\n"
   ]
  },
  {
   "cell_type": "code",
   "execution_count": 16,
   "id": "63e08fe9",
   "metadata": {},
   "outputs": [
    {
     "data": {
      "text/html": [
       "<div>\n",
       "<style scoped>\n",
       "    .dataframe tbody tr th:only-of-type {\n",
       "        vertical-align: middle;\n",
       "    }\n",
       "\n",
       "    .dataframe tbody tr th {\n",
       "        vertical-align: top;\n",
       "    }\n",
       "\n",
       "    .dataframe thead th {\n",
       "        text-align: right;\n",
       "    }\n",
       "</style>\n",
       "<table border=\"1\" class=\"dataframe\">\n",
       "  <thead>\n",
       "    <tr style=\"text-align: right;\">\n",
       "      <th></th>\n",
       "      <th>id</th>\n",
       "      <th>fecha</th>\n",
       "      <th>cliente</th>\n",
       "      <th>producto</th>\n",
       "      <th>cantidad</th>\n",
       "      <th>precio_unitario</th>\n",
       "      <th>total</th>\n",
       "    </tr>\n",
       "  </thead>\n",
       "  <tbody>\n",
       "    <tr>\n",
       "      <th>0</th>\n",
       "      <td>0</td>\n",
       "      <td>2023-10-01</td>\n",
       "      <td>Juan Rivera</td>\n",
       "      <td>Laptop</td>\n",
       "      <td>1</td>\n",
       "      <td>1500</td>\n",
       "      <td>1500</td>\n",
       "    </tr>\n",
       "  </tbody>\n",
       "</table>\n",
       "</div>"
      ],
      "text/plain": [
       "   id       fecha      cliente producto  cantidad  precio_unitario  total\n",
       "0   0  2023-10-01  Juan Rivera   Laptop         1             1500   1500"
      ]
     },
     "execution_count": 16,
     "metadata": {},
     "output_type": "execute_result"
    }
   ],
   "source": [
    "# Ventas mayores a 500\n",
    "filtro1 = df['total'] > 500\n",
    "ventas_mayores = df[filtro1]\n",
    "ventas_mayores"
   ]
  },
  {
   "cell_type": "code",
   "execution_count": 17,
   "id": "9eeb4b09",
   "metadata": {},
   "outputs": [
    {
     "data": {
      "text/html": [
       "<div>\n",
       "<style scoped>\n",
       "    .dataframe tbody tr th:only-of-type {\n",
       "        vertical-align: middle;\n",
       "    }\n",
       "\n",
       "    .dataframe tbody tr th {\n",
       "        vertical-align: top;\n",
       "    }\n",
       "\n",
       "    .dataframe thead th {\n",
       "        text-align: right;\n",
       "    }\n",
       "</style>\n",
       "<table border=\"1\" class=\"dataframe\">\n",
       "  <thead>\n",
       "    <tr style=\"text-align: right;\">\n",
       "      <th></th>\n",
       "      <th>id</th>\n",
       "      <th>fecha</th>\n",
       "      <th>cliente</th>\n",
       "      <th>producto</th>\n",
       "      <th>cantidad</th>\n",
       "      <th>precio_unitario</th>\n",
       "      <th>total</th>\n",
       "    </tr>\n",
       "  </thead>\n",
       "  <tbody>\n",
       "    <tr>\n",
       "      <th>1</th>\n",
       "      <td>1</td>\n",
       "      <td>2023-10-02</td>\n",
       "      <td>Ana Gomez</td>\n",
       "      <td>Mouse</td>\n",
       "      <td>3</td>\n",
       "      <td>110</td>\n",
       "      <td>330</td>\n",
       "    </tr>\n",
       "    <tr>\n",
       "      <th>2</th>\n",
       "      <td>2</td>\n",
       "      <td>2023-10-03</td>\n",
       "      <td>Carlos Perez</td>\n",
       "      <td>Teclado</td>\n",
       "      <td>5</td>\n",
       "      <td>50</td>\n",
       "      <td>250</td>\n",
       "    </tr>\n",
       "  </tbody>\n",
       "</table>\n",
       "</div>"
      ],
      "text/plain": [
       "   id       fecha       cliente producto  cantidad  precio_unitario  total\n",
       "1   1  2023-10-02     Ana Gomez    Mouse         3              110    330\n",
       "2   2  2023-10-03  Carlos Perez  Teclado         5               50    250"
      ]
     },
     "execution_count": 17,
     "metadata": {},
     "output_type": "execute_result"
    }
   ],
   "source": [
    "# Cantidad > 2 y total > 100\n",
    "filtro2 = df['cantidad'] > 2\n",
    "filtro3 = df['total'] > 100\n",
    "\n",
    "df[filtro2 & filtro3]"
   ]
  },
  {
   "cell_type": "code",
   "execution_count": 19,
   "id": "f9cba22e",
   "metadata": {},
   "outputs": [],
   "source": [
    "df.set_index('id', inplace = True)"
   ]
  },
  {
   "cell_type": "code",
   "execution_count": 20,
   "id": "bf667bbf",
   "metadata": {},
   "outputs": [
    {
     "data": {
      "text/html": [
       "<div>\n",
       "<style scoped>\n",
       "    .dataframe tbody tr th:only-of-type {\n",
       "        vertical-align: middle;\n",
       "    }\n",
       "\n",
       "    .dataframe tbody tr th {\n",
       "        vertical-align: top;\n",
       "    }\n",
       "\n",
       "    .dataframe thead th {\n",
       "        text-align: right;\n",
       "    }\n",
       "</style>\n",
       "<table border=\"1\" class=\"dataframe\">\n",
       "  <thead>\n",
       "    <tr style=\"text-align: right;\">\n",
       "      <th></th>\n",
       "      <th>fecha</th>\n",
       "      <th>cliente</th>\n",
       "      <th>producto</th>\n",
       "      <th>cantidad</th>\n",
       "      <th>precio_unitario</th>\n",
       "      <th>total</th>\n",
       "    </tr>\n",
       "    <tr>\n",
       "      <th>id</th>\n",
       "      <th></th>\n",
       "      <th></th>\n",
       "      <th></th>\n",
       "      <th></th>\n",
       "      <th></th>\n",
       "      <th></th>\n",
       "    </tr>\n",
       "  </thead>\n",
       "  <tbody>\n",
       "    <tr>\n",
       "      <th>0</th>\n",
       "      <td>2023-10-01</td>\n",
       "      <td>Juan Rivera</td>\n",
       "      <td>Laptop</td>\n",
       "      <td>1</td>\n",
       "      <td>1500</td>\n",
       "      <td>1500</td>\n",
       "    </tr>\n",
       "    <tr>\n",
       "      <th>1</th>\n",
       "      <td>2023-10-02</td>\n",
       "      <td>Ana Gomez</td>\n",
       "      <td>Mouse</td>\n",
       "      <td>3</td>\n",
       "      <td>110</td>\n",
       "      <td>330</td>\n",
       "    </tr>\n",
       "    <tr>\n",
       "      <th>2</th>\n",
       "      <td>2023-10-03</td>\n",
       "      <td>Carlos Perez</td>\n",
       "      <td>Teclado</td>\n",
       "      <td>5</td>\n",
       "      <td>50</td>\n",
       "      <td>250</td>\n",
       "    </tr>\n",
       "  </tbody>\n",
       "</table>\n",
       "</div>"
      ],
      "text/plain": [
       "         fecha       cliente producto  cantidad  precio_unitario  total\n",
       "id                                                                     \n",
       "0   2023-10-01   Juan Rivera   Laptop         1             1500   1500\n",
       "1   2023-10-02     Ana Gomez    Mouse         3              110    330\n",
       "2   2023-10-03  Carlos Perez  Teclado         5               50    250"
      ]
     },
     "execution_count": 20,
     "metadata": {},
     "output_type": "execute_result"
    }
   ],
   "source": [
    "df.head()"
   ]
  },
  {
   "cell_type": "markdown",
   "id": "ba5db3c6",
   "metadata": {},
   "source": [
    "\n",
    "- Generar estadísticas básicas: total vendido, venta promedio, producto más vendido, etc.\n"
   ]
  },
  {
   "cell_type": "code",
   "execution_count": 26,
   "id": "da3eb2a4",
   "metadata": {},
   "outputs": [
    {
     "name": "stdout",
     "output_type": "stream",
     "text": [
      "Total vendido: S/2080\n",
      "Venta promedio: S/693.33\n"
     ]
    }
   ],
   "source": [
    "suma_total = df['total'].sum()\n",
    "promedio_total = df['total'].mean()\n",
    "\n",
    "print(f'Total vendido: S/{suma_total}')\n",
    "print(f'Venta promedio: S/{promedio_total:.2f}')"
   ]
  },
  {
   "cell_type": "markdown",
   "id": "fc0a6e51",
   "metadata": {},
   "source": [
    "\n",
    "- Guardar y leer los datos en CSV o Excel"
   ]
  },
  {
   "cell_type": "code",
   "execution_count": 27,
   "id": "08076141",
   "metadata": {},
   "outputs": [],
   "source": [
    "# Guardar en CSV\n",
    "df.to_csv('registro_ventas.csv', index = False)"
   ]
  },
  {
   "cell_type": "code",
   "execution_count": 29,
   "id": "64a3285c",
   "metadata": {},
   "outputs": [
    {
     "data": {
      "text/html": [
       "<div>\n",
       "<style scoped>\n",
       "    .dataframe tbody tr th:only-of-type {\n",
       "        vertical-align: middle;\n",
       "    }\n",
       "\n",
       "    .dataframe tbody tr th {\n",
       "        vertical-align: top;\n",
       "    }\n",
       "\n",
       "    .dataframe thead th {\n",
       "        text-align: right;\n",
       "    }\n",
       "</style>\n",
       "<table border=\"1\" class=\"dataframe\">\n",
       "  <thead>\n",
       "    <tr style=\"text-align: right;\">\n",
       "      <th></th>\n",
       "      <th>fecha</th>\n",
       "      <th>cliente</th>\n",
       "      <th>producto</th>\n",
       "      <th>cantidad</th>\n",
       "      <th>precio_unitario</th>\n",
       "      <th>total</th>\n",
       "    </tr>\n",
       "  </thead>\n",
       "  <tbody>\n",
       "    <tr>\n",
       "      <th>0</th>\n",
       "      <td>2023-10-01</td>\n",
       "      <td>Juan Rivera</td>\n",
       "      <td>Laptop</td>\n",
       "      <td>1</td>\n",
       "      <td>1500</td>\n",
       "      <td>1500</td>\n",
       "    </tr>\n",
       "    <tr>\n",
       "      <th>1</th>\n",
       "      <td>2023-10-02</td>\n",
       "      <td>Ana Gomez</td>\n",
       "      <td>Mouse</td>\n",
       "      <td>3</td>\n",
       "      <td>110</td>\n",
       "      <td>330</td>\n",
       "    </tr>\n",
       "    <tr>\n",
       "      <th>2</th>\n",
       "      <td>2023-10-03</td>\n",
       "      <td>Carlos Perez</td>\n",
       "      <td>Teclado</td>\n",
       "      <td>5</td>\n",
       "      <td>50</td>\n",
       "      <td>250</td>\n",
       "    </tr>\n",
       "  </tbody>\n",
       "</table>\n",
       "</div>"
      ],
      "text/plain": [
       "        fecha       cliente producto  cantidad  precio_unitario  total\n",
       "0  2023-10-01   Juan Rivera   Laptop         1             1500   1500\n",
       "1  2023-10-02     Ana Gomez    Mouse         3              110    330\n",
       "2  2023-10-03  Carlos Perez  Teclado         5               50    250"
      ]
     },
     "execution_count": 29,
     "metadata": {},
     "output_type": "execute_result"
    }
   ],
   "source": [
    "# Leer CSV\n",
    "df_lectura = pd.read_csv('registro_ventas.csv')\n",
    "df_lectura.head()"
   ]
  }
 ],
 "metadata": {
  "kernelspec": {
   "display_name": "Python 3",
   "language": "python",
   "name": "python3"
  },
  "language_info": {
   "codemirror_mode": {
    "name": "ipython",
    "version": 3
   },
   "file_extension": ".py",
   "mimetype": "text/x-python",
   "name": "python",
   "nbconvert_exporter": "python",
   "pygments_lexer": "ipython3",
   "version": "3.13.5"
  }
 },
 "nbformat": 4,
 "nbformat_minor": 5
}
