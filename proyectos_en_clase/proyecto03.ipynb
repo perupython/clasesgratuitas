{
 "cells": [
  {
   "cell_type": "markdown",
   "id": "485eaa10",
   "metadata": {},
   "source": [
    "![Redes Sociales](../redes_sociales_pythonperu.png)"
   ]
  },
  {
   "cell_type": "markdown",
   "id": "6989c28b",
   "metadata": {},
   "source": [
    "# **Mini Proyecto: Registro de Alumnos y Promedios con Manejo de Errores**"
   ]
  },
  {
   "cell_type": "markdown",
   "id": "ca9a3435",
   "metadata": {},
   "source": [
    "Una institución educativa desea registrar la información de varios alumnos:\n",
    "\n",
    "- Nombre del alumno\n",
    "\n",
    "- Edad\n",
    "\n",
    "- Lista de notas (cada alumno puede tener varias notas)"
   ]
  },
  {
   "cell_type": "markdown",
   "id": "97687eb9",
   "metadata": {},
   "source": [
    "Luego debe calcular:  \n",
    "1️⃣ Total de alumnos registrados  \n",
    "2️⃣ Promedio general de edad  \n",
    "3️⃣ Promedio general de todas las notas  \n",
    "4️⃣ Lista de alumnos sobresalientes (promedio individual ≥ 17)  "
   ]
  },
  {
   "cell_type": "markdown",
   "id": "3c36d13b",
   "metadata": {},
   "source": [
    "Además, se requiere manejar errores:\n",
    "\n",
    "- Validar que la edad sea un número entero positivo.\n",
    "\n",
    "- Validar que cada nota sea un número decimal entre 0 y 20.\n",
    "\n",
    "- Controlar errores si el usuario escribe texto en lugar de números.\n",
    "\n"
   ]
  },
  {
   "cell_type": "code",
   "execution_count": 12,
   "id": "e2acf2c3",
   "metadata": {},
   "outputs": [
    {
     "name": "stdout",
     "output_type": "stream",
     "text": [
      "Bienvenido al Registro de Alumnos\n",
      "Error: El nombre debe contener solo letras y espacios.\n",
      "Error: El nombre debe contener solo letras y espacios.\n",
      "Error: El nombre debe contener solo letras y espacios.\n",
      "Error: El nombre debe contener solo letras y espacios.\n",
      "Error: El nombre debe contener solo letras y espacios.\n",
      "Error: El nombre debe contener solo letras y espacios.\n",
      "Error: Ingrese un número válido para la edad.\n",
      "Error: Ingrese un número válido para la edad.\n",
      "Error: Ingrese un número válido para la edad.\n",
      "Error: Ingrese un número válido para la edad.\n",
      "Error: Ingrese un número válido para la edad.\n",
      "Error: La nota debe estar entre 0 y 20.\n",
      "Error: La nota debe estar entre 0 y 20.\n"
     ]
    }
   ],
   "source": [
    "# lista principal de los alumnos\n",
    "alumnosList = []\n",
    "\n",
    "print('Bienvenido al Registro de Alumnos')\n",
    "\n",
    "while True:\n",
    "    # diccionario de alumno\n",
    "    alumno = {}\n",
    "    # Solicitar el nombre del alumno\n",
    "    while True:\n",
    "        nombre = input('Ingrese el nombre del alumno:')\n",
    "        \n",
    "        # Validamos que sea alfabético y permita espacios\n",
    "        if nombre.replace(' ', '').isalpha(): # 'ricardomendoza'\n",
    "            alumno['nombre'] = nombre\n",
    "            break\n",
    "        else:\n",
    "            print('Error: El nombre debe contener solo letras y espacios.')\n",
    "    \n",
    "    # Manejo de excepcion para edad\n",
    "    while True:\n",
    "        try:\n",
    "            edad = int(input('Ingrese la edad del alumno: '))\n",
    "            # Validar si es un número positivo\n",
    "            if edad > 0:\n",
    "                # Agregando la edad al bdd\n",
    "                alumno['edad'] = edad\n",
    "                break\n",
    "            else:\n",
    "                print('Error: La edad debe ser un número positivo.')\n",
    "        \n",
    "        except ValueError:\n",
    "            print('Error: Ingrese un número válido para la edad.')\n",
    "    \n",
    "    \n",
    "    notasList = []\n",
    "    # Manejo de excepcion para nota\n",
    "    while True:\n",
    "        try:\n",
    "            nota = float(input('Ingrese una nota del alumno(0-20): '))\n",
    "            # Validar si es un número entre 0 y 20\n",
    "            if 0 <= nota <= 20:\n",
    "                # Agregando la nota a la bdd\n",
    "                notasList.append(nota)\n",
    "            else:\n",
    "                print('Error: La nota debe estar entre 0 y 20.')\n",
    "                \n",
    "        except ValueError:\n",
    "            print('Error: Ingrese un número válido para la nota.')\n",
    "        \n",
    "        continuar_nota = input('¿Desea ingresar otra nota? (s/n): ').lower()\n",
    "        \n",
    "        if continuar_nota != 's':\n",
    "            break\n",
    "    \n",
    "    # Agregando las notas al diccionario del alumno\n",
    "    alumno['notas'] = notasList\n",
    "    \n",
    "    # Agregando el alumno a la lista principal\n",
    "    alumnosList.append(alumno)\n",
    "    \n",
    "    continuar_alumno = input('¿Desea ingresar otro alumno? (s/n): ').lower()\n",
    "    \n",
    "    if continuar_alumno != 's':\n",
    "        break"
   ]
  },
  {
   "cell_type": "code",
   "execution_count": 5,
   "id": "0a534490",
   "metadata": {},
   "outputs": [],
   "source": [
    "# Procesamiento de datos\n",
    "total_alumnos = len(alumnosList)\n",
    "suma_edades = 0\n",
    "suma_notas = 0\n",
    "cantidad_notas = 0\n",
    "sobresalientes = []"
   ]
  },
  {
   "cell_type": "code",
   "execution_count": 9,
   "id": "004c600e",
   "metadata": {},
   "outputs": [],
   "source": [
    "for alumno in alumnosList:\n",
    "    suma_edades += alumno['edad']\n",
    "    promedio_individual = sum(alumno['notas']) / len(alumno['notas'])\n",
    "    \n",
    "    suma_notas += sum(alumno['notas'])\n",
    "    cantidad_notas += len(alumno['notas'])\n",
    "    \n",
    "    if promedio_individual >= 17:\n",
    "        sobresalientes.append(alumno['nombre'])"
   ]
  },
  {
   "cell_type": "code",
   "execution_count": 10,
   "id": "5bac2ed4",
   "metadata": {},
   "outputs": [],
   "source": [
    "# Calculos\n",
    "# Operador ternario\n",
    "promedio_edad = (suma_edades / total_alumnos) if (total_alumnos > 0) else 0\n",
    "promedio_general_notas = (suma_notas / cantidad_notas) if (cantidad_notas > 0) else 0"
   ]
  },
  {
   "cell_type": "code",
   "execution_count": 11,
   "id": "6bf081b4",
   "metadata": {},
   "outputs": [
    {
     "name": "stdout",
     "output_type": "stream",
     "text": [
      "\n",
      "Resultados:\n",
      "Total de alumnos registrados: 4\n",
      "Promedio de edad de los alumnos: 20.75\n",
      "Promedio general de notas: 17.24\n",
      "Alumnos sobresalientes: Micaela, Anthony\n"
     ]
    }
   ],
   "source": [
    "# Mostrar resultados\n",
    "print('\\nResultados:')\n",
    "print(f'Total de alumnos registrados: {total_alumnos}')\n",
    "print(f'Promedio de edad de los alumnos: {promedio_edad:.2f}')\n",
    "print(f'Promedio general de notas: {promedio_general_notas:.2f}')\n",
    "print(f'Alumnos sobresalientes: {\", \".join(sobresalientes) if sobresalientes else \"Ninguno\"}')"
   ]
  }
 ],
 "metadata": {
  "kernelspec": {
   "display_name": "Python 3",
   "language": "python",
   "name": "python3"
  },
  "language_info": {
   "codemirror_mode": {
    "name": "ipython",
    "version": 3
   },
   "file_extension": ".py",
   "mimetype": "text/x-python",
   "name": "python",
   "nbconvert_exporter": "python",
   "pygments_lexer": "ipython3",
   "version": "3.13.4"
  }
 },
 "nbformat": 4,
 "nbformat_minor": 5
}
