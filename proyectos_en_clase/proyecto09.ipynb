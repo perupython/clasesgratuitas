{
 "cells": [
  {
   "cell_type": "markdown",
   "id": "5a0f3584",
   "metadata": {},
   "source": [
    "![Redes Sociales](../redes_sociales_pythonperu.png)"
   ]
  },
  {
   "cell_type": "markdown",
   "id": "e0eff3e1",
   "metadata": {},
   "source": [
    "# **🧪 Proyecto: Cantidad de docentes de IE públicas a nivel nacional, por área, edad, sexo, grado académico y modalidad**"
   ]
  },
  {
   "cell_type": "markdown",
   "id": "b98ecdc8",
   "metadata": {},
   "source": [
    "Conjunto de datos estadísticos que presenta el número de docentes que laboran en instituciones educativas públicas del Perú durante el año lectivo 2024 (fuente: Censo Educativo del Ministerio de Educación del año 2024).\n",
    "\n",
    "La información está agregada y se desglosa por:\n",
    "\n",
    "- Área geográfica\n",
    "\n",
    "    - Sexo (hombres, mujeres)\n",
    "\n",
    "- Grupos de edad (25 años o menos; 26–35; 36–45; 46–55; 56–65; 66 años o más)\n",
    "\n",
    "- Grado académico\n",
    "\n",
    "- Modalidad / nivel educativo\n",
    "\n",
    "Cada fila representa la combinación única de estas categorías con el total de docentes correspondiente. El dataset sirve para analizar la distribución del personal docente público y apoyar decisiones de política educativa, planeamiento y monitoreo del sector público"
   ]
  },
  {
   "cell_type": "markdown",
   "id": "46fe9a82",
   "metadata": {},
   "source": [
    "| Columna                  | Descripción                                                           |\n",
    "| ------------------------ | --------------------------------------------------------------------- |\n",
    "| `cod_mod`                | Código modular de la institución educativa.                           |\n",
    "| `dir_cen`                | Dirección del centro educativo.                                       |\n",
    "| `niv_mod`                | Código del nivel educativo del módulo (ej. A2 = Primaria multigrado). |\n",
    "| `area_censo`             | Código de área según censo: 1 = urbana, 2 = rural.                    |\n",
    "| `dpto`                   | Departamento donde se ubica la institución.                           |\n",
    "| `prov`                   | Provincia de ubicación.                                               |\n",
    "| `dist`                   | Distrito de ubicación.                                                |\n",
    "| `dre_ugel`               | Nombre de la UGEL o DRE que gestiona la institución.                  |\n",
    "| `region_e`               | Región educativa asignada por el MINEDU.                              |\n",
    "| `docentes_hombres`       | Número total de docentes hombres.                                     |\n",
    "| `docentes_mujeres`       | Número total de docentes mujeres.                                     |\n",
    "| `docentes_nombrados`     | Número de docentes nombrados (estables).                              |\n",
    "| `docentes_contratados`   | Número de docentes contratados.                                       |\n",
    "| `docentes_25_menos_años` | Docentes con edad igual o menor a 25 años.                            |\n",
    "| `docentes_2635_años`     | Docentes entre 26 y 35 años.                                          |\n",
    "| `docentes_3645_años`     | Docentes entre 36 y 45 años.                                          |\n",
    "| `docentes_4655_años`     | Docentes entre 46 y 55 años.                                          |\n",
    "| `docentes_5665_años`     | Docentes entre 56 y 65 años.                                          |\n",
    "| `docentes_66_a_mas_años` | Docentes con más de 66 años.                                          |\n",
    "| `docentes_con_titulo`    | Docentes con título pedagógico.                                       |\n",
    "| `docentes_sin_titulo`    | Docentes sin título pedagógico.                                       |\n",
    "| `docentes_total`         | Total de docentes en la institución.                                  |\n"
   ]
  },
  {
   "cell_type": "code",
   "execution_count": 3,
   "id": "b12796d9",
   "metadata": {},
   "outputs": [],
   "source": [
    "# importación de la librería\n",
    "import pandas as pd # Manipulación de datos tabulares\n",
    "import numpy as np # Manipulación de datos numéricos\n",
    "import matplotlib.pyplot as plt # Personalización de gráficas\n",
    "import seaborn as sns # Gráficas estadísticas"
   ]
  },
  {
   "cell_type": "markdown",
   "id": "2f8af967",
   "metadata": {},
   "source": [
    "- ¿De dónde viene el dataset?\n",
    "- ¿Cuál es objetivo del negocio?\n",
    "- ¿para quién es este análisis?\n"
   ]
  },
  {
   "cell_type": "markdown",
   "id": "47eaa75f",
   "metadata": {},
   "source": [
    "Estructura del dataset"
   ]
  },
  {
   "cell_type": "markdown",
   "id": "2ca5e7b9",
   "metadata": {},
   "source": [
    "- ¿Que formato tiene?"
   ]
  },
  {
   "cell_type": "code",
   "execution_count": 4,
   "id": "93e9b058",
   "metadata": {},
   "outputs": [],
   "source": [
    "ruta = 'docentes_raw.csv'\n",
    "df = pd.read_csv(ruta)"
   ]
  },
  {
   "cell_type": "code",
   "execution_count": 5,
   "id": "d72775c2",
   "metadata": {},
   "outputs": [
    {
     "data": {
      "text/html": [
       "<div>\n",
       "<style scoped>\n",
       "    .dataframe tbody tr th:only-of-type {\n",
       "        vertical-align: middle;\n",
       "    }\n",
       "\n",
       "    .dataframe tbody tr th {\n",
       "        vertical-align: top;\n",
       "    }\n",
       "\n",
       "    .dataframe thead th {\n",
       "        text-align: right;\n",
       "    }\n",
       "</style>\n",
       "<table border=\"1\" class=\"dataframe\">\n",
       "  <thead>\n",
       "    <tr style=\"text-align: right;\">\n",
       "      <th></th>\n",
       "      <th>cod_mod</th>\n",
       "      <th>anexo</th>\n",
       "      <th>codlocal</th>\n",
       "      <th>cen_edu</th>\n",
       "      <th>dir_cen</th>\n",
       "      <th>niv_mod</th>\n",
       "      <th>nivel</th>\n",
       "      <th>nivel2</th>\n",
       "      <th>nivel3</th>\n",
       "      <th>ges_dep</th>\n",
       "      <th>...</th>\n",
       "      <th>Docentes_contratados</th>\n",
       "      <th>Docentes_25_menos_años</th>\n",
       "      <th>Docentes_2635_años</th>\n",
       "      <th>Docentes_3645_años</th>\n",
       "      <th>Docentes_4655_años</th>\n",
       "      <th>Docentes_5665_años</th>\n",
       "      <th>Docentes_66_a_mas_años</th>\n",
       "      <th>Docentes_con_titulo</th>\n",
       "      <th>Docentes_sin_titulo</th>\n",
       "      <th>Docentes_total</th>\n",
       "    </tr>\n",
       "  </thead>\n",
       "  <tbody>\n",
       "    <tr>\n",
       "      <th>0</th>\n",
       "      <td>539213</td>\n",
       "      <td>0</td>\n",
       "      <td>2787</td>\n",
       "      <td>222</td>\n",
       "      <td>EL MUYO S/N</td>\n",
       "      <td>A2</td>\n",
       "      <td>1.Inicial</td>\n",
       "      <td>1.Inicial</td>\n",
       "      <td>BASICA</td>\n",
       "      <td>A1</td>\n",
       "      <td>...</td>\n",
       "      <td>0</td>\n",
       "      <td>1</td>\n",
       "      <td>2</td>\n",
       "      <td>2</td>\n",
       "      <td>1</td>\n",
       "      <td>0</td>\n",
       "      <td>0</td>\n",
       "      <td>6</td>\n",
       "      <td>0</td>\n",
       "      <td>6</td>\n",
       "    </tr>\n",
       "    <tr>\n",
       "      <th>1</th>\n",
       "      <td>585661</td>\n",
       "      <td>0</td>\n",
       "      <td>2773</td>\n",
       "      <td>214</td>\n",
       "      <td>CALLE MIGUEL MONTEZA TAFUR S/N</td>\n",
       "      <td>A2</td>\n",
       "      <td>1.Inicial</td>\n",
       "      <td>1.Inicial</td>\n",
       "      <td>BASICA</td>\n",
       "      <td>A1</td>\n",
       "      <td>...</td>\n",
       "      <td>1</td>\n",
       "      <td>1</td>\n",
       "      <td>1</td>\n",
       "      <td>0</td>\n",
       "      <td>1</td>\n",
       "      <td>1</td>\n",
       "      <td>0</td>\n",
       "      <td>4</td>\n",
       "      <td>0</td>\n",
       "      <td>4</td>\n",
       "    </tr>\n",
       "    <tr>\n",
       "      <th>2</th>\n",
       "      <td>708081</td>\n",
       "      <td>0</td>\n",
       "      <td>2792</td>\n",
       "      <td>225</td>\n",
       "      <td>LA LIBERTAD S/N</td>\n",
       "      <td>A2</td>\n",
       "      <td>1.Inicial</td>\n",
       "      <td>1.Inicial</td>\n",
       "      <td>BASICA</td>\n",
       "      <td>A1</td>\n",
       "      <td>...</td>\n",
       "      <td>0</td>\n",
       "      <td>0</td>\n",
       "      <td>0</td>\n",
       "      <td>1</td>\n",
       "      <td>1</td>\n",
       "      <td>0</td>\n",
       "      <td>0</td>\n",
       "      <td>2</td>\n",
       "      <td>0</td>\n",
       "      <td>2</td>\n",
       "    </tr>\n",
       "    <tr>\n",
       "      <th>3</th>\n",
       "      <td>708099</td>\n",
       "      <td>0</td>\n",
       "      <td>2805</td>\n",
       "      <td>226</td>\n",
       "      <td>EL PORVENIR S/N</td>\n",
       "      <td>A2</td>\n",
       "      <td>1.Inicial</td>\n",
       "      <td>1.Inicial</td>\n",
       "      <td>BASICA</td>\n",
       "      <td>A1</td>\n",
       "      <td>...</td>\n",
       "      <td>2</td>\n",
       "      <td>1</td>\n",
       "      <td>1</td>\n",
       "      <td>1</td>\n",
       "      <td>0</td>\n",
       "      <td>0</td>\n",
       "      <td>0</td>\n",
       "      <td>3</td>\n",
       "      <td>0</td>\n",
       "      <td>3</td>\n",
       "    </tr>\n",
       "    <tr>\n",
       "      <th>4</th>\n",
       "      <td>767939</td>\n",
       "      <td>0</td>\n",
       "      <td>2810</td>\n",
       "      <td>235</td>\n",
       "      <td>AVENIDA DOS DE MAYO 557</td>\n",
       "      <td>A2</td>\n",
       "      <td>1.Inicial</td>\n",
       "      <td>1.Inicial</td>\n",
       "      <td>BASICA</td>\n",
       "      <td>A1</td>\n",
       "      <td>...</td>\n",
       "      <td>0</td>\n",
       "      <td>0</td>\n",
       "      <td>0</td>\n",
       "      <td>0</td>\n",
       "      <td>2</td>\n",
       "      <td>0</td>\n",
       "      <td>0</td>\n",
       "      <td>2</td>\n",
       "      <td>0</td>\n",
       "      <td>2</td>\n",
       "    </tr>\n",
       "  </tbody>\n",
       "</table>\n",
       "<p>5 rows × 34 columns</p>\n",
       "</div>"
      ],
      "text/plain": [
       "   cod_mod  anexo  codlocal cen_edu                         dir_cen niv_mod  \\\n",
       "0   539213      0      2787     222                     EL MUYO S/N      A2   \n",
       "1   585661      0      2773     214  CALLE MIGUEL MONTEZA TAFUR S/N      A2   \n",
       "2   708081      0      2792     225                 LA LIBERTAD S/N      A2   \n",
       "3   708099      0      2805     226                 EL PORVENIR S/N      A2   \n",
       "4   767939      0      2810     235         AVENIDA DOS DE MAYO 557      A2   \n",
       "\n",
       "       nivel     nivel2  nivel3 ges_dep  ... Docentes_contratados  \\\n",
       "0  1.Inicial  1.Inicial  BASICA      A1  ...                    0   \n",
       "1  1.Inicial  1.Inicial  BASICA      A1  ...                    1   \n",
       "2  1.Inicial  1.Inicial  BASICA      A1  ...                    0   \n",
       "3  1.Inicial  1.Inicial  BASICA      A1  ...                    2   \n",
       "4  1.Inicial  1.Inicial  BASICA      A1  ...                    0   \n",
       "\n",
       "   Docentes_25_menos_años  Docentes_2635_años  Docentes_3645_años  \\\n",
       "0                       1                   2                   2   \n",
       "1                       1                   1                   0   \n",
       "2                       0                   0                   1   \n",
       "3                       1                   1                   1   \n",
       "4                       0                   0                   0   \n",
       "\n",
       "  Docentes_4655_años  Docentes_5665_años Docentes_66_a_mas_años  \\\n",
       "0                  1                   0                      0   \n",
       "1                  1                   1                      0   \n",
       "2                  1                   0                      0   \n",
       "3                  0                   0                      0   \n",
       "4                  2                   0                      0   \n",
       "\n",
       "  Docentes_con_titulo Docentes_sin_titulo Docentes_total  \n",
       "0                   6                   0              6  \n",
       "1                   4                   0              4  \n",
       "2                   2                   0              2  \n",
       "3                   3                   0              3  \n",
       "4                   2                   0              2  \n",
       "\n",
       "[5 rows x 34 columns]"
      ]
     },
     "execution_count": 5,
     "metadata": {},
     "output_type": "execute_result"
    }
   ],
   "source": [
    "# Las primeras 5 filas\n",
    "df.head()"
   ]
  },
  {
   "cell_type": "code",
   "execution_count": 6,
   "id": "ec09c7b6",
   "metadata": {},
   "outputs": [
    {
     "data": {
      "text/html": [
       "<div>\n",
       "<style scoped>\n",
       "    .dataframe tbody tr th:only-of-type {\n",
       "        vertical-align: middle;\n",
       "    }\n",
       "\n",
       "    .dataframe tbody tr th {\n",
       "        vertical-align: top;\n",
       "    }\n",
       "\n",
       "    .dataframe thead th {\n",
       "        text-align: right;\n",
       "    }\n",
       "</style>\n",
       "<table border=\"1\" class=\"dataframe\">\n",
       "  <thead>\n",
       "    <tr style=\"text-align: right;\">\n",
       "      <th></th>\n",
       "      <th>cod_mod</th>\n",
       "      <th>anexo</th>\n",
       "      <th>codlocal</th>\n",
       "      <th>cen_edu</th>\n",
       "      <th>dir_cen</th>\n",
       "      <th>niv_mod</th>\n",
       "      <th>nivel</th>\n",
       "      <th>nivel2</th>\n",
       "      <th>nivel3</th>\n",
       "      <th>ges_dep</th>\n",
       "      <th>gestion</th>\n",
       "      <th>codgeo</th>\n",
       "      <th>codooii</th>\n",
       "      <th>area_censo</th>\n",
       "      <th>area</th>\n",
       "      <th>region</th>\n",
       "      <th>dpto</th>\n",
       "    </tr>\n",
       "  </thead>\n",
       "  <tbody>\n",
       "    <tr>\n",
       "      <th>0</th>\n",
       "      <td>539213</td>\n",
       "      <td>0</td>\n",
       "      <td>2787</td>\n",
       "      <td>222</td>\n",
       "      <td>EL MUYO S/N</td>\n",
       "      <td>A2</td>\n",
       "      <td>1.Inicial</td>\n",
       "      <td>1.Inicial</td>\n",
       "      <td>BASICA</td>\n",
       "      <td>A1</td>\n",
       "      <td>1.Pública</td>\n",
       "      <td>10202</td>\n",
       "      <td>10002</td>\n",
       "      <td>2</td>\n",
       "      <td>2.Rural</td>\n",
       "      <td>100</td>\n",
       "      <td>AMAZONAS</td>\n",
       "    </tr>\n",
       "    <tr>\n",
       "      <th>1</th>\n",
       "      <td>585661</td>\n",
       "      <td>0</td>\n",
       "      <td>2773</td>\n",
       "      <td>214</td>\n",
       "      <td>CALLE MIGUEL MONTEZA TAFUR S/N</td>\n",
       "      <td>A2</td>\n",
       "      <td>1.Inicial</td>\n",
       "      <td>1.Inicial</td>\n",
       "      <td>BASICA</td>\n",
       "      <td>A1</td>\n",
       "      <td>1.Pública</td>\n",
       "      <td>10202</td>\n",
       "      <td>10002</td>\n",
       "      <td>2</td>\n",
       "      <td>2.Rural</td>\n",
       "      <td>100</td>\n",
       "      <td>AMAZONAS</td>\n",
       "    </tr>\n",
       "    <tr>\n",
       "      <th>2</th>\n",
       "      <td>708081</td>\n",
       "      <td>0</td>\n",
       "      <td>2792</td>\n",
       "      <td>225</td>\n",
       "      <td>LA LIBERTAD S/N</td>\n",
       "      <td>A2</td>\n",
       "      <td>1.Inicial</td>\n",
       "      <td>1.Inicial</td>\n",
       "      <td>BASICA</td>\n",
       "      <td>A1</td>\n",
       "      <td>1.Pública</td>\n",
       "      <td>10202</td>\n",
       "      <td>10002</td>\n",
       "      <td>2</td>\n",
       "      <td>2.Rural</td>\n",
       "      <td>100</td>\n",
       "      <td>AMAZONAS</td>\n",
       "    </tr>\n",
       "    <tr>\n",
       "      <th>3</th>\n",
       "      <td>708099</td>\n",
       "      <td>0</td>\n",
       "      <td>2805</td>\n",
       "      <td>226</td>\n",
       "      <td>EL PORVENIR S/N</td>\n",
       "      <td>A2</td>\n",
       "      <td>1.Inicial</td>\n",
       "      <td>1.Inicial</td>\n",
       "      <td>BASICA</td>\n",
       "      <td>A1</td>\n",
       "      <td>1.Pública</td>\n",
       "      <td>10202</td>\n",
       "      <td>10002</td>\n",
       "      <td>2</td>\n",
       "      <td>2.Rural</td>\n",
       "      <td>100</td>\n",
       "      <td>AMAZONAS</td>\n",
       "    </tr>\n",
       "    <tr>\n",
       "      <th>4</th>\n",
       "      <td>767939</td>\n",
       "      <td>0</td>\n",
       "      <td>2810</td>\n",
       "      <td>235</td>\n",
       "      <td>AVENIDA DOS DE MAYO 557</td>\n",
       "      <td>A2</td>\n",
       "      <td>1.Inicial</td>\n",
       "      <td>1.Inicial</td>\n",
       "      <td>BASICA</td>\n",
       "      <td>A1</td>\n",
       "      <td>1.Pública</td>\n",
       "      <td>10202</td>\n",
       "      <td>10002</td>\n",
       "      <td>2</td>\n",
       "      <td>2.Rural</td>\n",
       "      <td>100</td>\n",
       "      <td>AMAZONAS</td>\n",
       "    </tr>\n",
       "  </tbody>\n",
       "</table>\n",
       "</div>"
      ],
      "text/plain": [
       "   cod_mod  anexo  codlocal cen_edu                         dir_cen niv_mod  \\\n",
       "0   539213      0      2787     222                     EL MUYO S/N      A2   \n",
       "1   585661      0      2773     214  CALLE MIGUEL MONTEZA TAFUR S/N      A2   \n",
       "2   708081      0      2792     225                 LA LIBERTAD S/N      A2   \n",
       "3   708099      0      2805     226                 EL PORVENIR S/N      A2   \n",
       "4   767939      0      2810     235         AVENIDA DOS DE MAYO 557      A2   \n",
       "\n",
       "       nivel     nivel2  nivel3 ges_dep    gestion  codgeo  codooii  \\\n",
       "0  1.Inicial  1.Inicial  BASICA      A1  1.Pública   10202    10002   \n",
       "1  1.Inicial  1.Inicial  BASICA      A1  1.Pública   10202    10002   \n",
       "2  1.Inicial  1.Inicial  BASICA      A1  1.Pública   10202    10002   \n",
       "3  1.Inicial  1.Inicial  BASICA      A1  1.Pública   10202    10002   \n",
       "4  1.Inicial  1.Inicial  BASICA      A1  1.Pública   10202    10002   \n",
       "\n",
       "   area_censo     area  region      dpto  \n",
       "0           2  2.Rural     100  AMAZONAS  \n",
       "1           2  2.Rural     100  AMAZONAS  \n",
       "2           2  2.Rural     100  AMAZONAS  \n",
       "3           2  2.Rural     100  AMAZONAS  \n",
       "4           2  2.Rural     100  AMAZONAS  "
      ]
     },
     "execution_count": 6,
     "metadata": {},
     "output_type": "execute_result"
    }
   ],
   "source": [
    "# Mostras las primeras 17 columnas\n",
    "df.iloc[:5, :17]"
   ]
  },
  {
   "cell_type": "code",
   "execution_count": 7,
   "id": "6263b5fb",
   "metadata": {},
   "outputs": [
    {
     "data": {
      "text/html": [
       "<div>\n",
       "<style scoped>\n",
       "    .dataframe tbody tr th:only-of-type {\n",
       "        vertical-align: middle;\n",
       "    }\n",
       "\n",
       "    .dataframe tbody tr th {\n",
       "        vertical-align: top;\n",
       "    }\n",
       "\n",
       "    .dataframe thead th {\n",
       "        text-align: right;\n",
       "    }\n",
       "</style>\n",
       "<table border=\"1\" class=\"dataframe\">\n",
       "  <thead>\n",
       "    <tr style=\"text-align: right;\">\n",
       "      <th></th>\n",
       "      <th>prov</th>\n",
       "      <th>dist</th>\n",
       "      <th>dre_ugel</th>\n",
       "      <th>region_e</th>\n",
       "      <th>Docentes_hombres</th>\n",
       "      <th>Docentes_mujeres</th>\n",
       "      <th>Docentes_nombrados</th>\n",
       "      <th>Docentes_contratados</th>\n",
       "      <th>Docentes_25_menos_años</th>\n",
       "      <th>Docentes_2635_años</th>\n",
       "      <th>Docentes_3645_años</th>\n",
       "      <th>Docentes_4655_años</th>\n",
       "      <th>Docentes_5665_años</th>\n",
       "      <th>Docentes_66_a_mas_años</th>\n",
       "      <th>Docentes_con_titulo</th>\n",
       "      <th>Docentes_sin_titulo</th>\n",
       "      <th>Docentes_total</th>\n",
       "    </tr>\n",
       "  </thead>\n",
       "  <tbody>\n",
       "    <tr>\n",
       "      <th>0</th>\n",
       "      <td>BAGUA</td>\n",
       "      <td>ARAMANGO</td>\n",
       "      <td>UGEL BAGUA</td>\n",
       "      <td>DRE AMAZONAS</td>\n",
       "      <td>0</td>\n",
       "      <td>6</td>\n",
       "      <td>6</td>\n",
       "      <td>0</td>\n",
       "      <td>1</td>\n",
       "      <td>2</td>\n",
       "      <td>2</td>\n",
       "      <td>1</td>\n",
       "      <td>0</td>\n",
       "      <td>0</td>\n",
       "      <td>6</td>\n",
       "      <td>0</td>\n",
       "      <td>6</td>\n",
       "    </tr>\n",
       "    <tr>\n",
       "      <th>1</th>\n",
       "      <td>BAGUA</td>\n",
       "      <td>ARAMANGO</td>\n",
       "      <td>UGEL BAGUA</td>\n",
       "      <td>DRE AMAZONAS</td>\n",
       "      <td>0</td>\n",
       "      <td>4</td>\n",
       "      <td>3</td>\n",
       "      <td>1</td>\n",
       "      <td>1</td>\n",
       "      <td>1</td>\n",
       "      <td>0</td>\n",
       "      <td>1</td>\n",
       "      <td>1</td>\n",
       "      <td>0</td>\n",
       "      <td>4</td>\n",
       "      <td>0</td>\n",
       "      <td>4</td>\n",
       "    </tr>\n",
       "    <tr>\n",
       "      <th>2</th>\n",
       "      <td>BAGUA</td>\n",
       "      <td>ARAMANGO</td>\n",
       "      <td>UGEL BAGUA</td>\n",
       "      <td>DRE AMAZONAS</td>\n",
       "      <td>0</td>\n",
       "      <td>2</td>\n",
       "      <td>2</td>\n",
       "      <td>0</td>\n",
       "      <td>0</td>\n",
       "      <td>0</td>\n",
       "      <td>1</td>\n",
       "      <td>1</td>\n",
       "      <td>0</td>\n",
       "      <td>0</td>\n",
       "      <td>2</td>\n",
       "      <td>0</td>\n",
       "      <td>2</td>\n",
       "    </tr>\n",
       "    <tr>\n",
       "      <th>3</th>\n",
       "      <td>BAGUA</td>\n",
       "      <td>ARAMANGO</td>\n",
       "      <td>UGEL BAGUA</td>\n",
       "      <td>DRE AMAZONAS</td>\n",
       "      <td>0</td>\n",
       "      <td>3</td>\n",
       "      <td>1</td>\n",
       "      <td>2</td>\n",
       "      <td>1</td>\n",
       "      <td>1</td>\n",
       "      <td>1</td>\n",
       "      <td>0</td>\n",
       "      <td>0</td>\n",
       "      <td>0</td>\n",
       "      <td>3</td>\n",
       "      <td>0</td>\n",
       "      <td>3</td>\n",
       "    </tr>\n",
       "    <tr>\n",
       "      <th>4</th>\n",
       "      <td>BAGUA</td>\n",
       "      <td>ARAMANGO</td>\n",
       "      <td>UGEL BAGUA</td>\n",
       "      <td>DRE AMAZONAS</td>\n",
       "      <td>0</td>\n",
       "      <td>2</td>\n",
       "      <td>2</td>\n",
       "      <td>0</td>\n",
       "      <td>0</td>\n",
       "      <td>0</td>\n",
       "      <td>0</td>\n",
       "      <td>2</td>\n",
       "      <td>0</td>\n",
       "      <td>0</td>\n",
       "      <td>2</td>\n",
       "      <td>0</td>\n",
       "      <td>2</td>\n",
       "    </tr>\n",
       "  </tbody>\n",
       "</table>\n",
       "</div>"
      ],
      "text/plain": [
       "    prov      dist    dre_ugel      region_e  Docentes_hombres  \\\n",
       "0  BAGUA  ARAMANGO  UGEL BAGUA  DRE AMAZONAS                 0   \n",
       "1  BAGUA  ARAMANGO  UGEL BAGUA  DRE AMAZONAS                 0   \n",
       "2  BAGUA  ARAMANGO  UGEL BAGUA  DRE AMAZONAS                 0   \n",
       "3  BAGUA  ARAMANGO  UGEL BAGUA  DRE AMAZONAS                 0   \n",
       "4  BAGUA  ARAMANGO  UGEL BAGUA  DRE AMAZONAS                 0   \n",
       "\n",
       "   Docentes_mujeres  Docentes_nombrados  Docentes_contratados  \\\n",
       "0                 6                   6                     0   \n",
       "1                 4                   3                     1   \n",
       "2                 2                   2                     0   \n",
       "3                 3                   1                     2   \n",
       "4                 2                   2                     0   \n",
       "\n",
       "   Docentes_25_menos_años  Docentes_2635_años  Docentes_3645_años  \\\n",
       "0                       1                   2                   2   \n",
       "1                       1                   1                   0   \n",
       "2                       0                   0                   1   \n",
       "3                       1                   1                   1   \n",
       "4                       0                   0                   0   \n",
       "\n",
       "   Docentes_4655_años  Docentes_5665_años  Docentes_66_a_mas_años  \\\n",
       "0                   1                   0                       0   \n",
       "1                   1                   1                       0   \n",
       "2                   1                   0                       0   \n",
       "3                   0                   0                       0   \n",
       "4                   2                   0                       0   \n",
       "\n",
       "   Docentes_con_titulo  Docentes_sin_titulo  Docentes_total  \n",
       "0                    6                    0               6  \n",
       "1                    4                    0               4  \n",
       "2                    2                    0               2  \n",
       "3                    3                    0               3  \n",
       "4                    2                    0               2  "
      ]
     },
     "execution_count": 7,
     "metadata": {},
     "output_type": "execute_result"
    }
   ],
   "source": [
    "# Mostrar las ultimas 17 columnas\n",
    "df.iloc[:5, -17:]"
   ]
  },
  {
   "cell_type": "code",
   "execution_count": 8,
   "id": "6f49bd61",
   "metadata": {},
   "outputs": [
    {
     "data": {
      "text/plain": [
       "Index(['cod_mod', 'anexo', 'codlocal', 'cen_edu', 'dir_cen', 'niv_mod',\n",
       "       'nivel', 'nivel2', 'nivel3', 'ges_dep', 'gestion', 'codgeo', 'codooii',\n",
       "       'area_censo', 'area', 'region', 'dpto', 'prov', 'dist', 'dre_ugel',\n",
       "       'region_e', 'docentes_hombres', 'docentes_mujeres',\n",
       "       'docentes_nombrados', 'docentes_contratados', 'docentes_25_menos_años',\n",
       "       'docentes_2635_años', 'docentes_3645_años', 'docentes_4655_años',\n",
       "       'docentes_5665_años', 'docentes_66_a_mas_años', 'docentes_con_titulo',\n",
       "       'docentes_sin_titulo', 'docentes_total'],\n",
       "      dtype='object')"
      ]
     },
     "execution_count": 8,
     "metadata": {},
     "output_type": "execute_result"
    }
   ],
   "source": [
    "# Cambio a las columnas\n",
    "df.columns = df.columns.str.strip().str.lower()\n",
    "df.columns"
   ]
  },
  {
   "cell_type": "code",
   "execution_count": 10,
   "id": "0dd0b9d1",
   "metadata": {},
   "outputs": [
    {
     "name": "stdout",
     "output_type": "stream",
     "text": [
      "Tiene 66052 filas y 34 columnas\n"
     ]
    }
   ],
   "source": [
    "filas, columnas = df.shape\n",
    "print(f'Tiene {filas} filas y {columnas} columnas')"
   ]
  },
  {
   "cell_type": "code",
   "execution_count": 11,
   "id": "b8ea7968",
   "metadata": {},
   "outputs": [
    {
     "name": "stdout",
     "output_type": "stream",
     "text": [
      "Contiene 66045 claves únicas en la columna de cod_mod\n"
     ]
    }
   ],
   "source": [
    "cod_mod_unicos = len(df['cod_mod'].unique())\n",
    "print(f'Contiene {cod_mod_unicos} claves únicas en la columna de cod_mod')"
   ]
  },
  {
   "cell_type": "markdown",
   "id": "69e65622",
   "metadata": {},
   "source": [
    "- Validar si existen valores nulos"
   ]
  },
  {
   "cell_type": "code",
   "execution_count": 12,
   "id": "0ef4b0ab",
   "metadata": {},
   "outputs": [
    {
     "name": "stdout",
     "output_type": "stream",
     "text": [
      "<class 'pandas.core.frame.DataFrame'>\n",
      "RangeIndex: 66052 entries, 0 to 66051\n",
      "Data columns (total 34 columns):\n",
      " #   Column                  Non-Null Count  Dtype \n",
      "---  ------                  --------------  ----- \n",
      " 0   cod_mod                 66052 non-null  int64 \n",
      " 1   anexo                   66052 non-null  int64 \n",
      " 2   codlocal                66052 non-null  int64 \n",
      " 3   cen_edu                 66052 non-null  object\n",
      " 4   dir_cen                 66052 non-null  object\n",
      " 5   niv_mod                 66052 non-null  object\n",
      " 6   nivel                   66052 non-null  object\n",
      " 7   nivel2                  66052 non-null  object\n",
      " 8   nivel3                  66052 non-null  object\n",
      " 9   ges_dep                 66052 non-null  object\n",
      " 10  gestion                 66052 non-null  object\n",
      " 11  codgeo                  66052 non-null  int64 \n",
      " 12  codooii                 66052 non-null  int64 \n",
      " 13  area_censo              66052 non-null  int64 \n",
      " 14  area                    66052 non-null  object\n",
      " 15  region                  66052 non-null  int64 \n",
      " 16  dpto                    66052 non-null  object\n",
      " 17  prov                    66052 non-null  object\n",
      " 18  dist                    66052 non-null  object\n",
      " 19  dre_ugel                66052 non-null  object\n",
      " 20  region_e                66052 non-null  object\n",
      " 21  docentes_hombres        66052 non-null  int64 \n",
      " 22  docentes_mujeres        66052 non-null  int64 \n",
      " 23  docentes_nombrados      66052 non-null  int64 \n",
      " 24  docentes_contratados    66052 non-null  int64 \n",
      " 25  docentes_25_menos_años  66052 non-null  int64 \n",
      " 26  docentes_2635_años      66052 non-null  int64 \n",
      " 27  docentes_3645_años      66052 non-null  int64 \n",
      " 28  docentes_4655_años      66052 non-null  int64 \n",
      " 29  docentes_5665_años      66052 non-null  int64 \n",
      " 30  docentes_66_a_mas_años  66052 non-null  int64 \n",
      " 31  docentes_con_titulo     66052 non-null  int64 \n",
      " 32  docentes_sin_titulo     66052 non-null  int64 \n",
      " 33  docentes_total          66052 non-null  int64 \n",
      "dtypes: int64(20), object(14)\n",
      "memory usage: 17.1+ MB\n"
     ]
    }
   ],
   "source": [
    "df.info()"
   ]
  },
  {
   "cell_type": "code",
   "execution_count": 15,
   "id": "7136961a",
   "metadata": {},
   "outputs": [
    {
     "data": {
      "text/plain": [
       "dre_ugel                  0\n",
       "region_e                  0\n",
       "docentes_hombres          0\n",
       "docentes_mujeres          0\n",
       "docentes_nombrados        0\n",
       "docentes_contratados      0\n",
       "docentes_25_menos_años    0\n",
       "docentes_2635_años        0\n",
       "docentes_3645_años        0\n",
       "docentes_4655_años        0\n",
       "docentes_5665_años        0\n",
       "docentes_66_a_mas_años    0\n",
       "docentes_con_titulo       0\n",
       "docentes_sin_titulo       0\n",
       "docentes_total            0\n",
       "dtype: int64"
      ]
     },
     "execution_count": 15,
     "metadata": {},
     "output_type": "execute_result"
    }
   ],
   "source": [
    "df.isnull().sum()[-15:]"
   ]
  },
  {
   "cell_type": "code",
   "execution_count": 16,
   "id": "631635ae",
   "metadata": {},
   "outputs": [
    {
     "data": {
      "text/plain": [
       "np.int64(7)"
      ]
     },
     "execution_count": 16,
     "metadata": {},
     "output_type": "execute_result"
    }
   ],
   "source": [
    "df['cod_mod'].duplicated().sum()"
   ]
  },
  {
   "cell_type": "code",
   "execution_count": 18,
   "id": "800d062c",
   "metadata": {},
   "outputs": [],
   "source": [
    "# Eliminar los duplicados según la columna de cod_mod\n",
    "df.drop_duplicates(subset=['cod_mod'], inplace=True)"
   ]
  },
  {
   "cell_type": "markdown",
   "id": "288457c2",
   "metadata": {},
   "source": [
    "- ¿Los totales cuadran?"
   ]
  },
  {
   "cell_type": "code",
   "execution_count": 19,
   "id": "be5e7d8d",
   "metadata": {},
   "outputs": [
    {
     "data": {
      "text/html": [
       "<div>\n",
       "<style scoped>\n",
       "    .dataframe tbody tr th:only-of-type {\n",
       "        vertical-align: middle;\n",
       "    }\n",
       "\n",
       "    .dataframe tbody tr th {\n",
       "        vertical-align: top;\n",
       "    }\n",
       "\n",
       "    .dataframe thead th {\n",
       "        text-align: right;\n",
       "    }\n",
       "</style>\n",
       "<table border=\"1\" class=\"dataframe\">\n",
       "  <thead>\n",
       "    <tr style=\"text-align: right;\">\n",
       "      <th></th>\n",
       "      <th>docentes_con_titulo</th>\n",
       "      <th>docentes_sin_titulo</th>\n",
       "      <th>docentes_total</th>\n",
       "    </tr>\n",
       "  </thead>\n",
       "  <tbody>\n",
       "    <tr>\n",
       "      <th>0</th>\n",
       "      <td>6</td>\n",
       "      <td>0</td>\n",
       "      <td>6</td>\n",
       "    </tr>\n",
       "    <tr>\n",
       "      <th>1</th>\n",
       "      <td>4</td>\n",
       "      <td>0</td>\n",
       "      <td>4</td>\n",
       "    </tr>\n",
       "    <tr>\n",
       "      <th>2</th>\n",
       "      <td>2</td>\n",
       "      <td>0</td>\n",
       "      <td>2</td>\n",
       "    </tr>\n",
       "    <tr>\n",
       "      <th>3</th>\n",
       "      <td>3</td>\n",
       "      <td>0</td>\n",
       "      <td>3</td>\n",
       "    </tr>\n",
       "    <tr>\n",
       "      <th>4</th>\n",
       "      <td>2</td>\n",
       "      <td>0</td>\n",
       "      <td>2</td>\n",
       "    </tr>\n",
       "    <tr>\n",
       "      <th>5</th>\n",
       "      <td>2</td>\n",
       "      <td>0</td>\n",
       "      <td>2</td>\n",
       "    </tr>\n",
       "    <tr>\n",
       "      <th>6</th>\n",
       "      <td>1</td>\n",
       "      <td>0</td>\n",
       "      <td>1</td>\n",
       "    </tr>\n",
       "    <tr>\n",
       "      <th>7</th>\n",
       "      <td>1</td>\n",
       "      <td>0</td>\n",
       "      <td>1</td>\n",
       "    </tr>\n",
       "    <tr>\n",
       "      <th>8</th>\n",
       "      <td>1</td>\n",
       "      <td>0</td>\n",
       "      <td>1</td>\n",
       "    </tr>\n",
       "    <tr>\n",
       "      <th>9</th>\n",
       "      <td>1</td>\n",
       "      <td>0</td>\n",
       "      <td>1</td>\n",
       "    </tr>\n",
       "  </tbody>\n",
       "</table>\n",
       "</div>"
      ],
      "text/plain": [
       "   docentes_con_titulo  docentes_sin_titulo  docentes_total\n",
       "0                    6                    0               6\n",
       "1                    4                    0               4\n",
       "2                    2                    0               2\n",
       "3                    3                    0               3\n",
       "4                    2                    0               2\n",
       "5                    2                    0               2\n",
       "6                    1                    0               1\n",
       "7                    1                    0               1\n",
       "8                    1                    0               1\n",
       "9                    1                    0               1"
      ]
     },
     "execution_count": 19,
     "metadata": {},
     "output_type": "execute_result"
    }
   ],
   "source": [
    "df.iloc[:10, -3:]"
   ]
  },
  {
   "cell_type": "markdown",
   "id": "8d9e2ba8",
   "metadata": {},
   "source": [
    "- Filtrar y seleccionar las columnas de interés"
   ]
  },
  {
   "cell_type": "code",
   "execution_count": null,
   "id": "1da2ad75",
   "metadata": {},
   "outputs": [
    {
     "data": {
      "text/plain": [
       "array(['A2', 'B0', 'F0', 'K0', 'T0', 'A3', 'P0', 'A1'], dtype=object)"
      ]
     },
     "execution_count": 20,
     "metadata": {},
     "output_type": "execute_result"
    }
   ],
   "source": [
    "df['niv_mod'].unique() # A2, B0, F0"
   ]
  },
  {
   "cell_type": "markdown",
   "id": "bf3db82e",
   "metadata": {},
   "source": [
    "| Código | Nivel del módulo educativo                             |\n",
    "| ------ | ------------------------------------------------------ |\n",
    "| **A1** | Educación Inicial – Ciclo I (menores de 3 años)        |\n",
    "| **A2** | Educación Inicial – Ciclo II (3 a 5 años)              |\n",
    "| **A3** | Educación Inicial – PRONOEI (Programa no escolarizado) |\n",
    "| **B0** | Educación Primaria                                     |\n",
    "| **F0** | Educación Secundaria                                   |\n",
    "| **K0** | Educación Básica Alternativa (EBA) – Inicial/Avanzado  |\n",
    "| **T0** | Educación Técnico-Productiva o Técnico Superior        |\n",
    "| **P0** | Educación Básica Especial (EBE)                        |\n"
   ]
  },
  {
   "cell_type": "code",
   "execution_count": 21,
   "id": "d16f23cc",
   "metadata": {},
   "outputs": [
    {
     "data": {
      "text/plain": [
       "array(['A1', 'A4', 'A2', 'A3'], dtype=object)"
      ]
     },
     "execution_count": 21,
     "metadata": {},
     "output_type": "execute_result"
    }
   ],
   "source": [
    "df['ges_dep'].unique()"
   ]
  },
  {
   "cell_type": "code",
   "execution_count": null,
   "id": "09dd1f72",
   "metadata": {},
   "outputs": [
    {
     "data": {
      "text/plain": [
       "ges_dep\n",
       "A1    64625\n",
       "A2      252\n",
       "A3       44\n",
       "A4     1124\n",
       "Name: cod_mod, dtype: int64"
      ]
     },
     "execution_count": 22,
     "metadata": {},
     "output_type": "execute_result"
    }
   ],
   "source": [
    "df.groupby('ges_dep')['cod_mod'].count() # Necesito el codigo A1"
   ]
  },
  {
   "cell_type": "code",
   "execution_count": 23,
   "id": "0e76b3fe",
   "metadata": {},
   "outputs": [],
   "source": [
    "# Filtrar niv_mod (B0-inicial, A2-primaria, F0-secundaria), ges_dep(A1-estatal)\n",
    "filtro_niv_mod = df['niv_mod'].isin(['B0', 'A2', 'F0'])\n",
    "filtro_ges_dep = df['ges_dep'].isin(['A1'])\n",
    "\n",
    "df = df[filtro_niv_mod & filtro_ges_dep]"
   ]
  },
  {
   "cell_type": "code",
   "execution_count": 24,
   "id": "05dfc091",
   "metadata": {},
   "outputs": [
    {
     "data": {
      "text/html": [
       "<div>\n",
       "<style scoped>\n",
       "    .dataframe tbody tr th:only-of-type {\n",
       "        vertical-align: middle;\n",
       "    }\n",
       "\n",
       "    .dataframe tbody tr th {\n",
       "        vertical-align: top;\n",
       "    }\n",
       "\n",
       "    .dataframe thead th {\n",
       "        text-align: right;\n",
       "    }\n",
       "</style>\n",
       "<table border=\"1\" class=\"dataframe\">\n",
       "  <thead>\n",
       "    <tr style=\"text-align: right;\">\n",
       "      <th></th>\n",
       "      <th>cod_mod</th>\n",
       "      <th>anexo</th>\n",
       "      <th>codlocal</th>\n",
       "      <th>cen_edu</th>\n",
       "      <th>dir_cen</th>\n",
       "      <th>niv_mod</th>\n",
       "      <th>nivel</th>\n",
       "      <th>nivel2</th>\n",
       "      <th>nivel3</th>\n",
       "      <th>ges_dep</th>\n",
       "      <th>...</th>\n",
       "      <th>docentes_contratados</th>\n",
       "      <th>docentes_25_menos_años</th>\n",
       "      <th>docentes_2635_años</th>\n",
       "      <th>docentes_3645_años</th>\n",
       "      <th>docentes_4655_años</th>\n",
       "      <th>docentes_5665_años</th>\n",
       "      <th>docentes_66_a_mas_años</th>\n",
       "      <th>docentes_con_titulo</th>\n",
       "      <th>docentes_sin_titulo</th>\n",
       "      <th>docentes_total</th>\n",
       "    </tr>\n",
       "  </thead>\n",
       "  <tbody>\n",
       "    <tr>\n",
       "      <th>0</th>\n",
       "      <td>539213</td>\n",
       "      <td>0</td>\n",
       "      <td>2787</td>\n",
       "      <td>222</td>\n",
       "      <td>EL MUYO S/N</td>\n",
       "      <td>A2</td>\n",
       "      <td>1.Inicial</td>\n",
       "      <td>1.Inicial</td>\n",
       "      <td>BASICA</td>\n",
       "      <td>A1</td>\n",
       "      <td>...</td>\n",
       "      <td>0</td>\n",
       "      <td>1</td>\n",
       "      <td>2</td>\n",
       "      <td>2</td>\n",
       "      <td>1</td>\n",
       "      <td>0</td>\n",
       "      <td>0</td>\n",
       "      <td>6</td>\n",
       "      <td>0</td>\n",
       "      <td>6</td>\n",
       "    </tr>\n",
       "    <tr>\n",
       "      <th>1</th>\n",
       "      <td>585661</td>\n",
       "      <td>0</td>\n",
       "      <td>2773</td>\n",
       "      <td>214</td>\n",
       "      <td>CALLE MIGUEL MONTEZA TAFUR S/N</td>\n",
       "      <td>A2</td>\n",
       "      <td>1.Inicial</td>\n",
       "      <td>1.Inicial</td>\n",
       "      <td>BASICA</td>\n",
       "      <td>A1</td>\n",
       "      <td>...</td>\n",
       "      <td>1</td>\n",
       "      <td>1</td>\n",
       "      <td>1</td>\n",
       "      <td>0</td>\n",
       "      <td>1</td>\n",
       "      <td>1</td>\n",
       "      <td>0</td>\n",
       "      <td>4</td>\n",
       "      <td>0</td>\n",
       "      <td>4</td>\n",
       "    </tr>\n",
       "    <tr>\n",
       "      <th>2</th>\n",
       "      <td>708081</td>\n",
       "      <td>0</td>\n",
       "      <td>2792</td>\n",
       "      <td>225</td>\n",
       "      <td>LA LIBERTAD S/N</td>\n",
       "      <td>A2</td>\n",
       "      <td>1.Inicial</td>\n",
       "      <td>1.Inicial</td>\n",
       "      <td>BASICA</td>\n",
       "      <td>A1</td>\n",
       "      <td>...</td>\n",
       "      <td>0</td>\n",
       "      <td>0</td>\n",
       "      <td>0</td>\n",
       "      <td>1</td>\n",
       "      <td>1</td>\n",
       "      <td>0</td>\n",
       "      <td>0</td>\n",
       "      <td>2</td>\n",
       "      <td>0</td>\n",
       "      <td>2</td>\n",
       "    </tr>\n",
       "    <tr>\n",
       "      <th>3</th>\n",
       "      <td>708099</td>\n",
       "      <td>0</td>\n",
       "      <td>2805</td>\n",
       "      <td>226</td>\n",
       "      <td>EL PORVENIR S/N</td>\n",
       "      <td>A2</td>\n",
       "      <td>1.Inicial</td>\n",
       "      <td>1.Inicial</td>\n",
       "      <td>BASICA</td>\n",
       "      <td>A1</td>\n",
       "      <td>...</td>\n",
       "      <td>2</td>\n",
       "      <td>1</td>\n",
       "      <td>1</td>\n",
       "      <td>1</td>\n",
       "      <td>0</td>\n",
       "      <td>0</td>\n",
       "      <td>0</td>\n",
       "      <td>3</td>\n",
       "      <td>0</td>\n",
       "      <td>3</td>\n",
       "    </tr>\n",
       "    <tr>\n",
       "      <th>4</th>\n",
       "      <td>767939</td>\n",
       "      <td>0</td>\n",
       "      <td>2810</td>\n",
       "      <td>235</td>\n",
       "      <td>AVENIDA DOS DE MAYO 557</td>\n",
       "      <td>A2</td>\n",
       "      <td>1.Inicial</td>\n",
       "      <td>1.Inicial</td>\n",
       "      <td>BASICA</td>\n",
       "      <td>A1</td>\n",
       "      <td>...</td>\n",
       "      <td>0</td>\n",
       "      <td>0</td>\n",
       "      <td>0</td>\n",
       "      <td>0</td>\n",
       "      <td>2</td>\n",
       "      <td>0</td>\n",
       "      <td>0</td>\n",
       "      <td>2</td>\n",
       "      <td>0</td>\n",
       "      <td>2</td>\n",
       "    </tr>\n",
       "  </tbody>\n",
       "</table>\n",
       "<p>5 rows × 34 columns</p>\n",
       "</div>"
      ],
      "text/plain": [
       "   cod_mod  anexo  codlocal cen_edu                         dir_cen niv_mod  \\\n",
       "0   539213      0      2787     222                     EL MUYO S/N      A2   \n",
       "1   585661      0      2773     214  CALLE MIGUEL MONTEZA TAFUR S/N      A2   \n",
       "2   708081      0      2792     225                 LA LIBERTAD S/N      A2   \n",
       "3   708099      0      2805     226                 EL PORVENIR S/N      A2   \n",
       "4   767939      0      2810     235         AVENIDA DOS DE MAYO 557      A2   \n",
       "\n",
       "       nivel     nivel2  nivel3 ges_dep  ... docentes_contratados  \\\n",
       "0  1.Inicial  1.Inicial  BASICA      A1  ...                    0   \n",
       "1  1.Inicial  1.Inicial  BASICA      A1  ...                    1   \n",
       "2  1.Inicial  1.Inicial  BASICA      A1  ...                    0   \n",
       "3  1.Inicial  1.Inicial  BASICA      A1  ...                    2   \n",
       "4  1.Inicial  1.Inicial  BASICA      A1  ...                    0   \n",
       "\n",
       "   docentes_25_menos_años  docentes_2635_años  docentes_3645_años  \\\n",
       "0                       1                   2                   2   \n",
       "1                       1                   1                   0   \n",
       "2                       0                   0                   1   \n",
       "3                       1                   1                   1   \n",
       "4                       0                   0                   0   \n",
       "\n",
       "  docentes_4655_años  docentes_5665_años docentes_66_a_mas_años  \\\n",
       "0                  1                   0                      0   \n",
       "1                  1                   1                      0   \n",
       "2                  1                   0                      0   \n",
       "3                  0                   0                      0   \n",
       "4                  2                   0                      0   \n",
       "\n",
       "  docentes_con_titulo docentes_sin_titulo docentes_total  \n",
       "0                   6                   0              6  \n",
       "1                   4                   0              4  \n",
       "2                   2                   0              2  \n",
       "3                   3                   0              3  \n",
       "4                   2                   0              2  \n",
       "\n",
       "[5 rows x 34 columns]"
      ]
     },
     "execution_count": 24,
     "metadata": {},
     "output_type": "execute_result"
    }
   ],
   "source": [
    "df.head()"
   ]
  },
  {
   "cell_type": "code",
   "execution_count": 26,
   "id": "5aa6d8d7",
   "metadata": {},
   "outputs": [],
   "source": [
    "# Seleccionar las columnas de interés\n",
    "df.drop(columns = ['gestion', 'codgeo', 'codooii', 'area', 'region', 'anexo', 'codlocal', 'cen_edu', 'nivel', 'nivel2', 'nivel3', 'ges_dep'], inplace=True)"
   ]
  },
  {
   "cell_type": "markdown",
   "id": "d9ea71b7",
   "metadata": {},
   "source": [
    "Tabla de dimensión niv_mod"
   ]
  },
  {
   "cell_type": "code",
   "execution_count": 28,
   "id": "9c7830fd",
   "metadata": {},
   "outputs": [
    {
     "data": {
      "text/html": [
       "<div>\n",
       "<style scoped>\n",
       "    .dataframe tbody tr th:only-of-type {\n",
       "        vertical-align: middle;\n",
       "    }\n",
       "\n",
       "    .dataframe tbody tr th {\n",
       "        vertical-align: top;\n",
       "    }\n",
       "\n",
       "    .dataframe thead th {\n",
       "        text-align: right;\n",
       "    }\n",
       "</style>\n",
       "<table border=\"1\" class=\"dataframe\">\n",
       "  <thead>\n",
       "    <tr style=\"text-align: right;\">\n",
       "      <th></th>\n",
       "      <th>niv_mod</th>\n",
       "      <th>nivel_desc</th>\n",
       "    </tr>\n",
       "  </thead>\n",
       "  <tbody>\n",
       "    <tr>\n",
       "      <th>0</th>\n",
       "      <td>B0</td>\n",
       "      <td>Inicial</td>\n",
       "    </tr>\n",
       "    <tr>\n",
       "      <th>1</th>\n",
       "      <td>A2</td>\n",
       "      <td>Primaria</td>\n",
       "    </tr>\n",
       "    <tr>\n",
       "      <th>2</th>\n",
       "      <td>F0</td>\n",
       "      <td>Secundaria</td>\n",
       "    </tr>\n",
       "  </tbody>\n",
       "</table>\n",
       "</div>"
      ],
      "text/plain": [
       "  niv_mod  nivel_desc\n",
       "0      B0     Inicial\n",
       "1      A2    Primaria\n",
       "2      F0  Secundaria"
      ]
     },
     "execution_count": 28,
     "metadata": {},
     "output_type": "execute_result"
    }
   ],
   "source": [
    "dim_niv_mod = pd.DataFrame({\n",
    "    'niv_mod':['B0','A2','F0'],\n",
    "    'nivel_desc': ['Inicial', 'Primaria','Secundaria']\n",
    "})\n",
    "dim_niv_mod"
   ]
  },
  {
   "cell_type": "code",
   "execution_count": 32,
   "id": "793fad62",
   "metadata": {},
   "outputs": [
    {
     "data": {
      "text/plain": [
       "array([2, 1])"
      ]
     },
     "execution_count": 32,
     "metadata": {},
     "output_type": "execute_result"
    }
   ],
   "source": [
    "df['area_censo'].unique()"
   ]
  },
  {
   "cell_type": "markdown",
   "id": "9b4bc6d7",
   "metadata": {},
   "source": [
    "Tabla de dimensión area_censo"
   ]
  },
  {
   "cell_type": "code",
   "execution_count": 34,
   "id": "84b375a4",
   "metadata": {},
   "outputs": [
    {
     "data": {
      "text/html": [
       "<div>\n",
       "<style scoped>\n",
       "    .dataframe tbody tr th:only-of-type {\n",
       "        vertical-align: middle;\n",
       "    }\n",
       "\n",
       "    .dataframe tbody tr th {\n",
       "        vertical-align: top;\n",
       "    }\n",
       "\n",
       "    .dataframe thead th {\n",
       "        text-align: right;\n",
       "    }\n",
       "</style>\n",
       "<table border=\"1\" class=\"dataframe\">\n",
       "  <thead>\n",
       "    <tr style=\"text-align: right;\">\n",
       "      <th></th>\n",
       "      <th>area_censo</th>\n",
       "      <th>area_desc</th>\n",
       "    </tr>\n",
       "  </thead>\n",
       "  <tbody>\n",
       "    <tr>\n",
       "      <th>0</th>\n",
       "      <td>1</td>\n",
       "      <td>Urbano</td>\n",
       "    </tr>\n",
       "    <tr>\n",
       "      <th>1</th>\n",
       "      <td>2</td>\n",
       "      <td>Rural</td>\n",
       "    </tr>\n",
       "  </tbody>\n",
       "</table>\n",
       "</div>"
      ],
      "text/plain": [
       "   area_censo area_desc\n",
       "0           1    Urbano\n",
       "1           2     Rural"
      ]
     },
     "execution_count": 34,
     "metadata": {},
     "output_type": "execute_result"
    }
   ],
   "source": [
    "dim_area_censo = pd.DataFrame({\n",
    "    'area_censo':[1, 2],\n",
    "    'area_desc':['Urbano', 'Rural']\n",
    "})\n",
    "dim_area_censo"
   ]
  },
  {
   "cell_type": "markdown",
   "id": "49f3437e",
   "metadata": {},
   "source": [
    "### **Visualización de datos**"
   ]
  },
  {
   "cell_type": "markdown",
   "id": "8bb06298",
   "metadata": {},
   "source": [
    "Gráficas de barras"
   ]
  },
  {
   "cell_type": "code",
   "execution_count": 49,
   "id": "1d95aae9",
   "metadata": {},
   "outputs": [
    {
     "data": {
      "text/html": [
       "<div>\n",
       "<style scoped>\n",
       "    .dataframe tbody tr th:only-of-type {\n",
       "        vertical-align: middle;\n",
       "    }\n",
       "\n",
       "    .dataframe tbody tr th {\n",
       "        vertical-align: top;\n",
       "    }\n",
       "\n",
       "    .dataframe thead th {\n",
       "        text-align: right;\n",
       "    }\n",
       "</style>\n",
       "<table border=\"1\" class=\"dataframe\">\n",
       "  <thead>\n",
       "    <tr style=\"text-align: right;\">\n",
       "      <th></th>\n",
       "      <th>dist</th>\n",
       "      <th>docentes_total</th>\n",
       "    </tr>\n",
       "  </thead>\n",
       "  <tbody>\n",
       "    <tr>\n",
       "      <th>0</th>\n",
       "      <td>SAN JUAN DE LURIGANCHO</td>\n",
       "      <td>5497</td>\n",
       "    </tr>\n",
       "    <tr>\n",
       "      <th>1</th>\n",
       "      <td>ATE</td>\n",
       "      <td>3433</td>\n",
       "    </tr>\n",
       "    <tr>\n",
       "      <th>2</th>\n",
       "      <td>COMAS</td>\n",
       "      <td>3077</td>\n",
       "    </tr>\n",
       "    <tr>\n",
       "      <th>3</th>\n",
       "      <td>SAN MARTIN DE PORRES</td>\n",
       "      <td>2768</td>\n",
       "    </tr>\n",
       "    <tr>\n",
       "      <th>4</th>\n",
       "      <td>VILLA MARIA DEL TRIUNFO</td>\n",
       "      <td>2643</td>\n",
       "    </tr>\n",
       "  </tbody>\n",
       "</table>\n",
       "</div>"
      ],
      "text/plain": [
       "                      dist  docentes_total\n",
       "0   SAN JUAN DE LURIGANCHO            5497\n",
       "1                      ATE            3433\n",
       "2                    COMAS            3077\n",
       "3     SAN MARTIN DE PORRES            2768\n",
       "4  VILLA MARIA DEL TRIUNFO            2643"
      ]
     },
     "execution_count": 49,
     "metadata": {},
     "output_type": "execute_result"
    }
   ],
   "source": [
    "group_dist_count = df.groupby('dist')['docentes_total'].sum().sort_values(ascending=False).reset_index()\n",
    "group_dist_count.head()"
   ]
  },
  {
   "cell_type": "code",
   "execution_count": 50,
   "id": "535fb463",
   "metadata": {},
   "outputs": [
    {
     "data": {
      "image/png": "[encoded data removed]",
      "text/plain": [
       "<Figure size 1200x600 with 1 Axes>"
      ]
     },
     "metadata": {},
     "output_type": "display_data"
    }
   ],
   "source": [
    "top = int(input('Ingrese el top distritos que deseas: '))\n",
    "\n",
    "plt.figure(figsize=(12,6))\n",
    "sns.barplot(data = group_dist_count.head(top), x='dist', y='docentes_total')\n",
    "plt.title(f'Top {top} distritos con más docentes del Perú')\n",
    "plt.xticks(rotation=90)\n",
    "plt.xlabel('Distritos')\n",
    "plt.ylabel('Total de Docentes')\n",
    "plt.show()"
   ]
  },
  {
   "cell_type": "markdown",
   "id": "56d0c171",
   "metadata": {},
   "source": [
    "- Presenta una mayor cantidad de docentes el distrito de **SJL**"
   ]
  },
  {
   "cell_type": "markdown",
   "id": "6933adbc",
   "metadata": {},
   "source": [
    "."
   ]
  },
  {
   "cell_type": "markdown",
   "id": "4c874e48",
   "metadata": {},
   "source": [
    "Gráficas de barras según el nivel_educativo"
   ]
  },
  {
   "cell_type": "code",
   "execution_count": 52,
   "id": "f20aaec6",
   "metadata": {},
   "outputs": [
    {
     "data": {
      "text/html": [
       "<div>\n",
       "<style scoped>\n",
       "    .dataframe tbody tr th:only-of-type {\n",
       "        vertical-align: middle;\n",
       "    }\n",
       "\n",
       "    .dataframe tbody tr th {\n",
       "        vertical-align: top;\n",
       "    }\n",
       "\n",
       "    .dataframe thead th {\n",
       "        text-align: right;\n",
       "    }\n",
       "</style>\n",
       "<table border=\"1\" class=\"dataframe\">\n",
       "  <thead>\n",
       "    <tr style=\"text-align: right;\">\n",
       "      <th></th>\n",
       "      <th>niv_mod</th>\n",
       "      <th>docentes_total</th>\n",
       "    </tr>\n",
       "  </thead>\n",
       "  <tbody>\n",
       "    <tr>\n",
       "      <th>0</th>\n",
       "      <td>A2</td>\n",
       "      <td>58760</td>\n",
       "    </tr>\n",
       "    <tr>\n",
       "      <th>1</th>\n",
       "      <td>B0</td>\n",
       "      <td>151920</td>\n",
       "    </tr>\n",
       "    <tr>\n",
       "      <th>2</th>\n",
       "      <td>F0</td>\n",
       "      <td>155293</td>\n",
       "    </tr>\n",
       "  </tbody>\n",
       "</table>\n",
       "</div>"
      ],
      "text/plain": [
       "  niv_mod  docentes_total\n",
       "0      A2           58760\n",
       "1      B0          151920\n",
       "2      F0          155293"
      ]
     },
     "execution_count": 52,
     "metadata": {},
     "output_type": "execute_result"
    }
   ],
   "source": [
    "group_niv_mod_count = df.groupby('niv_mod')['docentes_total'].sum().reset_index()\n",
    "group_niv_mod_count"
   ]
  },
  {
   "cell_type": "code",
   "execution_count": 54,
   "id": "78581ff9",
   "metadata": {},
   "outputs": [
    {
     "data": {
      "image/png": "[encoded data removed]",
      "text/plain": [
       "<Figure size 640x480 with 1 Axes>"
      ]
     },
     "metadata": {},
     "output_type": "display_data"
    }
   ],
   "source": [
    "sns.barplot(data=group_niv_mod_count, x='niv_mod', y='docentes_total')\n",
    "plt.title('Total docentes por nivel educativo')\n",
    "plt.show()"
   ]
  },
  {
   "cell_type": "markdown",
   "id": "0d72f7ac",
   "metadata": {},
   "source": [
    "Gráfico de barras por género"
   ]
  },
  {
   "cell_type": "code",
   "execution_count": 55,
   "id": "c307ae15",
   "metadata": {},
   "outputs": [
    {
     "data": {
      "image/png": "[encoded data removed]",
      "text/plain": [
       "<Figure size 640x480 with 1 Axes>"
      ]
     },
     "metadata": {},
     "output_type": "display_data"
    }
   ],
   "source": [
    "sexo = {\n",
    "    'Hombres': df['docentes_hombres'].sum(),\n",
    "    'Mujeres': df['docentes_mujeres'].sum()\n",
    "}\n",
    "\n",
    "sns.barplot(x=list(sexo.keys()), y = list(sexo.values()))\n",
    "plt.title('Gráfico de barras por género')\n",
    "plt.show()"
   ]
  }
 ],
 "metadata": {
  "kernelspec": {
   "display_name": "Python 3",
   "language": "python",
   "name": "python3"
  },
  "language_info": {
   "codemirror_mode": {
    "name": "ipython",
    "version": 3
   },
   "file_extension": ".py",
   "mimetype": "text/x-python",
   "name": "python",
   "nbconvert_exporter": "python",
   "pygments_lexer": "ipython3",
   "version": "3.13.5"
  }
 },
 "nbformat": 4,
 "nbformat_minor": 5
}
