{
 "cells": [
  {
   "cell_type": "markdown",
   "id": "24778935",
   "metadata": {},
   "source": [
    "![Redes Sociales](../redes_sociales_pythonperu.png)"
   ]
  },
  {
   "cell_type": "markdown",
   "id": "b954e405",
   "metadata": {},
   "source": [
    "# **🧪 Mini Proyecto: Registro y Análisis de Compras de Clientes**"
   ]
  },
  {
   "cell_type": "markdown",
   "id": "e8ec453f",
   "metadata": {},
   "source": [
    "Una tienda quiere registrar:\n",
    "\n",
    "- Nombre del cliente\n",
    "\n",
    "- Edad\n",
    "\n",
    "- Lista de productos comprados (puede ser más de uno)\n",
    "\n",
    "- Monto total de la compra"
   ]
  },
  {
   "cell_type": "markdown",
   "id": "77b738a8",
   "metadata": {},
   "source": [
    "Después debe calcular:  \n",
    "1️⃣ Total de clientes  \n",
    "2️⃣ Promedio de edad  \n",
    "3️⃣ Promedio del monto gastado   \n",
    "4️⃣ Clientes VIP (monto total ≥ 100)    \n",
    "5️⃣ Producto más vendido (TOP 1)  "
   ]
  },
  {
   "cell_type": "markdown",
   "id": "0a295af0",
   "metadata": {},
   "source": [
    "Fase 01: Registro de datos"
   ]
  },
  {
   "cell_type": "markdown",
   "id": "511cdb16",
   "metadata": {},
   "source": [
    "Fase 02: Validación de datos"
   ]
  },
  {
   "cell_type": "markdown",
   "id": "4a70243b",
   "metadata": {},
   "source": [
    "Fase 03: Almacenamiento de datos"
   ]
  },
  {
   "cell_type": "markdown",
   "id": "c5419c4b",
   "metadata": {},
   "source": [
    "Fase 04: Procesamiento de datos"
   ]
  },
  {
   "cell_type": "markdown",
   "id": "87e537ea",
   "metadata": {},
   "source": [
    "Fase 05: Cálculo de indicadores"
   ]
  },
  {
   "cell_type": "markdown",
   "id": "f7ae13d1",
   "metadata": {},
   "source": [
    "Fase 06: Resultado final"
   ]
  },
  {
   "cell_type": "code",
   "execution_count": 3,
   "id": "87948672",
   "metadata": {},
   "outputs": [
    {
     "name": "stdout",
     "output_type": "stream",
     "text": [
      "Bienvenido al Registro de Compras de Clientes\n",
      "\n",
      "Resultados del Registro de Compras:\n",
      "Total de clientes registrados: 2\n",
      "Promedio de edad de los clientes: 21.50\n",
      "Promedio de monto de compra: 950.00\n",
      "Clientes VIP: leonardo, Ricardo\n",
      "Producto más vendido: laptop (1 ventas)\n",
      "Gracias por usar el Registro de Compras de Clientes\n"
     ]
    }
   ],
   "source": [
    "# Lista principal de clientes\n",
    "clientes = []\n",
    "\n",
    "# Diccionario para contar productos vendidos\n",
    "contador_productos = {}\n",
    "\n",
    "print('Bienvenido al Registro de Compras de Clientes')\n",
    "\n",
    "\n",
    "while True:\n",
    "    # Diccionario del cliente {'nombre': 'Leonardo', 'edad': 30, 'monto': 1.5}\n",
    "    cliente = {}\n",
    "    \n",
    "    # Registro de datos básicos del cliente\n",
    "    # Nombre\n",
    "    cliente['nombre'] = input('Ingrese el nombre del cliente: ')\n",
    "    # Edad\n",
    "    cliente['edad'] = int(input('Ingrese la edad del cliente: '))\n",
    "    \n",
    "    # Lista de productos comprados por el cliente\n",
    "    productos = []\n",
    "    \n",
    "    while True:\n",
    "        producto = input('Ingrese el nombre del producto comprado: ')\n",
    "        # Agregar a la lista de productos\n",
    "        productos.append(producto)\n",
    "        \n",
    "        # Contamos cada producto\n",
    "        if producto in contador_productos:\n",
    "            contador_productos[producto] += 1\n",
    "        else:\n",
    "            contador_productos[producto] = 1\n",
    "        \n",
    "        continuar_producto = input('Agregar otro producto? (s/n): ').lower()\n",
    "        \n",
    "        # Condicional para cerrar mi while\n",
    "        if continuar_producto != 's':\n",
    "            break\n",
    "    \n",
    "    # Producto\n",
    "    cliente['productos'] = productos\n",
    "    # Monto total\n",
    "    cliente['monto'] = float(input('Ingrese el monto total de la compra: '))\n",
    "    \n",
    "    # Agregar cliente a la lista principal\n",
    "    clientes.append(cliente)\n",
    "    \n",
    "    continuar_cliente = input('Agregar otro cliente? (s/n): ').lower()\n",
    "    \n",
    "    # Condicional para cerrar mi while\n",
    "    if continuar_cliente != 's':\n",
    "        break\n",
    "    \n",
    "# Procesamiento de datos\n",
    "total_clientes = len(clientes)\n",
    "suma_edades = 0\n",
    "suma_montos = 0.0 # float -> numero decimal\n",
    "clientes_vip = [] # monto >= 100\n",
    "\n",
    "# Bucle for para procesar la lista de clientes\n",
    "for cliente in clientes:\n",
    "    suma_edades += cliente['edad']\n",
    "    suma_montos += cliente['monto']\n",
    "    \n",
    "    if cliente['monto'] >= 100:\n",
    "        clientes_vip.append(cliente['nombre'])\n",
    "\n",
    "# Calculos\n",
    "# operador ternario\n",
    "# sintaxis: variable = bloqueTrue if condicion else bloqueFalse\n",
    "condicion = total_clientes > 0\n",
    "promedio_edad = (suma_edades / total_clientes) if (condicion) else 0  \n",
    "promedio_monto = (suma_montos /total_clientes) if (condicion) else 0.0\n",
    "\n",
    "# Producto más vendido\n",
    "producto_max_venta = max(contador_productos, key=contador_productos.get)\n",
    "\n",
    "# Resultados\n",
    "print('\\nResultados del Registro de Compras:')\n",
    "print(f'Total de clientes registrados: {total_clientes}')\n",
    "print(f'Promedio de edad de los clientes: {promedio_edad:.2f}')\n",
    "print(f'Promedio de monto de compra: {promedio_monto:.2f}')\n",
    "print(f'Clientes VIP: {\", \".join(clientes_vip) if clientes_vip else \"Ninguno\"}')\n",
    "print(f'Producto más vendido: {producto_max_venta} ({contador_productos[producto_max_venta]} ventas)')\n",
    "print('Gracias por usar el Registro de Compras de Clientes')"
   ]
  }
 ],
 "metadata": {
  "kernelspec": {
   "display_name": "Python 3",
   "language": "python",
   "name": "python3"
  },
  "language_info": {
   "codemirror_mode": {
    "name": "ipython",
    "version": 3
   },
   "file_extension": ".py",
   "mimetype": "text/x-python",
   "name": "python",
   "nbconvert_exporter": "python",
   "pygments_lexer": "ipython3",
   "version": "3.13.5"
  }
 },
 "nbformat": 4,
 "nbformat_minor": 5
}
