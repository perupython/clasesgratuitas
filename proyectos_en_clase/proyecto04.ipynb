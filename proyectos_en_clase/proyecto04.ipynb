{
 "cells": [
  {
   "cell_type": "markdown",
   "id": "e9c1a648",
   "metadata": {},
   "source": [
    "![Redes Sociales](../redes_sociales_pythonperu.png)"
   ]
  },
  {
   "cell_type": "markdown",
   "id": "007af36f",
   "metadata": {},
   "source": [
    "# **🧪 Mini Proyecto: Registro de Pacientes en un Centro de Salud**"
   ]
  },
  {
   "cell_type": "markdown",
   "id": "0a02d679",
   "metadata": {},
   "source": [
    "Un centro de salud necesita registrar:\n",
    "\n",
    "- Nombre del paciente (solo letras y espacios)\n",
    "\n",
    "- Edad (entero positivo)\n",
    "\n",
    "- Temperaturas corporales de varias consultas (varios registros, cada uno entre 35°C y 42°C)"
   ]
  },
  {
   "cell_type": "markdown",
   "id": "d1381afa",
   "metadata": {},
   "source": [
    "Luego, calcular:  \n",
    "1️⃣ Total de pacientes  \n",
    "2️⃣ Promedio de edad  \n",
    "3️⃣ Promedio general de temperaturas  \n",
    "4️⃣ Pacientes en riesgo (promedio de temperatura ≥ 38°C)  "
   ]
  },
  {
   "cell_type": "markdown",
   "id": "65d70a88",
   "metadata": {},
   "source": [
    "Funciones clave:\n",
    "\n",
    "ingresar_nombre(): Valida nombre solo letras y espacios.\n",
    "\n",
    "ingresar_edad(): Valida edad entero positivo.\n",
    "\n",
    "ingresar_temperaturas(): Registra varias temperaturas, valida rango y tipo.\n",
    "\n",
    "procesar_pacientes(pacientes): Calcula totales, promedios y pacientes en riesgo.\n",
    "\n",
    "mostrar_resultados(...): Muestra resultados finales."
   ]
  },
  {
   "cell_type": "code",
   "execution_count": 2,
   "id": "62c642f6",
   "metadata": {},
   "outputs": [],
   "source": [
    "# Función para validar nombre:\n",
    "def ingresar_nombre():\n",
    "    while True:\n",
    "        nombre = input('Ingrese el nombre del paciente: ')\n",
    "        # Validar que el nombre no esté vacío\n",
    "        if nombre.replace(' ','').isalpha():\n",
    "            return nombre\n",
    "        else:\n",
    "            print('El nombre ingresado no es válido. Intente nuevamente.')\n",
    "\n",
    "# Función para validar edad:\n",
    "def ingresar_edad():\n",
    "    while True:\n",
    "        try:\n",
    "            edad = int(input('Ingrese la edad del paciente:'))\n",
    "            if edad > 0:\n",
    "                return edad\n",
    "            else:\n",
    "                print('La edad debe ser un número positivo. Intente nuevamente.')\n",
    "        \n",
    "        except ValueError:\n",
    "            print('Entrada no válida. Por favor, ingrese un número entero para la edad.')\n",
    "\n",
    "# Función para registrar temperaturas:\n",
    "def ingresar_temperaturas():\n",
    "    temperaturasList = []\n",
    "    while True:\n",
    "        try:\n",
    "            temperatura = float(input('Ingrese la temperatura corporal (35°C a 42°C): '))\n",
    "            if 35 <= temperatura <= 42:\n",
    "                temperaturasList.append(temperatura)\n",
    "                \n",
    "            else:\n",
    "                print('Temperatura fuera del rango permitido. Intente nuevamente.')\n",
    "        \n",
    "        except ValueError:\n",
    "            print('Ingrese un número válido para la temperatura.')\n",
    "        \n",
    "        continuar_temp = input('¿Registrar otra temperatura? (s/n): ').lower()\n",
    "        \n",
    "        if continuar_temp != 's':\n",
    "            break\n",
    "        \n",
    "    return temperaturasList\n",
    "\n",
    "# Función para procesar los datos:\n",
    "def procesar_datos(pacientes):\n",
    "    total_pacientes = len(pacientes)\n",
    "    suma_edades = 0\n",
    "    suma_temperaturas = 0\n",
    "    cantidad_temperaturas = 0\n",
    "    pacientes_riesgo = []\n",
    "    \n",
    "    for paciente in pacientes:\n",
    "        suma_edades += paciente['edad']\n",
    "        promedio_temp_individual = sum(paciente['temperaturas']) / len(paciente['temperaturas'])\n",
    "        suma_temperaturas += sum(paciente['temperaturas'])\n",
    "        cantidad_temperaturas += len(paciente['temperaturas'])\n",
    "        \n",
    "        if promedio_temp_individual >= 38:\n",
    "            pacientes_riesgo.append(paciente['nombre'])\n",
    "            \n",
    "    # Promedios de edades y temperaturas de los pacientes:        \n",
    "    promedio_edad = (suma_edades / total_pacientes) if (total_pacientes > 0) else 0\n",
    "    promedio_temperatura = (suma_temperaturas / cantidad_temperaturas) if (cantidad_temperaturas > 0) else 0\n",
    "    \n",
    "    return (total_pacientes, promedio_edad, promedio_temperatura, pacientes_riesgo)\n",
    "\n",
    "# Función para mostrar los resultados:\n",
    "def mostrar_resultados(total, promedio_edad, promedio_temp, pacientes_riesgo):\n",
    "    print(f'\\nTotal de pacientes registrados: {total}')\n",
    "    print(f'Promedio de edad de los pacientes: {promedio_edad:.2f} años')\n",
    "    print(f'Promedio de temperatura corporal: {promedio_temp:.2f}°C')\n",
    "    print('Pacientes con riesgo de fiebre alta:')\n",
    "    print(', '.join(pacientes_riesgo) if pacientes_riesgo else 'Ninguno')\n",
    "\n",
    "# Función principal:\n",
    "def main():\n",
    "    pacientesList = []\n",
    "    print('Registro de Pacientes en Centro de Salud')\n",
    "    \n",
    "    while True:\n",
    "        paciente = {}\n",
    "        paciente['nombre'] = ingresar_nombre()\n",
    "        paciente['edad'] = ingresar_edad()\n",
    "        paciente['temperaturas'] = ingresar_temperaturas()\n",
    "        \n",
    "        pacientesList.append(paciente)\n",
    "        \n",
    "        continuar = input('Desea registrar otro paciente? (s/n): ').lower()\n",
    "        \n",
    "        if continuar != 's':\n",
    "            break\n",
    "    \n",
    "    # Procesar los datos ingresados\n",
    "    total, promedio_edad, promedio_temp, pacientes_riesgo = procesar_datos(pacientesList)\n",
    "    # Mostrar los resultados\n",
    "    mostrar_resultados(total, promedio_edad, promedio_temp, pacientes_riesgo)"
   ]
  },
  {
   "cell_type": "code",
   "execution_count": 5,
   "id": "f2e7f2fd",
   "metadata": {},
   "outputs": [
    {
     "name": "stdout",
     "output_type": "stream",
     "text": [
      "Registro de Pacientes en Centro de Salud\n",
      "\n",
      "Total de pacientes registrados: 2\n",
      "Promedio de edad de los pacientes: 22.00 años\n",
      "Promedio de temperatura corporal: 37.83°C\n",
      "Pacientes con riesgo de fiebre alta:\n",
      "Zeus\n"
     ]
    }
   ],
   "source": [
    "main()"
   ]
  }
 ],
 "metadata": {
  "kernelspec": {
   "display_name": "Python 3",
   "language": "python",
   "name": "python3"
  },
  "language_info": {
   "codemirror_mode": {
    "name": "ipython",
    "version": 3
   },
   "file_extension": ".py",
   "mimetype": "text/x-python",
   "name": "python",
   "nbconvert_exporter": "python",
   "pygments_lexer": "ipython3",
   "version": "3.13.5"
  }
 },
 "nbformat": 4,
 "nbformat_minor": 5
}
