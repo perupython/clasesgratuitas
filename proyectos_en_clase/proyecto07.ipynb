{
 "cells": [
  {
   "cell_type": "markdown",
   "id": "cf1a0447",
   "metadata": {},
   "source": [
    "![Redes Sociales](../redes_sociales_pythonperu.png)"
   ]
  },
  {
   "cell_type": "markdown",
   "id": "ddb667a1",
   "metadata": {},
   "source": [
    "# **💡 Mini proyecto: Sistema de Gestión de Cuentas Bancarias**"
   ]
  },
  {
   "cell_type": "markdown",
   "id": "6a102d2d",
   "metadata": {},
   "source": [
    "- Imagina que estás creando un Sistema de Gestión de Cuentas Bancarias para un banco digital.\n",
    "- Cada cliente puede tener una cuenta de ahorro o una cuenta corriente.\n",
    "- Cada tipo de cuenta tiene reglas diferentes para retirar dinero."
   ]
  },
  {
   "cell_type": "markdown",
   "id": "a3559a57",
   "metadata": {},
   "source": [
    "1. **Crea una clase base `CuentaBancaria`**  \n",
    "   - **Atributos:**  \n",
    "     - `titular` (str)  \n",
    "     - `saldo` (float)\n",
    "   - **Métodos:**  \n",
    "     - `depositar(monto)`: suma dinero al saldo.  \n",
    "     - `retirar(monto)`: método abstracto (cada subclase define su lógica).  \n",
    "     - `mostrar_saldo()`: imprime el saldo actual.\n",
    "\n",
    "2. **Crea dos subclases que hereden de `CuentaBancaria`:**  \n",
    "   - **`CuentaAhorro`**: al retirar, solo permite retiro si el saldo es suficiente.  \n",
    "   - **`CuentaCorriente`**: permite sobregiro hasta un límite de -500.\n",
    "\n",
    "3. **Prueba:**  \n",
    "   - Crea un cliente que tenga una cuenta de ahorro y otra corriente.  \n",
    "   - Realiza depósitos, retiros válidos e inválidos.  \n",
    "   - Muestra los saldos finales."
   ]
  },
  {
   "cell_type": "code",
   "execution_count": null,
   "id": "e078bbab",
   "metadata": {},
   "outputs": [],
   "source": [
    "class CuentaBancaria:\n",
    "    # Metodo constructor\n",
    "    def __init__(self, titular, saldo = 0):\n",
    "        self.titular = titular\n",
    "        self.saldo = saldo\n",
    "    \n",
    "    def depositar(self, monto):\n",
    "        if monto > 0:\n",
    "            self.saldo += monto\n",
    "            print(f'Deposito exitoso: ${round(monto, 2)}')\n",
    "        else:\n",
    "            print('El monto a depositar debe ser positivo')\n",
    "    \n",
    "    def retirar(self, monto):\n",
    "        pass\n",
    "        \n",
    "    def mostrar_saldo(self):\n",
    "        print(f'Titular: {self.titular} | Saldo actual: ${round(self.saldo, 2)}')\n",
    "        \n",
    "class CuentaAhorro(CuentaBancaria):\n",
    "    def retirar(self, monto):\n",
    "        if monto <= 0:\n",
    "            print('El monto debe ser positivo')\n",
    "        elif monto > self.saldo:\n",
    "            print('Fondos insuficientes')\n",
    "        else:\n",
    "            self.saldo -= monto\n",
    "            print(f'Retiro exitoso: ${round(monto,2)}')   \n",
    "\n",
    "\n",
    "class CuentaCorriente(CuentaBancaria):\n",
    "    limite_sobregiro = -500\n",
    "    \n",
    "    def retirar(self, monto):\n",
    "\n",
    "        if monto <= 0:\n",
    "            print('El monto debe ser positivo')\n",
    "        elif (self.saldo - monto) < self.limite_sobregiro:\n",
    "            print('Excede el límite de sobregiro (-$500)')\n",
    "        else:\n",
    "            self.saldo -= monto\n",
    "            print(f'Retiro exitoso: ${round(monto,2)}')"
   ]
  },
  {
   "cell_type": "code",
   "execution_count": 2,
   "id": "7162de4c",
   "metadata": {},
   "outputs": [],
   "source": [
    "# Prueba\n",
    "# Crear ceuntas para el cliente Leonardo\n",
    "cuenta_ahorro = CuentaAhorro('Leonardo', 1000)\n",
    "cuenta_corriente = CuentaCorriente('Leonardo', 500)"
   ]
  },
  {
   "cell_type": "code",
   "execution_count": 5,
   "id": "8515b6fa",
   "metadata": {},
   "outputs": [
    {
     "name": "stdout",
     "output_type": "stream",
     "text": [
      "Cuenta de ahorro\n",
      "Deposito exitoso: $200\n",
      "Fondos insuficientes\n",
      "Retiro exitoso: $300\n",
      "Titular: Leonardo | Saldo actual: $900\n"
     ]
    }
   ],
   "source": [
    "print('Cuenta de ahorro')\n",
    "cuenta_ahorro.depositar(200)\n",
    "cuenta_ahorro.retirar(1500)\n",
    "cuenta_ahorro.retirar(300)\n",
    "cuenta_ahorro.mostrar_saldo()"
   ]
  },
  {
   "cell_type": "code",
   "execution_count": 6,
   "id": "a4adda7e",
   "metadata": {},
   "outputs": [
    {
     "name": "stdout",
     "output_type": "stream",
     "text": [
      "Cuenta Corriente\n",
      "Deposito exitoso: $400\n",
      "Retiro exitoso: $1000\n",
      "Excede el límite de sobgregiro (-$500)\n",
      "Titular: Leonardo | Saldo actual: $-100\n"
     ]
    }
   ],
   "source": [
    "print('Cuenta Corriente')\n",
    "cuenta_corriente.depositar(400)\n",
    "cuenta_corriente.retirar(1000)\n",
    "cuenta_corriente.retirar(800)\n",
    "cuenta_corriente.mostrar_saldo()"
   ]
  }
 ],
 "metadata": {
  "kernelspec": {
   "display_name": "Python 3",
   "language": "python",
   "name": "python3"
  },
  "language_info": {
   "codemirror_mode": {
    "name": "ipython",
    "version": 3
   },
   "file_extension": ".py",
   "mimetype": "text/x-python",
   "name": "python",
   "nbconvert_exporter": "python",
   "pygments_lexer": "ipython3",
   "version": "3.13.5"
  }
 },
 "nbformat": 4,
 "nbformat_minor": 5
}
