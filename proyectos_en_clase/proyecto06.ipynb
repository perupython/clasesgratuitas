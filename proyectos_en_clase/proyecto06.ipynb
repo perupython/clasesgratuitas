{
 "cells": [
  {
   "cell_type": "markdown",
   "id": "f4db1deb",
   "metadata": {},
   "source": [
    "![Redes Sociales](../redes_sociales_pythonperu.png)"
   ]
  },
  {
   "cell_type": "markdown",
   "id": "40fd3d82",
   "metadata": {},
   "source": [
    "# **💡 Mini proyecto robusto: Análisis de ventas por sucursal y categoría**"
   ]
  },
  {
   "cell_type": "markdown",
   "id": "f230fe5b",
   "metadata": {},
   "source": [
    "Simula que tienes el archivo ventas_sucursales.csv con datos de ventas de varias tiendas físicas y online.\n",
    "Cada fila es una venta individual.\n",
    "\n"
   ]
  },
  {
   "cell_type": "markdown",
   "id": "ae0752e5",
   "metadata": {},
   "source": [
    "📊 Estructura del dataset"
   ]
  },
  {
   "cell_type": "markdown",
   "id": "c870bd41",
   "metadata": {},
   "source": [
    "| Columna           | Descripción                                      |\n",
    "| ----------------- | ------------------------------------------------ |\n",
    "| `ID_Venta`        | Identificador único                              |\n",
    "| `Fecha`           | Fecha de la venta                                |\n",
    "| `Sucursal`        | Nombre de la sucursal                            |\n",
    "| `Categoria`       | Categoría del producto                           |\n",
    "| `Producto`        | Producto vendido                                 |\n",
    "| `Cantidad`        | Unidades vendidas                                |\n",
    "| `Precio_Unitario` | Precio por unidad                                |\n",
    "| `Total`           | Total de la venta (`Cantidad * Precio_Unitario`) |\n"
   ]
  },
  {
   "cell_type": "code",
   "execution_count": null,
   "id": "c8ab70c1",
   "metadata": {},
   "outputs": [],
   "source": [
    "import pandas as pd # manipulación de datos"
   ]
  },
  {
   "cell_type": "code",
   "execution_count": 2,
   "id": "829a424f",
   "metadata": {},
   "outputs": [],
   "source": [
    "# Lectura de datos\n",
    "df = pd.read_csv('ventas_sucursales.csv')"
   ]
  },
  {
   "cell_type": "code",
   "execution_count": 3,
   "id": "aba04423",
   "metadata": {},
   "outputs": [
    {
     "data": {
      "text/html": [
       "<div>\n",
       "<style scoped>\n",
       "    .dataframe tbody tr th:only-of-type {\n",
       "        vertical-align: middle;\n",
       "    }\n",
       "\n",
       "    .dataframe tbody tr th {\n",
       "        vertical-align: top;\n",
       "    }\n",
       "\n",
       "    .dataframe thead th {\n",
       "        text-align: right;\n",
       "    }\n",
       "</style>\n",
       "<table border=\"1\" class=\"dataframe\">\n",
       "  <thead>\n",
       "    <tr style=\"text-align: right;\">\n",
       "      <th></th>\n",
       "      <th>ID_Venta</th>\n",
       "      <th>Fecha</th>\n",
       "      <th>Sucursal</th>\n",
       "      <th>Categoria</th>\n",
       "      <th>Producto</th>\n",
       "      <th>Cantidad</th>\n",
       "      <th>Precio_Unitario</th>\n",
       "    </tr>\n",
       "  </thead>\n",
       "  <tbody>\n",
       "    <tr>\n",
       "      <th>0</th>\n",
       "      <td>1</td>\n",
       "      <td>2025-01-05</td>\n",
       "      <td>Centro</td>\n",
       "      <td>Laptops</td>\n",
       "      <td>HP Pavilion</td>\n",
       "      <td>1</td>\n",
       "      <td>750</td>\n",
       "    </tr>\n",
       "    <tr>\n",
       "      <th>1</th>\n",
       "      <td>2</td>\n",
       "      <td>2025-01-06</td>\n",
       "      <td>Centro</td>\n",
       "      <td>Accesorios</td>\n",
       "      <td>Mouse Logitech</td>\n",
       "      <td>2</td>\n",
       "      <td>25</td>\n",
       "    </tr>\n",
       "    <tr>\n",
       "      <th>2</th>\n",
       "      <td>3</td>\n",
       "      <td>2025-01-06</td>\n",
       "      <td>Norte</td>\n",
       "      <td>Telefonía</td>\n",
       "      <td>iPhone 14</td>\n",
       "      <td>1</td>\n",
       "      <td>1200</td>\n",
       "    </tr>\n",
       "    <tr>\n",
       "      <th>3</th>\n",
       "      <td>4</td>\n",
       "      <td>2025-01-07</td>\n",
       "      <td>Centro</td>\n",
       "      <td>Laptops</td>\n",
       "      <td>Dell Inspiron</td>\n",
       "      <td>1</td>\n",
       "      <td>680</td>\n",
       "    </tr>\n",
       "    <tr>\n",
       "      <th>4</th>\n",
       "      <td>5</td>\n",
       "      <td>2025-01-08</td>\n",
       "      <td>Sur</td>\n",
       "      <td>Telefonía</td>\n",
       "      <td>Samsung Galaxy S22</td>\n",
       "      <td>1</td>\n",
       "      <td>950</td>\n",
       "    </tr>\n",
       "  </tbody>\n",
       "</table>\n",
       "</div>"
      ],
      "text/plain": [
       "   ID_Venta       Fecha Sucursal   Categoria            Producto  Cantidad  \\\n",
       "0         1  2025-01-05   Centro     Laptops         HP Pavilion         1   \n",
       "1         2  2025-01-06   Centro  Accesorios      Mouse Logitech         2   \n",
       "2         3  2025-01-06    Norte   Telefonía           iPhone 14         1   \n",
       "3         4  2025-01-07   Centro     Laptops       Dell Inspiron         1   \n",
       "4         5  2025-01-08      Sur   Telefonía  Samsung Galaxy S22         1   \n",
       "\n",
       "   Precio_Unitario  \n",
       "0              750  \n",
       "1               25  \n",
       "2             1200  \n",
       "3              680  \n",
       "4              950  "
      ]
     },
     "execution_count": 3,
     "metadata": {},
     "output_type": "execute_result"
    }
   ],
   "source": [
    "# Visualización de mi tabla\n",
    "df.head()"
   ]
  },
  {
   "cell_type": "code",
   "execution_count": 4,
   "id": "2dcaba92",
   "metadata": {},
   "outputs": [
    {
     "data": {
      "text/plain": [
       "(50, 7)"
      ]
     },
     "execution_count": 4,
     "metadata": {},
     "output_type": "execute_result"
    }
   ],
   "source": [
    "# Ver las dimensiones\n",
    "df.shape"
   ]
  },
  {
   "cell_type": "code",
   "execution_count": 5,
   "id": "686af985",
   "metadata": {},
   "outputs": [
    {
     "name": "stdout",
     "output_type": "stream",
     "text": [
      "<class 'pandas.core.frame.DataFrame'>\n",
      "RangeIndex: 50 entries, 0 to 49\n",
      "Data columns (total 7 columns):\n",
      " #   Column           Non-Null Count  Dtype \n",
      "---  ------           --------------  ----- \n",
      " 0   ID_Venta         50 non-null     int64 \n",
      " 1   Fecha            50 non-null     object\n",
      " 2   Sucursal         50 non-null     object\n",
      " 3   Categoria        50 non-null     object\n",
      " 4   Producto         50 non-null     object\n",
      " 5   Cantidad         50 non-null     int64 \n",
      " 6   Precio_Unitario  50 non-null     int64 \n",
      "dtypes: int64(3), object(4)\n",
      "memory usage: 2.9+ KB\n"
     ]
    }
   ],
   "source": [
    "# Ver la información general\n",
    "df.info()"
   ]
  },
  {
   "cell_type": "code",
   "execution_count": 6,
   "id": "26f7c03c",
   "metadata": {},
   "outputs": [
    {
     "data": {
      "text/plain": [
       "ID_Venta           0\n",
       "Fecha              0\n",
       "Sucursal           0\n",
       "Categoria          0\n",
       "Producto           0\n",
       "Cantidad           0\n",
       "Precio_Unitario    0\n",
       "dtype: int64"
      ]
     },
     "execution_count": 6,
     "metadata": {},
     "output_type": "execute_result"
    }
   ],
   "source": [
    "df.isnull().sum()"
   ]
  },
  {
   "cell_type": "code",
   "execution_count": 9,
   "id": "aee53ecf",
   "metadata": {},
   "outputs": [
    {
     "data": {
      "text/plain": [
       "0     750\n",
       "1      25\n",
       "2    1200\n",
       "3     680\n",
       "4     950\n",
       "Name: Precio_Unitario, dtype: int64"
      ]
     },
     "execution_count": 9,
     "metadata": {},
     "output_type": "execute_result"
    }
   ],
   "source": [
    "# Selecciona una columna\n",
    "df['Precio_Unitario'].head()"
   ]
  },
  {
   "cell_type": "code",
   "execution_count": 10,
   "id": "feb76750",
   "metadata": {},
   "outputs": [],
   "source": [
    "# Agrega la columna Total\n",
    "df['Total'] = df['Precio_Unitario'] * df['Cantidad']"
   ]
  },
  {
   "cell_type": "code",
   "execution_count": 11,
   "id": "11ea5cfe",
   "metadata": {},
   "outputs": [
    {
     "data": {
      "text/html": [
       "<div>\n",
       "<style scoped>\n",
       "    .dataframe tbody tr th:only-of-type {\n",
       "        vertical-align: middle;\n",
       "    }\n",
       "\n",
       "    .dataframe tbody tr th {\n",
       "        vertical-align: top;\n",
       "    }\n",
       "\n",
       "    .dataframe thead th {\n",
       "        text-align: right;\n",
       "    }\n",
       "</style>\n",
       "<table border=\"1\" class=\"dataframe\">\n",
       "  <thead>\n",
       "    <tr style=\"text-align: right;\">\n",
       "      <th></th>\n",
       "      <th>ID_Venta</th>\n",
       "      <th>Fecha</th>\n",
       "      <th>Sucursal</th>\n",
       "      <th>Categoria</th>\n",
       "      <th>Producto</th>\n",
       "      <th>Cantidad</th>\n",
       "      <th>Precio_Unitario</th>\n",
       "      <th>Total</th>\n",
       "    </tr>\n",
       "  </thead>\n",
       "  <tbody>\n",
       "    <tr>\n",
       "      <th>0</th>\n",
       "      <td>1</td>\n",
       "      <td>2025-01-05</td>\n",
       "      <td>Centro</td>\n",
       "      <td>Laptops</td>\n",
       "      <td>HP Pavilion</td>\n",
       "      <td>1</td>\n",
       "      <td>750</td>\n",
       "      <td>750</td>\n",
       "    </tr>\n",
       "    <tr>\n",
       "      <th>1</th>\n",
       "      <td>2</td>\n",
       "      <td>2025-01-06</td>\n",
       "      <td>Centro</td>\n",
       "      <td>Accesorios</td>\n",
       "      <td>Mouse Logitech</td>\n",
       "      <td>2</td>\n",
       "      <td>25</td>\n",
       "      <td>50</td>\n",
       "    </tr>\n",
       "    <tr>\n",
       "      <th>2</th>\n",
       "      <td>3</td>\n",
       "      <td>2025-01-06</td>\n",
       "      <td>Norte</td>\n",
       "      <td>Telefonía</td>\n",
       "      <td>iPhone 14</td>\n",
       "      <td>1</td>\n",
       "      <td>1200</td>\n",
       "      <td>1200</td>\n",
       "    </tr>\n",
       "    <tr>\n",
       "      <th>3</th>\n",
       "      <td>4</td>\n",
       "      <td>2025-01-07</td>\n",
       "      <td>Centro</td>\n",
       "      <td>Laptops</td>\n",
       "      <td>Dell Inspiron</td>\n",
       "      <td>1</td>\n",
       "      <td>680</td>\n",
       "      <td>680</td>\n",
       "    </tr>\n",
       "    <tr>\n",
       "      <th>4</th>\n",
       "      <td>5</td>\n",
       "      <td>2025-01-08</td>\n",
       "      <td>Sur</td>\n",
       "      <td>Telefonía</td>\n",
       "      <td>Samsung Galaxy S22</td>\n",
       "      <td>1</td>\n",
       "      <td>950</td>\n",
       "      <td>950</td>\n",
       "    </tr>\n",
       "  </tbody>\n",
       "</table>\n",
       "</div>"
      ],
      "text/plain": [
       "   ID_Venta       Fecha Sucursal   Categoria            Producto  Cantidad  \\\n",
       "0         1  2025-01-05   Centro     Laptops         HP Pavilion         1   \n",
       "1         2  2025-01-06   Centro  Accesorios      Mouse Logitech         2   \n",
       "2         3  2025-01-06    Norte   Telefonía           iPhone 14         1   \n",
       "3         4  2025-01-07   Centro     Laptops       Dell Inspiron         1   \n",
       "4         5  2025-01-08      Sur   Telefonía  Samsung Galaxy S22         1   \n",
       "\n",
       "   Precio_Unitario  Total  \n",
       "0              750    750  \n",
       "1               25     50  \n",
       "2             1200   1200  \n",
       "3              680    680  \n",
       "4              950    950  "
      ]
     },
     "execution_count": 11,
     "metadata": {},
     "output_type": "execute_result"
    }
   ],
   "source": [
    "df.head()"
   ]
  },
  {
   "cell_type": "code",
   "execution_count": 12,
   "id": "7985886f",
   "metadata": {},
   "outputs": [],
   "source": [
    "# Las columnas manejarlo en la convencion snake_case\n",
    "df.columns = df.columns.str.strip().str.lower()"
   ]
  },
  {
   "cell_type": "code",
   "execution_count": 13,
   "id": "7a6c528b",
   "metadata": {},
   "outputs": [
    {
     "data": {
      "text/plain": [
       "Index(['id_venta', 'fecha', 'sucursal', 'categoria', 'producto', 'cantidad',\n",
       "       'precio_unitario', 'total'],\n",
       "      dtype='object')"
      ]
     },
     "execution_count": 13,
     "metadata": {},
     "output_type": "execute_result"
    }
   ],
   "source": [
    "df.columns"
   ]
  },
  {
   "cell_type": "markdown",
   "id": "a0223138",
   "metadata": {},
   "source": [
    "- Estadística General"
   ]
  },
  {
   "cell_type": "code",
   "execution_count": 18,
   "id": "360c65ef",
   "metadata": {},
   "outputs": [
    {
     "name": "stdout",
     "output_type": "stream",
     "text": [
      "Total General Vendido: S/26532\n"
     ]
    }
   ],
   "source": [
    "# Total vendido\n",
    "suma_total = df['total'].sum()\n",
    "print(f'Total General Vendido: S/{suma_total}')"
   ]
  },
  {
   "cell_type": "code",
   "execution_count": 21,
   "id": "7020bf9e",
   "metadata": {},
   "outputs": [
    {
     "data": {
      "text/plain": [
       "array(['Laptops', 'Accesorios', 'Telefonía'], dtype=object)"
      ]
     },
     "execution_count": 21,
     "metadata": {},
     "output_type": "execute_result"
    }
   ],
   "source": [
    "# Valores unicos de la columna Categoría\n",
    "df['categoria'].unique()"
   ]
  },
  {
   "cell_type": "code",
   "execution_count": 20,
   "id": "0970d7c0",
   "metadata": {},
   "outputs": [
    {
     "data": {
      "text/plain": [
       "array(['Centro', 'Norte', 'Sur', 'Online'], dtype=object)"
      ]
     },
     "execution_count": 20,
     "metadata": {},
     "output_type": "execute_result"
    }
   ],
   "source": [
    "# Valores únicos de la columna Sucursal\n",
    "df['sucursal'].unique()"
   ]
  },
  {
   "cell_type": "code",
   "execution_count": null,
   "id": "7b284b19",
   "metadata": {},
   "outputs": [
    {
     "data": {
      "text/html": [
       "<div>\n",
       "<style scoped>\n",
       "    .dataframe tbody tr th:only-of-type {\n",
       "        vertical-align: middle;\n",
       "    }\n",
       "\n",
       "    .dataframe tbody tr th {\n",
       "        vertical-align: top;\n",
       "    }\n",
       "\n",
       "    .dataframe thead th {\n",
       "        text-align: right;\n",
       "    }\n",
       "</style>\n",
       "<table border=\"1\" class=\"dataframe\">\n",
       "  <thead>\n",
       "    <tr style=\"text-align: right;\">\n",
       "      <th></th>\n",
       "      <th>sucursal</th>\n",
       "      <th>total</th>\n",
       "    </tr>\n",
       "  </thead>\n",
       "  <tbody>\n",
       "    <tr>\n",
       "      <th>0</th>\n",
       "      <td>Centro</td>\n",
       "      <td>448.400000</td>\n",
       "    </tr>\n",
       "    <tr>\n",
       "      <th>1</th>\n",
       "      <td>Norte</td>\n",
       "      <td>633.666667</td>\n",
       "    </tr>\n",
       "    <tr>\n",
       "      <th>2</th>\n",
       "      <td>Online</td>\n",
       "      <td>681.454545</td>\n",
       "    </tr>\n",
       "    <tr>\n",
       "      <th>3</th>\n",
       "      <td>Sur</td>\n",
       "      <td>392.166667</td>\n",
       "    </tr>\n",
       "  </tbody>\n",
       "</table>\n",
       "</div>"
      ],
      "text/plain": [
       "  sucursal       total\n",
       "0   Centro  448.400000\n",
       "1    Norte  633.666667\n",
       "2   Online  681.454545\n",
       "3      Sur  392.166667"
      ]
     },
     "execution_count": 25,
     "metadata": {},
     "output_type": "execute_result"
    }
   ],
   "source": [
    "# Venta promedio por sucursal\n",
    "df.groupby('sucursal')['total'].mean().reset_index()"
   ]
  },
  {
   "cell_type": "code",
   "execution_count": 26,
   "id": "95b57b59",
   "metadata": {},
   "outputs": [
    {
     "data": {
      "text/plain": [
       "<Axes: xlabel='sucursal'>"
      ]
     },
     "execution_count": 26,
     "metadata": {},
     "output_type": "execute_result"
    },
    {
     "data": {
      "image/png": "[encoded data removed]",
      "text/plain": [
       "<Figure size 640x480 with 1 Axes>"
      ]
     },
     "metadata": {},
     "output_type": "display_data"
    }
   ],
   "source": [
    "# Grafica de barras\n",
    "ventas_sucursal = df.groupby('sucursal')['total'].mean()\n",
    "\n",
    "ventas_sucursal.plot(kind = 'bar', color = 'orange')"
   ]
  },
  {
   "cell_type": "code",
   "execution_count": 28,
   "id": "fd3dc7fa",
   "metadata": {},
   "outputs": [
    {
     "data": {
      "text/plain": [
       "sucursal\n",
       "Online    681.454545\n",
       "Norte     633.666667\n",
       "Centro    448.400000\n",
       "Sur       392.166667\n",
       "Name: total, dtype: float64"
      ]
     },
     "execution_count": 28,
     "metadata": {},
     "output_type": "execute_result"
    }
   ],
   "source": [
    "df.groupby('sucursal')['total'].mean().sort_values(ascending = False)"
   ]
  },
  {
   "cell_type": "code",
   "execution_count": 30,
   "id": "32795e6e",
   "metadata": {},
   "outputs": [
    {
     "data": {
      "text/plain": [
       "categoria\n",
       "Accesorios    44\n",
       "Telefonía     21\n",
       "Laptops       17\n",
       "Name: cantidad, dtype: int64"
      ]
     },
     "execution_count": 30,
     "metadata": {},
     "output_type": "execute_result"
    }
   ],
   "source": [
    "# Categoría más vendida\n",
    "df.groupby('categoria')['cantidad'].sum().sort_values(ascending=False)"
   ]
  },
  {
   "cell_type": "code",
   "execution_count": 31,
   "id": "7e37ffd1",
   "metadata": {},
   "outputs": [
    {
     "data": {
      "text/plain": [
       "<Axes: xlabel='categoria'>"
      ]
     },
     "execution_count": 31,
     "metadata": {},
     "output_type": "execute_result"
    },
    {
     "data": {
      "image/png": "[encoded data removed]",
      "text/plain": [
       "<Figure size 640x480 with 1 Axes>"
      ]
     },
     "metadata": {},
     "output_type": "display_data"
    }
   ],
   "source": [
    "categoria_cantidad = df.groupby('categoria')['cantidad'].sum()\n",
    "categoria_cantidad.plot(kind = 'bar', color ='red')"
   ]
  },
  {
   "cell_type": "code",
   "execution_count": 32,
   "id": "15203cff",
   "metadata": {},
   "outputs": [],
   "source": [
    "# Convertir las fechas (datetime)\n",
    "df['fecha'] = pd.to_datetime(df['fecha'])"
   ]
  },
  {
   "cell_type": "code",
   "execution_count": 33,
   "id": "64be1e90",
   "metadata": {},
   "outputs": [
    {
     "name": "stdout",
     "output_type": "stream",
     "text": [
      "<class 'pandas.core.frame.DataFrame'>\n",
      "RangeIndex: 50 entries, 0 to 49\n",
      "Data columns (total 8 columns):\n",
      " #   Column           Non-Null Count  Dtype         \n",
      "---  ------           --------------  -----         \n",
      " 0   id_venta         50 non-null     int64         \n",
      " 1   fecha            50 non-null     datetime64[ns]\n",
      " 2   sucursal         50 non-null     object        \n",
      " 3   categoria        50 non-null     object        \n",
      " 4   producto         50 non-null     object        \n",
      " 5   cantidad         50 non-null     int64         \n",
      " 6   precio_unitario  50 non-null     int64         \n",
      " 7   total            50 non-null     int64         \n",
      "dtypes: datetime64[ns](1), int64(4), object(3)\n",
      "memory usage: 3.3+ KB\n"
     ]
    }
   ],
   "source": [
    "df.info()"
   ]
  },
  {
   "cell_type": "code",
   "execution_count": 34,
   "id": "f85fe8c2",
   "metadata": {},
   "outputs": [
    {
     "data": {
      "text/html": [
       "<div>\n",
       "<style scoped>\n",
       "    .dataframe tbody tr th:only-of-type {\n",
       "        vertical-align: middle;\n",
       "    }\n",
       "\n",
       "    .dataframe tbody tr th {\n",
       "        vertical-align: top;\n",
       "    }\n",
       "\n",
       "    .dataframe thead th {\n",
       "        text-align: right;\n",
       "    }\n",
       "</style>\n",
       "<table border=\"1\" class=\"dataframe\">\n",
       "  <thead>\n",
       "    <tr style=\"text-align: right;\">\n",
       "      <th></th>\n",
       "      <th>id_venta</th>\n",
       "      <th>fecha</th>\n",
       "      <th>sucursal</th>\n",
       "      <th>categoria</th>\n",
       "      <th>producto</th>\n",
       "      <th>cantidad</th>\n",
       "      <th>precio_unitario</th>\n",
       "      <th>total</th>\n",
       "    </tr>\n",
       "  </thead>\n",
       "  <tbody>\n",
       "    <tr>\n",
       "      <th>0</th>\n",
       "      <td>1</td>\n",
       "      <td>2025-01-05</td>\n",
       "      <td>Centro</td>\n",
       "      <td>Laptops</td>\n",
       "      <td>HP Pavilion</td>\n",
       "      <td>1</td>\n",
       "      <td>750</td>\n",
       "      <td>750</td>\n",
       "    </tr>\n",
       "    <tr>\n",
       "      <th>1</th>\n",
       "      <td>2</td>\n",
       "      <td>2025-01-06</td>\n",
       "      <td>Centro</td>\n",
       "      <td>Accesorios</td>\n",
       "      <td>Mouse Logitech</td>\n",
       "      <td>2</td>\n",
       "      <td>25</td>\n",
       "      <td>50</td>\n",
       "    </tr>\n",
       "    <tr>\n",
       "      <th>2</th>\n",
       "      <td>3</td>\n",
       "      <td>2025-01-06</td>\n",
       "      <td>Norte</td>\n",
       "      <td>Telefonía</td>\n",
       "      <td>iPhone 14</td>\n",
       "      <td>1</td>\n",
       "      <td>1200</td>\n",
       "      <td>1200</td>\n",
       "    </tr>\n",
       "    <tr>\n",
       "      <th>3</th>\n",
       "      <td>4</td>\n",
       "      <td>2025-01-07</td>\n",
       "      <td>Centro</td>\n",
       "      <td>Laptops</td>\n",
       "      <td>Dell Inspiron</td>\n",
       "      <td>1</td>\n",
       "      <td>680</td>\n",
       "      <td>680</td>\n",
       "    </tr>\n",
       "    <tr>\n",
       "      <th>4</th>\n",
       "      <td>5</td>\n",
       "      <td>2025-01-08</td>\n",
       "      <td>Sur</td>\n",
       "      <td>Telefonía</td>\n",
       "      <td>Samsung Galaxy S22</td>\n",
       "      <td>1</td>\n",
       "      <td>950</td>\n",
       "      <td>950</td>\n",
       "    </tr>\n",
       "  </tbody>\n",
       "</table>\n",
       "</div>"
      ],
      "text/plain": [
       "   id_venta      fecha sucursal   categoria            producto  cantidad  \\\n",
       "0         1 2025-01-05   Centro     Laptops         HP Pavilion         1   \n",
       "1         2 2025-01-06   Centro  Accesorios      Mouse Logitech         2   \n",
       "2         3 2025-01-06    Norte   Telefonía           iPhone 14         1   \n",
       "3         4 2025-01-07   Centro     Laptops       Dell Inspiron         1   \n",
       "4         5 2025-01-08      Sur   Telefonía  Samsung Galaxy S22         1   \n",
       "\n",
       "   precio_unitario  total  \n",
       "0              750    750  \n",
       "1               25     50  \n",
       "2             1200   1200  \n",
       "3              680    680  \n",
       "4              950    950  "
      ]
     },
     "execution_count": 34,
     "metadata": {},
     "output_type": "execute_result"
    }
   ],
   "source": [
    "df.head()"
   ]
  },
  {
   "cell_type": "code",
   "execution_count": 36,
   "id": "ddd17b87",
   "metadata": {},
   "outputs": [
    {
     "data": {
      "text/plain": [
       "0   2025-01-05\n",
       "1   2025-01-06\n",
       "2   2025-01-06\n",
       "3   2025-01-07\n",
       "4   2025-01-08\n",
       "Name: fecha, dtype: datetime64[ns]"
      ]
     },
     "execution_count": 36,
     "metadata": {},
     "output_type": "execute_result"
    }
   ],
   "source": [
    "df['fecha'].head()"
   ]
  },
  {
   "cell_type": "code",
   "execution_count": 44,
   "id": "f24deebc",
   "metadata": {},
   "outputs": [
    {
     "data": {
      "text/html": [
       "<div>\n",
       "<style scoped>\n",
       "    .dataframe tbody tr th:only-of-type {\n",
       "        vertical-align: middle;\n",
       "    }\n",
       "\n",
       "    .dataframe tbody tr th {\n",
       "        vertical-align: top;\n",
       "    }\n",
       "\n",
       "    .dataframe thead th {\n",
       "        text-align: right;\n",
       "    }\n",
       "</style>\n",
       "<table border=\"1\" class=\"dataframe\">\n",
       "  <thead>\n",
       "    <tr style=\"text-align: right;\">\n",
       "      <th></th>\n",
       "      <th>id_venta</th>\n",
       "      <th>fecha</th>\n",
       "      <th>sucursal</th>\n",
       "      <th>categoria</th>\n",
       "      <th>producto</th>\n",
       "      <th>cantidad</th>\n",
       "      <th>precio_unitario</th>\n",
       "      <th>total</th>\n",
       "      <th>mes</th>\n",
       "    </tr>\n",
       "  </thead>\n",
       "  <tbody>\n",
       "    <tr>\n",
       "      <th>0</th>\n",
       "      <td>1</td>\n",
       "      <td>2025-01-05</td>\n",
       "      <td>Centro</td>\n",
       "      <td>Laptops</td>\n",
       "      <td>HP Pavilion</td>\n",
       "      <td>1</td>\n",
       "      <td>750</td>\n",
       "      <td>750</td>\n",
       "      <td>2025-01</td>\n",
       "    </tr>\n",
       "    <tr>\n",
       "      <th>1</th>\n",
       "      <td>2</td>\n",
       "      <td>2025-01-06</td>\n",
       "      <td>Centro</td>\n",
       "      <td>Accesorios</td>\n",
       "      <td>Mouse Logitech</td>\n",
       "      <td>2</td>\n",
       "      <td>25</td>\n",
       "      <td>50</td>\n",
       "      <td>2025-01</td>\n",
       "    </tr>\n",
       "    <tr>\n",
       "      <th>2</th>\n",
       "      <td>3</td>\n",
       "      <td>2025-01-06</td>\n",
       "      <td>Norte</td>\n",
       "      <td>Telefonía</td>\n",
       "      <td>iPhone 14</td>\n",
       "      <td>1</td>\n",
       "      <td>1200</td>\n",
       "      <td>1200</td>\n",
       "      <td>2025-01</td>\n",
       "    </tr>\n",
       "    <tr>\n",
       "      <th>3</th>\n",
       "      <td>4</td>\n",
       "      <td>2025-01-07</td>\n",
       "      <td>Centro</td>\n",
       "      <td>Laptops</td>\n",
       "      <td>Dell Inspiron</td>\n",
       "      <td>1</td>\n",
       "      <td>680</td>\n",
       "      <td>680</td>\n",
       "      <td>2025-01</td>\n",
       "    </tr>\n",
       "    <tr>\n",
       "      <th>4</th>\n",
       "      <td>5</td>\n",
       "      <td>2025-01-08</td>\n",
       "      <td>Sur</td>\n",
       "      <td>Telefonía</td>\n",
       "      <td>Samsung Galaxy S22</td>\n",
       "      <td>1</td>\n",
       "      <td>950</td>\n",
       "      <td>950</td>\n",
       "      <td>2025-01</td>\n",
       "    </tr>\n",
       "  </tbody>\n",
       "</table>\n",
       "</div>"
      ],
      "text/plain": [
       "   id_venta      fecha sucursal   categoria            producto  cantidad  \\\n",
       "0         1 2025-01-05   Centro     Laptops         HP Pavilion         1   \n",
       "1         2 2025-01-06   Centro  Accesorios      Mouse Logitech         2   \n",
       "2         3 2025-01-06    Norte   Telefonía           iPhone 14         1   \n",
       "3         4 2025-01-07   Centro     Laptops       Dell Inspiron         1   \n",
       "4         5 2025-01-08      Sur   Telefonía  Samsung Galaxy S22         1   \n",
       "\n",
       "   precio_unitario  total      mes  \n",
       "0              750    750  2025-01  \n",
       "1               25     50  2025-01  \n",
       "2             1200   1200  2025-01  \n",
       "3              680    680  2025-01  \n",
       "4              950    950  2025-01  "
      ]
     },
     "execution_count": 44,
     "metadata": {},
     "output_type": "execute_result"
    }
   ],
   "source": [
    "df.head()"
   ]
  },
  {
   "cell_type": "code",
   "execution_count": 43,
   "id": "59925aad",
   "metadata": {},
   "outputs": [],
   "source": [
    "# Evolución de ventas por mes\n",
    "df['mes'] = df['fecha'].dt.to_period('M')\n"
   ]
  },
  {
   "cell_type": "code",
   "execution_count": 45,
   "id": "c3c53ee0",
   "metadata": {},
   "outputs": [
    {
     "data": {
      "text/plain": [
       "mes\n",
       "2025-01    17651\n",
       "2025-02     8881\n",
       "Freq: M, Name: total, dtype: int64"
      ]
     },
     "execution_count": 45,
     "metadata": {},
     "output_type": "execute_result"
    }
   ],
   "source": [
    "df.groupby('mes')['total'].sum()"
   ]
  },
  {
   "cell_type": "code",
   "execution_count": 46,
   "id": "17926afc",
   "metadata": {},
   "outputs": [
    {
     "data": {
      "text/plain": [
       "<Axes: xlabel='mes'>"
      ]
     },
     "execution_count": 46,
     "metadata": {},
     "output_type": "execute_result"
    },
    {
     "data": {
      "image/png": "[encoded data removed]",
      "text/plain": [
       "<Figure size 640x480 with 1 Axes>"
      ]
     },
     "metadata": {},
     "output_type": "display_data"
    }
   ],
   "source": [
    "ventas_mes = df.groupby('mes')['total'].sum()\n",
    "ventas_mes.plot(kind = 'line')"
   ]
  },
  {
   "cell_type": "code",
   "execution_count": 47,
   "id": "834d95b1",
   "metadata": {},
   "outputs": [
    {
     "data": {
      "text/html": [
       "<div>\n",
       "<style scoped>\n",
       "    .dataframe tbody tr th:only-of-type {\n",
       "        vertical-align: middle;\n",
       "    }\n",
       "\n",
       "    .dataframe tbody tr th {\n",
       "        vertical-align: top;\n",
       "    }\n",
       "\n",
       "    .dataframe thead th {\n",
       "        text-align: right;\n",
       "    }\n",
       "</style>\n",
       "<table border=\"1\" class=\"dataframe\">\n",
       "  <thead>\n",
       "    <tr style=\"text-align: right;\">\n",
       "      <th></th>\n",
       "      <th>id_venta</th>\n",
       "      <th>fecha</th>\n",
       "      <th>sucursal</th>\n",
       "      <th>categoria</th>\n",
       "      <th>producto</th>\n",
       "      <th>cantidad</th>\n",
       "      <th>precio_unitario</th>\n",
       "      <th>total</th>\n",
       "      <th>mes</th>\n",
       "    </tr>\n",
       "  </thead>\n",
       "  <tbody>\n",
       "    <tr>\n",
       "      <th>0</th>\n",
       "      <td>1</td>\n",
       "      <td>2025-01-05</td>\n",
       "      <td>Centro</td>\n",
       "      <td>Laptops</td>\n",
       "      <td>HP Pavilion</td>\n",
       "      <td>1</td>\n",
       "      <td>750</td>\n",
       "      <td>750</td>\n",
       "      <td>2025-01</td>\n",
       "    </tr>\n",
       "    <tr>\n",
       "      <th>1</th>\n",
       "      <td>2</td>\n",
       "      <td>2025-01-06</td>\n",
       "      <td>Centro</td>\n",
       "      <td>Accesorios</td>\n",
       "      <td>Mouse Logitech</td>\n",
       "      <td>2</td>\n",
       "      <td>25</td>\n",
       "      <td>50</td>\n",
       "      <td>2025-01</td>\n",
       "    </tr>\n",
       "    <tr>\n",
       "      <th>2</th>\n",
       "      <td>3</td>\n",
       "      <td>2025-01-06</td>\n",
       "      <td>Norte</td>\n",
       "      <td>Telefonía</td>\n",
       "      <td>iPhone 14</td>\n",
       "      <td>1</td>\n",
       "      <td>1200</td>\n",
       "      <td>1200</td>\n",
       "      <td>2025-01</td>\n",
       "    </tr>\n",
       "    <tr>\n",
       "      <th>3</th>\n",
       "      <td>4</td>\n",
       "      <td>2025-01-07</td>\n",
       "      <td>Centro</td>\n",
       "      <td>Laptops</td>\n",
       "      <td>Dell Inspiron</td>\n",
       "      <td>1</td>\n",
       "      <td>680</td>\n",
       "      <td>680</td>\n",
       "      <td>2025-01</td>\n",
       "    </tr>\n",
       "    <tr>\n",
       "      <th>4</th>\n",
       "      <td>5</td>\n",
       "      <td>2025-01-08</td>\n",
       "      <td>Sur</td>\n",
       "      <td>Telefonía</td>\n",
       "      <td>Samsung Galaxy S22</td>\n",
       "      <td>1</td>\n",
       "      <td>950</td>\n",
       "      <td>950</td>\n",
       "      <td>2025-01</td>\n",
       "    </tr>\n",
       "  </tbody>\n",
       "</table>\n",
       "</div>"
      ],
      "text/plain": [
       "   id_venta      fecha sucursal   categoria            producto  cantidad  \\\n",
       "0         1 2025-01-05   Centro     Laptops         HP Pavilion         1   \n",
       "1         2 2025-01-06   Centro  Accesorios      Mouse Logitech         2   \n",
       "2         3 2025-01-06    Norte   Telefonía           iPhone 14         1   \n",
       "3         4 2025-01-07   Centro     Laptops       Dell Inspiron         1   \n",
       "4         5 2025-01-08      Sur   Telefonía  Samsung Galaxy S22         1   \n",
       "\n",
       "   precio_unitario  total      mes  \n",
       "0              750    750  2025-01  \n",
       "1               25     50  2025-01  \n",
       "2             1200   1200  2025-01  \n",
       "3              680    680  2025-01  \n",
       "4              950    950  2025-01  "
      ]
     },
     "execution_count": 47,
     "metadata": {},
     "output_type": "execute_result"
    }
   ],
   "source": [
    "df.head()"
   ]
  },
  {
   "cell_type": "code",
   "execution_count": 48,
   "id": "bd9920a1",
   "metadata": {},
   "outputs": [
    {
     "data": {
      "text/html": [
       "<div>\n",
       "<style scoped>\n",
       "    .dataframe tbody tr th:only-of-type {\n",
       "        vertical-align: middle;\n",
       "    }\n",
       "\n",
       "    .dataframe tbody tr th {\n",
       "        vertical-align: top;\n",
       "    }\n",
       "\n",
       "    .dataframe thead th {\n",
       "        text-align: right;\n",
       "    }\n",
       "</style>\n",
       "<table border=\"1\" class=\"dataframe\">\n",
       "  <thead>\n",
       "    <tr style=\"text-align: right;\">\n",
       "      <th></th>\n",
       "      <th>sucursal</th>\n",
       "      <th>total</th>\n",
       "    </tr>\n",
       "  </thead>\n",
       "  <tbody>\n",
       "    <tr>\n",
       "      <th>0</th>\n",
       "      <td>Centro</td>\n",
       "      <td>6726</td>\n",
       "    </tr>\n",
       "    <tr>\n",
       "      <th>1</th>\n",
       "      <td>Norte</td>\n",
       "      <td>7604</td>\n",
       "    </tr>\n",
       "    <tr>\n",
       "      <th>2</th>\n",
       "      <td>Online</td>\n",
       "      <td>7496</td>\n",
       "    </tr>\n",
       "    <tr>\n",
       "      <th>3</th>\n",
       "      <td>Sur</td>\n",
       "      <td>4706</td>\n",
       "    </tr>\n",
       "  </tbody>\n",
       "</table>\n",
       "</div>"
      ],
      "text/plain": [
       "  sucursal  total\n",
       "0   Centro   6726\n",
       "1    Norte   7604\n",
       "2   Online   7496\n",
       "3      Sur   4706"
      ]
     },
     "execution_count": 48,
     "metadata": {},
     "output_type": "execute_result"
    }
   ],
   "source": [
    "# Guardar los resultados\n",
    "resumen = df.groupby('sucursal')['total'].sum().reset_index()\n",
    "resumen.head()"
   ]
  },
  {
   "cell_type": "code",
   "execution_count": 49,
   "id": "a3449a68",
   "metadata": {},
   "outputs": [],
   "source": [
    "resumen.to_csv('resumen_ventas_sucursal.csv', index = False)"
   ]
  },
  {
   "cell_type": "code",
   "execution_count": 50,
   "id": "63bf1062",
   "metadata": {},
   "outputs": [],
   "source": [
    "df.to_csv('bdd_ventas_sucursal.csv', index=False)"
   ]
  }
 ],
 "metadata": {
  "kernelspec": {
   "display_name": "Python 3",
   "language": "python",
   "name": "python3"
  },
  "language_info": {
   "codemirror_mode": {
    "name": "ipython",
    "version": 3
   },
   "file_extension": ".py",
   "mimetype": "text/x-python",
   "name": "python",
   "nbconvert_exporter": "python",
   "pygments_lexer": "ipython3",
   "version": "3.13.4"
  }
 },
 "nbformat": 4,
 "nbformat_minor": 5
}
