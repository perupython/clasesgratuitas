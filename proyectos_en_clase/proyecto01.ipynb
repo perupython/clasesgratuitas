{
 "cells": [
  {
   "cell_type": "markdown",
   "id": "e69ec834",
   "metadata": {},
   "source": [
    "![Redes Sociales](../redes_sociales_pythonperu.png)"
   ]
  },
  {
   "cell_type": "markdown",
   "id": "d753018c",
   "metadata": {},
   "source": [
    "### 🧪 Mini Proyecto: Registro de Encuesta de Satisfacción de Clientes"
   ]
  },
  {
   "cell_type": "markdown",
   "id": "cb8ac7b9",
   "metadata": {},
   "source": [
    "Una tienda desea registrar las opiniones de los clientes sobre su servicio. Se recoge el nombre del cliente, su edad y una calificación del servicio de 1 a 5.  \n",
    "\n",
    "Luego, se calcula:\n",
    "\n",
    "- Cuántos clientes participaron\n",
    "\n",
    "- Promedio de edad\n",
    "\n",
    "- Promedio de calificación\n",
    "\n",
    "- Lista de clientes satisfechos (calificación ≥ 4)"
   ]
  },
  {
   "cell_type": "markdown",
   "id": "11a88834",
   "metadata": {},
   "source": [
    "- Estructura del proyecto: \n",
    "\n",
    "    - diccionarios: almacenan información de cada cliente\n",
    "    - bucles while: registro interactivo de múltiples personas\n",
    "    - bucles for: recorrido para cálculos agregados\n",
    "    - condicionales: Recorrido para cálculos agregados\n",
    "    - operaciones: cálculo promedios y conteo"
   ]
  },
  {
   "cell_type": "markdown",
   "id": "47323b0f",
   "metadata": {},
   "source": [
    "### **Fase 01: Registro de datos**\n",
    "- Una lista para guardar los clientes\n",
    "- Un diccionario para guardar los datos de cada cliente\n",
    "- Un bucle while para ingresar los multiples clientes\n",
    "- Pregunta: ¿Desea ingresar otro cliente?"
   ]
  },
  {
   "cell_type": "markdown",
   "id": "8e602d2c",
   "metadata": {},
   "source": [
    "### **Fase 02: Validación de datos**\n",
    "- Verificar la calificación si está entre 1 y 5\n",
    "- Así evitaremos datos incorrectos\n"
   ]
  },
  {
   "cell_type": "markdown",
   "id": "cf3a267c",
   "metadata": {},
   "source": [
    "### **Fase 03: Almacenamiento**\n",
    "-  Agregar cada cliente(dict) a clientes(list)"
   ]
  },
  {
   "cell_type": "markdown",
   "id": "52b699d6",
   "metadata": {},
   "source": [
    "### **Fase 04: Procesamiento de datos**\n",
    "- Usar variables para recorrer las estructuras\n",
    "- Realizar los cálculos solicitados"
   ]
  },
  {
   "cell_type": "markdown",
   "id": "ffe30702",
   "metadata": {},
   "source": [
    "### **Fase 05: Resultado finales**\n",
    "- Imprimir los resultados"
   ]
  },
  {
   "cell_type": "code",
   "execution_count": 4,
   "id": "1399761e",
   "metadata": {},
   "outputs": [
    {
     "name": "stdout",
     "output_type": "stream",
     "text": [
      "Bienvenido a la encuesta de satisfacción del cliente\n",
      "\n",
      "Total de clientes encuestados: 7\n",
      "Promedio de calificaciones: 4.21\n",
      "Promedio de edades: 23.71\n",
      "Clientes satisfechos: Leonardo, Kaike, Rafael, Tiago, Carlos\n",
      "Gracias por participar en la encuesta.\n"
     ]
    }
   ],
   "source": [
    "# Lista para almacenar los datos de los clientes\n",
    "clientes = []\n",
    "\n",
    "print('Bienvenido a la encuesta de satisfacción del cliente')\n",
    "# Iniciamos un bucle para ingresar datos de clientes\n",
    "while True:\n",
    "    cliente = {}\n",
    "    # Solicitamos los datos del cliente\n",
    "    cliente['nombre'] = input('Ingrese su nombre: ')\n",
    "    cliente['edad'] = int(input('Ingrese su edad: '))\n",
    "    \n",
    "    # Validamos que la edad sea un número positivo\n",
    "    while True:\n",
    "        calificacion = float(input('Califique nuestro servicio del 1 al 5: '))\n",
    "        # Validamos que la calificación esté entre 1 y 5\n",
    "        if (1 <= calificacion <= 5):\n",
    "            cliente['calificacion'] = calificacion\n",
    "            break\n",
    "        else:\n",
    "            print('Calificación inválida. Debe ser un número entre 1 y 5.')\n",
    "    # Agregamos el cliente a la lista\n",
    "    clientes.append(cliente)\n",
    "    # Deseas continuar?\n",
    "    continuar = input('¿Desea ingresar otro cliente? (s/n): ')\n",
    "    if continuar.lower() != 's':\n",
    "        break\n",
    "\n",
    "# Procesamos los datos\n",
    "total_clientes = len(clientes)\n",
    "suma_calificaciones = suma_edades = 0\n",
    "clientes_satisfechos = []\n",
    "\n",
    "for cliente in clientes:\n",
    "    suma_edades += cliente['edad']\n",
    "    suma_calificaciones += cliente['calificacion']\n",
    "    \n",
    "    if (cliente['calificacion'] >= 4):\n",
    "        clientes_satisfechos.append(cliente['nombre'])\n",
    "\n",
    "# Calculamos el promedio de calificaciones\n",
    "\n",
    "# if (total_clientes > 0):\n",
    "#     promedio_calificaciones = suma_calificaciones / total_clientes\n",
    "# else:\n",
    "#     promedio_calificaciones = 0\n",
    "\n",
    "# if (total_clientes > 0):\n",
    "#     promedio_edad = suma_edades / total_clientes\n",
    "# else:\n",
    "#     promedio_edad = 0\n",
    "\n",
    "# Operador ternario para calcular el promedio de calificaciones\n",
    "promedio_calificaciones = suma_calificaciones / total_clientes if total_clientes > 0 else 0\n",
    "promedio_edades = suma_edades / total_clientes if total_clientes > 0 else 0\n",
    "\n",
    "# Mostramos los resultados\n",
    "print(f'\\nTotal de clientes encuestados: {total_clientes}')\n",
    "print(f'Promedio de calificaciones: {promedio_calificaciones:.2f}')\n",
    "print(f'Promedio de edades: {promedio_edades:.2f}')\n",
    "print('Clientes satisfechos:', ', '.join(clientes_satisfechos) if clientes_satisfechos else 'Ninguno')\n",
    "print('Gracias por participar en la encuesta.')"
   ]
  },
  {
   "cell_type": "code",
   "execution_count": 5,
   "id": "ed8fb7d1",
   "metadata": {},
   "outputs": [
    {
     "data": {
      "text/plain": [
       "[{'nombre': 'Leonardo', 'edad': 10, 'calificacion': 4.6},\n",
       " {'nombre': 'Kaike', 'edad': 26, 'calificacion': 4.0},\n",
       " {'nombre': 'Rafael', 'edad': 30, 'calificacion': 4.6},\n",
       " {'nombre': 'Tiago', 'edad': 34, 'calificacion': 4.2},\n",
       " {'nombre': 'Santy', 'edad': 13, 'calificacion': 3.4},\n",
       " {'nombre': 'Carlos', 'edad': 35, 'calificacion': 4.9},\n",
       " {'nombre': 'Freddy', 'edad': 18, 'calificacion': 3.8}]"
      ]
     },
     "execution_count": 5,
     "metadata": {},
     "output_type": "execute_result"
    }
   ],
   "source": [
    "clientes"
   ]
  },
  {
   "cell_type": "code",
   "execution_count": 7,
   "id": "224dd3f8",
   "metadata": {},
   "outputs": [],
   "source": [
    "import pandas as pd"
   ]
  },
  {
   "cell_type": "code",
   "execution_count": 8,
   "id": "a1dce5f2",
   "metadata": {},
   "outputs": [],
   "source": [
    "df = pd.DataFrame(clientes)"
   ]
  },
  {
   "cell_type": "code",
   "execution_count": 9,
   "id": "0cfe3fd2",
   "metadata": {},
   "outputs": [
    {
     "data": {
      "text/html": [
       "<div>\n",
       "<style scoped>\n",
       "    .dataframe tbody tr th:only-of-type {\n",
       "        vertical-align: middle;\n",
       "    }\n",
       "\n",
       "    .dataframe tbody tr th {\n",
       "        vertical-align: top;\n",
       "    }\n",
       "\n",
       "    .dataframe thead th {\n",
       "        text-align: right;\n",
       "    }\n",
       "</style>\n",
       "<table border=\"1\" class=\"dataframe\">\n",
       "  <thead>\n",
       "    <tr style=\"text-align: right;\">\n",
       "      <th></th>\n",
       "      <th>nombre</th>\n",
       "      <th>edad</th>\n",
       "      <th>calificacion</th>\n",
       "    </tr>\n",
       "  </thead>\n",
       "  <tbody>\n",
       "    <tr>\n",
       "      <th>0</th>\n",
       "      <td>Leonardo</td>\n",
       "      <td>10</td>\n",
       "      <td>4.6</td>\n",
       "    </tr>\n",
       "    <tr>\n",
       "      <th>1</th>\n",
       "      <td>Kaike</td>\n",
       "      <td>26</td>\n",
       "      <td>4.0</td>\n",
       "    </tr>\n",
       "    <tr>\n",
       "      <th>2</th>\n",
       "      <td>Rafael</td>\n",
       "      <td>30</td>\n",
       "      <td>4.6</td>\n",
       "    </tr>\n",
       "    <tr>\n",
       "      <th>3</th>\n",
       "      <td>Tiago</td>\n",
       "      <td>34</td>\n",
       "      <td>4.2</td>\n",
       "    </tr>\n",
       "    <tr>\n",
       "      <th>4</th>\n",
       "      <td>Santy</td>\n",
       "      <td>13</td>\n",
       "      <td>3.4</td>\n",
       "    </tr>\n",
       "  </tbody>\n",
       "</table>\n",
       "</div>"
      ],
      "text/plain": [
       "     nombre  edad  calificacion\n",
       "0  Leonardo    10           4.6\n",
       "1     Kaike    26           4.0\n",
       "2    Rafael    30           4.6\n",
       "3     Tiago    34           4.2\n",
       "4     Santy    13           3.4"
      ]
     },
     "execution_count": 9,
     "metadata": {},
     "output_type": "execute_result"
    }
   ],
   "source": [
    "df.head()"
   ]
  },
  {
   "cell_type": "code",
   "execution_count": 11,
   "id": "14c70847",
   "metadata": {},
   "outputs": [
    {
     "data": {
      "text/html": [
       "<div>\n",
       "<style scoped>\n",
       "    .dataframe tbody tr th:only-of-type {\n",
       "        vertical-align: middle;\n",
       "    }\n",
       "\n",
       "    .dataframe tbody tr th {\n",
       "        vertical-align: top;\n",
       "    }\n",
       "\n",
       "    .dataframe thead th {\n",
       "        text-align: right;\n",
       "    }\n",
       "</style>\n",
       "<table border=\"1\" class=\"dataframe\">\n",
       "  <thead>\n",
       "    <tr style=\"text-align: right;\">\n",
       "      <th></th>\n",
       "      <th>nombre</th>\n",
       "      <th>edad</th>\n",
       "      <th>calificacion</th>\n",
       "    </tr>\n",
       "  </thead>\n",
       "  <tbody>\n",
       "    <tr>\n",
       "      <th>1</th>\n",
       "      <td>Kaike</td>\n",
       "      <td>26</td>\n",
       "      <td>4.0</td>\n",
       "    </tr>\n",
       "    <tr>\n",
       "      <th>2</th>\n",
       "      <td>Rafael</td>\n",
       "      <td>30</td>\n",
       "      <td>4.6</td>\n",
       "    </tr>\n",
       "    <tr>\n",
       "      <th>3</th>\n",
       "      <td>Tiago</td>\n",
       "      <td>34</td>\n",
       "      <td>4.2</td>\n",
       "    </tr>\n",
       "    <tr>\n",
       "      <th>5</th>\n",
       "      <td>Carlos</td>\n",
       "      <td>35</td>\n",
       "      <td>4.9</td>\n",
       "    </tr>\n",
       "  </tbody>\n",
       "</table>\n",
       "</div>"
      ],
      "text/plain": [
       "   nombre  edad  calificacion\n",
       "1   Kaike    26           4.0\n",
       "2  Rafael    30           4.6\n",
       "3   Tiago    34           4.2\n",
       "5  Carlos    35           4.9"
      ]
     },
     "execution_count": 11,
     "metadata": {},
     "output_type": "execute_result"
    }
   ],
   "source": [
    "df[(df['calificacion'] >= 4) & (df['edad']>= 25)]"
   ]
  }
 ],
 "metadata": {
  "kernelspec": {
   "display_name": "Python 3",
   "language": "python",
   "name": "python3"
  },
  "language_info": {
   "codemirror_mode": {
    "name": "ipython",
    "version": 3
   },
   "file_extension": ".py",
   "mimetype": "text/x-python",
   "name": "python",
   "nbconvert_exporter": "python",
   "pygments_lexer": "ipython3",
   "version": "3.13.5"
  }
 },
 "nbformat": 4,
 "nbformat_minor": 5
}
