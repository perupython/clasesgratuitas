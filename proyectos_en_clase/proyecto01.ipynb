{
 "cells": [
  {
   "cell_type": "markdown",
   "id": "e69ec834",
   "metadata": {},
   "source": [
    "![Redes Sociales](../redes_sociales_pythonperu.png)"
   ]
  },
  {
   "cell_type": "markdown",
   "id": "d753018c",
   "metadata": {},
   "source": [
    "### 🧪 Mini Proyecto: Registro de Encuesta de Satisfacción de Clientes"
   ]
  },
  {
   "cell_type": "markdown",
   "id": "cb8ac7b9",
   "metadata": {},
   "source": [
    "Una tienda desea registrar las opiniones de los clientes sobre su servicio. Se recoge el nombre del cliente, su edad y una calificación del servicio de 1 a 5.  \n",
    "\n",
    "Luego, se calcula:\n",
    "\n",
    "- Cuántos clientes participaron\n",
    "\n",
    "- Promedio de edad\n",
    "\n",
    "- Promedio de calificación\n",
    "\n",
    "- Lista de clientes satisfechos (calificación ≥ 4)"
   ]
  },
  {
   "cell_type": "markdown",
   "id": "11a88834",
   "metadata": {},
   "source": [
    "- Estructura del proyecto: \n",
    "\n",
    "    - diccionarios: almacenan información de cada cliente\n",
    "    - bucles while: registro interactivo de múltiples personas\n",
    "    - bucles for: recorrido para cálculos agregados\n",
    "    - condicionales: Recorrido para cálculos agregados\n",
    "    - operaciones: cálculo promedios y conteo"
   ]
  },
  {
   "cell_type": "markdown",
   "id": "8e247822",
   "metadata": {},
   "source": []
  }
 ],
 "metadata": {
  "language_info": {
   "name": "python"
  }
 },
 "nbformat": 4,
 "nbformat_minor": 5
}
