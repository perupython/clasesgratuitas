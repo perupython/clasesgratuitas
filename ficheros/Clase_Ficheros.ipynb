{
 "cells": [
  {
   "cell_type": "markdown",
   "id": "855f7927",
   "metadata": {},
   "source": [
    "# **Ficheros**"
   ]
  },
  {
   "cell_type": "markdown",
   "id": "23bb432c",
   "metadata": {},
   "source": [
    "Un fichero (o archivo) es una colección de datos almacenados en disco. Puede ser texto (.txt), datos (.csv, .json), binarios (.jpg, .exe), entre otros."
   ]
  },
  {
   "cell_type": "markdown",
   "id": "8f5d1232",
   "metadata": {},
   "source": [
    "Hay tres modos de apertura de un fichero:\n",
    "\n",
    "- Lectura.\n",
    "- Escritura.\n",
    "- Añadido."
   ]
  },
  {
   "cell_type": "markdown",
   "id": "709693b8",
   "metadata": {},
   "source": [
    "📌 Leer un archivo"
   ]
  },
  {
   "cell_type": "code",
   "execution_count": 11,
   "id": "8e51265f",
   "metadata": {},
   "outputs": [],
   "source": [
    "f = open('temps.dat', 'r')"
   ]
  },
  {
   "cell_type": "markdown",
   "id": "c524ab9a",
   "metadata": {},
   "source": [
    "Este objeto almacena, entre otras cosas, la ruta al fichero, el modo de apertura y la codificación:"
   ]
  },
  {
   "cell_type": "code",
   "execution_count": 12,
   "id": "efbb8527",
   "metadata": {},
   "outputs": [
    {
     "data": {
      "text/plain": [
       "<_io.TextIOWrapper name='temps.dat' mode='r' encoding='cp1252'>"
      ]
     },
     "execution_count": 12,
     "metadata": {},
     "output_type": "execute_result"
    }
   ],
   "source": [
    "f"
   ]
  },
  {
   "cell_type": "markdown",
   "id": "ab145db1",
   "metadata": {},
   "source": [
    "Hay que tener en cuenta que la ruta al fichero que abrimos (en modo lectura) debe existir, ya que de lo contrario obtendremos un error:"
   ]
  },
  {
   "cell_type": "markdown",
   "id": "d661b6ab",
   "metadata": {},
   "source": [
    "📌 Lectura completa"
   ]
  },
  {
   "cell_type": "markdown",
   "id": "76d2ec5c",
   "metadata": {},
   "source": [
    "Devuelve todo el contenido del fichero como una única cadena de texto:"
   ]
  },
  {
   "cell_type": "code",
   "execution_count": null,
   "id": "fdb17014",
   "metadata": {},
   "outputs": [
    {
     "data": {
      "text/plain": [
       "'23 29\\n23 31\\n26 34\\n23 33\\n22 29\\n22 28\\n22 28'"
      ]
     },
     "execution_count": 13,
     "metadata": {},
     "output_type": "execute_result"
    }
   ],
   "source": [
    "f.read()"
   ]
  },
  {
   "cell_type": "markdown",
   "id": "75986287",
   "metadata": {},
   "source": [
    "Devuelve todo el contenido del fichero como una lista donde cada elemento de la lista representa una línea del fichero:"
   ]
  },
  {
   "cell_type": "code",
   "execution_count": 15,
   "id": "c81a1557",
   "metadata": {},
   "outputs": [
    {
     "data": {
      "text/plain": [
       "['23 29\\n', '23 31\\n', '26 34\\n', '23 33\\n', '22 29\\n', '22 28\\n', '22 28']"
      ]
     },
     "execution_count": 15,
     "metadata": {},
     "output_type": "execute_result"
    }
   ],
   "source": [
    "f = open('temps.dat', 'r')\n",
    "f.readlines()"
   ]
  },
  {
   "cell_type": "markdown",
   "id": "b1b661fd",
   "metadata": {},
   "source": [
    "📌 Lectura línea a línea"
   ]
  },
  {
   "cell_type": "markdown",
   "id": "4d4665fc",
   "metadata": {},
   "source": [
    "Si intentamos leer completamente este fichero de sola una vez podríamos ocupar demasiada RAM y reducir el rendimiento de nuestra máquina."
   ]
  },
  {
   "cell_type": "code",
   "execution_count": 18,
   "id": "c739e9ef",
   "metadata": {},
   "outputs": [
    {
     "name": "stdout",
     "output_type": "stream",
     "text": [
      "23 29\n",
      "\n",
      "23 31\n",
      "\n",
      "26 34\n",
      "\n",
      "23 33\n",
      "\n",
      "22 29\n",
      "\n",
      "22 28\n",
      "\n",
      "22 28\n"
     ]
    }
   ],
   "source": [
    "f = open('temps.dat')\n",
    "\n",
    "for line in f:\n",
    "    print(line)"
   ]
  },
  {
   "cell_type": "code",
   "execution_count": null,
   "id": "3514bcfb",
   "metadata": {},
   "outputs": [
    {
     "name": "stdout",
     "output_type": "stream",
     "text": [
      "D1: 23 29\n",
      "D2: 23 31\n",
      "D3: 26 34\n",
      "D4: 23 33\n",
      "D5: 22 29\n",
      "D6: 22 28\n",
      "D7: 22 28\n"
     ]
    }
   ],
   "source": [
    "# Enumerando lineas\n",
    "f = open('temps.dat')\n",
    "\n",
    "for line_no, line in enumerate(f, start=1):\n",
    "    print(f'D{line_no}: {line.strip()}')"
   ]
  },
  {
   "cell_type": "code",
   "execution_count": null,
   "id": "c8e0a167",
   "metadata": {},
   "outputs": [
    {
     "data": {
      "text/plain": [
       "'23 29\\n'"
      ]
     },
     "execution_count": 23,
     "metadata": {},
     "output_type": "execute_result"
    }
   ],
   "source": [
    "# Lectura de una línea\n",
    "f = open('temps.dat')\n",
    "f.readline()"
   ]
  },
  {
   "cell_type": "markdown",
   "id": "0b6c8abf",
   "metadata": {},
   "source": [
    "Es importante señalar que cuando utilizamos la función readline() el puntero de lectura se deplaza a la siguiente línea del fichero"
   ]
  },
  {
   "cell_type": "markdown",
   "id": "8318e5b5",
   "metadata": {},
   "source": [
    "📌 Lectura de un archivo"
   ]
  },
  {
   "cell_type": "code",
   "execution_count": null,
   "id": "ba448ee6",
   "metadata": {},
   "outputs": [],
   "source": [
    "# Modo escritura 'w'\n",
    "f = open('temps.dat', 'w')\n",
    "\n",
    "temps = (\n",
    "  (23, 29),\n",
    "  (23, 31),\n",
    "  (26, 34),\n",
    "  (23, 33),\n",
    "  (22, 29),\n",
    "  (22, 28),\n",
    "  (22, 28),\n",
    ")\n",
    "\n",
    "for min_temp, max_temp in temps:\n",
    "    f.write(f'{min_temp} {max_temp}\\n')\n",
    "\n",
    "f.close()"
   ]
  },
  {
   "cell_type": "markdown",
   "id": "28908a0e",
   "metadata": {},
   "source": [
    "📌 Mejor práctica: usar with  \n",
    "✅ El bloque with cierra el archivo automáticamente al salir del bloque."
   ]
  },
  {
   "cell_type": "code",
   "execution_count": 27,
   "id": "3b36b2cd",
   "metadata": {},
   "outputs": [],
   "source": [
    "with open('temps.dat', 'w') as f:\n",
    "    for min_temp, max_temp in temps:\n",
    "        f.write(f'{min_temp} {max_temp}\\n')"
   ]
  },
  {
   "cell_type": "markdown",
   "id": "81e89937",
   "metadata": {},
   "source": [
    "📌 Procesar datos estructurados (tipo CSV simple)"
   ]
  },
  {
   "cell_type": "code",
   "execution_count": 29,
   "id": "2454bff5",
   "metadata": {},
   "outputs": [
    {
     "name": "stdout",
     "output_type": "stream",
     "text": [
      "{'leche': 2, 'pan': 7}\n"
     ]
    }
   ],
   "source": [
    "ventas = {}\n",
    "\n",
    "with open('ventas.txt', 'r') as f:\n",
    "    for line in f:\n",
    "        producto, cantidad = line.strip().split(',')\n",
    "        ventas[producto] = ventas.get(producto, 0) + int(cantidad)\n",
    "    \n",
    "print(ventas)"
   ]
  }
 ],
 "metadata": {
  "kernelspec": {
   "display_name": "Python 3",
   "language": "python",
   "name": "python3"
  },
  "language_info": {
   "codemirror_mode": {
    "name": "ipython",
    "version": 3
   },
   "file_extension": ".py",
   "mimetype": "text/x-python",
   "name": "python",
   "nbconvert_exporter": "python",
   "pygments_lexer": "ipython3",
   "version": "3.13.4"
  }
 },
 "nbformat": 4,
 "nbformat_minor": 5
}
