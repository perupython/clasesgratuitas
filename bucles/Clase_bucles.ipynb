{
 "cells": [
  {
   "cell_type": "markdown",
   "id": "be9b7d18",
   "metadata": {},
   "source": [
    "# **BUCLES EN PYTHON (FOR & WHILE)**"
   ]
  },
  {
   "cell_type": "markdown",
   "id": "0bdaf8e6",
   "metadata": {},
   "source": [
    "📌 1. ¿QUÉ ES UN BUCLE?\n",
    "- Un bucle permite ejecutar un bloque de código varias veces. Sirve para repetir tareas de forma automática hasta que se cumpla una condición o se recorra una secuencia de datos."
   ]
  },
  {
   "cell_type": "markdown",
   "id": "fe53d651",
   "metadata": {},
   "source": [
    "📌 2. BUCLE for\n"
   ]
  },
  {
   "cell_type": "markdown",
   "id": "435656c7",
   "metadata": {},
   "source": [
    "🔹 ¿Cómo funciona?\n",
    "- El bucle for se utiliza para recorrer elementos de una secuencia (como una lista, string, tupla, o range)"
   ]
  },
  {
   "cell_type": "markdown",
   "id": "8a000277",
   "metadata": {},
   "source": [
    "🧪 Sintaxis"
   ]
  },
  {
   "cell_type": "code",
   "execution_count": null,
   "id": "1a5794c3",
   "metadata": {},
   "outputs": [],
   "source": [
    "# for iterador in iterable:\n",
    "    # bloque de código"
   ]
  },
  {
   "cell_type": "code",
   "execution_count": null,
   "id": "9bd400a4",
   "metadata": {},
   "outputs": [],
   "source": [
    "# [1, 2, 3, 4, 5]\n",
    "# iterador = 1\n",
    "# iterador = 2\n",
    "# .........\n",
    "# iterador = 5"
   ]
  },
  {
   "cell_type": "code",
   "execution_count": null,
   "id": "ff82548a",
   "metadata": {},
   "outputs": [],
   "source": [
    "# iterable: conjunto de datos\n",
    "# iterador: variable que recorre al iterable\n",
    "# iterar: recorrer un iterable"
   ]
  },
  {
   "cell_type": "markdown",
   "id": "5dc263bb",
   "metadata": {},
   "source": [
    "🔍 Ejemplos básicos"
   ]
  },
  {
   "cell_type": "code",
   "execution_count": null,
   "id": "19a01a23",
   "metadata": {},
   "outputs": [
    {
     "name": "stdout",
     "output_type": "stream",
     "text": [
      "Repeticion: 1\n",
      "Repeticion: 2\n",
      "Repeticion: 3\n",
      "Repeticion: 4\n",
      "Repeticion: 5\n"
     ]
    }
   ],
   "source": [
    "for i in range(5): # [0, 1, 2, 3, 4] -> i = 0, i = 1, ..., i = 4\n",
    "    print(f'Repeticion: {i + 1}')"
   ]
  },
  {
   "cell_type": "code",
   "execution_count": 3,
   "id": "018a1cc8",
   "metadata": {},
   "outputs": [
    {
     "name": "stdout",
     "output_type": "stream",
     "text": [
      "1\n",
      "2\n",
      "3\n",
      "4\n",
      "5\n"
     ]
    }
   ],
   "source": [
    "for numero in range(1, 6): # range(inicio, final + 1, paso)\n",
    "    print(numero)"
   ]
  },
  {
   "cell_type": "code",
   "execution_count": null,
   "id": "ff24f381",
   "metadata": {},
   "outputs": [
    {
     "name": "stdout",
     "output_type": "stream",
     "text": [
      "2\n",
      "4\n",
      "6\n",
      "8\n",
      "10\n",
      "12\n",
      "14\n",
      "16\n",
      "18\n"
     ]
    }
   ],
   "source": [
    "# Bucle for para numeros pares\n",
    "for numero in range(2, 20, 2): # range(inicio, final + 1, paso)\n",
    "    print(numero)"
   ]
  },
  {
   "cell_type": "code",
   "execution_count": null,
   "id": "5380e22e",
   "metadata": {},
   "outputs": [
    {
     "name": "stdout",
     "output_type": "stream",
     "text": [
      "1\n",
      "3\n",
      "5\n",
      "7\n",
      "9\n",
      "11\n",
      "13\n",
      "15\n",
      "17\n",
      "19\n"
     ]
    }
   ],
   "source": [
    "# Bucle for para numeros impares\n",
    "for numero in range(1, 20, 2): # range(inicio, final + 1, paso)\n",
    "    print(numero)"
   ]
  },
  {
   "cell_type": "code",
   "execution_count": null,
   "id": "03af1c03",
   "metadata": {},
   "outputs": [
    {
     "name": "stdout",
     "output_type": "stream",
     "text": [
      "h\n",
      "o\n",
      "l\n",
      "a\n",
      " \n",
      "m\n",
      "u\n",
      "n\n",
      "d\n",
      "o\n"
     ]
    }
   ],
   "source": [
    "# Bucle for para un string\n",
    "for letra in 'hola mundo':\n",
    "    print(letra)"
   ]
  },
  {
   "cell_type": "code",
   "execution_count": 7,
   "id": "7dab06d9",
   "metadata": {},
   "outputs": [
    {
     "name": "stdout",
     "output_type": "stream",
     "text": [
      "1\n",
      "2\n",
      "3\n",
      "4\n"
     ]
    }
   ],
   "source": [
    "# Bucle for para una tupla\n",
    "for element in (1, 2, 3, 4):\n",
    "    print(element)"
   ]
  },
  {
   "cell_type": "code",
   "execution_count": 8,
   "id": "628e6e42",
   "metadata": {},
   "outputs": [
    {
     "name": "stdout",
     "output_type": "stream",
     "text": [
      "manzana\n",
      "pera\n",
      "uva\n"
     ]
    }
   ],
   "source": [
    "# Bucle for para una lista\n",
    "frutas = ['manzana', 'pera', 'uva']\n",
    "for fruta in frutas:\n",
    "    print(fruta)"
   ]
  },
  {
   "cell_type": "code",
   "execution_count": null,
   "id": "a6218e3b",
   "metadata": {},
   "outputs": [
    {
     "name": "stdout",
     "output_type": "stream",
     "text": [
      "nombre: Leonardo\n",
      "edad: 20\n",
      "carrera: Matematica\n"
     ]
    }
   ],
   "source": [
    "# Bucle for para un diccionario (clave:valor)\n",
    "# {'nombre': 'leonardo', 'edad': 20, 'carrera': 'matematica'}\n",
    "alumno = dict(nombre = 'Leonardo',\n",
    "              edad = 20,\n",
    "              carrera = 'Matematica')\n",
    "\n",
    "for clave, valor in alumno.items():\n",
    "    print(f'{clave}: {valor}')"
   ]
  },
  {
   "cell_type": "markdown",
   "id": "f041e92d",
   "metadata": {},
   "source": [
    "📌 3. BUCLE while"
   ]
  },
  {
   "cell_type": "markdown",
   "id": "b7df4943",
   "metadata": {},
   "source": [
    "🔹 ¿Cómo funciona?\n",
    "- while repite un bloque de código mientras se cumpla una condición."
   ]
  },
  {
   "cell_type": "markdown",
   "id": "37e21526",
   "metadata": {},
   "source": [
    "🧪 Sintaxis"
   ]
  },
  {
   "cell_type": "code",
   "execution_count": null,
   "id": "fd042fae",
   "metadata": {},
   "outputs": [],
   "source": [
    "# while condicion:\n",
    "    # bloque de código"
   ]
  },
  {
   "cell_type": "markdown",
   "id": "1247df68",
   "metadata": {},
   "source": [
    "🔍 Ejemplo básico"
   ]
  },
  {
   "cell_type": "code",
   "execution_count": null,
   "id": "b95a93c3",
   "metadata": {},
   "outputs": [],
   "source": [
    "contador = 0\n",
    "\n",
    "while (contador < 5): # True\n",
    "    print(f'Contador: {contador}')\n",
    "\n",
    "# ¿Bucle finito o infinito?\n",
    "# - Bucle infinito porque el contador siempre es 0"
   ]
  },
  {
   "cell_type": "code",
   "execution_count": 18,
   "id": "cbc4dd12",
   "metadata": {},
   "outputs": [
    {
     "name": "stdout",
     "output_type": "stream",
     "text": [
      "Contador: 0\n",
      "Contador: 1\n",
      "Contador: 2\n",
      "Contador: 3\n",
      "Contador: 4\n"
     ]
    }
   ],
   "source": [
    "contador = 0\n",
    "\n",
    "while (contador < 5): # True\n",
    "    print(f'Contador: {contador}')\n",
    "    contador += 1\n",
    "    \n",
    "# ¿Bucle finito o infinito?\n",
    "# - Bucle finito porque el contador se esta sumando +1"
   ]
  },
  {
   "cell_type": "markdown",
   "id": "26d3cc1d",
   "metadata": {},
   "source": [
    "📌 4. FUNCIONES range(), enumerate(), break, continue"
   ]
  },
  {
   "cell_type": "markdown",
   "id": "f743b66e",
   "metadata": {},
   "source": [
    "🔹 range(inicio, fin, paso)"
   ]
  },
  {
   "cell_type": "code",
   "execution_count": 20,
   "id": "6ada21ee",
   "metadata": {},
   "outputs": [
    {
     "name": "stdout",
     "output_type": "stream",
     "text": [
      "1\n",
      "2\n",
      "3\n",
      "4\n",
      "5\n",
      "6\n",
      "7\n",
      "8\n",
      "9\n",
      "10\n",
      "11\n",
      "12\n",
      "13\n",
      "14\n",
      "15\n",
      "16\n",
      "17\n",
      "18\n",
      "19\n",
      "20\n"
     ]
    }
   ],
   "source": [
    "# Crear numeros enteros desde 1 al 20.\n",
    "for i in range(1, 21):\n",
    "    print(i)"
   ]
  },
  {
   "cell_type": "code",
   "execution_count": 19,
   "id": "611d0091",
   "metadata": {},
   "outputs": [
    {
     "name": "stdout",
     "output_type": "stream",
     "text": [
      "3\n",
      "4\n",
      "5\n",
      "6\n",
      "7\n",
      "8\n",
      "9\n",
      "10\n",
      "11\n",
      "12\n",
      "13\n",
      "14\n"
     ]
    }
   ],
   "source": [
    "# Crear numero enteros desde 3 al 14.\n",
    "for i in range(3, 15):\n",
    "    print(i)"
   ]
  },
  {
   "cell_type": "markdown",
   "id": "4132c690",
   "metadata": {},
   "source": [
    "🔹 enumerate() para índices"
   ]
  },
  {
   "cell_type": "code",
   "execution_count": 25,
   "id": "bf203d44",
   "metadata": {},
   "outputs": [
    {
     "name": "stdout",
     "output_type": "stream",
     "text": [
      "0 Ana\n",
      "1 Luis\n",
      "2 Mario\n",
      "3 Joan\n",
      "4 Sandra\n",
      "5 Shirley\n"
     ]
    }
   ],
   "source": [
    "nombres = ['Ana', 'Luis', 'Mario', 'Joan', 'Sandra', 'Shirley']\n",
    "for indice, nombre in enumerate(nombres):\n",
    "    print(indice, nombre)"
   ]
  },
  {
   "cell_type": "markdown",
   "id": "9fbb70b7",
   "metadata": {},
   "source": [
    "🔹 break y continue"
   ]
  },
  {
   "cell_type": "code",
   "execution_count": null,
   "id": "bb8f0a85",
   "metadata": {},
   "outputs": [],
   "source": [
    "for i in range(10): # (0 al 09)\n",
    "    if (i == 5):\n",
    "        break # Rompe el bucle\n",
    "    \n",
    "    print(i)"
   ]
  },
  {
   "cell_type": "code",
   "execution_count": null,
   "id": "31d54581",
   "metadata": {},
   "outputs": [],
   "source": [
    "for i in range(10):\n",
    "    if (i % 2 == 0):\n",
    "        continue # salte a la siguiente iteracion\n",
    "    print(i)"
   ]
  },
  {
   "cell_type": "markdown",
   "id": "6e8ef7d3",
   "metadata": {},
   "source": [
    "📌 5. CASOS REALES CON BUCLES"
   ]
  },
  {
   "cell_type": "markdown",
   "id": "c7c12ed3",
   "metadata": {},
   "source": [
    "✅ Recorrer una lista de ventas"
   ]
  },
  {
   "cell_type": "code",
   "execution_count": 27,
   "id": "8d023d98",
   "metadata": {},
   "outputs": [
    {
     "name": "stdout",
     "output_type": "stream",
     "text": [
      "Venta destacada: 1000\n",
      "Venta destacada: 1500\n",
      "Venta baja: 700\n",
      "Venta destacada: 2000\n"
     ]
    }
   ],
   "source": [
    "ventas = [1000, 1500, 700, 2000]\n",
    "\n",
    "for venta in ventas:\n",
    "    if venta >= 1000:\n",
    "        print(f'Venta destacada: {venta}')\n",
    "    else:\n",
    "        print(f'Venta baja: {venta}')"
   ]
  },
  {
   "cell_type": "markdown",
   "id": "8edd19c2",
   "metadata": {},
   "source": [
    "✅ Automatizar ingreso de datos"
   ]
  },
  {
   "cell_type": "code",
   "execution_count": 30,
   "id": "69a0ab2d",
   "metadata": {},
   "outputs": [
    {
     "name": "stdout",
     "output_type": "stream",
     "text": [
      "['carpeta', 'plumon', 'pizarra']\n"
     ]
    }
   ],
   "source": [
    "datos = []\n",
    "\n",
    "for i in range(3):\n",
    "    valor = input(f'Ingrese el dato {i+1}')\n",
    "    datos.append(valor)\n",
    "\n",
    "print(datos)"
   ]
  },
  {
   "cell_type": "markdown",
   "id": "cbad3231",
   "metadata": {},
   "source": [
    "✅ Validar input con while"
   ]
  },
  {
   "cell_type": "code",
   "execution_count": 32,
   "id": "604f9cfa",
   "metadata": {},
   "outputs": [],
   "source": [
    "respuesta = ''\n",
    "while (respuesta != 'si'):\n",
    "    respuesta = input('¿Desea continuar? (si/no)').lower()"
   ]
  },
  {
   "cell_type": "markdown",
   "id": "6fe845d5",
   "metadata": {},
   "source": [
    "📌 6. EJERCICIOS PRÁCTICOS CON SOLUCIÓN"
   ]
  },
  {
   "cell_type": "markdown",
   "id": "d815a3b8",
   "metadata": {},
   "source": [
    "🟢 Nivel Básico"
   ]
  },
  {
   "cell_type": "code",
   "execution_count": null,
   "id": "3e727701",
   "metadata": {},
   "outputs": [],
   "source": [
    "# 1. Mostrar los números del 1 al 10\n",
    "for i in range(1, 11):\n",
    "    print(i)"
   ]
  },
  {
   "cell_type": "code",
   "execution_count": 33,
   "id": "2dac4cf1",
   "metadata": {},
   "outputs": [
    {
     "name": "stdout",
     "output_type": "stream",
     "text": [
      "Suma: 5050\n"
     ]
    }
   ],
   "source": [
    "# 2. Sumar los números del 1 al 100\n",
    "suma = 0\n",
    "for i in range(1, 101):\n",
    "    suma += i\n",
    "\n",
    "print(f'Suma: {suma}')"
   ]
  },
  {
   "cell_type": "code",
   "execution_count": 34,
   "id": "7182b66f",
   "metadata": {},
   "outputs": [
    {
     "name": "stdout",
     "output_type": "stream",
     "text": [
      "Bienvenido al curso de Python\n",
      "Bienvenido al curso de Python\n",
      "Bienvenido al curso de Python\n",
      "Bienvenido al curso de Python\n",
      "Bienvenido al curso de Python\n"
     ]
    }
   ],
   "source": [
    "# 3. Repetir un mensaje 5 veces\n",
    "for _ in range(5):\n",
    "    print('Bienvenido al curso de Python')"
   ]
  },
  {
   "cell_type": "code",
   "execution_count": 38,
   "id": "91060331",
   "metadata": {},
   "outputs": [
    {
     "name": "stdout",
     "output_type": "stream",
     "text": [
      "Clave incorrecta, intento: 1\n",
      "Clave incorrecta, intento: 2\n",
      "Acceso concedido en el intento 3\n"
     ]
    }
   ],
   "source": [
    "# 4. Validar contraseña hasta 3 intentos\n",
    "intentos = 0\n",
    "clave_correcta = 'pyhont123'\n",
    "\n",
    "while intentos < 3:\n",
    "    clave = input('Ingrese la contraseña: ')\n",
    "    if clave == clave_correcta:\n",
    "        print(f'Acceso concedido en el intento {intentos+1}')\n",
    "        break\n",
    "    else:\n",
    "        print(f'Clave incorrecta, intento: {intentos + 1}')\n",
    "        intentos += 1"
   ]
  },
  {
   "cell_type": "code",
   "execution_count": null,
   "id": "80f221dc",
   "metadata": {},
   "outputs": [
    {
     "name": "stdout",
     "output_type": "stream",
     "text": [
      "Venta alta: 550\n",
      "Venta alta: 1200\n",
      "Venta alta: 900\n"
     ]
    }
   ],
   "source": [
    "# 5. Mostrar elementos mayores a 500 en una lista\n",
    "ventas = [ 450, 550, 1200, 900, 300]\n",
    "\n",
    "for venta in ventas:\n",
    "    if venta > 500:\n",
    "        print(f'Venta alta: {venta}')"
   ]
  },
  {
   "cell_type": "code",
   "execution_count": null,
   "id": "e7a6d6eb",
   "metadata": {},
   "outputs": [
    {
     "name": "stdout",
     "output_type": "stream",
     "text": [
      "10\n",
      "9\n",
      "8\n",
      "7\n",
      "6\n",
      "5\n"
     ]
    }
   ],
   "source": [
    "# 6. Contador regresivo\n",
    "contador = 10\n",
    "while (contador >= 5):\n",
    "    print(contador)\n",
    "    contador -= 1"
   ]
  },
  {
   "cell_type": "code",
   "execution_count": 51,
   "id": "a4e1738f",
   "metadata": {},
   "outputs": [
    {
     "name": "stdout",
     "output_type": "stream",
     "text": [
      "Ingreso actual: 300, Total: 300\n",
      "Ingreso actual: 500, Total: 800\n",
      "Ingreso actual: 600, Total: 1400\n",
      "Ingreso actual: 1000, Total: 2400\n",
      "Meta alcanzada\n"
     ]
    }
   ],
   "source": [
    "# 7. Simular ingresos hasta alcanzar un objetivo\n",
    "ingresos = [300, 500, 600, 1000, 900]\n",
    "meta = 2000\n",
    "total = 0\n",
    "\n",
    "for ingreso in ingresos:\n",
    "    total += ingreso\n",
    "    print(f'Ingreso actual: {ingreso}, Total: {total}')\n",
    "    if total >= meta:\n",
    "        print('Meta alcanzada')\n",
    "        break\n"
   ]
  },
  {
   "cell_type": "code",
   "execution_count": 52,
   "id": "af5c1515",
   "metadata": {},
   "outputs": [
    {
     "name": "stdout",
     "output_type": "stream",
     "text": [
      "El primer múltiplo de 7 mayor que 100 es 105\n"
     ]
    }
   ],
   "source": [
    "# 8. Encuentra el primer múltiplo de 7 mayor que 100\n",
    "numero = 101\n",
    "\n",
    "while (numero % 7 != 0):\n",
    "    numero += 1\n",
    "\n",
    "print(f'El primer múltiplo de 7 mayor que 100 es {numero}')"
   ]
  },
  {
   "cell_type": "code",
   "execution_count": 53,
   "id": "d7d0a151",
   "metadata": {},
   "outputs": [
    {
     "name": "stdout",
     "output_type": "stream",
     "text": [
      "El primer múltiplo de 7 mayor que 100 es 105\n"
     ]
    }
   ],
   "source": [
    "numero = 101\n",
    "\n",
    "while True:\n",
    "    if numero % 7 == 0:\n",
    "        print(f'El primer múltiplo de 7 mayor que 100 es {numero}')\n",
    "        break\n",
    "    numero += 1"
   ]
  }
 ],
 "metadata": {
  "kernelspec": {
   "display_name": "Python 3",
   "language": "python",
   "name": "python3"
  },
  "language_info": {
   "codemirror_mode": {
    "name": "ipython",
    "version": 3
   },
   "file_extension": ".py",
   "mimetype": "text/x-python",
   "name": "python",
   "nbconvert_exporter": "python",
   "pygments_lexer": "ipython3",
   "version": "3.13.4"
  }
 },
 "nbformat": 4,
 "nbformat_minor": 5
}
