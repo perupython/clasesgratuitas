{
 "cells": [
  {
   "cell_type": "markdown",
   "id": "be9b7d18",
   "metadata": {},
   "source": [
    "# **BUCLES EN PYTHON (FOR & WHILE)**"
   ]
  },
  {
   "cell_type": "markdown",
   "id": "0bdaf8e6",
   "metadata": {},
   "source": [
    "📌 1. ¿QUÉ ES UN BUCLE?\n",
    "- Un bucle permite ejecutar un bloque de código varias veces. Sirve para repetir tareas de forma automática hasta que se cumpla una condición o se recorra una secuencia de datos."
   ]
  },
  {
   "cell_type": "markdown",
   "id": "fe53d651",
   "metadata": {},
   "source": [
    "📌 2. BUCLE for\n"
   ]
  },
  {
   "cell_type": "markdown",
   "id": "435656c7",
   "metadata": {},
   "source": [
    "🔹 ¿Cómo funciona?\n",
    "- El bucle for se utiliza para recorrer elementos de una secuencia (como una lista, string, tupla, o range)"
   ]
  },
  {
   "cell_type": "markdown",
   "id": "8a000277",
   "metadata": {},
   "source": [
    "🧪 Sintaxis"
   ]
  },
  {
   "cell_type": "code",
   "execution_count": null,
   "id": "1a5794c3",
   "metadata": {},
   "outputs": [],
   "source": [
    "#for variable in secuencia:\n",
    "    # bloque de código"
   ]
  },
  {
   "cell_type": "code",
   "execution_count": null,
   "id": "ff82548a",
   "metadata": {},
   "outputs": [],
   "source": [
    "# iterable: conjunto de datos\n",
    "# iterador: variable que recorre al iterable\n",
    "# iterar: recorrer un iterable"
   ]
  },
  {
   "cell_type": "markdown",
   "id": "5dc263bb",
   "metadata": {},
   "source": [
    "🔍 Ejemplos básicos"
   ]
  },
  {
   "cell_type": "code",
   "execution_count": null,
   "id": "19a01a23",
   "metadata": {},
   "outputs": [],
   "source": []
  },
  {
   "cell_type": "code",
   "execution_count": null,
   "id": "03af1c03",
   "metadata": {},
   "outputs": [],
   "source": []
  },
  {
   "cell_type": "markdown",
   "id": "f041e92d",
   "metadata": {},
   "source": [
    "📌 3. BUCLE while"
   ]
  },
  {
   "cell_type": "markdown",
   "id": "b7df4943",
   "metadata": {},
   "source": [
    "🔹 ¿Cómo funciona?\n",
    "- while repite un bloque de código mientras se cumpla una condición."
   ]
  },
  {
   "cell_type": "markdown",
   "id": "37e21526",
   "metadata": {},
   "source": [
    "🧪 Sintaxis"
   ]
  },
  {
   "cell_type": "code",
   "execution_count": null,
   "id": "fd042fae",
   "metadata": {},
   "outputs": [],
   "source": [
    "# while condicion:\n",
    "    # bloque de código\n"
   ]
  },
  {
   "cell_type": "markdown",
   "id": "1247df68",
   "metadata": {},
   "source": [
    "🔍 Ejemplo básico"
   ]
  },
  {
   "cell_type": "code",
   "execution_count": null,
   "id": "b95a93c3",
   "metadata": {},
   "outputs": [],
   "source": []
  },
  {
   "cell_type": "markdown",
   "id": "26d3cc1d",
   "metadata": {},
   "source": [
    "📌 4. FUNCIONES range(), enumerate(), break, continue"
   ]
  },
  {
   "cell_type": "markdown",
   "id": "f743b66e",
   "metadata": {},
   "source": [
    "🔹 range(inicio, fin, paso)"
   ]
  },
  {
   "cell_type": "code",
   "execution_count": null,
   "id": "6ada21ee",
   "metadata": {},
   "outputs": [],
   "source": []
  },
  {
   "cell_type": "markdown",
   "id": "4132c690",
   "metadata": {},
   "source": [
    "🔹 enumerate() para índices"
   ]
  },
  {
   "cell_type": "code",
   "execution_count": null,
   "id": "bf203d44",
   "metadata": {},
   "outputs": [],
   "source": []
  },
  {
   "cell_type": "markdown",
   "id": "9fbb70b7",
   "metadata": {},
   "source": [
    "🔹 break y continue"
   ]
  },
  {
   "cell_type": "code",
   "execution_count": null,
   "id": "bb8f0a85",
   "metadata": {},
   "outputs": [],
   "source": []
  },
  {
   "cell_type": "code",
   "execution_count": null,
   "id": "31d54581",
   "metadata": {},
   "outputs": [],
   "source": []
  },
  {
   "cell_type": "markdown",
   "id": "6e8ef7d3",
   "metadata": {},
   "source": [
    "📌 5. CASOS REALES CON BUCLES"
   ]
  },
  {
   "cell_type": "markdown",
   "id": "c7c12ed3",
   "metadata": {},
   "source": [
    "✅ Recorrer una lista de ventas"
   ]
  },
  {
   "cell_type": "code",
   "execution_count": null,
   "id": "8d023d98",
   "metadata": {},
   "outputs": [],
   "source": []
  },
  {
   "cell_type": "markdown",
   "id": "8edd19c2",
   "metadata": {},
   "source": [
    "✅ Automatizar ingreso de datos"
   ]
  },
  {
   "cell_type": "code",
   "execution_count": null,
   "id": "69a0ab2d",
   "metadata": {},
   "outputs": [],
   "source": []
  },
  {
   "cell_type": "markdown",
   "id": "cbad3231",
   "metadata": {},
   "source": [
    "✅ Validar input con while"
   ]
  },
  {
   "cell_type": "code",
   "execution_count": null,
   "id": "604f9cfa",
   "metadata": {},
   "outputs": [],
   "source": []
  },
  {
   "cell_type": "markdown",
   "id": "6fe845d5",
   "metadata": {},
   "source": [
    "📌 6. EJERCICIOS PRÁCTICOS CON SOLUCIÓN"
   ]
  },
  {
   "cell_type": "markdown",
   "id": "d815a3b8",
   "metadata": {},
   "source": [
    "🟢 Nivel Básico"
   ]
  },
  {
   "cell_type": "code",
   "execution_count": null,
   "id": "3e727701",
   "metadata": {},
   "outputs": [],
   "source": [
    "# 1. Mostrar los números del 1 al 10"
   ]
  },
  {
   "cell_type": "code",
   "execution_count": null,
   "id": "2dac4cf1",
   "metadata": {},
   "outputs": [],
   "source": [
    "# 2. Sumar los números del 1 al 100"
   ]
  },
  {
   "cell_type": "code",
   "execution_count": null,
   "id": "7182b66f",
   "metadata": {},
   "outputs": [],
   "source": [
    "# 3. Repetir un mensaje 5 veces"
   ]
  },
  {
   "cell_type": "code",
   "execution_count": null,
   "id": "91060331",
   "metadata": {},
   "outputs": [],
   "source": [
    "# 4. Validar contraseña hasta 3 intentos"
   ]
  },
  {
   "cell_type": "code",
   "execution_count": null,
   "id": "80f221dc",
   "metadata": {},
   "outputs": [],
   "source": [
    "# 5. Mostrar elementos mayores a 500 en una lista"
   ]
  },
  {
   "cell_type": "code",
   "execution_count": null,
   "id": "e7a6d6eb",
   "metadata": {},
   "outputs": [],
   "source": [
    "# 6. Contador regresivo"
   ]
  },
  {
   "cell_type": "code",
   "execution_count": null,
   "id": "a4e1738f",
   "metadata": {},
   "outputs": [],
   "source": [
    "# 7. Simular ingresos hasta alcanzar un objetivo"
   ]
  },
  {
   "cell_type": "code",
   "execution_count": null,
   "id": "af5c1515",
   "metadata": {},
   "outputs": [],
   "source": [
    "# 9. Encuentra el primer múltiplo de 7 mayor que 100"
   ]
  }
 ],
 "metadata": {
  "language_info": {
   "name": "python"
  }
 },
 "nbformat": 4,
 "nbformat_minor": 5
}
