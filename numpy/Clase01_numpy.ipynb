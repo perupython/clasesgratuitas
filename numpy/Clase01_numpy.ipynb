{
 "cells": [
  {
   "cell_type": "markdown",
   "id": "97e96e70",
   "metadata": {},
   "source": [
    "![Redes Sociales](../redes_sociales_pythonperu.png)"
   ]
  },
  {
   "cell_type": "markdown",
   "id": "5bb6cdb3",
   "metadata": {},
   "source": [
    "# **Introducción a NumPy para Manipulación de Datos Numéricos**"
   ]
  },
  {
   "cell_type": "markdown",
   "id": "025fecc1",
   "metadata": {},
   "source": [
    "🧠 ¿Qué es NumPy?\n",
    "- NumPy (Numerical Python) es una biblioteca de Python especializada en operaciones con arrays multidimensionales y en cálculos numéricos de alto rendimiento."
   ]
  },
  {
   "cell_type": "markdown",
   "id": "bd983ef6",
   "metadata": {},
   "source": [
    " 🧠 ¿Para qué sirve?\n",
    "- Crear arrays y matrices.\n",
    "\n",
    "- Realizar operaciones vectorizadas (más rápidas que las listas).\n",
    "\n",
    "- Funciones estadísticas (media, desviación, etc).\n",
    "\n",
    "- Lectura de datos numéricos.\n",
    "\n",
    "- Filtración de datos.\n",
    "\n",
    "- Ideal para análisis de datos, machine learning, ciencia e ingeniería."
   ]
  },
  {
   "cell_type": "markdown",
   "id": "69033dfd",
   "metadata": {},
   "source": [
    "🔧 Instalación (si es necesario)"
   ]
  },
  {
   "cell_type": "code",
   "execution_count": null,
   "id": "1a427c04",
   "metadata": {},
   "outputs": [],
   "source": []
  },
  {
   "cell_type": "markdown",
   "id": "a3fe768f",
   "metadata": {},
   "source": [
    "🔹 ¿Qué es un vector?\n",
    "- Un vector en NumPy es un array unidimensional."
   ]
  },
  {
   "cell_type": "markdown",
   "id": "b1ff806e",
   "metadata": {},
   "source": [
    "🔸¿Para qué sirve un vector?\n",
    "- Un vector (array 1D) es útil cuando necesitas representar:\n",
    "\n",
    "    - Una serie de valores en una sola dimensión (como una columna de Excel).\n",
    "\n",
    "    - Datos lineales, como:\n",
    "\n",
    "        - Temperaturas diarias: [21, 23, 20, 22, 24]\n",
    "\n",
    "        - Puntuaciones de un estudiante: [17, 19, 20]\n",
    "\n",
    "        - Ventas de una tienda por día: [100, 120, 90]\n"
   ]
  },
  {
   "cell_type": "code",
   "execution_count": null,
   "id": "64480846",
   "metadata": {},
   "outputs": [],
   "source": []
  },
  {
   "cell_type": "markdown",
   "id": "cea47455",
   "metadata": {},
   "source": [
    "🔹 ¿Qué es una matriz?\n",
    "- Una matriz es un array bidimensional (2D), como una tabla de filas y columnas.\n",
    "\n",
    "🔸 ¿Para qué sirve una matriz?\n",
    "- Una matriz (array 2D) te sirve para:\n",
    "\n",
    "    - Representar datos tabulares, como una tabla de Excel o DataFrame.\n",
    "\n",
    "    - Trabajar con datos multivariables."
   ]
  },
  {
   "cell_type": "code",
   "execution_count": null,
   "id": "5bfa75f1",
   "metadata": {},
   "outputs": [],
   "source": []
  },
  {
   "cell_type": "markdown",
   "id": "ee9ad093",
   "metadata": {},
   "source": [
    "✅ Crear vectores y matrices desde diferentes estructuras de datos"
   ]
  },
  {
   "cell_type": "markdown",
   "id": "fa0926de",
   "metadata": {},
   "source": [
    "📌 Desde listas"
   ]
  },
  {
   "cell_type": "code",
   "execution_count": null,
   "id": "392bd01e",
   "metadata": {},
   "outputs": [],
   "source": []
  },
  {
   "cell_type": "markdown",
   "id": "c37aec0a",
   "metadata": {},
   "source": [
    "📌 Desde tuplas"
   ]
  },
  {
   "cell_type": "code",
   "execution_count": null,
   "id": "cccde602",
   "metadata": {},
   "outputs": [],
   "source": []
  },
  {
   "cell_type": "markdown",
   "id": "17fce0a1",
   "metadata": {},
   "source": [
    "⏱ Comparación: lista vs array"
   ]
  },
  {
   "cell_type": "markdown",
   "id": "67d952b1",
   "metadata": {},
   "source": [
    "- CPU time: Tiempo total que el procesador (CPU) estuvo trabajando para ejecutar el código.\n",
    "- Wall time: Tiempo real que pasó desde que comenzó hasta que terminó el código (como si usaras un cronómetro). Incluye tiempos de espera, entrada/salida, multitarea, etc."
   ]
  },
  {
   "cell_type": "markdown",
   "id": "0e2025a1",
   "metadata": {},
   "source": [
    "✅ Con listas de Python:"
   ]
  },
  {
   "cell_type": "code",
   "execution_count": null,
   "id": "46942bd7",
   "metadata": {},
   "outputs": [],
   "source": []
  },
  {
   "cell_type": "markdown",
   "id": "bc61b07f",
   "metadata": {},
   "source": [
    "✅ Con arrays de NumPy:"
   ]
  },
  {
   "cell_type": "code",
   "execution_count": null,
   "id": "71f3d787",
   "metadata": {},
   "outputs": [],
   "source": []
  },
  {
   "cell_type": "markdown",
   "id": "aeb0a4d0",
   "metadata": {},
   "source": [
    "🎯 Indexación y slicing"
   ]
  },
  {
   "cell_type": "code",
   "execution_count": null,
   "id": "6984adae",
   "metadata": {},
   "outputs": [],
   "source": [
    "# Vectores 1D"
   ]
  },
  {
   "cell_type": "code",
   "execution_count": null,
   "id": "9e46cd5a",
   "metadata": {},
   "outputs": [],
   "source": [
    "# Matrices 2D"
   ]
  },
  {
   "cell_type": "markdown",
   "id": "7140a31c",
   "metadata": {},
   "source": [
    "📊 Funciones estadísticas"
   ]
  },
  {
   "cell_type": "code",
   "execution_count": null,
   "id": "d2729fd5",
   "metadata": {},
   "outputs": [],
   "source": [
    "# max"
   ]
  },
  {
   "cell_type": "code",
   "execution_count": null,
   "id": "78f4842d",
   "metadata": {},
   "outputs": [],
   "source": [
    "# min"
   ]
  },
  {
   "cell_type": "code",
   "execution_count": null,
   "id": "e20b9e1a",
   "metadata": {},
   "outputs": [],
   "source": [
    "# argmax"
   ]
  },
  {
   "cell_type": "code",
   "execution_count": null,
   "id": "5467832b",
   "metadata": {},
   "outputs": [],
   "source": [
    "# argmin"
   ]
  },
  {
   "cell_type": "code",
   "execution_count": null,
   "id": "95d903a7",
   "metadata": {},
   "outputs": [],
   "source": [
    "# mean"
   ]
  },
  {
   "cell_type": "code",
   "execution_count": null,
   "id": "440e95c1",
   "metadata": {},
   "outputs": [],
   "source": [
    "# std"
   ]
  },
  {
   "cell_type": "code",
   "execution_count": null,
   "id": "b30f95f1",
   "metadata": {},
   "outputs": [],
   "source": [
    "# sum"
   ]
  },
  {
   "cell_type": "markdown",
   "id": "18d87563",
   "metadata": {},
   "source": [
    "🔍 Filtrado de arrays"
   ]
  },
  {
   "cell_type": "code",
   "execution_count": null,
   "id": "0c47bf00",
   "metadata": {},
   "outputs": [],
   "source": []
  },
  {
   "cell_type": "markdown",
   "id": "83068315",
   "metadata": {},
   "source": [
    "Ejercicio: \n",
    "- Filtrar las edades de personas aptas para votar (mayores o iguales a 18 años)."
   ]
  },
  {
   "cell_type": "code",
   "execution_count": null,
   "id": "640bc764",
   "metadata": {},
   "outputs": [],
   "source": []
  },
  {
   "cell_type": "markdown",
   "id": "f6b42b2c",
   "metadata": {},
   "source": [
    "📄 Lectura de dataset con NumPy"
   ]
  },
  {
   "cell_type": "code",
   "execution_count": null,
   "id": "832e35f8",
   "metadata": {},
   "outputs": [],
   "source": []
  },
  {
   "cell_type": "markdown",
   "id": "25ca1139",
   "metadata": {},
   "source": [
    "🧪 Miniproyecto: \"Análisis de sueldos\"\n",
    "- Una empresa tiene un archivo con edades y sueldos. Queremos responder:\n",
    "\n",
    "    - ¿Cuál es la edad promedio?\n",
    "\n",
    "    - ¿Cuál es el sueldo promedio?\n",
    "\n",
    "    - ¿Cuántas personas ganan más de 2000?\n",
    "\n",
    "    - ¿Qué edad tiene la persona con el sueldo más alto?"
   ]
  },
  {
   "cell_type": "code",
   "execution_count": null,
   "id": "271d0541",
   "metadata": {},
   "outputs": [],
   "source": []
  },
  {
   "cell_type": "markdown",
   "id": "91c4723d",
   "metadata": {},
   "source": [
    "🧩 Ejercicios con contexto real"
   ]
  },
  {
   "cell_type": "markdown",
   "id": "858a6225",
   "metadata": {},
   "source": [
    "Ejercicio 1: 🏫 Edad de alumnos\n",
    "- Tienes la edad de 10 estudiantes. Filtra los mayores de 18 años."
   ]
  },
  {
   "cell_type": "code",
   "execution_count": null,
   "id": "e1dc9057",
   "metadata": {},
   "outputs": [],
   "source": [
    "edades = np.array([16, 17, 19, 18, 21, 22, 15, 14, 23, 20])"
   ]
  },
  {
   "cell_type": "markdown",
   "id": "a89c2900",
   "metadata": {},
   "source": [
    "Ejercicio 2: 📈 Análisis de ventas\n",
    "- Datos de ventas diarias (en soles). Calcular la venta máxima, mínima y promedio."
   ]
  },
  {
   "cell_type": "code",
   "execution_count": null,
   "id": "f011013b",
   "metadata": {},
   "outputs": [],
   "source": [
    "ventas = np.array([120, 150, 180, 90, 210, 300, 110])"
   ]
  },
  {
   "cell_type": "markdown",
   "id": "bf7fa895",
   "metadata": {},
   "source": [
    "Ejercicio 3: 🚌 Transporte\n",
    "- Tiempos (en minutos) que tarda un bus en llegar a destino. ¿Cuántos viajes duran menos de 15 min?"
   ]
  },
  {
   "cell_type": "code",
   "execution_count": null,
   "id": "9d308574",
   "metadata": {},
   "outputs": [],
   "source": [
    "lista = [12, 14, 16, 13, 19, 20, 10]"
   ]
  },
  {
   "cell_type": "markdown",
   "id": "03aee8f2",
   "metadata": {},
   "source": [
    "Ejercicio 4: 🏋️‍♂️ Control de peso\n",
    "- Lista de pesos de personas. ¿Qué persona tiene el mayor peso y cuánto?\n",
    "\n"
   ]
  },
  {
   "cell_type": "code",
   "execution_count": null,
   "id": "9a02fe73",
   "metadata": {},
   "outputs": [],
   "source": [
    "pesos = np.array([70, 65, 80, 60, 90, 85])"
   ]
  },
  {
   "cell_type": "markdown",
   "id": "edc17da4",
   "metadata": {},
   "source": [
    "Ejercicio 5: 📊 Mini análisis de temperatura\n",
    "- Registros de temperatura en °C durante la semana. ¿Días con más de 28°C?"
   ]
  },
  {
   "cell_type": "code",
   "execution_count": null,
   "id": "7fb877aa",
   "metadata": {},
   "outputs": [],
   "source": [
    "tupla_temp = (25, 27, 30, 32, 28, 29, 26)"
   ]
  },
  {
   "cell_type": "markdown",
   "id": "7465364b",
   "metadata": {},
   "source": [
    "Ejercicio 6: 🧩Análisis de consumo de energía eléctrica\n"
   ]
  },
  {
   "cell_type": "markdown",
   "id": "eee3e527",
   "metadata": {},
   "source": [
    "Medición de consumo\n",
    "- Una empresa proveedora de electricidad registró el consumo mensual (en kWh) y el monto facturado (en soles) de varios hogares durante el último mes. El archivo consumo_energia.csv contiene estos datos:\n",
    "\n",
    "1. Leer los datos del archivo.\n",
    "\n",
    "2. Calcular:\n",
    "\n",
    "    - Promedio de consumo en kWh.\n",
    "\n",
    "    - Promedio del monto facturado.\n",
    "\n",
    "    - ¿Cuántos hogares consumieron más de 200 kWh?\n",
    "\n",
    "    - ¿Cuál fue el consumo del hogar que pagó más?\n",
    "\n"
   ]
  },
  {
   "cell_type": "code",
   "execution_count": null,
   "id": "f952d1d3",
   "metadata": {},
   "outputs": [],
   "source": []
  },
  {
   "cell_type": "markdown",
   "id": "a6c7a4cb",
   "metadata": {},
   "source": [
    "🎓 Conclusión\n",
    "- NumPy es una herramienta poderosa para comenzar con el análisis de datos de forma rápida y eficiente. Dominar arrays, funciones estadísticas y filtrado te prepara para avanzar a herramientas más complejas como Pandas y Scikit-Learn.\n",
    "\n"
   ]
  }
 ],
 "metadata": {
  "kernelspec": {
   "display_name": "Python 3",
   "language": "python",
   "name": "python3"
  },
  "language_info": {
   "codemirror_mode": {
    "name": "ipython",
    "version": 3
   },
   "file_extension": ".py",
   "mimetype": "text/x-python",
   "name": "python",
   "nbconvert_exporter": "python",
   "pygments_lexer": "ipython3",
   "version": "3.13.4"
  }
 },
 "nbformat": 4,
 "nbformat_minor": 5
}
