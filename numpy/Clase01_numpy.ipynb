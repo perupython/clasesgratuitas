{
 "cells": [
  {
   "cell_type": "markdown",
   "id": "97e96e70",
   "metadata": {},
   "source": [
    "![Redes Sociales](../redes_sociales_pythonperu.png)"
   ]
  },
  {
   "cell_type": "markdown",
   "id": "5bb6cdb3",
   "metadata": {},
   "source": [
    "# **Introducción a NumPy para Manipulación de Datos Numéricos**"
   ]
  },
  {
   "cell_type": "markdown",
   "id": "513a3be8",
   "metadata": {},
   "source": [
    "[Grabación de clase](https://www.youtube.com/watch?v=crkYQ6NIruM)"
   ]
  },
  {
   "cell_type": "markdown",
   "id": "025fecc1",
   "metadata": {},
   "source": [
    "🧠 ¿Qué es NumPy?\n",
    "- NumPy (Numerical Python) es una biblioteca de Python especializada en operaciones con arrays multidimensionales y en cálculos numéricos de alto rendimiento."
   ]
  },
  {
   "cell_type": "markdown",
   "id": "bd983ef6",
   "metadata": {},
   "source": [
    " 🧠 ¿Para qué sirve?\n",
    "- Crear arrays y matrices.\n",
    "\n",
    "- Realizar operaciones vectorizadas (más rápidas que las listas).\n",
    "\n",
    "- Funciones estadísticas (media, desviación, etc).\n",
    "\n",
    "- Lectura de datos numéricos.\n",
    "\n",
    "- Filtración de datos.\n",
    "\n",
    "- Ideal para análisis de datos, machine learning, ciencia e ingeniería."
   ]
  },
  {
   "cell_type": "markdown",
   "id": "69033dfd",
   "metadata": {},
   "source": [
    "🔧 Instalación (si es necesario)"
   ]
  },
  {
   "cell_type": "code",
   "execution_count": 18,
   "id": "1a427c04",
   "metadata": {},
   "outputs": [
    {
     "name": "stdout",
     "output_type": "stream",
     "text": [
      "Requirement already satisfied: numpy in c:\\users\\leona\\appdata\\local\\programs\\python\\python313\\lib\\site-packages (2.2.4)\n"
     ]
    }
   ],
   "source": [
    "! pip install numpy"
   ]
  },
  {
   "cell_type": "code",
   "execution_count": null,
   "id": "e4e0d6b5",
   "metadata": {},
   "outputs": [],
   "source": [
    "# importación de la librería\n",
    "import numpy as np"
   ]
  },
  {
   "cell_type": "markdown",
   "id": "a3fe768f",
   "metadata": {},
   "source": [
    "🔹 ¿Qué es un vector?\n",
    "- Un vector en NumPy es un array unidimensional."
   ]
  },
  {
   "cell_type": "markdown",
   "id": "b1ff806e",
   "metadata": {},
   "source": [
    "🔸¿Para qué sirve un vector?\n",
    "- Un vector (array 1D) es útil cuando necesitas representar:\n",
    "\n",
    "    - Una serie de valores en una sola dimensión (como una columna de Excel).\n",
    "\n",
    "    - Datos lineales, como:\n",
    "\n",
    "        - Temperaturas diarias: [21, 23, 20, 22, 24]\n",
    "\n",
    "        - Puntuaciones de un estudiante: [17, 19, 20]\n",
    "\n",
    "        - Ventas de una tienda por día: [100, 120, 90]\n"
   ]
  },
  {
   "cell_type": "code",
   "execution_count": null,
   "id": "64480846",
   "metadata": {},
   "outputs": [
    {
     "name": "stdout",
     "output_type": "stream",
     "text": [
      "[100 120  90]\n"
     ]
    }
   ],
   "source": [
    "ventas = np.array([100, 120, 90]) # 1 Dimension\n",
    "print(ventas)"
   ]
  },
  {
   "cell_type": "code",
   "execution_count": 21,
   "id": "d804e966",
   "metadata": {},
   "outputs": [
    {
     "name": "stdout",
     "output_type": "stream",
     "text": [
      "[118.  141.6 106.2]\n"
     ]
    }
   ],
   "source": [
    "# Sumar el 18% de IGV a cada elemento\n",
    "ventas_IGV = ventas * 1.18\n",
    "print(ventas_IGV)"
   ]
  },
  {
   "cell_type": "markdown",
   "id": "cca497ec",
   "metadata": {},
   "source": [
    "🔹 ¿Qué es una matriz?\n",
    "- Una matriz es un array bidimensional (2D), como una tabla de filas y columnas.\n",
    "\n",
    "🔸 ¿Para qué sirve una matriz?\n",
    "- Una matriz (array 2D) te sirve para:\n",
    "\n",
    "    - Representar datos tabulares, como una tabla de Excel o DataFrame.\n",
    "\n",
    "    - Trabajar con datos multivariables."
   ]
  },
  {
   "cell_type": "code",
   "execution_count": null,
   "id": "5bfa75f1",
   "metadata": {},
   "outputs": [
    {
     "name": "stdout",
     "output_type": "stream",
     "text": [
      "[[15 18 19]\n",
      " [12 16 13]\n",
      " [17 19 20]]\n"
     ]
    }
   ],
   "source": [
    "# Datos de 3 estudiantes: [Matematicas, Ciencia, Historia]\n",
    "notas = np.array([\n",
    "    [15, 18, 19],\n",
    "    [12, 16, 13],\n",
    "    [17, 19, 20]\n",
    "])\n",
    "\n",
    "print(notas)"
   ]
  },
  {
   "cell_type": "code",
   "execution_count": 26,
   "id": "a237bc56",
   "metadata": {},
   "outputs": [
    {
     "data": {
      "text/plain": [
       "array([14.66666667, 17.66666667, 17.33333333])"
      ]
     },
     "execution_count": 26,
     "metadata": {},
     "output_type": "execute_result"
    }
   ],
   "source": [
    "# axis es un eje\n",
    "notas.mean(axis = 0) # promedio por columna(curso)"
   ]
  },
  {
   "cell_type": "code",
   "execution_count": 27,
   "id": "e156115a",
   "metadata": {},
   "outputs": [
    {
     "data": {
      "text/plain": [
       "array([17.33333333, 13.66666667, 18.66666667])"
      ]
     },
     "execution_count": 27,
     "metadata": {},
     "output_type": "execute_result"
    }
   ],
   "source": [
    "notas.mean(axis = 1) # promedio por fila(estudiante)"
   ]
  },
  {
   "cell_type": "markdown",
   "id": "ee9ad093",
   "metadata": {},
   "source": [
    "✅ Crear vectores y matrices desde diferentes estructuras de datos"
   ]
  },
  {
   "cell_type": "markdown",
   "id": "fa0926de",
   "metadata": {},
   "source": [
    "📌 Desde listas"
   ]
  },
  {
   "cell_type": "code",
   "execution_count": 28,
   "id": "392bd01e",
   "metadata": {},
   "outputs": [
    {
     "name": "stdout",
     "output_type": "stream",
     "text": [
      "[23 24 25 22 21 20]\n"
     ]
    }
   ],
   "source": [
    "lista = [23, 24, 25, 22, 21, 20]\n",
    "\n",
    "arr1 = np.array(lista)\n",
    "\n",
    "print(arr1)"
   ]
  },
  {
   "cell_type": "markdown",
   "id": "c37aec0a",
   "metadata": {},
   "source": [
    "📌 Desde tuplas"
   ]
  },
  {
   "cell_type": "code",
   "execution_count": 30,
   "id": "cccde602",
   "metadata": {},
   "outputs": [
    {
     "name": "stdout",
     "output_type": "stream",
     "text": [
      "[19 18 17 16 18 19]\n"
     ]
    }
   ],
   "source": [
    "tupla = (19, 18, 17, 16, 18, 19)\n",
    "\n",
    "arr2 = np.array(tupla)\n",
    "\n",
    "print(arr2)"
   ]
  },
  {
   "cell_type": "markdown",
   "id": "17fce0a1",
   "metadata": {},
   "source": [
    "⏱ Comparación: lista vs array"
   ]
  },
  {
   "cell_type": "markdown",
   "id": "67d952b1",
   "metadata": {},
   "source": [
    "- CPU time: Tiempo total que el procesador (CPU) estuvo trabajando para ejecutar el código.\n",
    "- Wall time: Tiempo real que pasó desde que comenzó hasta que terminó el código (como si usaras un cronómetro). Incluye tiempos de espera, entrada/salida, multitarea, etc."
   ]
  },
  {
   "cell_type": "code",
   "execution_count": null,
   "id": "46942bd7",
   "metadata": {},
   "outputs": [
    {
     "name": "stdout",
     "output_type": "stream",
     "text": [
      "CPU times: total: 688 ms\n",
      "Wall time: 696 ms\n"
     ]
    }
   ],
   "source": [
    "%%time\n",
    "# Lista con 10_000_000 de datos\n",
    "lista = list(range(1,10_000_001))\n",
    "# Crear una lista de comprensión\n",
    "resultado = [x ** 2 for x in lista]\n"
   ]
  },
  {
   "cell_type": "code",
   "execution_count": null,
   "id": "71f3d787",
   "metadata": {},
   "outputs": [
    {
     "name": "stdout",
     "output_type": "stream",
     "text": [
      "CPU times: total: 46.9 ms\n",
      "Wall time: 32.5 ms\n"
     ]
    }
   ],
   "source": [
    "%%time\n",
    "# Array con 10_000_000 de datos\n",
    "arr1 = np.arange(1, 10_000_001)\n",
    "resultado_arr = arr1 ** 2"
   ]
  },
  {
   "cell_type": "code",
   "execution_count": null,
   "id": "75519b9b",
   "metadata": {},
   "outputs": [
    {
     "name": "stdout",
     "output_type": "stream",
     "text": [
      "CPU times: total: 46.9 ms\n",
      "Wall time: 53.6 ms\n"
     ]
    }
   ],
   "source": [
    "%%time\n",
    "# Promedio con listas\n",
    "promedio = sum(lista) / len(lista)"
   ]
  },
  {
   "cell_type": "code",
   "execution_count": null,
   "id": "588ebf0d",
   "metadata": {},
   "outputs": [
    {
     "name": "stdout",
     "output_type": "stream",
     "text": [
      "CPU times: total: 0 ns\n",
      "Wall time: 7.71 ms\n"
     ]
    }
   ],
   "source": [
    "%%time\n",
    "# Promedio con arrays\n",
    "promedio = arr1.mean()"
   ]
  },
  {
   "cell_type": "code",
   "execution_count": 41,
   "id": "66a1ddd8",
   "metadata": {},
   "outputs": [],
   "source": [
    "import math"
   ]
  },
  {
   "cell_type": "code",
   "execution_count": 42,
   "id": "d84600b3",
   "metadata": {},
   "outputs": [
    {
     "name": "stdout",
     "output_type": "stream",
     "text": [
      "CPU times: total: 922 ms\n",
      "Wall time: 971 ms\n"
     ]
    }
   ],
   "source": [
    "%%time\n",
    "\n",
    "# Calcular el seno con una lista\n",
    "resultado = [math.sin(x) for x in lista]"
   ]
  },
  {
   "cell_type": "code",
   "execution_count": 43,
   "id": "bb853a0e",
   "metadata": {},
   "outputs": [
    {
     "name": "stdout",
     "output_type": "stream",
     "text": [
      "CPU times: total: 62.5 ms\n",
      "Wall time: 65.9 ms\n"
     ]
    }
   ],
   "source": [
    "%%time\n",
    "\n",
    "# Calcular el seno con un array\n",
    "resultado_arr = np.sin(arr1)"
   ]
  },
  {
   "cell_type": "markdown",
   "id": "aeb0a4d0",
   "metadata": {},
   "source": [
    "🎯 Indexación y slicing"
   ]
  },
  {
   "cell_type": "code",
   "execution_count": null,
   "id": "6984adae",
   "metadata": {},
   "outputs": [
    {
     "name": "stdout",
     "output_type": "stream",
     "text": [
      "[10 20 30 40 50]\n"
     ]
    }
   ],
   "source": [
    "# Vectores 1D\n",
    "array1 = np.array([10, 20, 30, 40, 50])\n",
    "print(array1)"
   ]
  },
  {
   "cell_type": "code",
   "execution_count": null,
   "id": "b4e21c80",
   "metadata": {},
   "outputs": [
    {
     "data": {
      "text/plain": [
       "np.int64(10)"
      ]
     },
     "execution_count": 54,
     "metadata": {},
     "output_type": "execute_result"
    }
   ],
   "source": [
    "# Indexación\n",
    "# Sintaxis: array[indice]\n",
    "array1[0]"
   ]
  },
  {
   "cell_type": "code",
   "execution_count": 57,
   "id": "8c2b65b1",
   "metadata": {},
   "outputs": [
    {
     "data": {
      "text/plain": [
       "np.int64(10)"
      ]
     },
     "execution_count": 57,
     "metadata": {},
     "output_type": "execute_result"
    }
   ],
   "source": [
    "array1[-5]"
   ]
  },
  {
   "cell_type": "code",
   "execution_count": 55,
   "id": "27f6fd54",
   "metadata": {},
   "outputs": [
    {
     "data": {
      "text/plain": [
       "np.int64(50)"
      ]
     },
     "execution_count": 55,
     "metadata": {},
     "output_type": "execute_result"
    }
   ],
   "source": [
    "array1[4]"
   ]
  },
  {
   "cell_type": "code",
   "execution_count": 56,
   "id": "4b14818c",
   "metadata": {},
   "outputs": [
    {
     "data": {
      "text/plain": [
       "np.int64(50)"
      ]
     },
     "execution_count": 56,
     "metadata": {},
     "output_type": "execute_result"
    }
   ],
   "source": [
    "array1[-1]"
   ]
  },
  {
   "cell_type": "code",
   "execution_count": 58,
   "id": "597d9f8b",
   "metadata": {},
   "outputs": [
    {
     "name": "stdout",
     "output_type": "stream",
     "text": [
      "50\n"
     ]
    }
   ],
   "source": [
    "ultimo_numero = array1[-1]\n",
    "print(ultimo_numero)"
   ]
  },
  {
   "cell_type": "code",
   "execution_count": 53,
   "id": "9e46cd5a",
   "metadata": {},
   "outputs": [
    {
     "name": "stdout",
     "output_type": "stream",
     "text": [
      "[[1 2 3]\n",
      " [4 5 6]]\n"
     ]
    }
   ],
   "source": [
    "# Matrices 2D\n",
    "matriz1 = np.array(\n",
    "    [[1, 2, 3],\n",
    "    [4, 5, 6]]\n",
    ")\n",
    "print(matriz1)"
   ]
  },
  {
   "cell_type": "code",
   "execution_count": 60,
   "id": "0f9ec9af",
   "metadata": {},
   "outputs": [
    {
     "data": {
      "text/plain": [
       "np.int64(2)"
      ]
     },
     "execution_count": 60,
     "metadata": {},
     "output_type": "execute_result"
    }
   ],
   "source": [
    "# Indexacion\n",
    "# Sintaxis: matriz[filas][columnas]\n",
    "matriz1[0][1]"
   ]
  },
  {
   "cell_type": "code",
   "execution_count": 61,
   "id": "439299da",
   "metadata": {},
   "outputs": [
    {
     "data": {
      "text/plain": [
       "np.int64(6)"
      ]
     },
     "execution_count": 61,
     "metadata": {},
     "output_type": "execute_result"
    }
   ],
   "source": [
    "matriz1[-1][-1]"
   ]
  },
  {
   "cell_type": "code",
   "execution_count": null,
   "id": "228e3cf5",
   "metadata": {},
   "outputs": [
    {
     "data": {
      "text/plain": [
       "np.int64(5)"
      ]
     },
     "execution_count": 62,
     "metadata": {},
     "output_type": "execute_result"
    }
   ],
   "source": [
    "matriz1[-1][1]"
   ]
  },
  {
   "cell_type": "code",
   "execution_count": 63,
   "id": "f96e9af6",
   "metadata": {},
   "outputs": [
    {
     "data": {
      "text/plain": [
       "np.int64(5)"
      ]
     },
     "execution_count": 63,
     "metadata": {},
     "output_type": "execute_result"
    }
   ],
   "source": [
    "matriz1[1][1]"
   ]
  },
  {
   "cell_type": "markdown",
   "id": "7140a31c",
   "metadata": {},
   "source": [
    "📊 Funciones estadísticas"
   ]
  },
  {
   "cell_type": "code",
   "execution_count": 65,
   "id": "d2729fd5",
   "metadata": {},
   "outputs": [
    {
     "data": {
      "text/plain": [
       "np.int64(50)"
      ]
     },
     "execution_count": 65,
     "metadata": {},
     "output_type": "execute_result"
    }
   ],
   "source": [
    "# array.max(): valor maximo\n",
    "array1.max()"
   ]
  },
  {
   "cell_type": "code",
   "execution_count": 66,
   "id": "78f4842d",
   "metadata": {},
   "outputs": [
    {
     "data": {
      "text/plain": [
       "np.int64(10)"
      ]
     },
     "execution_count": 66,
     "metadata": {},
     "output_type": "execute_result"
    }
   ],
   "source": [
    "# array.min(): valor minimo\n",
    "array1.min()"
   ]
  },
  {
   "cell_type": "code",
   "execution_count": 67,
   "id": "e20b9e1a",
   "metadata": {},
   "outputs": [
    {
     "data": {
      "text/plain": [
       "np.int64(4)"
      ]
     },
     "execution_count": 67,
     "metadata": {},
     "output_type": "execute_result"
    }
   ],
   "source": [
    "# array.argmax(): indice del valor maximo\n",
    "array1.argmax()"
   ]
  },
  {
   "cell_type": "code",
   "execution_count": 68,
   "id": "5467832b",
   "metadata": {},
   "outputs": [
    {
     "data": {
      "text/plain": [
       "np.int64(0)"
      ]
     },
     "execution_count": 68,
     "metadata": {},
     "output_type": "execute_result"
    }
   ],
   "source": [
    "# array.argmin(): indice del valor minimo\n",
    "array1.argmin()"
   ]
  },
  {
   "cell_type": "code",
   "execution_count": 69,
   "id": "95d903a7",
   "metadata": {},
   "outputs": [
    {
     "data": {
      "text/plain": [
       "np.float64(30.0)"
      ]
     },
     "execution_count": 69,
     "metadata": {},
     "output_type": "execute_result"
    }
   ],
   "source": [
    "# array.mean(): promedio\n",
    "array1.mean()"
   ]
  },
  {
   "cell_type": "code",
   "execution_count": 70,
   "id": "440e95c1",
   "metadata": {},
   "outputs": [
    {
     "data": {
      "text/plain": [
       "np.float64(14.142135623730951)"
      ]
     },
     "execution_count": 70,
     "metadata": {},
     "output_type": "execute_result"
    }
   ],
   "source": [
    "# array.std(): desviación estándar\n",
    "array1.std()"
   ]
  },
  {
   "cell_type": "code",
   "execution_count": 71,
   "id": "b30f95f1",
   "metadata": {},
   "outputs": [
    {
     "data": {
      "text/plain": [
       "np.int64(150)"
      ]
     },
     "execution_count": 71,
     "metadata": {},
     "output_type": "execute_result"
    }
   ],
   "source": [
    "# array.sum(): suma total\n",
    "array1.sum()"
   ]
  },
  {
   "cell_type": "markdown",
   "id": "18d87563",
   "metadata": {},
   "source": [
    "🔍 Filtrado de arrays"
   ]
  },
  {
   "cell_type": "code",
   "execution_count": 72,
   "id": "0c47bf00",
   "metadata": {},
   "outputs": [],
   "source": [
    "edades = np.array([12, 15, 17, 28, 18, 20, 25, 30])"
   ]
  },
  {
   "cell_type": "markdown",
   "id": "83068315",
   "metadata": {},
   "source": [
    "Ejercicio: \n",
    "- Filtrar las edades de personas aptas para votar (mayores o iguales a 18 años)."
   ]
  },
  {
   "cell_type": "code",
   "execution_count": 73,
   "id": "640bc764",
   "metadata": {},
   "outputs": [
    {
     "name": "stdout",
     "output_type": "stream",
     "text": [
      "[28 18 20 25 30]\n"
     ]
    }
   ],
   "source": [
    "mayores_edad = edades[edades >= 18]\n",
    "print(mayores_edad)"
   ]
  },
  {
   "cell_type": "markdown",
   "id": "f6b42b2c",
   "metadata": {},
   "source": [
    "📄 Lectura de dataset con NumPy"
   ]
  },
  {
   "cell_type": "code",
   "execution_count": 81,
   "id": "832e35f8",
   "metadata": {},
   "outputs": [
    {
     "name": "stdout",
     "output_type": "stream",
     "text": [
      "[[  19  900]\n",
      " [  24 1500]\n",
      " [  37 2100]\n",
      " [  44 2450]\n",
      " [  53 2300]\n",
      " [  59 1600]\n",
      " [  41 2250]\n",
      " [  26 1580]\n",
      " [  30 1800]\n",
      " [  34 1950]\n",
      " [  46 2500]\n",
      " [  39 2150]\n",
      " [  28 1700]\n",
      " [  31 1820]\n",
      " [  33 1890]\n",
      " [  35 2000]\n",
      " [  23 1300]\n",
      " [  29 1750]\n",
      " [  32 1870]\n",
      " [  40 2200]]\n"
     ]
    }
   ],
   "source": [
    "censo = np.loadtxt('censo.csv', delimiter=',', skiprows=1, dtype=np.int32)\n",
    "# Mostrar las primeras 20 filas\n",
    "print(censo[:20]) "
   ]
  },
  {
   "cell_type": "code",
   "execution_count": null,
   "id": "29deae27",
   "metadata": {},
   "outputs": [
    {
     "data": {
      "text/plain": [
       "array([19, 24, 37, 44, 53, 59, 41, 26, 30, 34, 46, 39, 28, 31, 33, 35, 23,\n",
       "       29, 32, 40, 43, 47, 49, 51, 57, 60, 22, 27, 25, 36, 38, 45, 50, 21,\n",
       "       20, 18, 56, 52, 55, 58, 42, 48, 19, 26, 44, 29, 34, 30, 24, 27],\n",
       "      dtype=int32)"
      ]
     },
     "execution_count": 82,
     "metadata": {},
     "output_type": "execute_result"
    }
   ],
   "source": [
    "# primera columna: edad\n",
    "# sintaxis: array[filas,columnas]\n",
    "censo[:,0]"
   ]
  },
  {
   "cell_type": "code",
   "execution_count": null,
   "id": "763842af",
   "metadata": {},
   "outputs": [
    {
     "data": {
      "text/plain": [
       "array([ 900, 1500, 2100, 2450, 2300, 1600, 2250, 1580, 1800, 1950, 2500,\n",
       "       2150, 1700, 1820, 1890, 2000, 1300, 1750, 1870, 2200, 2400, 2520,\n",
       "       2450, 2350, 1700, 1550, 1200, 1600, 1550, 2050, 2090, 2480, 2380,\n",
       "       1150,  980,  850, 1650, 2330, 2250, 1580, 2300, 2500,  920, 1590,\n",
       "       2430, 1720, 1980, 1830, 1450, 1620], dtype=int32)"
      ]
     },
     "execution_count": 83,
     "metadata": {},
     "output_type": "execute_result"
    }
   ],
   "source": [
    "# segunda columna: salarios\n",
    "censo[:,1]"
   ]
  },
  {
   "cell_type": "markdown",
   "id": "25ca1139",
   "metadata": {},
   "source": [
    "🧪 Miniproyecto: \"Análisis de sueldos\"\n",
    "- Una empresa tiene un archivo con edades y sueldos. Queremos responder:\n",
    "\n",
    "    - ¿Cuál es la edad promedio?\n",
    "\n",
    "    - ¿Cuál es el sueldo promedio?\n",
    "\n",
    "    - ¿Cuántas personas ganan más de 2000?\n",
    "\n",
    "    - ¿Qué edad tiene la persona con el sueldo más alto?"
   ]
  },
  {
   "cell_type": "code",
   "execution_count": 84,
   "id": "271d0541",
   "metadata": {},
   "outputs": [],
   "source": [
    "# array de edades\n",
    "edad = censo[:,0]\n",
    "# array de salarios\n",
    "salario = censo[:,1]"
   ]
  },
  {
   "cell_type": "code",
   "execution_count": 85,
   "id": "ecf95325",
   "metadata": {},
   "outputs": [
    {
     "name": "stdout",
     "output_type": "stream",
     "text": [
      "Edad promedio: 37.12\n"
     ]
    }
   ],
   "source": [
    "# ¿Cuál es la edad promedio?\n",
    "edad_promedio = edad.mean()\n",
    "print(f'Edad promedio: {edad_promedio}')"
   ]
  },
  {
   "cell_type": "code",
   "execution_count": 86,
   "id": "b6d0d9f7",
   "metadata": {},
   "outputs": [
    {
     "name": "stdout",
     "output_type": "stream",
     "text": [
      "Salario promedio: 1861.2\n"
     ]
    }
   ],
   "source": [
    "# ¿Cuál es el salario promedio?\n",
    "salario_promedio = salario.mean()\n",
    "print(f'Salario promedio: {salario_promedio}')"
   ]
  },
  {
   "cell_type": "code",
   "execution_count": 87,
   "id": "9b4bf866",
   "metadata": {},
   "outputs": [
    {
     "name": "stdout",
     "output_type": "stream",
     "text": [
      "Cantidad de personas que ganan más de 2000: 20\n"
     ]
    }
   ],
   "source": [
    "# ¿Cuántas personas ganan más de 2000?\n",
    "altos = salario > 2000\n",
    "print(f'Cantidad de personas que ganan más de 2000: {altos.sum()}')"
   ]
  },
  {
   "cell_type": "code",
   "execution_count": 88,
   "id": "c9ac5f12",
   "metadata": {},
   "outputs": [
    {
     "data": {
      "text/plain": [
       "array([2100, 2450, 2300, 2250, 2500, 2150, 2200, 2400, 2520, 2450, 2350,\n",
       "       2050, 2090, 2480, 2380, 2330, 2250, 2300, 2500, 2430], dtype=int32)"
      ]
     },
     "execution_count": 88,
     "metadata": {},
     "output_type": "execute_result"
    }
   ],
   "source": [
    "# Si quiero ver las cantidades mayores a 2000\n",
    "salario[salario > 2000]"
   ]
  },
  {
   "cell_type": "code",
   "execution_count": 92,
   "id": "40c2f370",
   "metadata": {},
   "outputs": [
    {
     "name": "stdout",
     "output_type": "stream",
     "text": [
      "Edad de la persona que gana más: 47 años\n"
     ]
    }
   ],
   "source": [
    "# ¿Qué edad tiene la persona con el sueldo más alto?\n",
    "indice_max = salario.argmax()\n",
    "edad_max = edad[indice_max]\n",
    "\n",
    "print(f'Edad de la persona que gana más: {edad_max} años')"
   ]
  },
  {
   "cell_type": "markdown",
   "id": "91c4723d",
   "metadata": {},
   "source": [
    "🧩 Ejercicios con contexto real"
   ]
  },
  {
   "cell_type": "markdown",
   "id": "858a6225",
   "metadata": {},
   "source": [
    "Ejercicio 1: 🏫 Edad de alumnos\n",
    "- Tienes la edad de 10 estudiantes. Filtra los mayores de 18 años."
   ]
  },
  {
   "cell_type": "code",
   "execution_count": 93,
   "id": "e1dc9057",
   "metadata": {},
   "outputs": [],
   "source": [
    "edades = np.array([16, 17, 19, 18, 21, 22, 15, 14, 23, 20])"
   ]
  },
  {
   "cell_type": "code",
   "execution_count": 94,
   "id": "201a53eb",
   "metadata": {},
   "outputs": [
    {
     "data": {
      "text/plain": [
       "array([19, 18, 21, 22, 23, 20])"
      ]
     },
     "execution_count": 94,
     "metadata": {},
     "output_type": "execute_result"
    }
   ],
   "source": [
    "edades[edades >= 18]"
   ]
  },
  {
   "cell_type": "markdown",
   "id": "a89c2900",
   "metadata": {},
   "source": [
    "Ejercicio 2: 📈 Análisis de ventas\n",
    "- Datos de ventas diarias (en soles). Calcular la venta máxima, mínima y promedio."
   ]
  },
  {
   "cell_type": "code",
   "execution_count": 95,
   "id": "f011013b",
   "metadata": {},
   "outputs": [],
   "source": [
    "ventas = np.array([120, 150, 180, 90, 210, 300, 110])"
   ]
  },
  {
   "cell_type": "code",
   "execution_count": 99,
   "id": "52bc5d0d",
   "metadata": {},
   "outputs": [
    {
     "name": "stdout",
     "output_type": "stream",
     "text": [
      "Maximo: 300 soles\n",
      "Minimo: 90 soles\n",
      "Promedio: 165.71 soles\n"
     ]
    }
   ],
   "source": [
    "venta_max = ventas.max()\n",
    "venta_min = ventas.min()\n",
    "venta_prom = ventas.mean()\n",
    "\n",
    "print(f'Maximo: {venta_max} soles\\nMinimo: {venta_min} soles\\nPromedio: {round(venta_prom, 2)} soles')"
   ]
  },
  {
   "cell_type": "markdown",
   "id": "bf7fa895",
   "metadata": {},
   "source": [
    "Ejercicio 3: 🚌 Transporte\n",
    "- Tiempos (en minutos) que tarda un bus en llegar a destino. ¿Cuántos viajes duran menos de 15 min?"
   ]
  },
  {
   "cell_type": "code",
   "execution_count": 100,
   "id": "9d308574",
   "metadata": {},
   "outputs": [
    {
     "name": "stdout",
     "output_type": "stream",
     "text": [
      "Viajes < 15 min: 4\n"
     ]
    }
   ],
   "source": [
    "lista = [12, 14, 16, 13, 19, 20, 10]\n",
    "tiempos = np.array(lista)\n",
    "\n",
    "filtro = tiempos < 15\n",
    "\n",
    "print(f'Viajes < 15 min: {filtro.sum()}')"
   ]
  },
  {
   "cell_type": "markdown",
   "id": "03aee8f2",
   "metadata": {},
   "source": [
    "Ejercicio 4: 🏋️‍♂️ Control de peso\n",
    "- Lista de pesos de personas. ¿Qué persona tiene el mayor peso y cuánto?\n",
    "\n"
   ]
  },
  {
   "cell_type": "code",
   "execution_count": 101,
   "id": "9a02fe73",
   "metadata": {},
   "outputs": [
    {
     "name": "stdout",
     "output_type": "stream",
     "text": [
      "Indice del mayor peso: 4\n",
      "Peso maximo: 90\n"
     ]
    }
   ],
   "source": [
    "pesos = np.array([70, 65, 80, 60, 90, 85])\n",
    "\n",
    "print(f'Indice del mayor peso: {pesos.argmax()}')\n",
    "print(f'Peso maximo: {pesos.max()}')"
   ]
  },
  {
   "cell_type": "markdown",
   "id": "edc17da4",
   "metadata": {},
   "source": [
    "Ejercicio 5: 📊 Mini análisis de temperatura\n",
    "- Registros de temperatura en °C durante la semana. ¿Días con más de 28°C?"
   ]
  },
  {
   "cell_type": "code",
   "execution_count": 104,
   "id": "7fb877aa",
   "metadata": {},
   "outputs": [
    {
     "name": "stdout",
     "output_type": "stream",
     "text": [
      "Temperaturas > 28: [30 32 29]\n",
      "Dias con mayor temperatura a 28: 3\n"
     ]
    }
   ],
   "source": [
    "tupla_temp = (25, 27, 30, 32, 28, 29, 26)\n",
    "temperaturas = np.array(tupla_temp)\n",
    "\n",
    "temp_mayor_28 = temperaturas[temperaturas > 28]\n",
    "altas_temperaturas = temperaturas > 28\n",
    "\n",
    "print(f'Temperaturas > 28: {temp_mayor_28}')\n",
    "print(f'Dias con mayor temperatura a 28: {altas_temperaturas.sum()}')"
   ]
  },
  {
   "cell_type": "markdown",
   "id": "7465364b",
   "metadata": {},
   "source": [
    "Ejercicio 6: 🧩Análisis de consumo de energía eléctrica\n"
   ]
  },
  {
   "cell_type": "markdown",
   "id": "eee3e527",
   "metadata": {},
   "source": [
    "Medición de consumo\n",
    "- Una empresa proveedora de electricidad registró el consumo mensual (en kWh) y el monto facturado (en soles) de varios hogares durante el último mes. El archivo consumo_energia.csv contiene estos datos:\n",
    "\n",
    "1. Leer los datos del archivo.\n",
    "\n",
    "2. Calcular:\n",
    "\n",
    "    - Promedio de consumo en kWh.\n",
    "\n",
    "    - Promedio del monto facturado.\n",
    "\n",
    "    - ¿Cuántos hogares consumieron más de 200 kWh?\n",
    "\n",
    "    - ¿Cuál fue el consumo del hogar que pagó más?\n",
    "\n"
   ]
  },
  {
   "cell_type": "code",
   "execution_count": 105,
   "id": "f952d1d3",
   "metadata": {},
   "outputs": [],
   "source": [
    "# Leer los datos\n",
    "data = np.loadtxt('consumo_energia.csv', delimiter=',', skiprows=1)"
   ]
  },
  {
   "cell_type": "code",
   "execution_count": 106,
   "id": "d2923d61",
   "metadata": {},
   "outputs": [],
   "source": [
    "# Separar por columnas\n",
    "# consumo\n",
    "consumo = data[:,0]\n",
    "# monto\n",
    "monto = data[:,1]"
   ]
  },
  {
   "cell_type": "code",
   "execution_count": 107,
   "id": "1a6e1611",
   "metadata": {},
   "outputs": [],
   "source": [
    "# Calculos\n",
    "consumo_prom = consumo.mean()\n",
    "monto_prom = monto.mean()\n",
    "hogares_alto_consumo = np.sum(consumo > 200)\n",
    "indice_max_pago = monto.argmax()\n",
    "consumo_max_pago = consumo[indice_max_pago]"
   ]
  },
  {
   "cell_type": "code",
   "execution_count": 108,
   "id": "2965b1bd",
   "metadata": {},
   "outputs": [
    {
     "name": "stdout",
     "output_type": "stream",
     "text": [
      "Consumo promedio: 214.28571428571428\n"
     ]
    }
   ],
   "source": [
    "# Promedio de consumo en kWh.\n",
    "print(f'Consumo promedio: {consumo_prom}')"
   ]
  },
  {
   "cell_type": "code",
   "execution_count": 109,
   "id": "1cd0917d",
   "metadata": {},
   "outputs": [
    {
     "name": "stdout",
     "output_type": "stream",
     "text": [
      "Monto promedio: 156.57142857142858\n"
     ]
    }
   ],
   "source": [
    "# Promedio del monto facturado.\n",
    "print(f'Monto promedio: {monto_prom}')"
   ]
  },
  {
   "cell_type": "code",
   "execution_count": 110,
   "id": "0432c4db",
   "metadata": {},
   "outputs": [
    {
     "name": "stdout",
     "output_type": "stream",
     "text": [
      "Hogares con consumo > 200 kWh: 3\n"
     ]
    }
   ],
   "source": [
    "# ¿Cuántos hogares consumieron más de 200 kWh?\n",
    "print(f'Hogares con consumo > 200 kWh: {hogares_alto_consumo}')"
   ]
  },
  {
   "cell_type": "code",
   "execution_count": 112,
   "id": "7a0c6d23",
   "metadata": {},
   "outputs": [
    {
     "name": "stdout",
     "output_type": "stream",
     "text": [
      "Consumo del hogar que más pago: 400.0 kWh\n"
     ]
    }
   ],
   "source": [
    "# ¿Cuál fue el consumo del hogar que pagó más?\n",
    "print(f'Consumo del hogar que más pago: {consumo_max_pago} kWh')"
   ]
  },
  {
   "cell_type": "markdown",
   "id": "a6c7a4cb",
   "metadata": {},
   "source": [
    "🎓 Conclusión\n",
    "- NumPy es una herramienta poderosa para comenzar con el análisis de datos de forma rápida y eficiente. Dominar arrays, funciones estadísticas y filtrado te prepara para avanzar a herramientas más complejas como Pandas y Scikit-Learn.\n",
    "\n"
   ]
  }
 ],
 "metadata": {
  "kernelspec": {
   "display_name": "Python 3",
   "language": "python",
   "name": "python3"
  },
  "language_info": {
   "codemirror_mode": {
    "name": "ipython",
    "version": 3
   },
   "file_extension": ".py",
   "mimetype": "text/x-python",
   "name": "python",
   "nbconvert_exporter": "python",
   "pygments_lexer": "ipython3",
   "version": "3.13.5"
  }
 },
 "nbformat": 4,
 "nbformat_minor": 5
}
