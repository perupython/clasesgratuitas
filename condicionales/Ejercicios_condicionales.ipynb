{
 "cells": [
  {
   "cell_type": "markdown",
   "id": "9dd0630f",
   "metadata": {},
   "source": [
    "![image.png](data:image/png;base64,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)"
   ]
  },
  {
   "cell_type": "markdown",
   "id": "5faf034b",
   "metadata": {},
   "source": [
    "🔰 Nivel Básico (1 al 3)"
   ]
  },
  {
   "cell_type": "markdown",
   "id": "163726af",
   "metadata": {},
   "source": [
    "1. Verificador de contraseña\n",
    "- Pide al usuario que ingrese una contraseña y verifica si es correcta (la correcta es \"python123\")."
   ]
  },
  {
   "cell_type": "code",
   "execution_count": 2,
   "id": "aa51815c",
   "metadata": {},
   "outputs": [
    {
     "name": "stdout",
     "output_type": "stream",
     "text": [
      "Contraseña incorrecta\n"
     ]
    }
   ],
   "source": [
    "password = input('Ingrese la contraseña: ')\n",
    "\n",
    "# Verificar mi contraseña\n",
    "if password == 'python123':\n",
    "    print('Acceso permitido')\n",
    "\n",
    "else:\n",
    "    print('Contraseña incorrecta')\n"
   ]
  },
  {
   "cell_type": "markdown",
   "id": "20d75eb3",
   "metadata": {},
   "source": [
    "2. Temperatura ambiente\n",
    "- Pide la temperatura en grados Celsius e indica si hace frío (menos de 15), calor (más de 30) o está templado.\n",
    "\n"
   ]
  },
  {
   "cell_type": "code",
   "execution_count": 5,
   "id": "7116dd6e",
   "metadata": {},
   "outputs": [
    {
     "name": "stdout",
     "output_type": "stream",
     "text": [
      "Hace calor\n"
     ]
    }
   ],
   "source": [
    "temperatura = float(input('Ingresa la temperatura: '))\n",
    "\n",
    "if (temperatura < 15):\n",
    "    print('Hace frío')\n",
    "\n",
    "elif (temperatura > 30):\n",
    "    print('Hace calor')\n",
    "\n",
    "else:\n",
    "    print('El clima está templado')"
   ]
  },
  {
   "cell_type": "markdown",
   "id": "b6e94115",
   "metadata": {},
   "source": [
    "3. Número dentro de un rango\n",
    "- Verifica si un número ingresado está entre 1 y 100."
   ]
  },
  {
   "cell_type": "code",
   "execution_count": 9,
   "id": "69951bcd",
   "metadata": {},
   "outputs": [
    {
     "name": "stdout",
     "output_type": "stream",
     "text": [
      "El número está dentro del rango\n"
     ]
    }
   ],
   "source": [
    "numero = int(input('Ingrese su numero'))\n",
    "\n",
    "if (1 <= numero <= 100):\n",
    "    print('El número está dentro del rango')\n",
    "\n",
    "else:\n",
    "    print('Fuera de rango')"
   ]
  },
  {
   "cell_type": "markdown",
   "id": "96ef2d56",
   "metadata": {},
   "source": [
    "4. Clasificación de IMC (Indice de Masa Corporal)\n",
    "- Calcula el IMC (peso / estatura²) y clasifica como bajo peso, normal, sobrepeso u obesidad."
   ]
  },
  {
   "cell_type": "code",
   "execution_count": null,
   "id": "c23cf353",
   "metadata": {},
   "outputs": [
    {
     "name": "stdout",
     "output_type": "stream",
     "text": [
      "Peso normal\n"
     ]
    }
   ],
   "source": [
    "peso = float(input('Peso en KG: '))\n",
    "altura = float(input('Estatura en metros: '))\n",
    "# Formula del IMC\n",
    "imc = peso / (altura ** 2)\n",
    "\n",
    "if (imc < 18):\n",
    "    print('Bajo peso')\n",
    "\n",
    "elif (imc < 24):\n",
    "    print('Peso normal')\n",
    "\n",
    "elif (imc < 30):\n",
    "    print('Sobrepeso')\n",
    "\n",
    "else:\n",
    "    print('Obesidad')"
   ]
  },
  {
   "cell_type": "markdown",
   "id": "f0b1983b",
   "metadata": {},
   "source": [
    "5. Acceso por rol\n",
    "- Según el rol ingresado (\"admin\", \"user\", \"guest\") mostrar un mensaje diferente."
   ]
  },
  {
   "cell_type": "code",
   "execution_count": 14,
   "id": "a97e81f4",
   "metadata": {},
   "outputs": [
    {
     "name": "stdout",
     "output_type": "stream",
     "text": [
      "Rol no reconocido\n"
     ]
    }
   ],
   "source": [
    "rol = input('Ingrese tu rol: ')\n",
    "\n",
    "if rol == 'admin':\n",
    "    print('Tienes acceso total')\n",
    "\n",
    "elif rol == 'user':\n",
    "    print('Tienes acceso limitado')\n",
    "\n",
    "elif rol == 'guest':\n",
    "    print('Acceso solo de lectura')\n",
    "\n",
    "else:\n",
    "    print('Rol no reconocido')"
   ]
  },
  {
   "cell_type": "markdown",
   "id": "7bbe60cf",
   "metadata": {},
   "source": [
    "6. Verificación de año bisiesto\n",
    "- Determina si un año es bisiesto."
   ]
  },
  {
   "cell_type": "code",
   "execution_count": 20,
   "id": "dd09ad62",
   "metadata": {},
   "outputs": [
    {
     "name": "stdout",
     "output_type": "stream",
     "text": [
      "1800 no es bisiesto\n"
     ]
    }
   ],
   "source": [
    "año = int(input('Ingrese un año: '))\n",
    "\n",
    "if ((año % 4 == 0) and (año % 100 != 0)) or (año % 400 == 0):\n",
    "    print(f'{año} es bisiesto')\n",
    "\n",
    "else:\n",
    "    print(f'{año} no es bisiesto')"
   ]
  },
  {
   "cell_type": "markdown",
   "id": "f07a4ea6",
   "metadata": {},
   "source": [
    "7. Validación de nota\n",
    "- Valida que la nota esté entre 0 y 20. Si no lo está, muestra error."
   ]
  },
  {
   "cell_type": "code",
   "execution_count": 25,
   "id": "6aa47d95",
   "metadata": {},
   "outputs": [
    {
     "name": "stdout",
     "output_type": "stream",
     "text": [
      "Nota Válida\n"
     ]
    }
   ],
   "source": [
    "nota = float(input('Ingresa una entre 0 y 20: '))\n",
    "\n",
    "if (0 <= nota <= 20):\n",
    "    print('Nota Válida')\n",
    "\n",
    "else:\n",
    "    print('Nota inválida')"
   ]
  },
  {
   "cell_type": "markdown",
   "id": "c440102b",
   "metadata": {},
   "source": [
    "8. Sistema de alertas meteorológicas\n",
    "- Según la velocidad del viento en km/h, indicar la categoría de alerta.\n",
    "\n",
    "    - Menos de 30 km/h: Normal\n",
    "\n",
    "    - 30 a 60 km/h: Precaución\n",
    "\n",
    "    - Más de 60 km/h: Alerta roja\n",
    "\n",
    "\n"
   ]
  },
  {
   "cell_type": "code",
   "execution_count": null,
   "id": "fefbe9c1",
   "metadata": {},
   "outputs": [],
   "source": [
    "viento = float(input('Velocidad del viento (km/h): '))\n",
    "\n",
    "if viento < 30: # normal\n",
    "    print('Condición Normal')\n",
    "\n",
    "elif viento <= 60: # precaucion\n",
    "    print('Precaución')\n",
    "\n",
    "else:\n",
    "    print('¡Aleta Roja! Cuidado con los vientos fuertes.')"
   ]
  },
  {
   "cell_type": "markdown",
   "id": "d210d7d3",
   "metadata": {},
   "source": [
    "9. Control de stock\n",
    "- Verifica el stock de un producto y muestra si hay suficiente (más de 10), bajo (entre 1 y 10), o agotado (0)."
   ]
  },
  {
   "cell_type": "code",
   "execution_count": 29,
   "id": "afdda0df",
   "metadata": {},
   "outputs": [
    {
     "name": "stdout",
     "output_type": "stream",
     "text": [
      "AGOTADO\n"
     ]
    }
   ],
   "source": [
    "stock = int(input('Stock actual del producto: '))\n",
    "\n",
    "if (stock > 10):\n",
    "    print('STOCK SUFICIENTE')\n",
    "\n",
    "elif (stock > 0):\n",
    "    print('STOCK BAJO')\n",
    "\n",
    "else:\n",
    "    print('AGOTADO')"
   ]
  },
  {
   "cell_type": "markdown",
   "id": "9ce8f903",
   "metadata": {},
   "source": [
    "10. Clasificación académica\n",
    "- Según el promedio final, indica si es:\n",
    "\n",
    "    - Excelente (18-20)\n",
    "\n",
    "    - Bueno (14-17.9)\n",
    "\n",
    "    - Regular (12-13.9)\n",
    "\n",
    "    - Deficiente (menor a 12)"
   ]
  },
  {
   "cell_type": "code",
   "execution_count": 44,
   "id": "b657a4bf",
   "metadata": {},
   "outputs": [
    {
     "name": "stdout",
     "output_type": "stream",
     "text": [
      "Nota invalida\n"
     ]
    }
   ],
   "source": [
    "promedio = float(input('Ingresa tu promedio final: '))\n",
    "\n",
    "if (20 >= promedio >= 18):\n",
    "    print('Excelente')\n",
    "\n",
    "elif (17.9 >= promedio >= 14):\n",
    "    print('Bueno')\n",
    "\n",
    "elif (13.9 >= promedio >= 12):\n",
    "    print('Regular')\n",
    "\n",
    "elif (11.9 >= promedio >= 0):\n",
    "    print('Deficiente')\n",
    "\n",
    "else:\n",
    "    print('Nota invalida')\n"
   ]
  }
 ],
 "metadata": {
  "kernelspec": {
   "display_name": "Python 3",
   "language": "python",
   "name": "python3"
  },
  "language_info": {
   "codemirror_mode": {
    "name": "ipython",
    "version": 3
   },
   "file_extension": ".py",
   "mimetype": "text/x-python",
   "name": "python",
   "nbconvert_exporter": "python",
   "pygments_lexer": "ipython3",
   "version": "3.13.4"
  }
 },
 "nbformat": 4,
 "nbformat_minor": 5
}
