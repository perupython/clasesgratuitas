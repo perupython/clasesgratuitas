{
 "cells": [
  {
   "cell_type": "markdown",
   "id": "42166c66",
   "metadata": {},
   "source": [
    "![Redes Sociales](../redes_sociales_pythonperu.png)"
   ]
  },
  {
   "cell_type": "markdown",
   "id": "5faf034b",
   "metadata": {},
   "source": [
    "🔰 Nivel Básico (1 al 3)"
   ]
  },
  {
   "cell_type": "markdown",
   "id": "c6c87c38",
   "metadata": {},
   "source": [
    "[Grabación de la clase](https://www.youtube.com/watch?v=4RAVoH3Of64)"
   ]
  },
  {
   "cell_type": "markdown",
   "id": "163726af",
   "metadata": {},
   "source": [
    "1. Verificador de contraseña\n",
    "- Pide al usuario que ingrese una contraseña y verifica si es correcta (la correcta es \"python123\")."
   ]
  },
  {
   "cell_type": "code",
   "execution_count": 2,
   "id": "aa51815c",
   "metadata": {},
   "outputs": [
    {
     "name": "stdout",
     "output_type": "stream",
     "text": [
      "Contraseña incorrecta\n"
     ]
    }
   ],
   "source": [
    "password = input('Ingrese la contraseña: ')\n",
    "\n",
    "# Verificar mi contraseña\n",
    "if password == 'python123':\n",
    "    print('Acceso permitido')\n",
    "\n",
    "else:\n",
    "    print('Contraseña incorrecta')\n"
   ]
  },
  {
   "cell_type": "markdown",
   "id": "20d75eb3",
   "metadata": {},
   "source": [
    "2. Temperatura ambiente\n",
    "- Pide la temperatura en grados Celsius e indica si hace frío (menos de 15), calor (más de 30) o está templado.\n",
    "\n"
   ]
  },
  {
   "cell_type": "code",
   "execution_count": 5,
   "id": "7116dd6e",
   "metadata": {},
   "outputs": [
    {
     "name": "stdout",
     "output_type": "stream",
     "text": [
      "Hace calor\n"
     ]
    }
   ],
   "source": [
    "temperatura = float(input('Ingresa la temperatura: '))\n",
    "\n",
    "if (temperatura < 15):\n",
    "    print('Hace frío')\n",
    "\n",
    "elif (temperatura > 30):\n",
    "    print('Hace calor')\n",
    "\n",
    "else:\n",
    "    print('El clima está templado')"
   ]
  },
  {
   "cell_type": "markdown",
   "id": "b6e94115",
   "metadata": {},
   "source": [
    "3. Número dentro de un rango\n",
    "- Verifica si un número ingresado está entre 1 y 100."
   ]
  },
  {
   "cell_type": "code",
   "execution_count": 9,
   "id": "69951bcd",
   "metadata": {},
   "outputs": [
    {
     "name": "stdout",
     "output_type": "stream",
     "text": [
      "El número está dentro del rango\n"
     ]
    }
   ],
   "source": [
    "numero = int(input('Ingrese su numero'))\n",
    "\n",
    "if (1 <= numero <= 100):\n",
    "    print('El número está dentro del rango')\n",
    "\n",
    "else:\n",
    "    print('Fuera de rango')"
   ]
  },
  {
   "cell_type": "markdown",
   "id": "96ef2d56",
   "metadata": {},
   "source": [
    "4. Clasificación de IMC (Indice de Masa Corporal)\n",
    "- Calcula el IMC (peso / estatura²) y clasifica como bajo peso, normal, sobrepeso u obesidad."
   ]
  },
  {
   "cell_type": "code",
   "execution_count": null,
   "id": "c23cf353",
   "metadata": {},
   "outputs": [
    {
     "name": "stdout",
     "output_type": "stream",
     "text": [
      "Peso normal\n"
     ]
    }
   ],
   "source": [
    "peso = float(input('Peso en KG: '))\n",
    "altura = float(input('Estatura en metros: '))\n",
    "# Formula del IMC\n",
    "imc = peso / (altura ** 2)\n",
    "\n",
    "if (imc < 18):\n",
    "    print('Bajo peso')\n",
    "\n",
    "elif (imc < 24):\n",
    "    print('Peso normal')\n",
    "\n",
    "elif (imc < 30):\n",
    "    print('Sobrepeso')\n",
    "\n",
    "else:\n",
    "    print('Obesidad')"
   ]
  },
  {
   "cell_type": "markdown",
   "id": "f0b1983b",
   "metadata": {},
   "source": [
    "5. Acceso por rol\n",
    "- Según el rol ingresado (\"admin\", \"user\", \"guest\") mostrar un mensaje diferente."
   ]
  },
  {
   "cell_type": "code",
   "execution_count": 14,
   "id": "a97e81f4",
   "metadata": {},
   "outputs": [
    {
     "name": "stdout",
     "output_type": "stream",
     "text": [
      "Rol no reconocido\n"
     ]
    }
   ],
   "source": [
    "rol = input('Ingrese tu rol: ')\n",
    "\n",
    "if rol == 'admin':\n",
    "    print('Tienes acceso total')\n",
    "\n",
    "elif rol == 'user':\n",
    "    print('Tienes acceso limitado')\n",
    "\n",
    "elif rol == 'guest':\n",
    "    print('Acceso solo de lectura')\n",
    "\n",
    "else:\n",
    "    print('Rol no reconocido')"
   ]
  },
  {
   "cell_type": "markdown",
   "id": "7bbe60cf",
   "metadata": {},
   "source": [
    "6. Verificación de año bisiesto\n",
    "- Determina si un año es bisiesto."
   ]
  },
  {
   "cell_type": "code",
   "execution_count": 20,
   "id": "dd09ad62",
   "metadata": {},
   "outputs": [
    {
     "name": "stdout",
     "output_type": "stream",
     "text": [
      "1800 no es bisiesto\n"
     ]
    }
   ],
   "source": [
    "año = int(input('Ingrese un año: '))\n",
    "\n",
    "if ((año % 4 == 0) and (año % 100 != 0)) or (año % 400 == 0):\n",
    "    print(f'{año} es bisiesto')\n",
    "\n",
    "else:\n",
    "    print(f'{año} no es bisiesto')"
   ]
  },
  {
   "cell_type": "markdown",
   "id": "f07a4ea6",
   "metadata": {},
   "source": [
    "7. Validación de nota\n",
    "- Valida que la nota esté entre 0 y 20. Si no lo está, muestra error."
   ]
  },
  {
   "cell_type": "code",
   "execution_count": 25,
   "id": "6aa47d95",
   "metadata": {},
   "outputs": [
    {
     "name": "stdout",
     "output_type": "stream",
     "text": [
      "Nota Válida\n"
     ]
    }
   ],
   "source": [
    "nota = float(input('Ingresa una entre 0 y 20: '))\n",
    "\n",
    "if (0 <= nota <= 20):\n",
    "    print('Nota Válida')\n",
    "\n",
    "else:\n",
    "    print('Nota inválida')"
   ]
  },
  {
   "cell_type": "markdown",
   "id": "c440102b",
   "metadata": {},
   "source": [
    "8. Sistema de alertas meteorológicas\n",
    "- Según la velocidad del viento en km/h, indicar la categoría de alerta.\n",
    "\n",
    "    - Menos de 30 km/h: Normal\n",
    "\n",
    "    - 30 a 60 km/h: Precaución\n",
    "\n",
    "    - Más de 60 km/h: Alerta roja\n",
    "\n",
    "\n"
   ]
  },
  {
   "cell_type": "code",
   "execution_count": null,
   "id": "fefbe9c1",
   "metadata": {},
   "outputs": [],
   "source": [
    "viento = float(input('Velocidad del viento (km/h): '))\n",
    "\n",
    "if viento < 30: # normal\n",
    "    print('Condición Normal')\n",
    "\n",
    "elif viento <= 60: # precaucion\n",
    "    print('Precaución')\n",
    "\n",
    "else:\n",
    "    print('¡Aleta Roja! Cuidado con los vientos fuertes.')"
   ]
  },
  {
   "cell_type": "markdown",
   "id": "d210d7d3",
   "metadata": {},
   "source": [
    "9. Control de stock\n",
    "- Verifica el stock de un producto y muestra si hay suficiente (más de 10), bajo (entre 1 y 10), o agotado (0)."
   ]
  },
  {
   "cell_type": "code",
   "execution_count": 29,
   "id": "afdda0df",
   "metadata": {},
   "outputs": [
    {
     "name": "stdout",
     "output_type": "stream",
     "text": [
      "AGOTADO\n"
     ]
    }
   ],
   "source": [
    "stock = int(input('Stock actual del producto: '))\n",
    "\n",
    "if (stock > 10):\n",
    "    print('STOCK SUFICIENTE')\n",
    "\n",
    "elif (stock > 0):\n",
    "    print('STOCK BAJO')\n",
    "\n",
    "else:\n",
    "    print('AGOTADO')"
   ]
  },
  {
   "cell_type": "markdown",
   "id": "9ce8f903",
   "metadata": {},
   "source": [
    "10. Clasificación académica\n",
    "- Según el promedio final, indica si es:\n",
    "\n",
    "    - Excelente (18-20)\n",
    "\n",
    "    - Bueno (14-17.9)\n",
    "\n",
    "    - Regular (12-13.9)\n",
    "\n",
    "    - Deficiente (menor a 12)"
   ]
  },
  {
   "cell_type": "code",
   "execution_count": 44,
   "id": "b657a4bf",
   "metadata": {},
   "outputs": [
    {
     "name": "stdout",
     "output_type": "stream",
     "text": [
      "Nota invalida\n"
     ]
    }
   ],
   "source": [
    "promedio = float(input('Ingresa tu promedio final: '))\n",
    "\n",
    "if (20 >= promedio >= 18):\n",
    "    print('Excelente')\n",
    "\n",
    "elif (17.9 >= promedio >= 14):\n",
    "    print('Bueno')\n",
    "\n",
    "elif (13.9 >= promedio >= 12):\n",
    "    print('Regular')\n",
    "\n",
    "elif (11.9 >= promedio >= 0):\n",
    "    print('Deficiente')\n",
    "\n",
    "else:\n",
    "    print('Nota invalida')\n"
   ]
  }
 ],
 "metadata": {
  "kernelspec": {
   "display_name": "Python 3",
   "language": "python",
   "name": "python3"
  },
  "language_info": {
   "codemirror_mode": {
    "name": "ipython",
    "version": 3
   },
   "file_extension": ".py",
   "mimetype": "text/x-python",
   "name": "python",
   "nbconvert_exporter": "python",
   "pygments_lexer": "ipython3",
   "version": "3.13.4"
  }
 },
 "nbformat": 4,
 "nbformat_minor": 5
}
