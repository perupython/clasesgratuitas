{
 "cells": [
  {
   "cell_type": "markdown",
   "id": "b2bfb4ca",
   "metadata": {},
   "source": [
    "✅ DÍA 1: Programación funcional en Python – parametros, argumentos"
   ]
  },
  {
   "cell_type": "code",
   "execution_count": null,
   "id": "a7a18124",
   "metadata": {},
   "outputs": [],
   "source": []
  }
 ],
 "metadata": {
  "language_info": {
   "name": "python"
  }
 },
 "nbformat": 4,
 "nbformat_minor": 5
}
