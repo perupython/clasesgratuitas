{
 "cells": [
  {
   "cell_type": "markdown",
   "id": "b2bfb4ca",
   "metadata": {},
   "source": [
    "✅ DÍA 1: Programación funcional en Python – parametros, argumentos"
   ]
  },
  {
   "cell_type": "markdown",
   "id": "39a3abce",
   "metadata": {},
   "source": [
    "📌 1. Introducción a las funciones\n",
    "- Una función es un bloque de código reutilizable que realiza una tarea específica.\n",
    "- Nos permite evitar la repetición de código y organizar mejor nuestro programa."
   ]
  },
  {
   "cell_type": "code",
   "execution_count": 1,
   "id": "a7a18124",
   "metadata": {},
   "outputs": [
    {
     "name": "stdout",
     "output_type": "stream",
     "text": [
      "Hola, bienvenido al mundo de Python\n"
     ]
    }
   ],
   "source": [
    "# Sintaxis básica\n",
    "# Definición de la función saludar\n",
    "def saludar():\n",
    "    print(\"Hola, bienvenido al mundo de Python\")\n",
    "\n",
    "# Llamado de la función\n",
    "saludar()"
   ]
  },
  {
   "cell_type": "markdown",
   "id": "5a4c1e55",
   "metadata": {},
   "source": [
    "📌 2. Funciones con parámetros\n",
    "- Las funciones pueden recibir valores llamados parámetros para personalizar su ejecución."
   ]
  },
  {
   "cell_type": "code",
   "execution_count": 2,
   "id": "ef1b4363",
   "metadata": {},
   "outputs": [
    {
     "name": "stdout",
     "output_type": "stream",
     "text": [
      "Hola, Yoshio\n"
     ]
    }
   ],
   "source": [
    "def saludar(nombre):\n",
    "    print(f\"Hola, {nombre}\")\n",
    "\n",
    "saludar(\"Yoshio\")"
   ]
  },
  {
   "cell_type": "markdown",
   "id": "a83bd81d",
   "metadata": {},
   "source": [
    "📌 3. Funciones que retornan valores\n",
    "- Las funciones pueden devolver resultados con la palabra `return`."
   ]
  },
  {
   "cell_type": "code",
   "execution_count": 3,
   "id": "f3584a1e",
   "metadata": {},
   "outputs": [
    {
     "name": "stdout",
     "output_type": "stream",
     "text": [
      "Resultado: 25\n"
     ]
    }
   ],
   "source": [
    "def cuadrado(x):\n",
    "    return x**2\n",
    "\n",
    "resultado = cuadrado(5)\n",
    "print(\"Resultado:\", resultado)"
   ]
  },
  {
   "cell_type": "markdown",
   "id": "b4ed97f9",
   "metadata": {},
   "source": [
    "📌 4. Parámetros opcionales y por defecto\n",
    "- Podemos asignar valores por defecto a los parámetros."
   ]
  },
  {
   "cell_type": "code",
   "execution_count": 4,
   "id": "bf4163f4",
   "metadata": {},
   "outputs": [
    {
     "name": "stdout",
     "output_type": "stream",
     "text": [
      "Hola, amigo\n",
      "Hola, Yoshio\n"
     ]
    }
   ],
   "source": [
    "def saludar(nombre=\"amigo\"):\n",
    "    print(f\"Hola, {nombre}\")\n",
    "\n",
    "saludar()\n",
    "saludar(\"Yoshio\")"
   ]
  },
  {
   "cell_type": "markdown",
   "id": "c8be6007",
   "metadata": {},
   "source": [
    "📌 5. Funciones con múltiples argumentos\n",
    "- Podemos tener varios parámetros, algunos con valor por defecto y otros obligatorios."
   ]
  },
  {
   "cell_type": "code",
   "execution_count": 5,
   "id": "bf37eb86",
   "metadata": {},
   "outputs": [
    {
     "name": "stdout",
     "output_type": "stream",
     "text": [
      "118.0\n",
      "121.0\n"
     ]
    }
   ],
   "source": [
    "def calcular_precio(base, impuesto=0.18):\n",
    "    return base + base * impuesto\n",
    "\n",
    "print(calcular_precio(100))\n",
    "print(calcular_precio(100, 0.21))"
   ]
  },
  {
   "cell_type": "markdown",
   "id": "290276f0",
   "metadata": {},
   "source": [
    "📌 6. *args y **kwargs\n",
    "- *args permite pasar una cantidad variable de argumentos.\n",
    "- **kwargs permite pasar argumentos nombrados como diccionario."
   ]
  },
  {
   "cell_type": "code",
   "execution_count": 6,
   "id": "88932723",
   "metadata": {},
   "outputs": [
    {
     "name": "stdout",
     "output_type": "stream",
     "text": [
      "600\n",
      "nombre: Laptop\n",
      "precio: 2500\n",
      "stock: 10\n"
     ]
    }
   ],
   "source": [
    "def resumen_ventas(*ventas):\n",
    "    return sum(ventas)\n",
    "\n",
    "print(resumen_ventas(100, 200, 300))\n",
    "\n",
    "def info_producto(**kwargs):\n",
    "    for clave, valor in kwargs.items():\n",
    "        print(f\"{clave}: {valor}\")\n",
    "\n",
    "info_producto(nombre=\"Laptop\", precio=2500, stock=10)"
   ]
  },
  {
   "cell_type": "markdown",
   "id": "55879430",
   "metadata": {},
   "source": [
    "📌 7. Funciones lambda\n",
    "- Una lambda es una función anónima, útil para operaciones pequeñas y rápidas."
   ]
  },
  {
   "cell_type": "code",
   "execution_count": 8,
   "id": "3c61807c",
   "metadata": {},
   "outputs": [
    {
     "name": "stdout",
     "output_type": "stream",
     "text": [
      "36\n"
     ]
    }
   ],
   "source": [
    "cuadrado = lambda x: x**2\n",
    "print(cuadrado(6))"
   ]
  },
  {
   "cell_type": "code",
   "execution_count": 9,
   "id": "4e50e07a",
   "metadata": {},
   "outputs": [
    {
     "data": {
      "text/html": [
       "<div>\n",
       "<style scoped>\n",
       "    .dataframe tbody tr th:only-of-type {\n",
       "        vertical-align: middle;\n",
       "    }\n",
       "\n",
       "    .dataframe tbody tr th {\n",
       "        vertical-align: top;\n",
       "    }\n",
       "\n",
       "    .dataframe thead th {\n",
       "        text-align: right;\n",
       "    }\n",
       "</style>\n",
       "<table border=\"1\" class=\"dataframe\">\n",
       "  <thead>\n",
       "    <tr style=\"text-align: right;\">\n",
       "      <th></th>\n",
       "      <th>edad</th>\n",
       "      <th>edad_doble</th>\n",
       "    </tr>\n",
       "  </thead>\n",
       "  <tbody>\n",
       "    <tr>\n",
       "      <th>0</th>\n",
       "      <td>20</td>\n",
       "      <td>40</td>\n",
       "    </tr>\n",
       "    <tr>\n",
       "      <th>1</th>\n",
       "      <td>30</td>\n",
       "      <td>60</td>\n",
       "    </tr>\n",
       "    <tr>\n",
       "      <th>2</th>\n",
       "      <td>25</td>\n",
       "      <td>50</td>\n",
       "    </tr>\n",
       "  </tbody>\n",
       "</table>\n",
       "</div>"
      ],
      "text/plain": [
       "   edad  edad_doble\n",
       "0    20          40\n",
       "1    30          60\n",
       "2    25          50"
      ]
     },
     "execution_count": 9,
     "metadata": {},
     "output_type": "execute_result"
    }
   ],
   "source": [
    "# Uso en ciencia de datos\n",
    "import pandas as pd\n",
    "df = pd.DataFrame({'edad': [20, 30, 25]})\n",
    "df['edad_doble'] = df['edad'].apply(lambda x: x*2)\n",
    "df"
   ]
  },
  {
   "cell_type": "markdown",
   "id": "9111dd3a",
   "metadata": {},
   "source": [
    "📌 8. Funciones dentro de funciones (closures)\n",
    "- Podemos definir una función dentro de otra. La interna puede usar las variables de la externa."
   ]
  },
  {
   "cell_type": "code",
   "execution_count": 10,
   "id": "d0e8098e",
   "metadata": {},
   "outputs": [
    {
     "name": "stdout",
     "output_type": "stream",
     "text": [
      "50\n"
     ]
    }
   ],
   "source": [
    "def multiplicador(factor):\n",
    "    def multiplicar(x):\n",
    "        return x * factor\n",
    "    return multiplicar\n",
    "\n",
    "por_diez = multiplicador(10)\n",
    "print(por_diez(5))"
   ]
  },
  {
   "cell_type": "markdown",
   "id": "dc494820",
   "metadata": {},
   "source": [
    "📌 9. Funciones como argumentos\n",
    "- Las funciones pueden ser pasadas como argumentos a otras funciones."
   ]
  },
  {
   "cell_type": "code",
   "execution_count": 11,
   "id": "a19aea38",
   "metadata": {},
   "outputs": [
    {
     "name": "stdout",
     "output_type": "stream",
     "text": [
      "[1, 4, 9]\n"
     ]
    }
   ],
   "source": [
    "def aplicar_funcion(f, datos):\n",
    "    return [f(x) for x in datos]\n",
    "\n",
    "def al_cuadrado(x):\n",
    "    return x**2\n",
    "\n",
    "valores = [1, 2, 3]\n",
    "print(aplicar_funcion(al_cuadrado, valores))"
   ]
  },
  {
   "cell_type": "markdown",
   "id": "e9a8cc32",
   "metadata": {},
   "source": [
    "📌 10. Decoradores\n",
    "- Un decorador permite modificar el comportamiento de una función sin cambiar su código."
   ]
  },
  {
   "cell_type": "code",
   "execution_count": 12,
   "id": "19c6b15f",
   "metadata": {},
   "outputs": [
    {
     "name": "stdout",
     "output_type": "stream",
     "text": [
      "👋 Inicio del saludo\n",
      "Hola mundo\n",
      "👋 Fin del saludo\n"
     ]
    }
   ],
   "source": [
    "def decorador_saludo(func):\n",
    "    def envoltura():\n",
    "        print(\"👋 Inicio del saludo\")\n",
    "        func()\n",
    "        print(\"👋 Fin del saludo\")\n",
    "    return envoltura\n",
    "\n",
    "@decorador_saludo\n",
    "def saludar():\n",
    "    print(\"Hola mundo\")\n",
    "\n",
    "saludar()"
   ]
  },
  {
   "cell_type": "markdown",
   "id": "be87efbe",
   "metadata": {},
   "source": [
    "📌 11. Funciones recursivas\n",
    "- Una función recursiva se llama a sí misma hasta cumplir una condición base."
   ]
  },
  {
   "cell_type": "code",
   "execution_count": 13,
   "id": "b6849d09",
   "metadata": {},
   "outputs": [
    {
     "name": "stdout",
     "output_type": "stream",
     "text": [
      "120\n"
     ]
    }
   ],
   "source": [
    "def factorial(n):\n",
    "    if n == 1:\n",
    "        return 1\n",
    "    return n * factorial(n-1)\n",
    "\n",
    "print(factorial(5))  # 120"
   ]
  },
  {
   "cell_type": "code",
   "execution_count": null,
   "id": "7c467702",
   "metadata": {},
   "outputs": [],
   "source": []
  },
  {
   "cell_type": "markdown",
   "id": "9bd1aa32",
   "metadata": {},
   "source": [
    "📌 12. Scope (ámbito de variables)\n",
    "- Las variables pueden ser locales (solo dentro de la función) o globales (fuera de la función).\n"
   ]
  },
  {
   "cell_type": "code",
   "execution_count": 14,
   "id": "b23bd94f",
   "metadata": {},
   "outputs": [
    {
     "name": "stdout",
     "output_type": "stream",
     "text": [
      "Dentro de la función: 5\n",
      "Fuera de la función: 10\n"
     ]
    }
   ],
   "source": [
    "x = 10\n",
    "\n",
    "def mostrar():\n",
    "    x = 5  # variable local\n",
    "    print(\"Dentro de la función:\", x)\n",
    "\n",
    "mostrar()\n",
    "print(\"Fuera de la función:\", x)"
   ]
  },
  {
   "cell_type": "markdown",
   "id": "f6b2789c",
   "metadata": {},
   "source": [
    "📊 CASOS EN CIENCIA DE DATOS\n",
    "- Estas funciones muestran cómo aplicar lo aprendido en contextos reales."
   ]
  },
  {
   "cell_type": "code",
   "execution_count": 15,
   "id": "a3a1b219",
   "metadata": {},
   "outputs": [
    {
     "data": {
      "text/html": [
       "<div>\n",
       "<style scoped>\n",
       "    .dataframe tbody tr th:only-of-type {\n",
       "        vertical-align: middle;\n",
       "    }\n",
       "\n",
       "    .dataframe tbody tr th {\n",
       "        vertical-align: top;\n",
       "    }\n",
       "\n",
       "    .dataframe thead th {\n",
       "        text-align: right;\n",
       "    }\n",
       "</style>\n",
       "<table border=\"1\" class=\"dataframe\">\n",
       "  <thead>\n",
       "    <tr style=\"text-align: right;\">\n",
       "      <th></th>\n",
       "      <th>producto</th>\n",
       "      <th>producto_limpio</th>\n",
       "    </tr>\n",
       "  </thead>\n",
       "  <tbody>\n",
       "    <tr>\n",
       "      <th>0</th>\n",
       "      <td>Leche-</td>\n",
       "      <td>leche</td>\n",
       "    </tr>\n",
       "    <tr>\n",
       "      <th>1</th>\n",
       "      <td>Pan-</td>\n",
       "      <td>pan</td>\n",
       "    </tr>\n",
       "    <tr>\n",
       "      <th>2</th>\n",
       "      <td>Arroz</td>\n",
       "      <td>arroz</td>\n",
       "    </tr>\n",
       "  </tbody>\n",
       "</table>\n",
       "</div>"
      ],
      "text/plain": [
       "  producto producto_limpio\n",
       "0   Leche-          leche \n",
       "1     Pan-            pan \n",
       "2   Arroz            arroz"
      ]
     },
     "execution_count": 15,
     "metadata": {},
     "output_type": "execute_result"
    }
   ],
   "source": [
    "# Limpieza de datos\n",
    "def limpiar_texto(cadena):\n",
    "    return cadena.strip().lower().replace(\"-\", \" \")\n",
    "\n",
    "df = pd.DataFrame({'producto': [' Leche-', 'Pan-', 'Arroz ']})\n",
    "df['producto_limpio'] = df['producto'].apply(limpiar_texto)\n",
    "df"
   ]
  },
  {
   "cell_type": "code",
   "execution_count": 16,
   "id": "ef2c3f13",
   "metadata": {},
   "outputs": [
    {
     "data": {
      "text/html": [
       "<div>\n",
       "<style scoped>\n",
       "    .dataframe tbody tr th:only-of-type {\n",
       "        vertical-align: middle;\n",
       "    }\n",
       "\n",
       "    .dataframe tbody tr th {\n",
       "        vertical-align: top;\n",
       "    }\n",
       "\n",
       "    .dataframe thead th {\n",
       "        text-align: right;\n",
       "    }\n",
       "</style>\n",
       "<table border=\"1\" class=\"dataframe\">\n",
       "  <thead>\n",
       "    <tr style=\"text-align: right;\">\n",
       "      <th></th>\n",
       "      <th>mean</th>\n",
       "      <th>std</th>\n",
       "      <th>min</th>\n",
       "      <th>max</th>\n",
       "    </tr>\n",
       "  </thead>\n",
       "  <tbody>\n",
       "    <tr>\n",
       "      <th>ingresos</th>\n",
       "      <td>1480.0</td>\n",
       "      <td>238.746728</td>\n",
       "      <td>1200.0</td>\n",
       "      <td>1800.0</td>\n",
       "    </tr>\n",
       "    <tr>\n",
       "      <th>egresos</th>\n",
       "      <td>670.0</td>\n",
       "      <td>148.323970</td>\n",
       "      <td>500.0</td>\n",
       "      <td>900.0</td>\n",
       "    </tr>\n",
       "  </tbody>\n",
       "</table>\n",
       "</div>"
      ],
      "text/plain": [
       "            mean         std     min     max\n",
       "ingresos  1480.0  238.746728  1200.0  1800.0\n",
       "egresos    670.0  148.323970   500.0   900.0"
      ]
     },
     "execution_count": 16,
     "metadata": {},
     "output_type": "execute_result"
    }
   ],
   "source": [
    "# Resumen estadístico personalizado\n",
    "def resumen_estadistico(df, columnas):\n",
    "    return df[columnas].describe().T[['mean', 'std', 'min', 'max']]\n",
    "\n",
    "df = pd.DataFrame({\n",
    "    'ingresos': [1200, 1500, 1300, 1600, 1800],\n",
    "    'egresos': [500, 700, 600, 650, 900]\n",
    "})\n",
    "\n",
    "resumen_estadistico(df, ['ingresos', 'egresos'])"
   ]
  },
  {
   "cell_type": "code",
   "execution_count": 17,
   "id": "7d3b04b7",
   "metadata": {},
   "outputs": [
    {
     "data": {
      "image/png": "[encoded data removed]",
      "text/plain": [
       "<Figure size 640x480 with 1 Axes>"
      ]
     },
     "metadata": {},
     "output_type": "display_data"
    }
   ],
   "source": [
    "# Función para graficar columnas categóricas\n",
    "import matplotlib.pyplot as plt\n",
    "\n",
    "def grafico_barras(columna):\n",
    "    conteo = df[columna].value_counts()\n",
    "    conteo.plot(kind='bar')\n",
    "    plt.title(f'Frecuencia de {columna}')\n",
    "    plt.xlabel(columna)\n",
    "    plt.ylabel(\"Frecuencia\")\n",
    "    plt.show()\n",
    "\n",
    "df = pd.DataFrame({'ciudad': ['Lima', 'Arequipa', 'Lima', 'Cusco', 'Lima']})\n",
    "grafico_barras('ciudad')"
   ]
  }
 ],
 "metadata": {
  "kernelspec": {
   "display_name": "Python 3",
   "language": "python",
   "name": "python3"
  },
  "language_info": {
   "codemirror_mode": {
    "name": "ipython",
    "version": 3
   },
   "file_extension": ".py",
   "mimetype": "text/x-python",
   "name": "python",
   "nbconvert_exporter": "python",
   "pygments_lexer": "ipython3",
   "version": "3.13.4"
  }
 },
 "nbformat": 4,
 "nbformat_minor": 5
}
