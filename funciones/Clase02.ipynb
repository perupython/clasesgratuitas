{
 "cells": [
  {
   "cell_type": "markdown",
   "metadata": {},
   "source": [
    "![Redes Sociales](../redes_sociales_pythonperu.png)"
   ]
  },
  {
   "cell_type": "code",
   "execution_count": 1,
   "metadata": {
    "id": "wRBQJPNBmNyt"
   },
   "outputs": [],
   "source": [
    "from functools import reduce"
   ]
  },
  {
   "cell_type": "markdown",
   "metadata": {
    "id": "ST-GevRyZSac"
   },
   "source": [
    "✅ DÍA 2: Programación funcional en Python – lambda, map, filter, reduce"
   ]
  },
  {
   "cell_type": "markdown",
   "metadata": {
    "id": "s5raLO2bZUqR"
   },
   "source": [
    "1. lambda (Funciones anónimas)\n",
    "- Funciones pequeñas que se definen sin nombre:  \n",
    "\n",
    "\n"
   ]
  },
  {
   "cell_type": "code",
   "execution_count": 2,
   "metadata": {
    "colab": {
     "base_uri": "https://localhost:8080/"
    },
    "id": "K_6RJdLKZH5D",
    "outputId": "ec22ab5a-448a-4b40-e404-96b6ee819241"
   },
   "outputs": [
    {
     "name": "stdout",
     "output_type": "stream",
     "text": [
      "10\n"
     ]
    }
   ],
   "source": [
    "f = lambda x: x * 2\n",
    "print(f(5))  # Resultado: 10"
   ]
  },
  {
   "cell_type": "markdown",
   "metadata": {
    "id": "xpCkyQcnbY7F"
   },
   "source": [
    "."
   ]
  },
  {
   "cell_type": "markdown",
   "metadata": {
    "id": "tjxZBiphZaCy"
   },
   "source": [
    "2. map(function, iterable)\n",
    "- Aplica una función a cada elemento de una lista:"
   ]
  },
  {
   "cell_type": "code",
   "execution_count": 3,
   "metadata": {
    "colab": {
     "base_uri": "https://localhost:8080/"
    },
    "id": "BiTR2S2UZXuk",
    "outputId": "27815568-da08-407b-8612-073b8349240e"
   },
   "outputs": [
    {
     "name": "stdout",
     "output_type": "stream",
     "text": [
      "[2, 4, 6, 8]\n"
     ]
    }
   ],
   "source": [
    "numeros = [1, 2, 3, 4]\n",
    "dobles = list(map(lambda x: x * 2, numeros))\n",
    "print(dobles)"
   ]
  },
  {
   "cell_type": "code",
   "execution_count": 4,
   "metadata": {
    "colab": {
     "base_uri": "https://localhost:8080/"
    },
    "id": "P9anUodXZyEd",
    "outputId": "fa4be88a-8a08-49df-9d10-c8d8fb2ac96e"
   },
   "outputs": [
    {
     "name": "stdout",
     "output_type": "stream",
     "text": [
      "[1, 8, 27, 64]\n"
     ]
    }
   ],
   "source": [
    "cubos = list(map(lambda x: x ** 3, numeros))\n",
    "print(cubos)"
   ]
  },
  {
   "cell_type": "markdown",
   "metadata": {
    "id": "Ze0-Ws07bZfM"
   },
   "source": [
    "."
   ]
  },
  {
   "cell_type": "markdown",
   "metadata": {
    "id": "G8Y3sGd2ZiE8"
   },
   "source": [
    "3. filter(function, iterable)\n",
    "- Filtra elementos de una lista según una condición:"
   ]
  },
  {
   "cell_type": "code",
   "execution_count": 5,
   "metadata": {
    "colab": {
     "base_uri": "https://localhost:8080/"
    },
    "id": "RaJ8EcXvZjQ7",
    "outputId": "57c9506e-2cfb-41b7-85d8-f53115180cfa"
   },
   "outputs": [
    {
     "name": "stdout",
     "output_type": "stream",
     "text": [
      "[2, 4]\n"
     ]
    }
   ],
   "source": [
    "pares = list(filter(lambda x: x % 2 == 0, numeros))\n",
    "print(pares)"
   ]
  },
  {
   "cell_type": "code",
   "execution_count": 6,
   "metadata": {
    "colab": {
     "base_uri": "https://localhost:8080/"
    },
    "id": "h3kiJA75ZqGT",
    "outputId": "df709fdb-0070-43e7-979a-1f4d4a53885b"
   },
   "outputs": [
    {
     "name": "stdout",
     "output_type": "stream",
     "text": [
      "[1, 3]\n"
     ]
    }
   ],
   "source": [
    "impares = list(filter(lambda x: x % 2 != 0, numeros))\n",
    "print(impares)"
   ]
  },
  {
   "cell_type": "markdown",
   "metadata": {
    "id": "5K8dbm-tZ-Sy"
   },
   "source": [
    "4. reduce(function, iterable) – Requiere functools\n",
    "- Reduce una lista a un solo valor aplicando una función acumulativa:"
   ]
  },
  {
   "cell_type": "code",
   "execution_count": 7,
   "metadata": {
    "colab": {
     "base_uri": "https://localhost:8080/"
    },
    "id": "B1c1P6zQaHdj",
    "outputId": "22f5e6f1-798f-4b79-a4d1-bcd85d52527c"
   },
   "outputs": [
    {
     "name": "stdout",
     "output_type": "stream",
     "text": [
      "10\n"
     ]
    }
   ],
   "source": [
    "suma = reduce(lambda x, y: x + y, numeros)  # Resultado: 10\n",
    "print(suma)"
   ]
  },
  {
   "cell_type": "markdown",
   "metadata": {
    "id": "IXL-8Bf0aqjc"
   },
   "source": [
    "- Recuerda que reduce siempre tomará solo 2 argumentos"
   ]
  },
  {
   "cell_type": "markdown",
   "metadata": {
    "id": "CIdf2dkZbXAx"
   },
   "source": [
    "."
   ]
  },
  {
   "cell_type": "markdown",
   "metadata": {
    "id": "ZTn_NHBmaogm"
   },
   "source": [
    "🎯 ¿Para qué sirven?\n",
    "- ✅ map() — Transformar datos"
   ]
  },
  {
   "cell_type": "markdown",
   "metadata": {
    "id": "5DoTLVjwax61"
   },
   "source": [
    "📌 Ejemplo en Ciencia de Datos:\n",
    "- Tienes una lista de precios en soles y quieres convertirla a dólares:"
   ]
  },
  {
   "cell_type": "code",
   "execution_count": 8,
   "metadata": {
    "colab": {
     "base_uri": "https://localhost:8080/"
    },
    "id": "ZZSBuQShaz0V",
    "outputId": "42635752-709e-4a36-db23-d7d1b793118c"
   },
   "outputs": [
    {
     "name": "stdout",
     "output_type": "stream",
     "text": [
      "[2.63, 5.26, 13.16, 26.32]\n"
     ]
    }
   ],
   "source": [
    "precios_soles = [10, 20, 50, 100]\n",
    "tipo_cambio = 3.8\n",
    "# Utilizamos la funcion map y lambda\n",
    "precios_dolares = list(map(lambda x: round(x / tipo_cambio, 2), precios_soles))\n",
    "print(precios_dolares)"
   ]
  },
  {
   "cell_type": "markdown",
   "metadata": {
    "id": "FdZ8E9YAbPpy"
   },
   "source": [
    "🧠 Útil para:\n",
    "\n",
    "- Escalar datos\n",
    "\n",
    "- Normalizar columnas\n",
    "\n",
    "- Limpiar texto\n",
    "\n",
    "- Convertir fechas, monedas, formatos\n",
    "\n"
   ]
  },
  {
   "cell_type": "markdown",
   "metadata": {
    "id": "VfRN9PfWbUgc"
   },
   "source": [
    ".\n",
    "\n"
   ]
  },
  {
   "cell_type": "markdown",
   "metadata": {
    "id": "566h6GTPbUKM"
   },
   "source": [
    "✅ filter() — Filtrar datos"
   ]
  },
  {
   "cell_type": "markdown",
   "metadata": {
    "id": "_B0oJBlbbg0m"
   },
   "source": [
    "📌 Ejemplo en Ciencia de Datos:\n",
    "- Filtrar edades mayores o iguales a 18 años:\n"
   ]
  },
  {
   "cell_type": "code",
   "execution_count": 9,
   "metadata": {
    "id": "tJ8UrkckbiIo"
   },
   "outputs": [
    {
     "name": "stdout",
     "output_type": "stream",
     "text": [
      "[18, 25, 30]\n"
     ]
    }
   ],
   "source": [
    "edades = [12, 17, 18, 25, 30]\n",
    "\n",
    "mayores = list(filter(lambda x: x >= 18, edades))\n",
    "print(mayores)"
   ]
  },
  {
   "cell_type": "markdown",
   "metadata": {
    "id": "C2SbNPl7cZ1-"
   },
   "source": [
    "🧠 Útil para:\n",
    "\n",
    "- Filtrar valores nulos, cero o extremos\n",
    "\n",
    "- Seleccionar filas que cumplan condiciones\n",
    "\n",
    "- Limpiar datos antes del modelad"
   ]
  },
  {
   "cell_type": "markdown",
   "metadata": {
    "id": "K2RzezSCcctW"
   },
   "source": [
    "."
   ]
  },
  {
   "cell_type": "markdown",
   "metadata": {
    "id": "1lfPwdS5cekR"
   },
   "source": [
    "✅ reduce() — Reducir datos a un valor\n"
   ]
  },
  {
   "cell_type": "markdown",
   "metadata": {
    "id": "Ae1C_CW2cgaR"
   },
   "source": [
    "\n",
    "\n",
    "📌 Ejemplo en Ciencia de Datos:\n",
    "- Calcular el producto acumulado de una lista:"
   ]
  },
  {
   "cell_type": "code",
   "execution_count": 10,
   "metadata": {
    "colab": {
     "base_uri": "https://localhost:8080/"
    },
    "id": "u7uReLCYcFOM",
    "outputId": "0c72d17b-af2b-4c46-d0f0-cc938e9a887f"
   },
   "outputs": [
    {
     "name": "stdout",
     "output_type": "stream",
     "text": [
      "1.0972500000000003\n"
     ]
    }
   ],
   "source": [
    "valores = [1.1, 1.05, 0.95]\n",
    "crecimiento_total = reduce(lambda x, y: x * y, valores)\n",
    "print(crecimiento_total)"
   ]
  },
  {
   "cell_type": "markdown",
   "metadata": {
    "id": "0aTCSqs-dCtD"
   },
   "source": [
    "🧠 Útil para:\n",
    "\n",
    "- Calcular suma total, promedio manual\n",
    "\n",
    "- Combinar textos en una sola cadena\n",
    "\n",
    "- Operaciones acumulativas o encadenadas"
   ]
  },
  {
   "cell_type": "markdown",
   "metadata": {
    "id": "73QyImY9dmVC"
   },
   "source": [
    "."
   ]
  },
  {
   "cell_type": "markdown",
   "metadata": {
    "id": "o9y0nr9kdmz1"
   },
   "source": [
    "🧪 Ejercicios prácticos"
   ]
  },
  {
   "cell_type": "markdown",
   "metadata": {
    "id": "FYbh-d-pdn6Z"
   },
   "source": [
    "\n",
    "1. Usa map para elevar una lista de números al cuadrado.\n",
    "\n",
    "2. Usa filter para quedarte solo con los mayores a 10.\n",
    "\n",
    "3. Usa lambda para definir una función que invierta una cadena.\n",
    "\n",
    "4. Crea una función que convierta una lista de precios en soles a dólares con map.\n",
    "\n",
    "5. Usa filter para quedarte solo con los nombres que empiecen con la letra “A”.\n",
    "\n",
    "6. Usa reduce para multiplicar todos los elementos de una lista.\n",
    "\n",
    "7. Haz un map + filter para transformar una lista de edades y filtrar solo los mayores de edad convertidos a cadena."
   ]
  },
  {
   "cell_type": "code",
   "execution_count": 11,
   "metadata": {
    "colab": {
     "base_uri": "https://localhost:8080/"
    },
    "id": "PDNJRlzLdlCJ",
    "outputId": "dad6e2cb-8b1f-499d-d02c-40da08804470"
   },
   "outputs": [
    {
     "name": "stdout",
     "output_type": "stream",
     "text": [
      "[1, 4, 9, 16, 25]\n"
     ]
    }
   ],
   "source": [
    "# 1\n",
    "numeros = [1,2,3,4,5]\n",
    "cuadrados = list(map(lambda x: x ** 2, numeros))\n",
    "print(cuadrados)"
   ]
  },
  {
   "cell_type": "code",
   "execution_count": 12,
   "metadata": {
    "colab": {
     "base_uri": "https://localhost:8080/"
    },
    "id": "Whn7bX0veKLc",
    "outputId": "bb1cf12b-39eb-47ef-c5d3-8dd8970bc5c7"
   },
   "outputs": [
    {
     "name": "stdout",
     "output_type": "stream",
     "text": [
      "[16, 25]\n"
     ]
    }
   ],
   "source": [
    "# 2\n",
    "mayores = list(filter(lambda x: x > 10, cuadrados))\n",
    "print(mayores)"
   ]
  },
  {
   "cell_type": "code",
   "execution_count": 13,
   "metadata": {
    "colab": {
     "base_uri": "https://localhost:8080/",
     "height": 36
    },
    "id": "V3diQ651e9bB",
    "outputId": "91337467-044e-45c2-e05f-77b75d007851"
   },
   "outputs": [
    {
     "data": {
      "text/plain": [
       "'aloH'"
      ]
     },
     "execution_count": 13,
     "metadata": {},
     "output_type": "execute_result"
    }
   ],
   "source": [
    "# 3\n",
    "cadena = 'Hola'\n",
    "invertido = lambda x: x[::-1]\n",
    "invertido(cadena)"
   ]
  },
  {
   "cell_type": "code",
   "execution_count": 14,
   "metadata": {
    "colab": {
     "base_uri": "https://localhost:8080/"
    },
    "id": "nH_C-8rvfGDp",
    "outputId": "934a399a-0dd6-4690-ae36-e4fe021fc0ff"
   },
   "outputs": [
    {
     "name": "stdout",
     "output_type": "stream",
     "text": [
      "[0.87, 1.22, 2.77]\n"
     ]
    }
   ],
   "source": [
    "# 4\n",
    "soles = [3.2,4.5,10.2]\n",
    "tasa_cambio = 3.68\n",
    "dolares = list(map(lambda x: round(x / tasa_cambio, 2), soles))\n",
    "print(dolares)"
   ]
  },
  {
   "cell_type": "code",
   "execution_count": 15,
   "metadata": {
    "colab": {
     "base_uri": "https://localhost:8080/"
    },
    "id": "7g-tFRyvfbzw",
    "outputId": "34f0382d-9f32-404f-9d6a-710b989e14dd"
   },
   "outputs": [
    {
     "name": "stdout",
     "output_type": "stream",
     "text": [
      "['Ana', 'Angela', 'Ariana', 'Antero']\n"
     ]
    }
   ],
   "source": [
    "# 5\n",
    "nombres = ['Ana', 'Rocio', 'Juan', 'Angela', 'Ariana', 'Antero']\n",
    "\n",
    "nombreA = list(filter(lambda x: x[0].startswith('A'), nombres))\n",
    "print(nombreA)"
   ]
  },
  {
   "cell_type": "code",
   "execution_count": 16,
   "metadata": {
    "colab": {
     "base_uri": "https://localhost:8080/"
    },
    "id": "qQIhbJjgf1Ct",
    "outputId": "06b9e75c-1cb2-4e28-d9f3-9e4241769d8a"
   },
   "outputs": [
    {
     "name": "stdout",
     "output_type": "stream",
     "text": [
      "17.9\n"
     ]
    }
   ],
   "source": [
    "# 6\n",
    "suma = reduce(lambda x, y: x + y, soles)\n",
    "print(suma)"
   ]
  },
  {
   "cell_type": "code",
   "execution_count": 17,
   "metadata": {
    "colab": {
     "base_uri": "https://localhost:8080/"
    },
    "id": "odklWiFegCYg",
    "outputId": "7f74de05-a524-47d7-c93b-ef7a25271b02"
   },
   "outputs": [
    {
     "name": "stdout",
     "output_type": "stream",
     "text": [
      "['19', '20', '18']\n"
     ]
    }
   ],
   "source": [
    "# 7\n",
    "# Haz un map + filter para transformar una lista de edades y filtrar solo los mayores de edad convertidos a cadena.\n",
    "edades = [19, 20, 16, 17, 18]\n",
    "\n",
    "cadenas = list(map(lambda x: str(x),filter(lambda x: x >= 18, edades)))\n",
    "print(cadenas)"
   ]
  },
  {
   "cell_type": "markdown",
   "metadata": {
    "id": "9SM81ccQhhdO"
   },
   "source": [
    "."
   ]
  },
  {
   "cell_type": "markdown",
   "metadata": {
    "id": "ed5O9KEjhk3P"
   },
   "source": [
    "🧠 Temas más avanzados con map, filter, reduce"
   ]
  },
  {
   "cell_type": "markdown",
   "metadata": {
    "id": "FdFhj5Gxhopc"
   },
   "source": [
    "1. Uso combinado de map + filter\n",
    "- Combinas ambas funciones en una sola línea para transformar y luego filtrar (o al revés)."
   ]
  },
  {
   "cell_type": "code",
   "execution_count": 18,
   "metadata": {
    "id": "JhxhZxQxhh_-"
   },
   "outputs": [],
   "source": [
    "# Datos crudos: ingresos mensuales en soles\n",
    "ingresos = [1500, 2500, 0, 3000, -200, 4500]"
   ]
  },
  {
   "cell_type": "code",
   "execution_count": 19,
   "metadata": {
    "colab": {
     "base_uri": "https://localhost:8080/"
    },
    "id": "qC9YGeYEh_rA",
    "outputId": "711d6694-89f5-4cb0-9a09-4eea30d004bb"
   },
   "outputs": [
    {
     "name": "stdout",
     "output_type": "stream",
     "text": [
      "[405.41, 675.68, 0.0, 810.81, 1216.22]\n"
     ]
    }
   ],
   "source": [
    "# Paso 1: Eliminar valores no válidos\n",
    "# Paso 2: Convertir a dólares (tipo de cambio: 3.7)\n",
    "\n",
    "ingresos_validos = list(\n",
    "    map(lambda x: round(x / 3.7, 2),filter(lambda x: x >= 0, ingresos)))\n",
    "\n",
    "print(ingresos_validos)"
   ]
  },
  {
   "cell_type": "markdown",
   "metadata": {
    "id": "zmf_WVOWhs4z"
   },
   "source": [
    "2. Aplicación sobre estructuras más complejas\n",
    "- Trabajar con map, filter y reduce sobre listas de diccionarios o listas anidadas."
   ]
  },
  {
   "cell_type": "code",
   "execution_count": 20,
   "metadata": {
    "colab": {
     "base_uri": "https://localhost:8080/"
    },
    "id": "iBZY2_fthur1",
    "outputId": "6fd777c1-498e-4f7d-d695-bab9dc238452"
   },
   "outputs": [
    {
     "name": "stdout",
     "output_type": "stream",
     "text": [
      "['LUCÍA', 'ANA']\n"
     ]
    }
   ],
   "source": [
    "clientes = [\n",
    "    {\"nombre\": \"Lucía\", \"edad\": 21},\n",
    "    {\"nombre\": \"Pedro\", \"edad\": 17},\n",
    "    {\"nombre\": \"Ana\", \"edad\": 30}\n",
    "]\n",
    "\n",
    "# Filtrar mayores de edad y transformar nombres a mayúsculas\n",
    "mayores = list(\n",
    "    map(lambda d: d['nombre'].upper(), filter(lambda d: d['edad'] >= 18, clientes))\n",
    ")\n",
    "\n",
    "print(mayores)"
   ]
  },
  {
   "cell_type": "code",
   "execution_count": 21,
   "metadata": {
    "colab": {
     "base_uri": "https://localhost:8080/"
    },
    "id": "zAOigdcskNpr",
    "outputId": "03bfc9a3-a849-4509-a364-03e504a4add3"
   },
   "outputs": [
    {
     "name": "stdout",
     "output_type": "stream",
     "text": [
      "[17.666666666666668, 12.0, 18.666666666666668]\n"
     ]
    }
   ],
   "source": [
    "# Lista de listas\n",
    "notas = [[15, 18, 20], [10, 12, 14], [17, 19, 20]]\n",
    "# Calcular el promedio de cada estudiante\n",
    "promedio = list(map(lambda g: sum(g) / len(g), notas))\n",
    "print(promedio)"
   ]
  },
  {
   "cell_type": "markdown",
   "metadata": {
    "id": "oBCkdd4Jhu0L"
   },
   "source": [
    "3. Análisis y limpieza de texto\n",
    "- Muy útil para procesar datos de redes sociales, nombres, productos, etc."
   ]
  },
  {
   "cell_type": "code",
   "execution_count": 22,
   "metadata": {
    "colab": {
     "base_uri": "https://localhost:8080/"
    },
    "id": "FMXGvN2dhx7J",
    "outputId": "71b65b91-c975-4bb5-e7b9-920267eb9ef2"
   },
   "outputs": [
    {
     "name": "stdout",
     "output_type": "stream",
     "text": [
      "['Ana', 'Carlos', 'Luis', 'Alberto']\n"
     ]
    }
   ],
   "source": [
    "nombres = [\"  ana\", \"CARLOS  \", \"luis\", \" Alberto\"]\n",
    "\n",
    "# Limpiar y normalizar\n",
    "limpios = list(map(lambda x: x.strip().title(), nombres))\n",
    "\n",
    "print(limpios)"
   ]
  },
  {
   "cell_type": "code",
   "execution_count": 23,
   "metadata": {
    "colab": {
     "base_uri": "https://localhost:8080/"
    },
    "id": "mTX250z9lFXa",
    "outputId": "5c87db42-d48f-4f52-ba67-a4243f04542f"
   },
   "outputs": [
    {
     "name": "stdout",
     "output_type": "stream",
     "text": [
      "{'es': 2, 'fácil': 1, 'genial': 1, 'Amo': 1, 'Python': 3}\n"
     ]
    }
   ],
   "source": [
    "# Contar palabras en una lista de frases\n",
    "frases = [\"Python es genial\", \"Python es fácil\", \"Amo Python\"]\n",
    "\n",
    "palabras = list(map(lambda x: x.split(), frases))\n",
    "\n",
    "todas = reduce(lambda x, y: x + y, palabras)\n",
    "conteo = {palabra: todas.count(palabra) for palabra in set(todas)}\n",
    "\n",
    "print(conteo)"
   ]
  },
  {
   "cell_type": "markdown",
   "metadata": {
    "id": "nRiRjhg1hyHg"
   },
   "source": [
    "4. Agregaciones personalizadas con reduce\n",
    "- Acumular de forma personalizada: conteos, concatenaciones, multiplicaciones, estructuras complejas."
   ]
  },
  {
   "cell_type": "markdown",
   "metadata": {
    "id": "ArhjJkKymgB4"
   },
   "source": [
    "🎯 Ejemplo: concatenar textos"
   ]
  },
  {
   "cell_type": "code",
   "execution_count": 24,
   "metadata": {
    "colab": {
     "base_uri": "https://localhost:8080/"
    },
    "id": "F3CbI2h1hyr2",
    "outputId": "8da00445-2af9-4643-cdba-c70bf454047a"
   },
   "outputs": [
    {
     "name": "stdout",
     "output_type": "stream",
     "text": [
      "1.09725\n"
     ]
    }
   ],
   "source": [
    "valores = [1.1, 0.95, 1.05]\n",
    "\n",
    "acumulado = reduce(lambda x, y: x * y, valores)\n",
    "print(acumulado)"
   ]
  },
  {
   "cell_type": "markdown",
   "metadata": {
    "id": "nzeeppOnmcov"
   },
   "source": [
    "🎯 Ejemplo: concatenar textos"
   ]
  },
  {
   "cell_type": "code",
   "execution_count": 25,
   "metadata": {
    "colab": {
     "base_uri": "https://localhost:8080/"
    },
    "id": "PeGuS7F4mhhs",
    "outputId": "37f5a297-a8d8-4446-840c-254c80161149"
   },
   "outputs": [
    {
     "name": "stdout",
     "output_type": "stream",
     "text": [
      "Python es increíble. Aprender es poder. Enseñar es mejor\n"
     ]
    }
   ],
   "source": [
    "frases = [\"Python es increíble\", \"Aprender es poder\", \"Enseñar es mejor\"]\n",
    "concatenar = reduce(lambda x, y: x + '. '+ y, frases)\n",
    "print(concatenar)"
   ]
  },
  {
   "cell_type": "markdown",
   "metadata": {
    "id": "F89lhK6tm6zc"
   },
   "source": [
    "5. Pipelines funcionales (ETL mini)\n",
    "- Encadenar map, filter y reduce para construir pequeños procesos de transformación de datos."
   ]
  },
  {
   "cell_type": "code",
   "execution_count": 26,
   "metadata": {
    "colab": {
     "base_uri": "https://localhost:8080/"
    },
    "id": "_d0ReXTBm9wC",
    "outputId": "0ad363ab-fda7-4727-940d-60562e361961"
   },
   "outputs": [
    {
     "name": "stdout",
     "output_type": "stream",
     "text": [
      "El promedio es 72.464\n"
     ]
    }
   ],
   "source": [
    "# Temperaturas registradas, con errores\n",
    "temperaturas = [22.4, 23.1, -999, 21.7, 24.3, -999, 20.9]\n",
    "\n",
    "# 1. Filtrar errores (-999)\n",
    "# 2. Convertir de °C a °F\n",
    "# 3. Calcular promedio\n",
    "\n",
    "valores_validos = list(filter(lambda x: x != -999, temperaturas))\n",
    "conversion = list(map(lambda t: round(t * 9/5 + 32, 2), valores_validos))\n",
    "promedio = reduce(lambda x, y: x + y, conversion) / len(conversion)\n",
    "\n",
    "print(f'El promedio es {promedio}')"
   ]
  },
  {
   "cell_type": "markdown",
   "metadata": {
    "id": "a66CC0LVoNHA"
   },
   "source": [
    "."
   ]
  },
  {
   "cell_type": "markdown",
   "metadata": {
    "id": "BvEFkk9HoNt0"
   },
   "source": [
    "🔥 Ejercicios avanzados"
   ]
  },
  {
   "cell_type": "markdown",
   "metadata": {
    "id": "NxzB1ArhoSEN"
   },
   "source": [
    "🧪 Ejercicio 1 – Limpieza de nombres\n",
    "- Tienes una lista de nombres sucios y quieres:\n",
    "\n",
    "1. Quitar espacios\n",
    "\n",
    "2. Pasarlos a minúsculas\n",
    "\n",
    "3. Filtrar los que comienzan con “a”"
   ]
  },
  {
   "cell_type": "code",
   "execution_count": 42,
   "metadata": {
    "id": "Yu3UTJC9ndSu"
   },
   "outputs": [
    {
     "name": "stdout",
     "output_type": "stream",
     "text": [
      "['ana', 'alberto', 'andrea']\n"
     ]
    }
   ],
   "source": [
    "nombres = [\"  Ana\", \"Alberto  \", \" Luis\", \"andrea\", \"Carlos \"]\n",
    "# Resultado esperado: ['ana', 'alberto', 'andrea']\n",
    "\n",
    "limpieza = list(filter(lambda x: x.startswith('a'),map(lambda x: x.strip().lower(), nombres)))\n",
    "\n",
    "print(limpieza)"
   ]
  },
  {
   "cell_type": "markdown",
   "metadata": {
    "id": "c3hO0I3Jo2AY"
   },
   "source": [
    "Usa map() para limpieza y filter() para condición.\n",
    "\n"
   ]
  },
  {
   "cell_type": "markdown",
   "metadata": {
    "id": "tGUTuctjoYvV"
   },
   "source": [
    "🧪 Ejercicio 2 – Lista de diccionarios: transformar y filtrar"
   ]
  },
  {
   "cell_type": "code",
   "execution_count": 28,
   "metadata": {
    "id": "kABc7SLhoaOJ"
   },
   "outputs": [],
   "source": [
    "clientes = [\n",
    "    {\"nombre\": \"Lucía\", \"edad\": 21},\n",
    "    {\"nombre\": \"Pedro\", \"edad\": 17},\n",
    "    {\"nombre\": \"Ana\", \"edad\": 30}\n",
    "]"
   ]
  },
  {
   "cell_type": "markdown",
   "metadata": {
    "id": "98n3lpKDocSS"
   },
   "source": [
    "Crea una lista de nombres en mayúsculas solo de mayores de edad."
   ]
  },
  {
   "cell_type": "code",
   "execution_count": 44,
   "metadata": {
    "id": "Mu4RTtKKocHz"
   },
   "outputs": [
    {
     "name": "stdout",
     "output_type": "stream",
     "text": [
      "['LUCÍA', 'ANA']\n"
     ]
    }
   ],
   "source": [
    "mayores = list(\n",
    "    map(lambda d: d['nombre'].upper(),filter(lambda d: d['edad'] > 18, clientes))\n",
    ")\n",
    "\n",
    "print(mayores)\n",
    "# R: ['LUCIA', 'ANA']"
   ]
  },
  {
   "cell_type": "markdown",
   "metadata": {
    "id": "WefBj44ZogFF"
   },
   "source": [
    "🧪 Ejercicio 3 – Reducción personalizada\n",
    "- Dada esta lista de productos vendidos por día:"
   ]
  },
  {
   "cell_type": "code",
   "execution_count": 45,
   "metadata": {
    "id": "JYbkQAr4oh8M"
   },
   "outputs": [],
   "source": [
    "ventas = [100, 200, 150, 300]"
   ]
  },
  {
   "cell_type": "markdown",
   "metadata": {
    "id": "wA-gyP9tojQw"
   },
   "source": [
    "Calcula con reduce el total de ganancias asumiendo que el 18% es IGV (es decir, te quedas con el 82%)."
   ]
  },
  {
   "cell_type": "code",
   "execution_count": 46,
   "metadata": {
    "id": "SDrNt4Oeokf_"
   },
   "outputs": [
    {
     "name": "stdout",
     "output_type": "stream",
     "text": [
      "Total sin IGV: 615.0\n"
     ]
    }
   ],
   "source": [
    "total_ganancias = reduce(lambda x, y: x + y, ventas) * 0.82\n",
    "print(f'Total sin IGV: {total_ganancias}')\n",
    "\n",
    "# R: Total sin IGV: 615.0"
   ]
  },
  {
   "cell_type": "markdown",
   "metadata": {
    "id": "58Vs49JdonSb"
   },
   "source": [
    "🧪 Ejercicio 4 – Encadenamiento map + filter + reduce\n",
    "- Dado un listado de precios con valores incorrectos (0 o negativos):"
   ]
  },
  {
   "cell_type": "code",
   "execution_count": null,
   "metadata": {
    "id": "U8nWLDw8oou0"
   },
   "outputs": [],
   "source": [
    "precios = [120, -10, 200, 0, 80]"
   ]
  },
  {
   "cell_type": "markdown",
   "metadata": {
    "id": "jcV69TuyopkG"
   },
   "source": [
    "- Filtra solo precios válidos (> 0)\n",
    "\n",
    "- Convierte a dólares (tipo cambio = 3.7)\n",
    "\n",
    "- Suma total en dólares"
   ]
  },
  {
   "cell_type": "code",
   "execution_count": 51,
   "metadata": {
    "id": "xhSITStQosWy"
   },
   "outputs": [
    {
     "name": "stdout",
     "output_type": "stream",
     "text": [
      "[32.43, 54.05, 21.62] → total: 108.1\n"
     ]
    }
   ],
   "source": [
    "filtrado = list(filter(lambda x: x > 0, precios))\n",
    "conversion = list(map(lambda x: round(x / 3.7, 2), filtrado))\n",
    "suma = reduce(lambda x, y: x + y, conversion)\n",
    "\n",
    "print(f'{conversion} → total: {suma}')\n",
    "# R: [32.43, 54.05, 21.62]  → total: 108.1"
   ]
  },
  {
   "cell_type": "markdown",
   "metadata": {
    "id": "L-UmvuuPouwY"
   },
   "source": [
    "🧪 Ejercicio 5 – Procesamiento de texto con reduce\n",
    "- Dada una lista de frases, construye un solo texto concatenado con punto final:\n"
   ]
  },
  {
   "cell_type": "code",
   "execution_count": 34,
   "metadata": {
    "id": "ABKHQf0zowNR"
   },
   "outputs": [],
   "source": [
    "frases = [\"Python es poderoso\", \"Puedes analizar datos\", \"Visualizar con facilidad\"]"
   ]
  },
  {
   "cell_type": "code",
   "execution_count": 52,
   "metadata": {
    "id": "jP3A75tooxKj"
   },
   "outputs": [
    {
     "name": "stdout",
     "output_type": "stream",
     "text": [
      "Python es poderoso. Puedes analizar datos. Visualizar con facilidad\n"
     ]
    }
   ],
   "source": [
    "total = reduce(lambda x, y: x + '. ' + y, frases)\n",
    "print(total)\n",
    "\n",
    "# R: \"Python es poderoso. Puedes analizar datos. Visualizar con facilidad.\""
   ]
  }
 ],
 "metadata": {
  "colab": {
   "provenance": []
  },
  "kernelspec": {
   "display_name": "Python 3 (ipykernel)",
   "language": "python",
   "name": "python3"
  },
  "language_info": {
   "codemirror_mode": {
    "name": "ipython",
    "version": 3
   },
   "file_extension": ".py",
   "mimetype": "text/x-python",
   "name": "python",
   "nbconvert_exporter": "python",
   "pygments_lexer": "ipython3",
   "version": "3.13.7"
  },
  "widgets": {
   "application/vnd.jupyter.widget-state+json": {
    "state": {},
    "version_major": 2,
    "version_minor": 0
   }
  }
 },
 "nbformat": 4,
 "nbformat_minor": 4
}
