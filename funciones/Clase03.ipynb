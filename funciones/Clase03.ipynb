{
 "cells": [
  {
   "cell_type": "markdown",
   "id": "e3217701-2b67-41dc-ba93-61e7936b6276",
   "metadata": {},
   "source": [
    "![Redes Sociales](../redes_sociales_pythonperu.png)"
   ]
  },
  {
   "cell_type": "markdown",
   "id": "c99f56b0-7ade-4cf1-baa5-48d3717685f1",
   "metadata": {},
   "source": [
    "# **Funciones en Python para Análisis y Automatización de Datos**"
   ]
  },
  {
   "cell_type": "markdown",
   "id": "f61451e9-95a0-4756-9542-e5335faa697e",
   "metadata": {},
   "source": [
    "### 1. Introducción a Funciones en Python  \n",
    "\n",
    "Definición: Una función es un bloque de código reutilizable que realiza una tarea específica.\n",
    "\n",
    "Ventajas:\n",
    "\n",
    "- Reutilización de código\n",
    "\n",
    "- Organización y claridad\n",
    "\n",
    "- Mantenimiento más sencillo\n",
    "\n",
    "- Escalabilidad (se usan en análisis de datos, ML, automatizaciones)"
   ]
  },
  {
   "cell_type": "code",
   "execution_count": 2,
   "id": "c7b506d7-d451-48a3-ba5d-33b22e13444a",
   "metadata": {},
   "outputs": [
    {
     "name": "stdout",
     "output_type": "stream",
     "text": [
      "Hola Leonardo, bienvenido al Live!\n"
     ]
    }
   ],
   "source": [
    "# Ejemplo básico\n",
    "nombre = 'Leonardo'\n",
    "print(f'Hola {nombre}, bienvenido al Live!')"
   ]
  },
  {
   "cell_type": "code",
   "execution_count": 3,
   "id": "21a444e3-2d3f-4519-9655-0ce6a41d50dd",
   "metadata": {},
   "outputs": [
    {
     "name": "stdout",
     "output_type": "stream",
     "text": [
      "Hola Ricardo, bienvenido al Live!\n"
     ]
    }
   ],
   "source": [
    "nombre = 'Ricardo'\n",
    "print(f'Hola {nombre}, bienvenido al Live!')"
   ]
  },
  {
   "cell_type": "code",
   "execution_count": 4,
   "id": "1d37d98e-cb21-4700-9097-0b474d8dc6ad",
   "metadata": {},
   "outputs": [
    {
     "name": "stdout",
     "output_type": "stream",
     "text": [
      "Hola Vladimir, bienvenido al Live!\n"
     ]
    }
   ],
   "source": [
    "nombre = 'Vladimir'\n",
    "print(f'Hola {nombre}, bienvenido al Live!')"
   ]
  },
  {
   "cell_type": "code",
   "execution_count": 5,
   "id": "69ff6a1c-1053-4a5c-900a-020abc84b96f",
   "metadata": {},
   "outputs": [],
   "source": [
    "# Definición de la función \"saludo\"\n",
    "def saludo(nombre1):\n",
    "    return f'Hola {nombre1}, bienvenido al Live!'"
   ]
  },
  {
   "cell_type": "code",
   "execution_count": 6,
   "id": "e97943ef-9d02-4f5f-8ec7-357eea63517e",
   "metadata": {},
   "outputs": [
    {
     "data": {
      "text/plain": [
       "'Hola Leonardo, bienvenido al Live!'"
      ]
     },
     "execution_count": 6,
     "metadata": {},
     "output_type": "execute_result"
    }
   ],
   "source": [
    "# Llamado a \"saludo\"\n",
    "saludo('Leonardo')"
   ]
  },
  {
   "cell_type": "code",
   "execution_count": 7,
   "id": "7c6bdca6-3b22-435a-ba83-827e199010ac",
   "metadata": {},
   "outputs": [
    {
     "data": {
      "text/plain": [
       "'Hola Ricardo, bienvenido al Live!'"
      ]
     },
     "execution_count": 7,
     "metadata": {},
     "output_type": "execute_result"
    }
   ],
   "source": [
    "saludo('Ricardo')"
   ]
  },
  {
   "cell_type": "code",
   "execution_count": 8,
   "id": "3821e075-f50a-4d5c-8df8-e2e1fc902aef",
   "metadata": {},
   "outputs": [
    {
     "data": {
      "text/plain": [
       "'Hola Vladimir, bienvenido al Live!'"
      ]
     },
     "execution_count": 8,
     "metadata": {},
     "output_type": "execute_result"
    }
   ],
   "source": [
    "saludo('Vladimir')"
   ]
  },
  {
   "cell_type": "code",
   "execution_count": 9,
   "id": "a72bcc0c-d8a9-4b0a-ab23-a43e7d6e1a58",
   "metadata": {},
   "outputs": [],
   "source": [
    "# Asignar una función a una variable\n",
    "def area_triangulo(base, altura):\n",
    "    return (base * altura) / 2"
   ]
  },
  {
   "cell_type": "code",
   "execution_count": 10,
   "id": "21166365-fc4e-46f1-a022-8ed6d7f8c29c",
   "metadata": {},
   "outputs": [
    {
     "data": {
      "text/plain": [
       "21.0"
      ]
     },
     "execution_count": 10,
     "metadata": {},
     "output_type": "execute_result"
    }
   ],
   "source": [
    "area_triangulo(6, 7)"
   ]
  },
  {
   "cell_type": "code",
   "execution_count": 11,
   "id": "ecf80e12-5980-4cc6-b7a8-fceb3901de80",
   "metadata": {},
   "outputs": [
    {
     "name": "stdout",
     "output_type": "stream",
     "text": [
      "20.0\n"
     ]
    }
   ],
   "source": [
    "ABC_area = area_triangulo(8, 5)\n",
    "print(ABC_area)"
   ]
  },
  {
   "cell_type": "code",
   "execution_count": 12,
   "id": "d0efb76b-56f5-4fc4-82d7-5f102cbc48b8",
   "metadata": {},
   "outputs": [
    {
     "data": {
      "text/plain": [
       "float"
      ]
     },
     "execution_count": 12,
     "metadata": {},
     "output_type": "execute_result"
    }
   ],
   "source": [
    "# Reconocer un tipo de dato\n",
    "type(area_triangulo(8, 5))\n",
    "# float: Numero decimal"
   ]
  },
  {
   "cell_type": "markdown",
   "id": "c87fad24-6c16-45c0-aab1-89fec4de4d3a",
   "metadata": {},
   "source": [
    "### 2. Ejercicios Básicos\n",
    "Ejercicio 1: Calcular el promedio de una lista"
   ]
  },
  {
   "cell_type": "code",
   "execution_count": 13,
   "id": "c8ee68af-8421-4f6f-b47f-30c5702c6cd2",
   "metadata": {},
   "outputs": [],
   "source": [
    "# Solución\n",
    "# list: estructura de datos mutable(que se puede modificar)\n",
    "def promedio(lista):\n",
    "    return sum(lista) / len(lista)"
   ]
  },
  {
   "cell_type": "code",
   "execution_count": 14,
   "id": "88543f65-6956-48df-815b-da1b1358200f",
   "metadata": {},
   "outputs": [
    {
     "data": {
      "text/plain": [
       "15.8"
      ]
     },
     "execution_count": 14,
     "metadata": {},
     "output_type": "execute_result"
    }
   ],
   "source": [
    "notas_A = [14, 17, 19, 13, 16]\n",
    "promedio(notas_A)"
   ]
  },
  {
   "cell_type": "code",
   "execution_count": 15,
   "id": "f5001715-58d5-4bdc-ae91-cf67b7d39b23",
   "metadata": {},
   "outputs": [
    {
     "data": {
      "text/plain": [
       "17.514285714285716"
      ]
     },
     "execution_count": 15,
     "metadata": {},
     "output_type": "execute_result"
    }
   ],
   "source": [
    "temperaturas = [16, 18.6, 20, 22.3, 14.4, 15, 16.3]\n",
    "promedio(temperaturas)"
   ]
  },
  {
   "cell_type": "markdown",
   "id": "f6fc7940-9311-4621-abb9-9fa60795e5d0",
   "metadata": {},
   "source": [
    "Ejercicio 2: Convertir soles a dólares"
   ]
  },
  {
   "cell_type": "code",
   "execution_count": 16,
   "id": "c102a3e2-b906-4630-ae8e-9d61a814dcdd",
   "metadata": {},
   "outputs": [],
   "source": [
    "# Solución\n",
    "def convertir_pen_usd(soles, tipo_cambio=3.55):\n",
    "    return (soles / tipo_cambio)"
   ]
  },
  {
   "cell_type": "code",
   "execution_count": 17,
   "id": "0ce890b1-ce6e-43ac-acbc-53cc66ca30bb",
   "metadata": {},
   "outputs": [
    {
     "data": {
      "text/plain": [
       "394.3661971830986"
      ]
     },
     "execution_count": 17,
     "metadata": {},
     "output_type": "execute_result"
    }
   ],
   "source": [
    "convertir_pen_usd(1400)"
   ]
  },
  {
   "cell_type": "code",
   "execution_count": 18,
   "id": "50f0211f-bced-45bc-aeea-6b28c6a78b76",
   "metadata": {},
   "outputs": [
    {
     "data": {
      "text/plain": [
       "607.7348066298342"
      ]
     },
     "execution_count": 18,
     "metadata": {},
     "output_type": "execute_result"
    }
   ],
   "source": [
    "convertir_pen_usd(2200, 3.62)"
   ]
  },
  {
   "cell_type": "code",
   "execution_count": 19,
   "id": "9124d155-b831-4eb3-85c0-5575936eee7c",
   "metadata": {},
   "outputs": [
    {
     "data": {
      "text/plain": [
       "619.7183098591549"
      ]
     },
     "execution_count": 19,
     "metadata": {},
     "output_type": "execute_result"
    }
   ],
   "source": [
    "convertir_pen_usd(2200)"
   ]
  },
  {
   "cell_type": "markdown",
   "id": "de4bf953-00b8-4710-aa78-4000a51d3763",
   "metadata": {},
   "source": [
    "### 3. Funciones con Condicionales"
   ]
  },
  {
   "cell_type": "markdown",
   "id": "6d241773-f50b-4a4e-b0e1-3aff3cb5dbe6",
   "metadata": {},
   "source": [
    "Ejercicio 3: Clasificación de notas"
   ]
  },
  {
   "cell_type": "code",
   "execution_count": 20,
   "id": "7d555b72-e274-4b58-b87f-32bb0cb83704",
   "metadata": {},
   "outputs": [],
   "source": [
    "# Solución\n",
    "def clasificar_nota(nota):\n",
    "    # si nota es mayor o igual que 14\n",
    "    if (nota >= 14):\n",
    "        return 'Aprobado'\n",
    "    else:\n",
    "        return 'Desaprobado'        "
   ]
  },
  {
   "cell_type": "code",
   "execution_count": 21,
   "id": "26dc3e71-a6ba-4ad2-97ff-f4646c4215c1",
   "metadata": {},
   "outputs": [
    {
     "data": {
      "text/plain": [
       "'Aprobado'"
      ]
     },
     "execution_count": 21,
     "metadata": {},
     "output_type": "execute_result"
    }
   ],
   "source": [
    "clasificar_nota(15)"
   ]
  },
  {
   "cell_type": "code",
   "execution_count": 22,
   "id": "625c4dc8-8b19-4774-8024-9cfcdc2047f3",
   "metadata": {},
   "outputs": [
    {
     "data": {
      "text/plain": [
       "'Aprobado'"
      ]
     },
     "execution_count": 22,
     "metadata": {},
     "output_type": "execute_result"
    }
   ],
   "source": [
    "# Sin organizacion\n",
    "lista_notas = [16.7, 15.6, 19.6, 20]\n",
    "clasificar_nota(promedio(lista_notas))"
   ]
  },
  {
   "cell_type": "code",
   "execution_count": 23,
   "id": "58f36d47-8250-41fd-8c55-704d85b26b3d",
   "metadata": {},
   "outputs": [
    {
     "data": {
      "text/plain": [
       "'Aprobado'"
      ]
     },
     "execution_count": 23,
     "metadata": {},
     "output_type": "execute_result"
    }
   ],
   "source": [
    "# Organizacion\n",
    "# Crear una lista de notas\n",
    "lista_notas = [16.7, 15.6, 19.6, 20]\n",
    "# Promediando mis notas \n",
    "nota_promedio = promedio(lista_notas)\n",
    "# Usando la función para clasificar mi nota promedio\n",
    "clasificar_nota(nota_promedio)"
   ]
  },
  {
   "cell_type": "markdown",
   "id": "dc282c21-7515-412d-8f58-643f9afcb07c",
   "metadata": {},
   "source": [
    "Ejercicio 4: Contar palabras en un texto"
   ]
  },
  {
   "cell_type": "code",
   "execution_count": 24,
   "id": "f63785eb-a5f5-49a0-a190-f9ff5bc902c9",
   "metadata": {},
   "outputs": [],
   "source": [
    "# Solución\n",
    "def contar_palabras(texto):\n",
    "    palabras = texto.split()\n",
    "    return len(palabras)"
   ]
  },
  {
   "cell_type": "code",
   "execution_count": 25,
   "id": "71a47e91-c223-4cd4-a473-cb69b46b6a28",
   "metadata": {},
   "outputs": [
    {
     "data": {
      "text/plain": [
       "['Mi', 'apellido', 'es', 'Rivera.', 'Mi', 'nombre', 'es', 'Juan']"
      ]
     },
     "execution_count": 25,
     "metadata": {},
     "output_type": "execute_result"
    }
   ],
   "source": [
    "parrafo = 'Mi apellido es Rivera. Mi nombre es Juan' # string (str)\n",
    "# Convierte de texto a una lista\n",
    "parrafo.split()"
   ]
  },
  {
   "cell_type": "code",
   "execution_count": 26,
   "id": "d2aaa918-82d0-42c8-a6ce-0f1352e1b22e",
   "metadata": {},
   "outputs": [
    {
     "data": {
      "text/plain": [
       "8"
      ]
     },
     "execution_count": 26,
     "metadata": {},
     "output_type": "execute_result"
    }
   ],
   "source": [
    "# Retorna el numero de elemento de la lista\n",
    "len(parrafo.split())"
   ]
  },
  {
   "cell_type": "code",
   "execution_count": 27,
   "id": "018e3602-93a7-43dc-912f-9cc8c4dc8ac2",
   "metadata": {},
   "outputs": [
    {
     "data": {
      "text/plain": [
       "8"
      ]
     },
     "execution_count": 27,
     "metadata": {},
     "output_type": "execute_result"
    }
   ],
   "source": [
    "contar_palabras('Mi apellido es Rivera. Mi nombre es Juan')"
   ]
  },
  {
   "cell_type": "code",
   "execution_count": 28,
   "id": "26d5e267-e59d-4550-a252-d82f426a11d4",
   "metadata": {},
   "outputs": [
    {
     "data": {
      "text/plain": [
       "'Mi apellido es , Rivera.'"
      ]
     },
     "execution_count": 28,
     "metadata": {},
     "output_type": "execute_result"
    }
   ],
   "source": [
    "'Mi apellido es, Rivera.'.replace(',', ' ,')"
   ]
  },
  {
   "cell_type": "markdown",
   "id": "88dd593b-20ce-4130-81a5-382692cffc32",
   "metadata": {},
   "source": [
    "### 4. Funciones con Bucles"
   ]
  },
  {
   "cell_type": "code",
   "execution_count": 35,
   "id": "c28501f1-7411-4614-9460-07b0fc37e6c8",
   "metadata": {},
   "outputs": [
    {
     "name": "stdout",
     "output_type": "stream",
     "text": [
      "[16.7, 15.6, 19.6, 20]\n"
     ]
    },
    {
     "data": {
      "text/plain": [
       "71.9"
      ]
     },
     "execution_count": 35,
     "metadata": {},
     "output_type": "execute_result"
    }
   ],
   "source": [
    "# sum(): Suma los numeros de una lista\n",
    "print(lista_notas)\n",
    "sum(lista_notas)"
   ]
  },
  {
   "cell_type": "code",
   "execution_count": 30,
   "id": "b213e9a0-c331-488a-b162-67652a455f91",
   "metadata": {},
   "outputs": [],
   "source": [
    "# Una función para realizar una suma de números\n",
    "def sumar(lista):\n",
    "    suma = 0\n",
    "    for i in lista:\n",
    "        suma += i\n",
    "    return suma"
   ]
  },
  {
   "cell_type": "code",
   "execution_count": 36,
   "id": "6bc51138-3169-4d80-adf6-37e7922c0fce",
   "metadata": {},
   "outputs": [
    {
     "name": "stdout",
     "output_type": "stream",
     "text": [
      "71.9\n"
     ]
    }
   ],
   "source": [
    "suma = 0\n",
    "for nota in lista_notas:\n",
    "    suma += nota\n",
    "\n",
    "print(suma)"
   ]
  },
  {
   "cell_type": "code",
   "execution_count": 37,
   "id": "8b62d4ec-092b-4da8-aaf4-6d697facc5ca",
   "metadata": {},
   "outputs": [
    {
     "data": {
      "text/plain": [
       "71.9"
      ]
     },
     "execution_count": 37,
     "metadata": {},
     "output_type": "execute_result"
    }
   ],
   "source": [
    "sumar(lista_notas)"
   ]
  },
  {
   "cell_type": "code",
   "execution_count": 38,
   "id": "50e83474-3751-465a-8f7a-ba8dadf65d19",
   "metadata": {},
   "outputs": [
    {
     "data": {
      "text/plain": [
       "122.60000000000001"
      ]
     },
     "execution_count": 38,
     "metadata": {},
     "output_type": "execute_result"
    }
   ],
   "source": [
    "sumar(temperaturas)"
   ]
  },
  {
   "cell_type": "code",
   "execution_count": 39,
   "id": "ce2274aa-4115-473a-9152-e74693ea420b",
   "metadata": {},
   "outputs": [
    {
     "data": {
      "text/plain": [
       "138"
      ]
     },
     "execution_count": 39,
     "metadata": {},
     "output_type": "execute_result"
    }
   ],
   "source": [
    "sumar([20, 24, 39, 55])"
   ]
  },
  {
   "cell_type": "code",
   "execution_count": 40,
   "id": "7373fa15-e488-4519-9410-51f5b6facc56",
   "metadata": {},
   "outputs": [
    {
     "data": {
      "text/plain": [
       "22.3"
      ]
     },
     "execution_count": 40,
     "metadata": {},
     "output_type": "execute_result"
    }
   ],
   "source": [
    "max(temperaturas)"
   ]
  },
  {
   "cell_type": "code",
   "execution_count": 41,
   "id": "fb7b79d0-ef2f-4249-89d0-f7be5c5def9a",
   "metadata": {},
   "outputs": [],
   "source": [
    "def maximo(lista):\n",
    "    num_max = lista[0]\n",
    "    for i in lista:\n",
    "        if i > num_max:\n",
    "            num_max = i\n",
    "    return num_max"
   ]
  },
  {
   "cell_type": "code",
   "execution_count": 42,
   "id": "72f8e0d1-205d-4f70-9e5f-fe0eb96d1259",
   "metadata": {},
   "outputs": [
    {
     "data": {
      "text/plain": [
       "22.3"
      ]
     },
     "execution_count": 42,
     "metadata": {},
     "output_type": "execute_result"
    }
   ],
   "source": [
    "maximo(temperaturas)"
   ]
  },
  {
   "cell_type": "markdown",
   "id": "3aa5f750-cc73-49aa-934a-b076f3e0b544",
   "metadata": {},
   "source": [
    "### 5. Funciones Avanzadas (Data Analysis)\n",
    "\n",
    "Ahora llevamos las funciones al mundo real de datos."
   ]
  },
  {
   "cell_type": "markdown",
   "id": "7ce993e3-ab7a-4237-938d-04a924c62f19",
   "metadata": {},
   "source": [
    "Ejercicio 5: Calcular estadísticas de ventas"
   ]
  },
  {
   "cell_type": "code",
   "execution_count": 43,
   "id": "96ad6034-7479-4756-b30d-a6fb6eb4e7f0",
   "metadata": {},
   "outputs": [
    {
     "name": "stdout",
     "output_type": "stream",
     "text": [
      "Requirement already satisfied: pandas in c:\\users\\leona\\appdata\\local\\programs\\python\\python313\\lib\\site-packages (2.2.3)\n",
      "Requirement already satisfied: numpy>=1.26.0 in c:\\users\\leona\\appdata\\local\\programs\\python\\python313\\lib\\site-packages (from pandas) (2.2.4)\n",
      "Requirement already satisfied: python-dateutil>=2.8.2 in c:\\users\\leona\\appdata\\roaming\\python\\python313\\site-packages (from pandas) (2.9.0.post0)\n",
      "Requirement already satisfied: pytz>=2020.1 in c:\\users\\leona\\appdata\\local\\programs\\python\\python313\\lib\\site-packages (from pandas) (2025.2)\n",
      "Requirement already satisfied: tzdata>=2022.7 in c:\\users\\leona\\appdata\\local\\programs\\python\\python313\\lib\\site-packages (from pandas) (2025.2)\n",
      "Requirement already satisfied: six>=1.5 in c:\\users\\leona\\appdata\\roaming\\python\\python313\\site-packages (from python-dateutil>=2.8.2->pandas) (1.17.0)\n"
     ]
    }
   ],
   "source": [
    "! pip install pandas"
   ]
  },
  {
   "cell_type": "code",
   "execution_count": 44,
   "id": "e3edb003-af97-44df-89d0-2b34f24ceaa9",
   "metadata": {},
   "outputs": [
    {
     "data": {
      "text/html": [
       "<div>\n",
       "<style scoped>\n",
       "    .dataframe tbody tr th:only-of-type {\n",
       "        vertical-align: middle;\n",
       "    }\n",
       "\n",
       "    .dataframe tbody tr th {\n",
       "        vertical-align: top;\n",
       "    }\n",
       "\n",
       "    .dataframe thead th {\n",
       "        text-align: right;\n",
       "    }\n",
       "</style>\n",
       "<table border=\"1\" class=\"dataframe\">\n",
       "  <thead>\n",
       "    <tr style=\"text-align: right;\">\n",
       "      <th></th>\n",
       "      <th>producto</th>\n",
       "      <th>monto</th>\n",
       "    </tr>\n",
       "  </thead>\n",
       "  <tbody>\n",
       "    <tr>\n",
       "      <th>0</th>\n",
       "      <td>Laptop</td>\n",
       "      <td>4000</td>\n",
       "    </tr>\n",
       "    <tr>\n",
       "      <th>1</th>\n",
       "      <td>Mouse</td>\n",
       "      <td>300</td>\n",
       "    </tr>\n",
       "    <tr>\n",
       "      <th>2</th>\n",
       "      <td>Teclado</td>\n",
       "      <td>250</td>\n",
       "    </tr>\n",
       "    <tr>\n",
       "      <th>3</th>\n",
       "      <td>Monitor</td>\n",
       "      <td>700</td>\n",
       "    </tr>\n",
       "  </tbody>\n",
       "</table>\n",
       "</div>"
      ],
      "text/plain": [
       "  producto  monto\n",
       "0   Laptop   4000\n",
       "1    Mouse    300\n",
       "2  Teclado    250\n",
       "3  Monitor    700"
      ]
     },
     "execution_count": 44,
     "metadata": {},
     "output_type": "execute_result"
    }
   ],
   "source": [
    "# Solución\n",
    "import pandas as pd\n",
    "\n",
    "# Dataset de ejemplo\n",
    "data = {'producto': ['Laptop', 'Mouse', 'Teclado', 'Monitor'],\n",
    "       'monto': [4000, 300, 250, 700]}\n",
    "\n",
    "df = pd.DataFrame(data)\n",
    "df.head()"
   ]
  },
  {
   "cell_type": "code",
   "execution_count": 45,
   "id": "410cc617-9104-4053-b155-b0711c673928",
   "metadata": {},
   "outputs": [],
   "source": [
    "def estadistica_venta(df):\n",
    "    total = df['monto'].sum()\n",
    "    promedio = df['monto'].mean()\n",
    "    maximo = df['monto'].max()\n",
    "    return {'total':total, 'promedio':promedio, 'maximo':maximo}"
   ]
  },
  {
   "cell_type": "code",
   "execution_count": 46,
   "id": "b6018571-f6a8-47a1-8e1a-30910d22072b",
   "metadata": {},
   "outputs": [
    {
     "data": {
      "text/plain": [
       "{'total': np.int64(5250),\n",
       " 'promedio': np.float64(1312.5),\n",
       " 'maximo': np.int64(4000)}"
      ]
     },
     "execution_count": 46,
     "metadata": {},
     "output_type": "execute_result"
    }
   ],
   "source": [
    "estadistica_venta(df)"
   ]
  },
  {
   "cell_type": "markdown",
   "id": "ab64451d-b140-40ba-b912-038b7c5bc548",
   "metadata": {},
   "source": [
    "### 6. Funciones (Modularización)\n",
    "Ejercicio 6: Reporte de incidencias"
   ]
  },
  {
   "cell_type": "code",
   "execution_count": 47,
   "id": "f5a1c526-a81c-45bd-84ed-4e88ded5d932",
   "metadata": {},
   "outputs": [
    {
     "data": {
      "text/html": [
       "<div>\n",
       "<style scoped>\n",
       "    .dataframe tbody tr th:only-of-type {\n",
       "        vertical-align: middle;\n",
       "    }\n",
       "\n",
       "    .dataframe tbody tr th {\n",
       "        vertical-align: top;\n",
       "    }\n",
       "\n",
       "    .dataframe thead th {\n",
       "        text-align: right;\n",
       "    }\n",
       "</style>\n",
       "<table border=\"1\" class=\"dataframe\">\n",
       "  <thead>\n",
       "    <tr style=\"text-align: right;\">\n",
       "      <th></th>\n",
       "      <th>tipo</th>\n",
       "      <th>cantidad</th>\n",
       "    </tr>\n",
       "  </thead>\n",
       "  <tbody>\n",
       "    <tr>\n",
       "      <th>0</th>\n",
       "      <td>robo</td>\n",
       "      <td>24</td>\n",
       "    </tr>\n",
       "    <tr>\n",
       "      <th>1</th>\n",
       "      <td>incendio</td>\n",
       "      <td>6</td>\n",
       "    </tr>\n",
       "    <tr>\n",
       "      <th>2</th>\n",
       "      <td>comercio ambulatorio</td>\n",
       "      <td>18</td>\n",
       "    </tr>\n",
       "  </tbody>\n",
       "</table>\n",
       "</div>"
      ],
      "text/plain": [
       "                   tipo  cantidad\n",
       "0                  robo        24\n",
       "1              incendio         6\n",
       "2  comercio ambulatorio        18"
      ]
     },
     "execution_count": 47,
     "metadata": {},
     "output_type": "execute_result"
    }
   ],
   "source": [
    "# Solución\n",
    "data = {'tipo': ['robo', 'incendio', 'comercio ambulatorio'],\n",
    "       'cantidad':[24, 6, 18]}\n",
    "\n",
    "df = pd.DataFrame(data)\n",
    "df"
   ]
  },
  {
   "cell_type": "code",
   "execution_count": 48,
   "id": "91a33091-27e0-4b58-94c9-e373a7fd11e1",
   "metadata": {},
   "outputs": [
    {
     "data": {
      "text/plain": [
       "{'total': np.int64(48), 'mayor incidencia': 'robo'}"
      ]
     },
     "execution_count": 48,
     "metadata": {},
     "output_type": "execute_result"
    }
   ],
   "source": [
    "def total_incidencias(df):\n",
    "    return df['cantidad'].sum()\n",
    "\n",
    "def incidencias_comun(df):\n",
    "    indice = df['cantidad'].idxmax()\n",
    "    return df.loc[indice, 'tipo']\n",
    "\n",
    "def reporte_incidencias(df):\n",
    "    return {\n",
    "        'total': total_incidencias(df),\n",
    "        'mayor incidencia': incidencias_comun(df)\n",
    "    }\n",
    "\n",
    "reporte_incidencias(df)"
   ]
  },
  {
   "cell_type": "markdown",
   "id": "61d853dd-b8b1-49e6-8b63-653abfefcb88",
   "metadata": {},
   "source": [
    "### 7. Caso Real: Automatización de Reportes\n",
    "\n",
    "Ahora juntamos todo en una automatización real → algo que sí usaría un analista de datos en el trabajo.\n",
    "\n",
    "**Problema real**: Cada semana se recibe un archivo de ventas. Queremos:\n",
    "\n",
    "1. Leer los datos.\n",
    "\n",
    "2. Calcular estadísticas.\n",
    "\n",
    "3. Guardar un reporte automático."
   ]
  },
  {
   "cell_type": "code",
   "execution_count": 65,
   "id": "6954819d-64bf-437f-b826-bb1b5e7919c9",
   "metadata": {},
   "outputs": [],
   "source": [
    "# Solución\n",
    "data = {'producto': ['laptop', 'mouse', 'teclado', 'laptop', 'monitor'],\n",
    "       'categoria': ['electronica', 'accesorios', 'accesorios', 'electronica','electronica'],\n",
    "       'monto': [4000, 300, 250, 4200, 700]}"
   ]
  },
  {
   "cell_type": "code",
   "execution_count": 66,
   "id": "d9689ff3-02a1-437d-b70c-bfa07ddc8217",
   "metadata": {},
   "outputs": [
    {
     "data": {
      "text/html": [
       "<div>\n",
       "<style scoped>\n",
       "    .dataframe tbody tr th:only-of-type {\n",
       "        vertical-align: middle;\n",
       "    }\n",
       "\n",
       "    .dataframe tbody tr th {\n",
       "        vertical-align: top;\n",
       "    }\n",
       "\n",
       "    .dataframe thead th {\n",
       "        text-align: right;\n",
       "    }\n",
       "</style>\n",
       "<table border=\"1\" class=\"dataframe\">\n",
       "  <thead>\n",
       "    <tr style=\"text-align: right;\">\n",
       "      <th></th>\n",
       "      <th>producto</th>\n",
       "      <th>categoria</th>\n",
       "      <th>monto</th>\n",
       "    </tr>\n",
       "  </thead>\n",
       "  <tbody>\n",
       "    <tr>\n",
       "      <th>0</th>\n",
       "      <td>laptop</td>\n",
       "      <td>electronica</td>\n",
       "      <td>4000</td>\n",
       "    </tr>\n",
       "    <tr>\n",
       "      <th>1</th>\n",
       "      <td>mouse</td>\n",
       "      <td>accesorios</td>\n",
       "      <td>300</td>\n",
       "    </tr>\n",
       "    <tr>\n",
       "      <th>2</th>\n",
       "      <td>teclado</td>\n",
       "      <td>accesorios</td>\n",
       "      <td>250</td>\n",
       "    </tr>\n",
       "    <tr>\n",
       "      <th>3</th>\n",
       "      <td>laptop</td>\n",
       "      <td>electronica</td>\n",
       "      <td>4200</td>\n",
       "    </tr>\n",
       "    <tr>\n",
       "      <th>4</th>\n",
       "      <td>monitor</td>\n",
       "      <td>electronica</td>\n",
       "      <td>700</td>\n",
       "    </tr>\n",
       "  </tbody>\n",
       "</table>\n",
       "</div>"
      ],
      "text/plain": [
       "  producto    categoria  monto\n",
       "0   laptop  electronica   4000\n",
       "1    mouse   accesorios    300\n",
       "2  teclado   accesorios    250\n",
       "3   laptop  electronica   4200\n",
       "4  monitor  electronica    700"
      ]
     },
     "execution_count": 66,
     "metadata": {},
     "output_type": "execute_result"
    }
   ],
   "source": [
    "df = pd.DataFrame(data)\n",
    "df"
   ]
  },
  {
   "cell_type": "code",
   "execution_count": 80,
   "id": "3e6bb6ca-7372-4bd7-8186-e9ed8d63646a",
   "metadata": {},
   "outputs": [],
   "source": [
    "# Funciones\n",
    "def resumen_general(df):\n",
    "    return df['monto'].describe()\n",
    "\n",
    "def ventas_por_categoria(df):\n",
    "    return df.groupby('categoria')['monto'].sum()\n",
    "\n",
    "def generar_reporte(df, nombre='reporte.csv'):\n",
    "    reporte = {'resumen': resumen_general(df).to_dict()}\n",
    "\n",
    "    # Convertir a DataFrame y guardamos\n",
    "    reporte_df = pd.DataFrame.from_dict(reporte, orient='index').transpose()\n",
    "    reporte_df.to_csv(nombre)\n",
    "    return f'Reporte generado: {nombre}'"
   ]
  },
  {
   "cell_type": "code",
   "execution_count": 81,
   "id": "2e7217b1-b71c-4731-9b83-60b35fdb1fcf",
   "metadata": {},
   "outputs": [
    {
     "data": {
      "text/plain": [
       "'Reporte generado: reporte_setiembre.csv'"
      ]
     },
     "execution_count": 81,
     "metadata": {},
     "output_type": "execute_result"
    }
   ],
   "source": [
    "# Automatizacion\n",
    "generar_reporte(df, 'reporte_setiembre.csv')"
   ]
  },
  {
   "cell_type": "code",
   "execution_count": 85,
   "id": "48693137-0093-453f-a7b7-466c3e917ae5",
   "metadata": {},
   "outputs": [
    {
     "data": {
      "text/html": [
       "<div>\n",
       "<style scoped>\n",
       "    .dataframe tbody tr th:only-of-type {\n",
       "        vertical-align: middle;\n",
       "    }\n",
       "\n",
       "    .dataframe tbody tr th {\n",
       "        vertical-align: top;\n",
       "    }\n",
       "\n",
       "    .dataframe thead th {\n",
       "        text-align: right;\n",
       "    }\n",
       "</style>\n",
       "<table border=\"1\" class=\"dataframe\">\n",
       "  <thead>\n",
       "    <tr style=\"text-align: right;\">\n",
       "      <th></th>\n",
       "      <th>resumen</th>\n",
       "    </tr>\n",
       "  </thead>\n",
       "  <tbody>\n",
       "    <tr>\n",
       "      <th>count</th>\n",
       "      <td>5.000000</td>\n",
       "    </tr>\n",
       "    <tr>\n",
       "      <th>mean</th>\n",
       "      <td>1890.000000</td>\n",
       "    </tr>\n",
       "    <tr>\n",
       "      <th>std</th>\n",
       "      <td>2026.203346</td>\n",
       "    </tr>\n",
       "    <tr>\n",
       "      <th>min</th>\n",
       "      <td>250.000000</td>\n",
       "    </tr>\n",
       "    <tr>\n",
       "      <th>25%</th>\n",
       "      <td>300.000000</td>\n",
       "    </tr>\n",
       "  </tbody>\n",
       "</table>\n",
       "</div>"
      ],
      "text/plain": [
       "           resumen\n",
       "count     5.000000\n",
       "mean   1890.000000\n",
       "std    2026.203346\n",
       "min     250.000000\n",
       "25%     300.000000"
      ]
     },
     "execution_count": 85,
     "metadata": {},
     "output_type": "execute_result"
    }
   ],
   "source": [
    "# Lectura de datos\n",
    "df = pd.read_csv('reporte_setiembre.csv', index_col=0)\n",
    "df.head()"
   ]
  },
  {
   "cell_type": "markdown",
   "id": "123292c0-7458-4afa-8a76-787e25bc3e75",
   "metadata": {},
   "source": [
    "."
   ]
  }
 ],
 "metadata": {
  "kernelspec": {
   "display_name": "Python 3 (ipykernel)",
   "language": "python",
   "name": "python3"
  },
  "language_info": {
   "codemirror_mode": {
    "name": "ipython",
    "version": 3
   },
   "file_extension": ".py",
   "mimetype": "text/x-python",
   "name": "python",
   "nbconvert_exporter": "python",
   "pygments_lexer": "ipython3",
   "version": "3.13.7"
  },
  "widgets": {
   "application/vnd.jupyter.widget-state+json": {
    "state": {},
    "version_major": 2,
    "version_minor": 0
   }
  }
 },
 "nbformat": 4,
 "nbformat_minor": 5
}
