{
 "cells": [
  {
   "cell_type": "markdown",
   "id": "e3217701-2b67-41dc-ba93-61e7936b6276",
   "metadata": {},
   "source": [
    "![Redes Sociales](../redes_sociales_pythonperu.png)"
   ]
  },
  {
   "cell_type": "markdown",
   "id": "c99f56b0-7ade-4cf1-baa5-48d3717685f1",
   "metadata": {},
   "source": [
    "# **Funciones en Python para Análisis y Automatización de Datos**"
   ]
  },
  {
   "cell_type": "markdown",
   "id": "f61451e9-95a0-4756-9542-e5335faa697e",
   "metadata": {},
   "source": [
    "### 1. Introducción a Funciones en Python  \n",
    "\n",
    "Definición: Una función es un bloque de código reutilizable que realiza una tarea específica.\n",
    "\n",
    "Ventajas:\n",
    "\n",
    "- Reutilización de código\n",
    "\n",
    "- Organización y claridad\n",
    "\n",
    "- Mantenimiento más sencillo\n",
    "\n",
    "- Escalabilidad (se usan en análisis de datos, ML, automatizaciones)"
   ]
  },
  {
   "cell_type": "code",
   "execution_count": null,
   "id": "c7b506d7-d451-48a3-ba5d-33b22e13444a",
   "metadata": {},
   "outputs": [],
   "source": [
    "# Ejemplo básico"
   ]
  },
  {
   "cell_type": "markdown",
   "id": "c87fad24-6c16-45c0-aab1-89fec4de4d3a",
   "metadata": {},
   "source": [
    "### 2. Ejercicios Básicos\n",
    "Ejercicio 1: Calcular el promedio de una lista"
   ]
  },
  {
   "cell_type": "code",
   "execution_count": null,
   "id": "c8ee68af-8421-4f6f-b47f-30c5702c6cd2",
   "metadata": {},
   "outputs": [],
   "source": [
    "# Solución"
   ]
  },
  {
   "cell_type": "markdown",
   "id": "f6fc7940-9311-4621-abb9-9fa60795e5d0",
   "metadata": {},
   "source": [
    "Ejercicio 2: Convertir soles a dólares"
   ]
  },
  {
   "cell_type": "code",
   "execution_count": null,
   "id": "c102a3e2-b906-4630-ae8e-9d61a814dcdd",
   "metadata": {},
   "outputs": [],
   "source": [
    "# Solución"
   ]
  },
  {
   "cell_type": "markdown",
   "id": "de4bf953-00b8-4710-aa78-4000a51d3763",
   "metadata": {},
   "source": [
    "### 3. Funciones con Condicionales"
   ]
  },
  {
   "cell_type": "markdown",
   "id": "6d241773-f50b-4a4e-b0e1-3aff3cb5dbe6",
   "metadata": {},
   "source": [
    "Ejercicio 3: Clasificación de notas"
   ]
  },
  {
   "cell_type": "code",
   "execution_count": null,
   "id": "7d555b72-e274-4b58-b87f-32bb0cb83704",
   "metadata": {},
   "outputs": [],
   "source": [
    "# Solución"
   ]
  },
  {
   "cell_type": "markdown",
   "id": "88dd593b-20ce-4130-81a5-382692cffc32",
   "metadata": {},
   "source": [
    "### 4. Funciones con Bucles"
   ]
  },
  {
   "cell_type": "markdown",
   "id": "dc282c21-7515-412d-8f58-643f9afcb07c",
   "metadata": {},
   "source": [
    "Ejercicio 4: Contar palabras en un texto"
   ]
  },
  {
   "cell_type": "code",
   "execution_count": null,
   "id": "f63785eb-a5f5-49a0-a190-f9ff5bc902c9",
   "metadata": {},
   "outputs": [],
   "source": [
    "# Solución"
   ]
  },
  {
   "cell_type": "markdown",
   "id": "3aa5f750-cc73-49aa-934a-b076f3e0b544",
   "metadata": {},
   "source": [
    "### 5. Funciones Avanzadas (Data Analysis)\n",
    "\n",
    "Ahora llevamos las funciones al mundo real de datos."
   ]
  },
  {
   "cell_type": "markdown",
   "id": "7ce993e3-ab7a-4237-938d-04a924c62f19",
   "metadata": {},
   "source": [
    "Ejercicio 5: Calcular estadísticas de ventas"
   ]
  },
  {
   "cell_type": "code",
   "execution_count": null,
   "id": "e3edb003-af97-44df-89d0-2b34f24ceaa9",
   "metadata": {},
   "outputs": [],
   "source": [
    "# Solución"
   ]
  },
  {
   "cell_type": "markdown",
   "id": "ab64451d-b140-40ba-b912-038b7c5bc548",
   "metadata": {},
   "source": [
    "### 6. Funciones (Modularización)\n",
    "Ejercicio 6: Reporte de incidencias"
   ]
  },
  {
   "cell_type": "code",
   "execution_count": null,
   "id": "f5a1c526-a81c-45bd-84ed-4e88ded5d932",
   "metadata": {},
   "outputs": [],
   "source": [
    "# Solución"
   ]
  },
  {
   "cell_type": "markdown",
   "id": "61d853dd-b8b1-49e6-8b63-653abfefcb88",
   "metadata": {},
   "source": [
    "### 7. Caso Real: Automatización de Reportes\n",
    "\n",
    "Ahora juntamos todo en una automatización real → algo que sí usaría un analista de datos en el trabajo.\n",
    "\n",
    "**Problema real**: Cada semana se recibe un archivo de ventas. Queremos:\n",
    "\n",
    "1. Leer los datos.\n",
    "\n",
    "2. Calcular estadísticas.\n",
    "\n",
    "3. Guardar un reporte automático."
   ]
  },
  {
   "cell_type": "code",
   "execution_count": null,
   "id": "6954819d-64bf-437f-b826-bb1b5e7919c9",
   "metadata": {},
   "outputs": [],
   "source": [
    "# Solución"
   ]
  },
  {
   "cell_type": "markdown",
   "id": "123292c0-7458-4afa-8a76-787e25bc3e75",
   "metadata": {},
   "source": [
    "."
   ]
  }
 ],
 "metadata": {
  "kernelspec": {
   "display_name": "Python 3 (ipykernel)",
   "language": "python",
   "name": "python3"
  },
  "language_info": {
   "codemirror_mode": {
    "name": "ipython",
    "version": 3
   },
   "file_extension": ".py",
   "mimetype": "text/x-python",
   "name": "python",
   "nbconvert_exporter": "python",
   "pygments_lexer": "ipython3",
   "version": "3.13.7"
  },
  "widgets": {
   "application/vnd.jupyter.widget-state+json": {
    "state": {},
    "version_major": 2,
    "version_minor": 0
   }
  }
 },
 "nbformat": 4,
 "nbformat_minor": 5
}
