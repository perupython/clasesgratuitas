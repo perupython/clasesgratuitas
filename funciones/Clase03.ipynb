{
 "cells": [
  {
   "cell_type": "markdown",
   "id": "e3217701-2b67-41dc-ba93-61e7936b6276",
   "metadata": {},
   "source": [
    "![Redes Sociales](../redes_sociales_pythonperu.png)"
   ]
  },
  {
   "cell_type": "markdown",
   "id": "c99f56b0-7ade-4cf1-baa5-48d3717685f1",
   "metadata": {},
   "source": [
    "# **Funciones en Python para Análisis y Automatización de Datos**"
   ]
  },
  {
   "cell_type": "markdown",
   "id": "f61451e9-95a0-4756-9542-e5335faa697e",
   "metadata": {},
   "source": [
    "### 1. Introducción a Funciones en Python  \n",
    "\n",
    "Definición: Una función es un bloque de código reutilizable que realiza una tarea específica.\n",
    "\n",
    "Ventajas:\n",
    "\n",
    "- Reutilización de código\n",
    "\n",
    "- Organización y claridad\n",
    "\n",
    "- Mantenimiento más sencillo\n",
    "\n",
    "- Escalabilidad (se usan en análisis de datos, ML, automatizaciones)"
   ]
  },
  {
   "cell_type": "code",
   "execution_count": 4,
   "id": "c7b506d7-d451-48a3-ba5d-33b22e13444a",
   "metadata": {},
   "outputs": [
    {
     "name": "stdout",
     "output_type": "stream",
     "text": [
      "Hola Leonardo, bienvenido al Live!\n"
     ]
    }
   ],
   "source": [
    "# Ejemplo básico\n",
    "nombre = 'Leonardo'\n",
    "print(f'Hola {nombre}, bienvenido al Live!')"
   ]
  },
  {
   "cell_type": "code",
   "execution_count": 5,
   "id": "21a444e3-2d3f-4519-9655-0ce6a41d50dd",
   "metadata": {},
   "outputs": [
    {
     "name": "stdout",
     "output_type": "stream",
     "text": [
      "Hola Ricardo, bienvenido al Live!\n"
     ]
    }
   ],
   "source": [
    "nombre = 'Ricardo'\n",
    "print(f'Hola {nombre}, bienvenido al Live!')"
   ]
  },
  {
   "cell_type": "code",
   "execution_count": 6,
   "id": "1d37d98e-cb21-4700-9097-0b474d8dc6ad",
   "metadata": {},
   "outputs": [
    {
     "name": "stdout",
     "output_type": "stream",
     "text": [
      "Hola Vladimir, bienvenido al Live!\n"
     ]
    }
   ],
   "source": [
    "nombre = 'Vladimir'\n",
    "print(f'Hola {nombre}, bienvenido al Live!')"
   ]
  },
  {
   "cell_type": "code",
   "execution_count": 8,
   "id": "69ff6a1c-1053-4a5c-900a-020abc84b96f",
   "metadata": {},
   "outputs": [],
   "source": [
    "# Definición de la función \"saludo\"\n",
    "def saludo(nombre1):\n",
    "    return f'Hola {nombre1}, bienvenido al Live!'"
   ]
  },
  {
   "cell_type": "code",
   "execution_count": 9,
   "id": "e97943ef-9d02-4f5f-8ec7-357eea63517e",
   "metadata": {},
   "outputs": [
    {
     "data": {
      "text/plain": [
       "'Hola Leonardo, bienvenido al Live!'"
      ]
     },
     "execution_count": 9,
     "metadata": {},
     "output_type": "execute_result"
    }
   ],
   "source": [
    "# Llamado a \"saludo\"\n",
    "saludo('Leonardo')"
   ]
  },
  {
   "cell_type": "code",
   "execution_count": 10,
   "id": "7c6bdca6-3b22-435a-ba83-827e199010ac",
   "metadata": {},
   "outputs": [
    {
     "data": {
      "text/plain": [
       "'Hola Ricardo, bienvenido al Live!'"
      ]
     },
     "execution_count": 10,
     "metadata": {},
     "output_type": "execute_result"
    }
   ],
   "source": [
    "saludo('Ricardo')"
   ]
  },
  {
   "cell_type": "code",
   "execution_count": 11,
   "id": "3821e075-f50a-4d5c-8df8-e2e1fc902aef",
   "metadata": {},
   "outputs": [
    {
     "data": {
      "text/plain": [
       "'Hola Vladimir, bienvenido al Live!'"
      ]
     },
     "execution_count": 11,
     "metadata": {},
     "output_type": "execute_result"
    }
   ],
   "source": [
    "saludo('Vladimir')"
   ]
  },
  {
   "cell_type": "code",
   "execution_count": 12,
   "id": "a72bcc0c-d8a9-4b0a-ab23-a43e7d6e1a58",
   "metadata": {},
   "outputs": [],
   "source": [
    "# Asignar una función a una variable\n",
    "def area_triangulo(base, altura):\n",
    "    return (base * altura) / 2"
   ]
  },
  {
   "cell_type": "code",
   "execution_count": 13,
   "id": "21166365-fc4e-46f1-a022-8ed6d7f8c29c",
   "metadata": {},
   "outputs": [
    {
     "data": {
      "text/plain": [
       "21.0"
      ]
     },
     "execution_count": 13,
     "metadata": {},
     "output_type": "execute_result"
    }
   ],
   "source": [
    "area_triangulo(6, 7)"
   ]
  },
  {
   "cell_type": "code",
   "execution_count": 14,
   "id": "ecf80e12-5980-4cc6-b7a8-fceb3901de80",
   "metadata": {},
   "outputs": [
    {
     "name": "stdout",
     "output_type": "stream",
     "text": [
      "20.0\n"
     ]
    }
   ],
   "source": [
    "ABC_area = area_triangulo(8, 5)\n",
    "print(ABC_area)"
   ]
  },
  {
   "cell_type": "code",
   "execution_count": 16,
   "id": "d0efb76b-56f5-4fc4-82d7-5f102cbc48b8",
   "metadata": {},
   "outputs": [
    {
     "data": {
      "text/plain": [
       "float"
      ]
     },
     "execution_count": 16,
     "metadata": {},
     "output_type": "execute_result"
    }
   ],
   "source": [
    "# Reconocer un tipo de dato\n",
    "type(area_triangulo(8, 5))\n",
    "# float: Numero decimal"
   ]
  },
  {
   "cell_type": "markdown",
   "id": "c87fad24-6c16-45c0-aab1-89fec4de4d3a",
   "metadata": {},
   "source": [
    "### 2. Ejercicios Básicos\n",
    "Ejercicio 1: Calcular el promedio de una lista"
   ]
  },
  {
   "cell_type": "code",
   "execution_count": 17,
   "id": "c8ee68af-8421-4f6f-b47f-30c5702c6cd2",
   "metadata": {},
   "outputs": [],
   "source": [
    "# Solución\n",
    "# list: estructura de datos mutable(que se puede modificar)\n",
    "def promedio(lista):\n",
    "    return sum(lista) / len(lista)"
   ]
  },
  {
   "cell_type": "code",
   "execution_count": 23,
   "id": "88543f65-6956-48df-815b-da1b1358200f",
   "metadata": {},
   "outputs": [
    {
     "data": {
      "text/plain": [
       "15.8"
      ]
     },
     "execution_count": 23,
     "metadata": {},
     "output_type": "execute_result"
    }
   ],
   "source": [
    "notas_A = [14, 17, 19, 13, 16]\n",
    "promedio(notas_A)"
   ]
  },
  {
   "cell_type": "code",
   "execution_count": 24,
   "id": "f5001715-58d5-4bdc-ae91-cf67b7d39b23",
   "metadata": {},
   "outputs": [
    {
     "data": {
      "text/plain": [
       "17.514285714285716"
      ]
     },
     "execution_count": 24,
     "metadata": {},
     "output_type": "execute_result"
    }
   ],
   "source": [
    "temperaturas = [16, 18.6, 20, 22.3, 14.4, 15, 16.3]\n",
    "promedio(temperaturas)"
   ]
  },
  {
   "cell_type": "markdown",
   "id": "f6fc7940-9311-4621-abb9-9fa60795e5d0",
   "metadata": {},
   "source": [
    "Ejercicio 2: Convertir soles a dólares"
   ]
  },
  {
   "cell_type": "code",
   "execution_count": 25,
   "id": "c102a3e2-b906-4630-ae8e-9d61a814dcdd",
   "metadata": {},
   "outputs": [],
   "source": [
    "# Solución\n",
    "def convertir_pen_usd(soles, tipo_cambio=3.55):\n",
    "    return (soles / tipo_cambio)"
   ]
  },
  {
   "cell_type": "code",
   "execution_count": 26,
   "id": "0ce890b1-ce6e-43ac-acbc-53cc66ca30bb",
   "metadata": {},
   "outputs": [
    {
     "data": {
      "text/plain": [
       "394.3661971830986"
      ]
     },
     "execution_count": 26,
     "metadata": {},
     "output_type": "execute_result"
    }
   ],
   "source": [
    "convertir_pen_usd(1400)"
   ]
  },
  {
   "cell_type": "code",
   "execution_count": 27,
   "id": "50f0211f-bced-45bc-aeea-6b28c6a78b76",
   "metadata": {},
   "outputs": [
    {
     "data": {
      "text/plain": [
       "607.7348066298342"
      ]
     },
     "execution_count": 27,
     "metadata": {},
     "output_type": "execute_result"
    }
   ],
   "source": [
    "convertir_pen_usd(2200, 3.62)"
   ]
  },
  {
   "cell_type": "code",
   "execution_count": 28,
   "id": "9124d155-b831-4eb3-85c0-5575936eee7c",
   "metadata": {},
   "outputs": [
    {
     "data": {
      "text/plain": [
       "619.7183098591549"
      ]
     },
     "execution_count": 28,
     "metadata": {},
     "output_type": "execute_result"
    }
   ],
   "source": [
    "convertir_pen_usd(2200)"
   ]
  },
  {
   "cell_type": "markdown",
   "id": "de4bf953-00b8-4710-aa78-4000a51d3763",
   "metadata": {},
   "source": [
    "### 3. Funciones con Condicionales"
   ]
  },
  {
   "cell_type": "markdown",
   "id": "6d241773-f50b-4a4e-b0e1-3aff3cb5dbe6",
   "metadata": {},
   "source": [
    "Ejercicio 3: Clasificación de notas"
   ]
  },
  {
   "cell_type": "code",
   "execution_count": 29,
   "id": "7d555b72-e274-4b58-b87f-32bb0cb83704",
   "metadata": {},
   "outputs": [],
   "source": [
    "# Solución\n",
    "def clasificar_nota(nota):\n",
    "    # si nota es mayor o igual que 14\n",
    "    if (nota >= 14):\n",
    "        return 'Aprobado'\n",
    "    else:\n",
    "        return 'Desaprobado'        "
   ]
  },
  {
   "cell_type": "code",
   "execution_count": 30,
   "id": "26dc3e71-a6ba-4ad2-97ff-f4646c4215c1",
   "metadata": {},
   "outputs": [
    {
     "data": {
      "text/plain": [
       "'Aprobado'"
      ]
     },
     "execution_count": 30,
     "metadata": {},
     "output_type": "execute_result"
    }
   ],
   "source": [
    "clasificar_nota(15)"
   ]
  },
  {
   "cell_type": "code",
   "execution_count": 33,
   "id": "625c4dc8-8b19-4774-8024-9cfcdc2047f3",
   "metadata": {},
   "outputs": [
    {
     "data": {
      "text/plain": [
       "'Aprobado'"
      ]
     },
     "execution_count": 33,
     "metadata": {},
     "output_type": "execute_result"
    }
   ],
   "source": [
    "# Sin organizacion\n",
    "lista_notas = [16.7, 15.6, 19.6, 20]\n",
    "clasificar_nota(promedio(lista_notas))"
   ]
  },
  {
   "cell_type": "code",
   "execution_count": 35,
   "id": "58f36d47-8250-41fd-8c55-704d85b26b3d",
   "metadata": {},
   "outputs": [
    {
     "data": {
      "text/plain": [
       "'Aprobado'"
      ]
     },
     "execution_count": 35,
     "metadata": {},
     "output_type": "execute_result"
    }
   ],
   "source": [
    "# Organizacion\n",
    "# Crear una lista de notas\n",
    "lista_notas = [16.7, 15.6, 19.6, 20]\n",
    "# Promediando mis notas \n",
    "nota_promedio = promedio(lista_notas)\n",
    "# Usando la función para clasificar mi nota promedio\n",
    "clasificar_nota(nota_promedio)"
   ]
  },
  {
   "cell_type": "markdown",
   "id": "dc282c21-7515-412d-8f58-643f9afcb07c",
   "metadata": {},
   "source": [
    "Ejercicio 4: Contar palabras en un texto"
   ]
  },
  {
   "cell_type": "code",
   "execution_count": 39,
   "id": "f63785eb-a5f5-49a0-a190-f9ff5bc902c9",
   "metadata": {},
   "outputs": [],
   "source": [
    "# Solución\n",
    "def contar_palabras(texto):\n",
    "    palabras = texto.split()\n",
    "    return len(palabras)"
   ]
  },
  {
   "cell_type": "code",
   "execution_count": 42,
   "id": "71a47e91-c223-4cd4-a473-cb69b46b6a28",
   "metadata": {},
   "outputs": [
    {
     "data": {
      "text/plain": [
       "['Mi', 'apellido', 'es', 'Rivera.', 'Mi', 'nombre', 'es', 'Juan']"
      ]
     },
     "execution_count": 42,
     "metadata": {},
     "output_type": "execute_result"
    }
   ],
   "source": [
    "parrafo = 'Mi apellido es Rivera. Mi nombre es Juan' # string (str)\n",
    "# Convierte de texto a una lista\n",
    "parrafo.split()"
   ]
  },
  {
   "cell_type": "code",
   "execution_count": 43,
   "id": "d2aaa918-82d0-42c8-a6ce-0f1352e1b22e",
   "metadata": {},
   "outputs": [
    {
     "data": {
      "text/plain": [
       "8"
      ]
     },
     "execution_count": 43,
     "metadata": {},
     "output_type": "execute_result"
    }
   ],
   "source": [
    "# Retorna el numero de elemento de la lista\n",
    "len(parrafo.split())"
   ]
  },
  {
   "cell_type": "code",
   "execution_count": 41,
   "id": "018e3602-93a7-43dc-912f-9cc8c4dc8ac2",
   "metadata": {},
   "outputs": [
    {
     "data": {
      "text/plain": [
       "8"
      ]
     },
     "execution_count": 41,
     "metadata": {},
     "output_type": "execute_result"
    }
   ],
   "source": [
    "contar_palabras('Mi apellido es Rivera. Mi nombre es Juan')"
   ]
  },
  {
   "cell_type": "code",
   "execution_count": 44,
   "id": "26d5e267-e59d-4550-a252-d82f426a11d4",
   "metadata": {},
   "outputs": [
    {
     "data": {
      "text/plain": [
       "'Mi apellido es , Rivera.'"
      ]
     },
     "execution_count": 44,
     "metadata": {},
     "output_type": "execute_result"
    }
   ],
   "source": [
    "'Mi apellido es, Rivera.'.replace(',', ' ,')"
   ]
  },
  {
   "cell_type": "markdown",
   "id": "88dd593b-20ce-4130-81a5-382692cffc32",
   "metadata": {},
   "source": [
    "### 4. Funciones con Bucles"
   ]
  },
  {
   "cell_type": "code",
   "execution_count": 46,
   "id": "c28501f1-7411-4614-9460-07b0fc37e6c8",
   "metadata": {},
   "outputs": [
    {
     "name": "stdout",
     "output_type": "stream",
     "text": [
      "[14, 17, 19, 13, 16]\n"
     ]
    },
    {
     "data": {
      "text/plain": [
       "79"
      ]
     },
     "execution_count": 46,
     "metadata": {},
     "output_type": "execute_result"
    }
   ],
   "source": [
    "# sum(): Suma los numeros de una lista\n",
    "print(notas)\n",
    "sum(notas)"
   ]
  },
  {
   "cell_type": "code",
   "execution_count": 55,
   "id": "b213e9a0-c331-488a-b162-67652a455f91",
   "metadata": {},
   "outputs": [],
   "source": [
    "# Una función para realizar una suma de números\n",
    "def sumar(lista):\n",
    "    suma = 0\n",
    "    for i in lista:\n",
    "        suma += i\n",
    "    return suma"
   ]
  },
  {
   "cell_type": "code",
   "execution_count": 54,
   "id": "6bc51138-3169-4d80-adf6-37e7922c0fce",
   "metadata": {},
   "outputs": [
    {
     "name": "stdout",
     "output_type": "stream",
     "text": [
      "79\n"
     ]
    }
   ],
   "source": [
    "suma = 0\n",
    "for nota in notas:\n",
    "    suma += nota\n",
    "\n",
    "print(suma)"
   ]
  },
  {
   "cell_type": "code",
   "execution_count": 56,
   "id": "8b62d4ec-092b-4da8-aaf4-6d697facc5ca",
   "metadata": {},
   "outputs": [
    {
     "data": {
      "text/plain": [
       "79"
      ]
     },
     "execution_count": 56,
     "metadata": {},
     "output_type": "execute_result"
    }
   ],
   "source": [
    "sumar(notas)"
   ]
  },
  {
   "cell_type": "code",
   "execution_count": 57,
   "id": "50e83474-3751-465a-8f7a-ba8dadf65d19",
   "metadata": {},
   "outputs": [
    {
     "data": {
      "text/plain": [
       "122.60000000000001"
      ]
     },
     "execution_count": 57,
     "metadata": {},
     "output_type": "execute_result"
    }
   ],
   "source": [
    "sumar(temperaturas)"
   ]
  },
  {
   "cell_type": "code",
   "execution_count": 58,
   "id": "ce2274aa-4115-473a-9152-e74693ea420b",
   "metadata": {},
   "outputs": [
    {
     "data": {
      "text/plain": [
       "138"
      ]
     },
     "execution_count": 58,
     "metadata": {},
     "output_type": "execute_result"
    }
   ],
   "source": [
    "sumar([20, 24, 39, 55])"
   ]
  },
  {
   "cell_type": "markdown",
   "id": "3aa5f750-cc73-49aa-934a-b076f3e0b544",
   "metadata": {},
   "source": [
    "### 5. Funciones Avanzadas (Data Analysis)\n",
    "\n",
    "Ahora llevamos las funciones al mundo real de datos."
   ]
  },
  {
   "cell_type": "markdown",
   "id": "7ce993e3-ab7a-4237-938d-04a924c62f19",
   "metadata": {},
   "source": [
    "Ejercicio 5: Calcular estadísticas de ventas"
   ]
  },
  {
   "cell_type": "code",
   "execution_count": null,
   "id": "e3edb003-af97-44df-89d0-2b34f24ceaa9",
   "metadata": {},
   "outputs": [],
   "source": [
    "# Solución"
   ]
  },
  {
   "cell_type": "markdown",
   "id": "ab64451d-b140-40ba-b912-038b7c5bc548",
   "metadata": {},
   "source": [
    "### 6. Funciones (Modularización)\n",
    "Ejercicio 6: Reporte de incidencias"
   ]
  },
  {
   "cell_type": "code",
   "execution_count": null,
   "id": "f5a1c526-a81c-45bd-84ed-4e88ded5d932",
   "metadata": {},
   "outputs": [],
   "source": [
    "# Solución"
   ]
  },
  {
   "cell_type": "markdown",
   "id": "61d853dd-b8b1-49e6-8b63-653abfefcb88",
   "metadata": {},
   "source": [
    "### 7. Caso Real: Automatización de Reportes\n",
    "\n",
    "Ahora juntamos todo en una automatización real → algo que sí usaría un analista de datos en el trabajo.\n",
    "\n",
    "**Problema real**: Cada semana se recibe un archivo de ventas. Queremos:\n",
    "\n",
    "1. Leer los datos.\n",
    "\n",
    "2. Calcular estadísticas.\n",
    "\n",
    "3. Guardar un reporte automático."
   ]
  },
  {
   "cell_type": "code",
   "execution_count": null,
   "id": "6954819d-64bf-437f-b826-bb1b5e7919c9",
   "metadata": {},
   "outputs": [],
   "source": [
    "# Solución"
   ]
  },
  {
   "cell_type": "markdown",
   "id": "123292c0-7458-4afa-8a76-787e25bc3e75",
   "metadata": {},
   "source": [
    "."
   ]
  }
 ],
 "metadata": {
  "kernelspec": {
   "display_name": "Python 3 (ipykernel)",
   "language": "python",
   "name": "python3"
  },
  "language_info": {
   "codemirror_mode": {
    "name": "ipython",
    "version": 3
   },
   "file_extension": ".py",
   "mimetype": "text/x-python",
   "name": "python",
   "nbconvert_exporter": "python",
   "pygments_lexer": "ipython3",
   "version": "3.13.7"
  },
  "widgets": {
   "application/vnd.jupyter.widget-state+json": {
    "state": {},
    "version_major": 2,
    "version_minor": 0
   }
  }
 },
 "nbformat": 4,
 "nbformat_minor": 5
}
