{
 "cells": [
  {
   "cell_type": "markdown",
   "id": "4cb21b3b-a6ea-46ad-8924-ec1739fb01f6",
   "metadata": {},
   "source": [
    "# **Cómo trabajan los datos detrás de una predicción**"
   ]
  },
  {
   "cell_type": "markdown",
   "id": "e069a1fd-3de1-4823-804a-5d041d86a846",
   "metadata": {},
   "source": [
    "Imagina que queremos saber cuánto sacará un estudiante según las horas que estudie. Si tenemos datos de otros estudiantes, podemos usar Machine Learning para trazar una línea que prediga esas notas"
   ]
  },
  {
   "cell_type": "markdown",
   "id": "e9ef7b15-dc9c-40a4-8972-0d371fc96ae6",
   "metadata": {},
   "source": [
    "Qué son los datos\n",
    "\n",
    "- Cada fila = un estudiante.\n",
    "\n",
    "- Columna 1 = horas de estudio.\n",
    "\n",
    "- Columna 2 = nota obtenida."
   ]
  },
  {
   "cell_type": "markdown",
   "id": "0733e824-e914-46ec-bbb4-644b47ea1bd8",
   "metadata": {},
   "source": [
    "👉 Ejemplo mini-tabla:\n",
    "| Horas de estudio | Nota |\n",
    "| ---------------- | ---- |\n",
    "| 1                | 50   |\n",
    "| 3                | 60   |\n",
    "| 6                | 72   |\n",
    "| 10               | 90   |\n"
   ]
  },
  {
   "cell_type": "markdown",
   "id": "2cbded41-b99a-4826-b47b-0c02b75ae7d2",
   "metadata": {},
   "source": [
    "La idea de predicción\n",
    "\n",
    "- Los puntos representan a los estudiantes reales.\n",
    "\n",
    "- El modelo busca una línea roja que se acerque lo más posible a todos los puntos.\n",
    "\n",
    "- Con esa línea podemos predecir: “Si estudias X horas, ¿cuánto sacarás?”"
   ]
  },
  {
   "cell_type": "markdown",
   "id": "89d6ebb1-0878-46c8-a2a3-db490f12e8c4",
   "metadata": {},
   "source": [
    "El modelo aprende de los ejemplos (los datos) y luego usa ese aprendizaje para predecir nuevos casos."
   ]
  },
  {
   "cell_type": "code",
   "execution_count": 2,
   "id": "54dd3152-668f-4e20-a871-538d8563e097",
   "metadata": {},
   "outputs": [],
   "source": [
    "# Importar librerías\n",
    "import pandas as pd # Manipulación de datos\n",
    "import matplotlib.pyplot as plt # Visualización de datos\n",
    "import numpy as np # Cálculo Numérico\n",
    "from sklearn.linear_model import LinearRegression # Modelo de Regresión Lineal"
   ]
  },
  {
   "cell_type": "code",
   "execution_count": 3,
   "id": "d89235a6-e6a8-48dd-a4ae-790f7b816b41",
   "metadata": {},
   "outputs": [
    {
     "data": {
      "text/html": [
       "<div>\n",
       "<style scoped>\n",
       "    .dataframe tbody tr th:only-of-type {\n",
       "        vertical-align: middle;\n",
       "    }\n",
       "\n",
       "    .dataframe tbody tr th {\n",
       "        vertical-align: top;\n",
       "    }\n",
       "\n",
       "    .dataframe thead th {\n",
       "        text-align: right;\n",
       "    }\n",
       "</style>\n",
       "<table border=\"1\" class=\"dataframe\">\n",
       "  <thead>\n",
       "    <tr style=\"text-align: right;\">\n",
       "      <th></th>\n",
       "      <th>horas_estudio</th>\n",
       "      <th>nota</th>\n",
       "    </tr>\n",
       "  </thead>\n",
       "  <tbody>\n",
       "    <tr>\n",
       "      <th>0</th>\n",
       "      <td>1</td>\n",
       "      <td>50</td>\n",
       "    </tr>\n",
       "    <tr>\n",
       "      <th>1</th>\n",
       "      <td>2</td>\n",
       "      <td>55</td>\n",
       "    </tr>\n",
       "    <tr>\n",
       "      <th>2</th>\n",
       "      <td>4</td>\n",
       "      <td>60</td>\n",
       "    </tr>\n",
       "    <tr>\n",
       "      <th>3</th>\n",
       "      <td>5</td>\n",
       "      <td>63</td>\n",
       "    </tr>\n",
       "    <tr>\n",
       "      <th>4</th>\n",
       "      <td>6</td>\n",
       "      <td>70</td>\n",
       "    </tr>\n",
       "    <tr>\n",
       "      <th>5</th>\n",
       "      <td>7</td>\n",
       "      <td>75</td>\n",
       "    </tr>\n",
       "    <tr>\n",
       "      <th>6</th>\n",
       "      <td>7</td>\n",
       "      <td>76</td>\n",
       "    </tr>\n",
       "    <tr>\n",
       "      <th>7</th>\n",
       "      <td>8</td>\n",
       "      <td>80</td>\n",
       "    </tr>\n",
       "    <tr>\n",
       "      <th>8</th>\n",
       "      <td>10</td>\n",
       "      <td>87</td>\n",
       "    </tr>\n",
       "    <tr>\n",
       "      <th>9</th>\n",
       "      <td>12</td>\n",
       "      <td>94</td>\n",
       "    </tr>\n",
       "  </tbody>\n",
       "</table>\n",
       "</div>"
      ],
      "text/plain": [
       "   horas_estudio  nota\n",
       "0              1    50\n",
       "1              2    55\n",
       "2              4    60\n",
       "3              5    63\n",
       "4              6    70\n",
       "5              7    75\n",
       "6              7    76\n",
       "7              8    80\n",
       "8             10    87\n",
       "9             12    94"
      ]
     },
     "execution_count": 3,
     "metadata": {},
     "output_type": "execute_result"
    }
   ],
   "source": [
    "# Crear un dataset simple\n",
    "data = {\n",
    "    'horas_estudio': [1, 2, 4, 5, 6, 7, 7, 8, 10, 12],\n",
    "    'nota': [50, 55, 60, 63, 70, 75, 76, 80, 87, 94]\n",
    "}\n",
    "\n",
    "df = pd.DataFrame(data)\n",
    "df"
   ]
  },
  {
   "cell_type": "code",
   "execution_count": 4,
   "id": "f2489bda-db4f-41c9-b3b0-5cb3d8ca205d",
   "metadata": {},
   "outputs": [
    {
     "data": {
      "text/plain": [
       "(10, 2)"
      ]
     },
     "execution_count": 4,
     "metadata": {},
     "output_type": "execute_result"
    }
   ],
   "source": [
    "df.shape"
   ]
  },
  {
   "cell_type": "code",
   "execution_count": 5,
   "id": "cb8410d5-52d9-4777-b536-2073b71629da",
   "metadata": {},
   "outputs": [
    {
     "data": {
      "image/png": "[encoded data removed]",
      "text/plain": [
       "<Figure size 640x480 with 1 Axes>"
      ]
     },
     "metadata": {},
     "output_type": "display_data"
    }
   ],
   "source": [
    "# Visualizar los datos\n",
    "plt.scatter(df['horas_estudio'], df['nota'], color='blue')\n",
    "plt.xlabel('Horas de estudio')\n",
    "plt.ylabel('Nota')\n",
    "plt.title('Datos reales de estudiantes')\n",
    "plt.show()"
   ]
  },
  {
   "cell_type": "code",
   "execution_count": 9,
   "id": "652daafd-f7fb-4b26-ab25-09a1c6c4e4f5",
   "metadata": {},
   "outputs": [
    {
     "data": {
      "text/plain": [
       "array([49.51737452, 53.64864865, 61.91119691, 66.04247104, 70.17374517,\n",
       "       74.30501931, 74.30501931, 78.43629344, 86.6988417 , 94.96138996])"
      ]
     },
     "execution_count": 9,
     "metadata": {},
     "output_type": "execute_result"
    }
   ],
   "source": [
    "# Entrenar el modelo\n",
    "# Variable independiente (X)\n",
    "X = df[['horas_estudio']]\n",
    "# Variable dependiente (y)\n",
    "y = df['nota']\n",
    "\n",
    "# Modelo de Regresión Lineal\n",
    "modelo = LinearRegression()\n",
    "modelo.fit(X, y)\n",
    "\n",
    "# Linea de prediccion\n",
    "y_pred = modelo.predict(X)\n",
    "\n",
    "y_pred # valor predicho"
   ]
  },
  {
   "cell_type": "code",
   "execution_count": 10,
   "id": "f2fdb390-99ca-4dad-a712-3c07def14d59",
   "metadata": {},
   "outputs": [
    {
     "data": {
      "text/plain": [
       "array([50, 55, 60, 63, 70, 75, 76, 80, 87, 94])"
      ]
     },
     "execution_count": 10,
     "metadata": {},
     "output_type": "execute_result"
    }
   ],
   "source": [
    "y.values # Valor real"
   ]
  },
  {
   "cell_type": "code",
   "execution_count": 11,
   "id": "d874f6ae-1e7e-49ee-af6e-8e8fc1f1f36f",
   "metadata": {},
   "outputs": [
    {
     "data": {
      "image/png": "[encoded data removed]",
      "text/plain": [
       "<Figure size 640x480 with 1 Axes>"
      ]
     },
     "metadata": {},
     "output_type": "display_data"
    }
   ],
   "source": [
    "# Grafica\n",
    "# Datos reales\n",
    "plt.scatter(X, y, color='blue')\n",
    "# datos predichos\n",
    "plt.plot(X, y_pred, color ='red')\n",
    "plt.xlabel('Horas de estudio')\n",
    "plt.ylabel('Nota')\n",
    "plt.title('Linea de predicción')\n",
    "plt.show()"
   ]
  },
  {
   "cell_type": "markdown",
   "id": "bb3b5060-458d-4ff2-8f5d-6e61ce8e96c4",
   "metadata": {},
   "source": [
    "👉 Explica:\n",
    "\n",
    "- Azul = datos reales.\n",
    "\n",
    "- Rojo = línea que aprendió el modelo."
   ]
  },
  {
   "cell_type": "code",
   "execution_count": 14,
   "id": "6868021c-707f-44e5-8ba1-7d2834fffec7",
   "metadata": {},
   "outputs": [
    {
     "name": "stdout",
     "output_type": "stream",
     "text": [
      "Si estudias 7.5 horas, la predicción es: 76.37\n"
     ]
    },
    {
     "name": "stderr",
     "output_type": "stream",
     "text": [
      "C:\\Users\\leona\\AppData\\Local\\Programs\\Python\\Python313\\Lib\\site-packages\\sklearn\\utils\\validation.py:2749: UserWarning: X does not have valid feature names, but LinearRegression was fitted with feature names\n",
      "  warnings.warn(\n"
     ]
    }
   ],
   "source": [
    "# Hacer una predicción\n",
    "# ¿Que nota sacará un estudiante que estudia 7.5 horas?\n",
    "horas = np.array([[7.5]])\n",
    "prediccion = modelo.predict(horas)\n",
    "print(f'Si estudias 7.5 horas, la predicción es: {prediccion[0]:.2f}')"
   ]
  },
  {
   "cell_type": "code",
   "execution_count": 15,
   "id": "9dcc27e1-67bc-45a6-ab1b-dca9a216fa8d",
   "metadata": {},
   "outputs": [],
   "source": [
    "from sklearn.metrics import mean_absolute_error, r2_score"
   ]
  },
  {
   "cell_type": "markdown",
   "id": "5f4d1ab3-e01d-43f8-936b-6ba76883195d",
   "metadata": {},
   "source": [
    "Error Absoluto Medio (MAE)"
   ]
  },
  {
   "cell_type": "code",
   "execution_count": 16,
   "id": "637cb448-c7b3-4c54-8e09-bb1517adc136",
   "metadata": {},
   "outputs": [
    {
     "name": "stdout",
     "output_type": "stream",
     "text": [
      "Error Absoluto Medio: 1.2177606177606193\n",
      "Coeficiente de Determinación: 0.9878130325057699\n"
     ]
    }
   ],
   "source": [
    "# Calcular el MAE\n",
    "mae = mean_absolute_error(y, y_pred)\n",
    "r2 = r2_score(y, y_pred)\n",
    "\n",
    "print(f'Error Absoluto Medio: {mae}')\n",
    "print(f\"Coeficiente de Determinación: {r2}\")"
   ]
  },
  {
   "cell_type": "code",
   "execution_count": 17,
   "id": "516397e7-46a4-4c52-9bf2-8d81fc84d9de",
   "metadata": {},
   "outputs": [
    {
     "name": "stdout",
     "output_type": "stream",
     "text": [
      "75.15 - 77.59\n"
     ]
    }
   ],
   "source": [
    "print(f'{ 76.37 - 1.22} - { 76.37 + 1.22}')"
   ]
  },
  {
   "cell_type": "code",
   "execution_count": 20,
   "id": "cab9e23d-be99-4af5-b3f8-c18f1472b086",
   "metadata": {},
   "outputs": [
    {
     "data": {
      "text/plain": [
       "'98.8%'"
      ]
     },
     "execution_count": 20,
     "metadata": {},
     "output_type": "execute_result"
    }
   ],
   "source": [
    "f'{0.988 * 100}%'"
   ]
  },
  {
   "cell_type": "code",
   "execution_count": 23,
   "id": "83ee2522-30e5-4734-bd26-86b393e8ce94",
   "metadata": {},
   "outputs": [
    {
     "data": {
      "image/png": "[encoded data removed]",
      "text/plain": [
       "<Figure size 640x480 with 1 Axes>"
      ]
     },
     "metadata": {},
     "output_type": "display_data"
    }
   ],
   "source": [
    "plt.scatter(y, y_pred, color='blue')\n",
    "plt.plot([y.min(), y.max()], [y.min(), y.max()], color='red', ls='--', lw=2)\n",
    "plt.xlabel('Datos predichos')\n",
    "plt.ylabel('Datos reales')\n",
    "plt.show()"
   ]
  }
 ],
 "metadata": {
  "kernelspec": {
   "display_name": "Python 3 (ipykernel)",
   "language": "python",
   "name": "python3"
  },
  "language_info": {
   "codemirror_mode": {
    "name": "ipython",
    "version": 3
   },
   "file_extension": ".py",
   "mimetype": "text/x-python",
   "name": "python",
   "nbconvert_exporter": "python",
   "pygments_lexer": "ipython3",
   "version": "3.13.7"
  },
  "widgets": {
   "application/vnd.jupyter.widget-state+json": {
    "state": {},
    "version_major": 2,
    "version_minor": 0
   }
  }
 },
 "nbformat": 4,
 "nbformat_minor": 5
}
