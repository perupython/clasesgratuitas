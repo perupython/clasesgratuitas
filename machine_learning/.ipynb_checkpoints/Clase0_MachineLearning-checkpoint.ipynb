{
 "cells": [
  {
   "cell_type": "markdown",
   "id": "827635a8-ecaa-4379-9607-86911e7492e9",
   "metadata": {},
   "source": [
    "# **Cómo empezar en programación sin saber nada**"
   ]
  },
  {
   "cell_type": "markdown",
   "id": "6c7ee751-e340-45d4-8062-bb6775bac7ba",
   "metadata": {},
   "source": [
    "👋 Bienvenidos. Hoy aprenderemos los primeros pasos en programación con **Python**.  \n",
    "La idea es que entiendas **qué es programar**, y construyas tu **primer mini-proyecto** aunque nunca hayas programado antes. 🚀\n"
   ]
  },
  {
   "cell_type": "markdown",
   "id": "87ebf02f-c87c-4eec-ba1e-b958768594a3",
   "metadata": {},
   "source": [
    "🔹 1. ¿Qué es programar?\n",
    "- Programar es **dar instrucciones a una computadora** para que ejecute tareas.\n",
    "\n",
    "👉 Ejemplo: una **receta de cocina** es como un programa.  \n",
    "- Ingredientes = datos.  \n",
    "- Pasos de la receta = instrucciones.  \n",
    "- Resultado = plato final."
   ]
  },
  {
   "cell_type": "code",
   "execution_count": 3,
   "id": "3a40c211-f0a1-41d7-8799-dcd40cb3b100",
   "metadata": {},
   "outputs": [
    {
     "name": "stdout",
     "output_type": "stream",
     "text": [
      "Hola Mundo\n"
     ]
    }
   ],
   "source": [
    "# Un ejemplo sencillo en Python\n",
    "print('Hola Mundo')"
   ]
  },
  {
   "cell_type": "markdown",
   "id": "c8078937-cef5-400d-af17-232c4d86b8af",
   "metadata": {},
   "source": [
    "🔹 2. Variables y tipos de datos\n",
    "- Las **variables** son cajitas donde guardamos información.\n",
    "\n",
    "Ejemplos de tipos de datos:\n",
    "- Números (int, float) → 10, 3.14\n",
    "- Texto (str) → \"Hola\"\n",
    "- Booleanos (bool) → True / False"
   ]
  },
  {
   "cell_type": "code",
   "execution_count": 4,
   "id": "b3890a40-e026-4163-9d26-15f4dec8a242",
   "metadata": {},
   "outputs": [],
   "source": [
    "# Variables en Python\n",
    "nombre = 'Leonardo'\n",
    "edad = 30\n",
    "altura = 1.75\n",
    "es_estudiante = True"
   ]
  },
  {
   "cell_type": "code",
   "execution_count": 5,
   "id": "b40b0a5f-f85d-4e49-8a18-ae65f382d4aa",
   "metadata": {},
   "outputs": [
    {
     "name": "stdout",
     "output_type": "stream",
     "text": [
      "Leonardo\n"
     ]
    }
   ],
   "source": [
    "print(nombre)"
   ]
  },
  {
   "cell_type": "code",
   "execution_count": 6,
   "id": "d5f4bc08-9f7c-49cb-b1b5-1884cf0872fa",
   "metadata": {},
   "outputs": [
    {
     "name": "stdout",
     "output_type": "stream",
     "text": [
      "30\n"
     ]
    }
   ],
   "source": [
    "print(edad)"
   ]
  },
  {
   "cell_type": "code",
   "execution_count": 7,
   "id": "308382f9-1746-415f-bc88-0dc4e976d109",
   "metadata": {},
   "outputs": [
    {
     "name": "stdout",
     "output_type": "stream",
     "text": [
      "1.75 True\n"
     ]
    }
   ],
   "source": [
    "print(altura, es_estudiante)"
   ]
  },
  {
   "cell_type": "markdown",
   "id": "05de3856-9689-4c02-8184-d33c7074e6dc",
   "metadata": {},
   "source": [
    "🔹 3. Operaciones matemáticas\n",
    "- Con Python podemos hacer operaciones fácilmente."
   ]
  },
  {
   "cell_type": "code",
   "execution_count": null,
   "id": "ddb0dbcb-42a8-49d9-ad2f-8863a8efb362",
   "metadata": {},
   "outputs": [],
   "source": [
    "a = 10\n",
    "b = 5\n",
    "\n",
    "print(a + b)\n",
    "print(a - b)\n",
    "print()"
   ]
  },
  {
   "cell_type": "markdown",
   "id": "ca24d879-52e9-4cf0-9ac1-fe20a6ee130a",
   "metadata": {},
   "source": [
    "🔹 4. Estructuras de control: Condicionales\n",
    "- Nos permiten **tomar decisiones** en el programa."
   ]
  },
  {
   "cell_type": "code",
   "execution_count": null,
   "id": "f88f0dd2-dbc4-43c2-b6a7-ec6a9a5d58c8",
   "metadata": {},
   "outputs": [],
   "source": []
  },
  {
   "cell_type": "markdown",
   "id": "03901f13-66d0-4bbd-9707-d07f51c1e4dd",
   "metadata": {},
   "source": [
    "🔹 5. Estructuras de control: Bucles\n",
    "- Sirven para **repetir instrucciones** automáticamente."
   ]
  },
  {
   "cell_type": "code",
   "execution_count": null,
   "id": "c859de17-e491-4751-86a6-41aacfabce05",
   "metadata": {},
   "outputs": [],
   "source": [
    "# Imprimir un mensaje 5 veces"
   ]
  },
  {
   "cell_type": "code",
   "execution_count": null,
   "id": "9521e09e-7b18-4d4c-b1a5-0a4b490de5d7",
   "metadata": {},
   "outputs": [],
   "source": [
    "# Bucle while"
   ]
  },
  {
   "cell_type": "markdown",
   "id": "6f6d44a1-b0bf-4eb3-875c-81a84d84c15f",
   "metadata": {},
   "source": [
    "🔹 6. Mini Proyecto: Sistema de Notas de Estudiantes\n",
    "- En este proyecto usaremos:\n",
    "- Variables y tipos de datos\n",
    "- Operaciones matemáticas\n",
    "- Condicionales\n",
    "- Bucles\n",
    "\n",
    "  \n",
    "El objetivo será calcular el promedio de las notas de un estudiante y mostrar si **aprueba** o **desaprueba**.\n"
   ]
  },
  {
   "cell_type": "code",
   "execution_count": null,
   "id": "40c16b81-b218-409c-8472-c81cc2050695",
   "metadata": {},
   "outputs": [],
   "source": []
  },
  {
   "cell_type": "markdown",
   "id": "6b3dfdaa-6e0a-445d-9f8e-e213dbd68714",
   "metadata": {},
   "source": [
    "🎯 Resumen de la clase  \n",
    "✅ Aprendiste qué es programar.  \n",
    "✅ Conociste variables y tipos de datos.  \n",
    "✅ Usaste condicionales y bucles.  \n",
    "✅ Construiste tu primera calculadora en Python.  "
   ]
  },
  {
   "cell_type": "markdown",
   "id": "25d5c6df-801f-4542-af1a-0ba3f560bb84",
   "metadata": {},
   "source": [
    "."
   ]
  },
  {
   "cell_type": "markdown",
   "id": "5e7e54e4-f35d-471c-88ea-112f9ca3fe86",
   "metadata": {},
   "source": [
    "🚀 Próximos pasos\n",
    "- Este fin de semana aprenderemos a construir **tu primer modelo predictivo con datos reales**,  \n",
    "incluso si nunca has programado antes.  "
   ]
  }
 ],
 "metadata": {
  "kernelspec": {
   "display_name": "Python 3 (ipykernel)",
   "language": "python",
   "name": "python3"
  },
  "language_info": {
   "codemirror_mode": {
    "name": "ipython",
    "version": 3
   },
   "file_extension": ".py",
   "mimetype": "text/x-python",
   "name": "python",
   "nbconvert_exporter": "python",
   "pygments_lexer": "ipython3",
   "version": "3.13.7"
  },
  "widgets": {
   "application/vnd.jupyter.widget-state+json": {
    "state": {},
    "version_major": 2,
    "version_minor": 0
   }
  }
 },
 "nbformat": 4,
 "nbformat_minor": 5
}
