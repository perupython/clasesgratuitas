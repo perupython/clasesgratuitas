{
 "cells": [
  {
   "cell_type": "markdown",
   "id": "f76dd6dc",
   "metadata": {},
   "source": [
    "![Redes Sociales](../redes_sociales_pythonperu.png)"
   ]
  },
  {
   "cell_type": "markdown",
   "id": "b17d2668",
   "metadata": {},
   "source": [
    "# **Variables en Python**"
   ]
  },
  {
   "cell_type": "markdown",
   "id": "1ad09834",
   "metadata": {},
   "source": [
    "¿Qué es una variable?\n",
    "- Es un espacio donde guardas un dato.\n",
    "\n",
    "- Se usa para guardar texto, números, resultados de operaciones, etc."
   ]
  },
  {
   "cell_type": "markdown",
   "id": "099a3788",
   "metadata": {},
   "source": [
    "⌨️ input(): Pedir datos al usuario"
   ]
  },
  {
   "cell_type": "markdown",
   "id": "889c3e76",
   "metadata": {},
   "source": [
    "🟡 Todo lo que llega por input() es de tipo str"
   ]
  },
  {
   "cell_type": "code",
   "execution_count": null,
   "id": "14ffe130",
   "metadata": {},
   "outputs": [],
   "source": []
  },
  {
   "cell_type": "markdown",
   "id": "8ec3356c",
   "metadata": {},
   "source": [
    "Reglas para nombrar variables  \n",
    "\n",
    "- ✅ Letras, números y guiones bajos\n",
    "- ❌ No puede comenzar con número\n",
    "- ❌ No puede tener espacios ni símbolos raros"
   ]
  },
  {
   "cell_type": "code",
   "execution_count": null,
   "id": "dd7a82f8",
   "metadata": {},
   "outputs": [],
   "source": []
  },
  {
   "cell_type": "markdown",
   "id": "7ca5bc4a",
   "metadata": {},
   "source": [
    "🎲 Ejercicio 1: ¡Crea tu ficha de videojuego!"
   ]
  },
  {
   "cell_type": "code",
   "execution_count": null,
   "id": "cc08e552",
   "metadata": {},
   "outputs": [],
   "source": []
  },
  {
   "cell_type": "markdown",
   "id": "82d83766",
   "metadata": {},
   "source": [
    "🍕 Ejercicio 2: Calculadora de pedidos de pizza"
   ]
  },
  {
   "cell_type": "code",
   "execution_count": null,
   "id": "ebb2cf1e",
   "metadata": {},
   "outputs": [],
   "source": []
  },
  {
   "cell_type": "markdown",
   "id": "253c4dad",
   "metadata": {},
   "source": [
    "🎬 Ejercicio 3: Crear título de película estilo Netflix"
   ]
  },
  {
   "cell_type": "code",
   "execution_count": null,
   "id": "c5545239",
   "metadata": {},
   "outputs": [],
   "source": []
  },
  {
   "cell_type": "markdown",
   "id": "9570ebba",
   "metadata": {},
   "source": [
    "Tarjeta de presentación Python"
   ]
  },
  {
   "cell_type": "code",
   "execution_count": null,
   "id": "dcfb4fce",
   "metadata": {},
   "outputs": [],
   "source": []
  },
  {
   "cell_type": "markdown",
   "id": "d7151f90",
   "metadata": {},
   "source": [
    "🧪 Ejercicio 4: Calculadora de edad"
   ]
  },
  {
   "cell_type": "code",
   "execution_count": null,
   "id": "983d3e0a",
   "metadata": {},
   "outputs": [],
   "source": []
  },
  {
   "cell_type": "markdown",
   "id": "399f5f2b",
   "metadata": {},
   "source": [
    "🍿 Ejercicio 5: Crea tu perfil de Netflix"
   ]
  },
  {
   "cell_type": "code",
   "execution_count": null,
   "id": "362decef",
   "metadata": {},
   "outputs": [],
   "source": []
  },
  {
   "cell_type": "markdown",
   "id": "c5115a93",
   "metadata": {},
   "source": [
    "🎮 Ejercicio 6: Simulador de personaje de videojuego"
   ]
  },
  {
   "cell_type": "code",
   "execution_count": null,
   "id": "ae4a0ef0",
   "metadata": {},
   "outputs": [],
   "source": []
  },
  {
   "cell_type": "markdown",
   "id": "a848ed64",
   "metadata": {},
   "source": [
    "🎉 ACTIVIDAD FINAL: Crea tu carnet de estudiante con input() y print()\n"
   ]
  },
  {
   "cell_type": "code",
   "execution_count": null,
   "id": "e516c0be",
   "metadata": {},
   "outputs": [],
   "source": []
  }
 ],
 "metadata": {
  "language_info": {
   "name": "python"
  }
 },
 "nbformat": 4,
 "nbformat_minor": 5
}
