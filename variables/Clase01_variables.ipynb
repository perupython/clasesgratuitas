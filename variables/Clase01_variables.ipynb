{
 "cells": [
  {
   "cell_type": "markdown",
   "id": "f76dd6dc",
   "metadata": {},
   "source": [
    "![Redes Sociales](../redes_sociales_pythonperu.png)"
   ]
  },
  {
   "cell_type": "markdown",
   "id": "b17d2668",
   "metadata": {},
   "source": [
    "# **Variables en Python**"
   ]
  },
  {
   "cell_type": "markdown",
   "id": "1ad09834",
   "metadata": {},
   "source": [
    "¿Qué es una variable?\n",
    "- Es un espacio donde guardas un dato.\n",
    "\n",
    "- Se usa para guardar texto, números, resultados de operaciones, etc."
   ]
  },
  {
   "cell_type": "markdown",
   "id": "099a3788",
   "metadata": {},
   "source": [
    "⌨️ input(): Pedir datos al usuario"
   ]
  },
  {
   "cell_type": "markdown",
   "id": "889c3e76",
   "metadata": {},
   "source": [
    "🟡 Todo lo que llega por input() es de tipo str"
   ]
  },
  {
   "cell_type": "code",
   "execution_count": 2,
   "id": "14ffe130",
   "metadata": {},
   "outputs": [
    {
     "data": {
      "text/plain": [
       "'15'"
      ]
     },
     "execution_count": 2,
     "metadata": {},
     "output_type": "execute_result"
    }
   ],
   "source": [
    "input()"
   ]
  },
  {
   "attachments": {
    "image.png": {
     "image/png": "[encoded data removed]"
    }
   },
   "cell_type": "markdown",
   "id": "205258bf",
   "metadata": {},
   "source": [
    "![image.png](attachment:image.png)"
   ]
  },
  {
   "cell_type": "markdown",
   "id": "8ec3356c",
   "metadata": {},
   "source": [
    "Reglas para nombrar variables  \n",
    "\n",
    "- ✅ Letras, números y guiones bajos\n",
    "- ❌ No puede comenzar con número\n",
    "- ❌ No puede tener espacios ni símbolos raros"
   ]
  },
  {
   "cell_type": "code",
   "execution_count": 5,
   "id": "dd7a82f8",
   "metadata": {},
   "outputs": [],
   "source": [
    "nombre = 'Leonardo'\n",
    "apellido = 'Rivera'\n",
    "edad = 23\n",
    "correo = 'leonardorivera@gmail.com'\n",
    "peso = 70.56\n",
    "altura = 1.75"
   ]
  },
  {
   "cell_type": "code",
   "execution_count": 7,
   "id": "990f7575",
   "metadata": {},
   "outputs": [
    {
     "name": "stdout",
     "output_type": "stream",
     "text": [
      "Leonardo\n",
      "leonardorivera@gmail.com\n"
     ]
    }
   ],
   "source": [
    "print(nombre)\n",
    "print(correo)"
   ]
  },
  {
   "cell_type": "code",
   "execution_count": 8,
   "id": "920335ad",
   "metadata": {},
   "outputs": [
    {
     "ename": "SyntaxError",
     "evalue": "invalid decimal literal (3877984349.py, line 1)",
     "output_type": "error",
     "traceback": [
      "  \u001b[36mCell\u001b[39m\u001b[36m \u001b[39m\u001b[32mIn[8]\u001b[39m\u001b[32m, line 1\u001b[39m\n\u001b[31m    \u001b[39m\u001b[31m1edad = 3\u001b[39m\n    ^\n\u001b[31mSyntaxError\u001b[39m\u001b[31m:\u001b[39m invalid decimal literal\n"
     ]
    }
   ],
   "source": [
    "1edad = 3"
   ]
  },
  {
   "cell_type": "markdown",
   "id": "7ca5bc4a",
   "metadata": {},
   "source": [
    "🎲 Ejercicio 1: ¡Crea tu ficha de videojuego!"
   ]
  },
  {
   "cell_type": "code",
   "execution_count": 9,
   "id": "cc08e552",
   "metadata": {},
   "outputs": [
    {
     "name": "stdout",
     "output_type": "stream",
     "text": [
      "Bienvenido al Juego: Adivina adivinador\n",
      "Tu moneda es 2\n"
     ]
    }
   ],
   "source": [
    "print('Bienvenido al Juego: Adivina adivinador')\n",
    "ficha = input('Escoge una moneda (1 - 2 - 3): ')\n",
    "print('Tu moneda es', ficha)"
   ]
  },
  {
   "cell_type": "markdown",
   "id": "82d83766",
   "metadata": {},
   "source": [
    "🍕 Ejercicio 2: Calculadora de pedidos de pizza"
   ]
  },
  {
   "cell_type": "code",
   "execution_count": 11,
   "id": "ebb2cf1e",
   "metadata": {},
   "outputs": [
    {
     "name": "stdout",
     "output_type": "stream",
     "text": [
      "Bienvenido a la Pizzería más grande Pizza Python\n",
      "Tenemos 2 pizzas:\n",
      "Peperonni(1) y Americana(2)\n",
      "Escogió la pizza:  1\n"
     ]
    }
   ],
   "source": [
    "print('Bienvenido a la Pizzería más grande Pizza Python')\n",
    "print('Tenemos 2 pizzas:')\n",
    "print('Peperonni(1) y Americana(2)')\n",
    "pizza = input('Escoge 1 o 2: ')\n",
    "print('Escogió la pizza: ', pizza)"
   ]
  },
  {
   "cell_type": "markdown",
   "id": "253c4dad",
   "metadata": {},
   "source": [
    "🎬 Ejercicio 3: Crear título de película estilo Netflix"
   ]
  },
  {
   "cell_type": "code",
   "execution_count": 12,
   "id": "c5545239",
   "metadata": {},
   "outputs": [
    {
     "name": "stdout",
     "output_type": "stream",
     "text": [
      "El nombre de la pelicula es El waza y la red\n"
     ]
    }
   ],
   "source": [
    "pelicula = input('Nombre de pelicula para Netflix: ')\n",
    "print('El nombre de la pelicula es', pelicula)"
   ]
  },
  {
   "cell_type": "markdown",
   "id": "9570ebba",
   "metadata": {},
   "source": [
    "Tarjeta de presentación Python"
   ]
  },
  {
   "cell_type": "code",
   "execution_count": null,
   "id": "dcfb4fce",
   "metadata": {},
   "outputs": [],
   "source": []
  },
  {
   "cell_type": "markdown",
   "id": "d7151f90",
   "metadata": {},
   "source": [
    "🧪 Ejercicio 4: Calculadora de edad"
   ]
  },
  {
   "cell_type": "code",
   "execution_count": null,
   "id": "983d3e0a",
   "metadata": {},
   "outputs": [],
   "source": []
  },
  {
   "cell_type": "markdown",
   "id": "399f5f2b",
   "metadata": {},
   "source": [
    "🍿 Ejercicio 5: Crea tu perfil de Netflix"
   ]
  },
  {
   "cell_type": "code",
   "execution_count": null,
   "id": "362decef",
   "metadata": {},
   "outputs": [],
   "source": []
  },
  {
   "cell_type": "markdown",
   "id": "c5115a93",
   "metadata": {},
   "source": [
    "🎮 Ejercicio 6: Simulador de personaje de videojuego"
   ]
  },
  {
   "cell_type": "code",
   "execution_count": null,
   "id": "ae4a0ef0",
   "metadata": {},
   "outputs": [],
   "source": []
  },
  {
   "cell_type": "markdown",
   "id": "a848ed64",
   "metadata": {},
   "source": [
    "🎉 ACTIVIDAD FINAL: Crea tu carnet de estudiante con input() y print()\n"
   ]
  },
  {
   "cell_type": "code",
   "execution_count": null,
   "id": "e516c0be",
   "metadata": {},
   "outputs": [],
   "source": []
  }
 ],
 "metadata": {
  "kernelspec": {
   "display_name": "Python 3",
   "language": "python",
   "name": "python3"
  },
  "language_info": {
   "codemirror_mode": {
    "name": "ipython",
    "version": 3
   },
   "file_extension": ".py",
   "mimetype": "text/x-python",
   "name": "python",
   "nbconvert_exporter": "python",
   "pygments_lexer": "ipython3",
   "version": "3.13.5"
  }
 },
 "nbformat": 4,
 "nbformat_minor": 5
}
