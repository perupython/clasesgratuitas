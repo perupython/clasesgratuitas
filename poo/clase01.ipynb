{
 "cells": [
  {
   "cell_type": "markdown",
   "id": "1c49b4f9-09d1-4249-8ff2-d78f67fecaf8",
   "metadata": {},
   "source": [
    "# **Programación Orientada a Objetos**"
   ]
  },
  {
   "cell_type": "markdown",
   "id": "41a8b811-bbd2-4045-9cf9-50b6c82eaac5",
   "metadata": {},
   "source": [
    "¿Qué es POO?\n",
    "- La Programación Orientada a Objetos es un estilo de programar en el que organizamos el código como si fuera **objetos del mundo real**\n",
    "\n",
    "En vez de tener funciones y variables sueltas, crearemos **clases** que describirán cómo son estos objetos y que hacen"
   ]
  },
  {
   "cell_type": "markdown",
   "id": "8e4d186f-dca1-49fa-9b17-46af6d942e28",
   "metadata": {},
   "source": [
    "Ejemplo de la vida real:\n",
    "- Una persona tiene **atributos**(característica): nombre, edad, DNI, correo, ubicación\n",
    "- Una persona también tiene acciones/**métodos**: caminar, hablar, dormir"
   ]
  },
  {
   "cell_type": "markdown",
   "id": "171cf19f-ff2a-4f4a-83d0-e112a47ea32f",
   "metadata": {},
   "source": [
    "Conceptos:\n",
    "- Clase: Es como un molde\n",
    "    - Ejemplo: El plano de una casa\n",
    "- Objetos (instancia): Es una casa real construida a partir del plano\n",
    "- Atributos: Son **características** de un objeto\n",
    "- Métodos: Son acciones que el objeto puede hacer (Abrir puerta, encender luces)\n",
    "- self: Es la forma en la que un objeto en Python se refiere a sí mismo."
   ]
  },
  {
   "cell_type": "markdown",
   "id": "8b2f29e1-b690-4c8d-9b1e-896d026952ad",
   "metadata": {},
   "source": [
    "Ventajas de POO\n",
    "- Organizar mejor el código\n",
    "- Facilitar reutilizar el código\n",
    "- Ayuda a manejar datos complejos(arrays, dataframes, series)"
   ]
  },
  {
   "cell_type": "code",
   "execution_count": 16,
   "id": "37dcfafb-48ea-4a28-8972-375ee33c32cd",
   "metadata": {},
   "outputs": [],
   "source": [
    "# TIPOS DE DATOS\n",
    "# int, float, str, bool\n",
    "# int: 1, -3, 0 (enteros)\n",
    "# float: 1.2, -2.5, 0.0 (decimales)\n",
    "# str: 'hola', \"chau\" (texto)\n",
    "# bool: True, False"
   ]
  },
  {
   "cell_type": "code",
   "execution_count": 1,
   "id": "eacbe605-9471-4bdf-94b5-604a12c3a8e9",
   "metadata": {},
   "outputs": [],
   "source": [
    "# Definimos una clase (molde)\n",
    "class Persona:\n",
    "    # metodo constructor\n",
    "    def __init__(self, nombre, edad):\n",
    "        # atributos\n",
    "        self.nombre = nombre\n",
    "        self.edad = edad\n",
    "\n",
    "    def saludar(self): # método\n",
    "        return f'Hola, soy {self.nombre} y tengo {self.edad} años'       "
   ]
  },
  {
   "cell_type": "code",
   "execution_count": 2,
   "id": "5047b6c4-bdc8-4563-bf52-c9fdd9074ece",
   "metadata": {},
   "outputs": [],
   "source": [
    "# Crear los objetos (instancias)\n",
    "p1 = Persona('Leonardo', 28)\n",
    "p2 = Persona('Maria', 35)"
   ]
  },
  {
   "cell_type": "code",
   "execution_count": 6,
   "id": "87887052-3183-4703-bd0f-2be427f17743",
   "metadata": {},
   "outputs": [
    {
     "data": {
      "text/plain": [
       "'Leonardo'"
      ]
     },
     "execution_count": 6,
     "metadata": {},
     "output_type": "execute_result"
    }
   ],
   "source": [
    "p1.nombre # atributos"
   ]
  },
  {
   "cell_type": "code",
   "execution_count": 5,
   "id": "7b2d6d18-f302-43dc-8290-5b50f0cd69d5",
   "metadata": {},
   "outputs": [
    {
     "data": {
      "text/plain": [
       "35"
      ]
     },
     "execution_count": 5,
     "metadata": {},
     "output_type": "execute_result"
    }
   ],
   "source": [
    "p2.edad # atributos"
   ]
  },
  {
   "cell_type": "code",
   "execution_count": 7,
   "id": "eb7539ad-5ee7-48d7-8e61-a97a577116c4",
   "metadata": {},
   "outputs": [
    {
     "data": {
      "text/plain": [
       "'Hola, soy Leonardo y tengo 28 años'"
      ]
     },
     "execution_count": 7,
     "metadata": {},
     "output_type": "execute_result"
    }
   ],
   "source": [
    "p1.saludar() # metodo"
   ]
  },
  {
   "cell_type": "code",
   "execution_count": 8,
   "id": "17d56303-304c-4087-8812-2f4b48c2af41",
   "metadata": {},
   "outputs": [
    {
     "data": {
      "text/plain": [
       "'Hola, soy Maria y tengo 35 años'"
      ]
     },
     "execution_count": 8,
     "metadata": {},
     "output_type": "execute_result"
    }
   ],
   "source": [
    "p2.saludar() # metodo"
   ]
  },
  {
   "cell_type": "markdown",
   "id": "46dd9163-cbf9-4852-9cd6-3005be041d6b",
   "metadata": {},
   "source": [
    "Ejercicio: Clase Rectángulo"
   ]
  },
  {
   "cell_type": "code",
   "execution_count": 10,
   "id": "c47d6e64-5efd-4e5f-9c09-ba4ddee5bec6",
   "metadata": {},
   "outputs": [],
   "source": [
    "# SIN POO\n",
    "base = 3\n",
    "altura = 2\n",
    "\n",
    "def area_rectangulo(base, altura):\n",
    "    return base * altura\n",
    "\n",
    "def perimetro_rectangulo(base, altura):\n",
    "    return 2 * (base + altura)"
   ]
  },
  {
   "cell_type": "code",
   "execution_count": 11,
   "id": "12d3f68a-7071-4f57-9317-de598df34804",
   "metadata": {},
   "outputs": [],
   "source": [
    "# CON POO\n",
    "class Rectangulo:\n",
    "    # metodo constructor\n",
    "    def __init__(self, base, altura):\n",
    "        # atributos\n",
    "        self.base = base\n",
    "        self.altura = altura\n",
    "\n",
    "    def area(self):\n",
    "        return self.base * self.altura\n",
    "\n",
    "    def perimetro(self):\n",
    "        return 2 * (self.base + self.altura)"
   ]
  },
  {
   "cell_type": "code",
   "execution_count": 17,
   "id": "8993d3b9-b83e-4fca-9b93-1f280219baae",
   "metadata": {},
   "outputs": [],
   "source": [
    "# Crear objeto Rectangulo\n",
    "r = Rectangulo(5, 3)"
   ]
  },
  {
   "cell_type": "code",
   "execution_count": 19,
   "id": "33dcd890-fbc0-4514-b3a8-202d4a618dcd",
   "metadata": {},
   "outputs": [
    {
     "data": {
      "text/plain": [
       "15"
      ]
     },
     "execution_count": 19,
     "metadata": {},
     "output_type": "execute_result"
    }
   ],
   "source": [
    "r.area() # metodo"
   ]
  },
  {
   "cell_type": "code",
   "execution_count": 20,
   "id": "ff768e12-e85c-42ab-ade2-45cf083d5fcc",
   "metadata": {},
   "outputs": [
    {
     "data": {
      "text/plain": [
       "16"
      ]
     },
     "execution_count": 20,
     "metadata": {},
     "output_type": "execute_result"
    }
   ],
   "source": [
    "r.perimetro()"
   ]
  },
  {
   "cell_type": "markdown",
   "id": "ca4ede08-596d-44bb-82c9-268461c94ed4",
   "metadata": {},
   "source": [
    "Ejercicio: Clase Empleado"
   ]
  },
  {
   "cell_type": "code",
   "execution_count": 23,
   "id": "d1eb2089-56be-4b8e-a5fe-95f7f3c30a85",
   "metadata": {},
   "outputs": [],
   "source": [
    "class Empleado:\n",
    "    def __init__(self, nombre, cargo, salario):\n",
    "        self.nombre = nombre\n",
    "        self.cargo = cargo\n",
    "        self.salario = salario\n",
    "\n",
    "    def bono(self):\n",
    "        return self.salario * 0.1"
   ]
  },
  {
   "cell_type": "code",
   "execution_count": 24,
   "id": "22b9ecdd-7f97-4418-8e6c-ca1dd314d42b",
   "metadata": {},
   "outputs": [],
   "source": [
    "e1 = Empleado('Lucia', 'Analista', 3000)"
   ]
  },
  {
   "cell_type": "code",
   "execution_count": 29,
   "id": "ee04f9aa-147b-4e23-8d0f-f5abafc5fb88",
   "metadata": {},
   "outputs": [
    {
     "ename": "TypeError",
     "evalue": "Empleado.__init__() missing 1 required positional argument: 'salario'",
     "output_type": "error",
     "traceback": [
      "\u001b[31m---------------------------------------------------------------------------\u001b[39m",
      "\u001b[31mTypeError\u001b[39m                                 Traceback (most recent call last)",
      "\u001b[36mCell\u001b[39m\u001b[36m \u001b[39m\u001b[32mIn[29]\u001b[39m\u001b[32m, line 1\u001b[39m\n\u001b[32m----> \u001b[39m\u001b[32m1\u001b[39m e2 = \u001b[43mEmpleado\u001b[49m\u001b[43m(\u001b[49m\u001b[33;43m'\u001b[39;49m\u001b[33;43mLeonardo\u001b[39;49m\u001b[33;43m'\u001b[39;49m\u001b[43m,\u001b[49m\u001b[43m \u001b[49m\u001b[33;43m'\u001b[39;49m\u001b[33;43mMarketing\u001b[39;49m\u001b[33;43m'\u001b[39;49m\u001b[43m)\u001b[49m\n",
      "\u001b[31mTypeError\u001b[39m: Empleado.__init__() missing 1 required positional argument: 'salario'"
     ]
    }
   ],
   "source": [
    "e2 = Empleado('Leonardo', 'Marketing')"
   ]
  },
  {
   "cell_type": "code",
   "execution_count": 28,
   "id": "d17fb354-6ac7-4c33-af97-0dc0bac0d921",
   "metadata": {},
   "outputs": [
    {
     "name": "stdout",
     "output_type": "stream",
     "text": [
      "Lucia -> bono: 300.0\n"
     ]
    }
   ],
   "source": [
    "print(f'{e1.nombre} -> bono: {e1.bono()}')"
   ]
  },
  {
   "cell_type": "markdown",
   "id": "e2ab8da6-aad9-4496-92e3-ee94dd2f5e9d",
   "metadata": {},
   "source": [
    "Ejercicio: Clase Cuenta Simple"
   ]
  },
  {
   "cell_type": "code",
   "execution_count": 30,
   "id": "424d6074-cec4-4813-83d6-f9b06bab3672",
   "metadata": {},
   "outputs": [],
   "source": [
    "class Cuenta:\n",
    "    def __init__(self, saldo=0):\n",
    "        self.saldo = saldo\n",
    "\n",
    "    def depositar(self, monto):\n",
    "        if monto > 0:\n",
    "            self.saldo += monto\n",
    "        else:\n",
    "            print('Solo acepto cantidades positivas')\n",
    "\n",
    "    def retirar(self, monto):\n",
    "        if monto <= self.saldo:\n",
    "            self.saldo -= monto\n",
    "        else:\n",
    "            print('Fondos insuficientes')"
   ]
  },
  {
   "cell_type": "code",
   "execution_count": 32,
   "id": "c9cc4309-3855-4da4-9a4d-a9de590cbe82",
   "metadata": {},
   "outputs": [],
   "source": [
    "c = Cuenta(100)"
   ]
  },
  {
   "cell_type": "code",
   "execution_count": 33,
   "id": "e9c1e323-3809-4940-9ab1-98a43790d7fb",
   "metadata": {},
   "outputs": [
    {
     "name": "stdout",
     "output_type": "stream",
     "text": [
      "Solo acepto cantidades positivas\n"
     ]
    }
   ],
   "source": [
    "c.depositar(-12)"
   ]
  },
  {
   "cell_type": "code",
   "execution_count": 34,
   "id": "ada4cde1-02b6-414f-bd25-b64583ae006d",
   "metadata": {},
   "outputs": [
    {
     "data": {
      "text/plain": [
       "100"
      ]
     },
     "execution_count": 34,
     "metadata": {},
     "output_type": "execute_result"
    }
   ],
   "source": [
    "c.saldo"
   ]
  },
  {
   "cell_type": "code",
   "execution_count": 35,
   "id": "b8244339-dc66-46c6-89cb-bb286ff1cdbe",
   "metadata": {},
   "outputs": [],
   "source": [
    "c.depositar(50)"
   ]
  },
  {
   "cell_type": "code",
   "execution_count": 36,
   "id": "93cbe989-526a-46a3-bb56-e5cf776d040d",
   "metadata": {},
   "outputs": [
    {
     "data": {
      "text/plain": [
       "150"
      ]
     },
     "execution_count": 36,
     "metadata": {},
     "output_type": "execute_result"
    }
   ],
   "source": [
    "c.saldo"
   ]
  },
  {
   "cell_type": "code",
   "execution_count": 37,
   "id": "5463f66d-8fe3-47af-afbd-f7b7f8ab1b50",
   "metadata": {},
   "outputs": [
    {
     "name": "stdout",
     "output_type": "stream",
     "text": [
      "Fondos insuficientes\n"
     ]
    }
   ],
   "source": [
    "c.retirar(200)"
   ]
  },
  {
   "cell_type": "code",
   "execution_count": 38,
   "id": "45a90a24-4c67-45b0-b913-8dad4c83bf69",
   "metadata": {},
   "outputs": [],
   "source": [
    "c.retirar(100)"
   ]
  },
  {
   "cell_type": "code",
   "execution_count": 39,
   "id": "ceab51fd-c976-446d-824a-139229d45fcb",
   "metadata": {},
   "outputs": [
    {
     "data": {
      "text/plain": [
       "50"
      ]
     },
     "execution_count": 39,
     "metadata": {},
     "output_type": "execute_result"
    }
   ],
   "source": [
    "c.saldo"
   ]
  },
  {
   "cell_type": "markdown",
   "id": "42e24d52-5380-4c6f-afdc-cc43a1b79b1c",
   "metadata": {},
   "source": [
    "Ejercicio: Clase Sensor de Temperatura (simulación)"
   ]
  },
  {
   "cell_type": "code",
   "execution_count": 40,
   "id": "6921a15c-2840-4981-b7fb-af94e1ae8934",
   "metadata": {},
   "outputs": [],
   "source": [
    "import random\n",
    "\n",
    "class Sensor:\n",
    "    def __init__(self):\n",
    "        self.datos = []\n",
    "\n",
    "    def registrar(self):\n",
    "        temp = round(random.uniform(18, 30), 2) # Simular una lectura\n",
    "        # Agregar temp a mi lista self.datos\n",
    "        self.datos.append(temp)\n",
    "        return temp\n",
    "\n",
    "    def promedio(self):\n",
    "        return sum(self.datos) / len(self.datos)\n",
    "\n",
    "    def maxima(self):\n",
    "        return max(self.datos)"
   ]
  },
  {
   "cell_type": "code",
   "execution_count": 41,
   "id": "008087e4-ea6e-47dd-ab52-88675e823db5",
   "metadata": {},
   "outputs": [],
   "source": [
    "s = Sensor()"
   ]
  },
  {
   "cell_type": "code",
   "execution_count": 42,
   "id": "d6df9062-5104-4bbb-9c10-0543095f6129",
   "metadata": {},
   "outputs": [
    {
     "name": "stdout",
     "output_type": "stream",
     "text": [
      "Lectura: 18.87\n",
      "Lectura: 27.5\n",
      "Lectura: 24.99\n",
      "Lectura: 19.39\n",
      "Lectura: 26.0\n"
     ]
    }
   ],
   "source": [
    "# Bucle for\n",
    "for i in range(5):\n",
    "    print(f'Lectura: {s.registrar()}')"
   ]
  },
  {
   "cell_type": "code",
   "execution_count": 43,
   "id": "f2ccf1c8-00a6-4ba0-9ce2-61f31673d347",
   "metadata": {},
   "outputs": [
    {
     "data": {
      "text/plain": [
       "[18.87, 27.5, 24.99, 19.39, 26.0]"
      ]
     },
     "execution_count": 43,
     "metadata": {},
     "output_type": "execute_result"
    }
   ],
   "source": [
    "s.datos"
   ]
  },
  {
   "cell_type": "code",
   "execution_count": 44,
   "id": "58e17823-3a70-4fee-8841-8a581710478c",
   "metadata": {},
   "outputs": [
    {
     "data": {
      "text/plain": [
       "23.35"
      ]
     },
     "execution_count": 44,
     "metadata": {},
     "output_type": "execute_result"
    }
   ],
   "source": [
    "s.promedio()"
   ]
  },
  {
   "cell_type": "code",
   "execution_count": 45,
   "id": "fa76afc8-d162-461f-bb01-fefecfc2b3b0",
   "metadata": {},
   "outputs": [
    {
     "data": {
      "text/plain": [
       "27.5"
      ]
     },
     "execution_count": 45,
     "metadata": {},
     "output_type": "execute_result"
    }
   ],
   "source": [
    "s.maxima()"
   ]
  },
  {
   "cell_type": "markdown",
   "id": "1496a345-6505-4fa4-997e-d81141a1bf40",
   "metadata": {},
   "source": [
    "Ejercicio: Aplicado a Análisis de Datos"
   ]
  },
  {
   "cell_type": "code",
   "execution_count": 47,
   "id": "cb8f9a41-cf7c-4938-8a8c-8ea0dcd29252",
   "metadata": {},
   "outputs": [],
   "source": [
    "import pandas as pd # Manipulación de datos tabulares"
   ]
  },
  {
   "cell_type": "code",
   "execution_count": 48,
   "id": "5e2a3916-ba92-4b2a-b633-18c80e84439c",
   "metadata": {},
   "outputs": [],
   "source": [
    "class AnalizadorCSV:\n",
    "    def __init__(self, ruta):\n",
    "        self.df = pd.read_csv(ruta)\n",
    "\n",
    "    def resumen_col(self, col):\n",
    "        return self.df[col].describe()"
   ]
  },
  {
   "cell_type": "code",
   "execution_count": 49,
   "id": "e3efbce9-47ee-45a1-bc67-8e172d4ae2f0",
   "metadata": {},
   "outputs": [],
   "source": [
    "df = AnalizadorCSV('SismosPeru1960_2023.csv')"
   ]
  },
  {
   "cell_type": "code",
   "execution_count": 51,
   "id": "d9259948-ec63-4698-8ddd-71a113ed4b4c",
   "metadata": {},
   "outputs": [
    {
     "data": {
      "text/plain": [
       "count    23680.000000\n",
       "mean         4.722078\n",
       "std          0.438076\n",
       "min          3.000000\n",
       "25%          4.500000\n",
       "50%          4.700000\n",
       "75%          4.900000\n",
       "max          8.400000\n",
       "Name: MAGNITUD, dtype: float64"
      ]
     },
     "execution_count": 51,
     "metadata": {},
     "output_type": "execute_result"
    }
   ],
   "source": [
    "df.resumen_col('MAGNITUD')"
   ]
  },
  {
   "cell_type": "code",
   "execution_count": 52,
   "id": "6a88eaca-bd58-4188-94c6-5c13eff7de39",
   "metadata": {},
   "outputs": [
    {
     "data": {
      "text/plain": [
       "count    23680.000000\n",
       "mean        71.097593\n",
       "std         66.236335\n",
       "min          0.000000\n",
       "25%         29.000000\n",
       "50%         48.000000\n",
       "75%        106.000000\n",
       "max        743.000000\n",
       "Name: PROFUNDIDAD, dtype: float64"
      ]
     },
     "execution_count": 52,
     "metadata": {},
     "output_type": "execute_result"
    }
   ],
   "source": [
    "df.resumen_col('PROFUNDIDAD')"
   ]
  },
  {
   "cell_type": "markdown",
   "id": "855756d9-01e1-4f0d-8c19-706ddaf31d81",
   "metadata": {},
   "source": [
    "Ejercicio: Reporte automático de ventas"
   ]
  },
  {
   "cell_type": "code",
   "execution_count": 53,
   "id": "919419ab-545f-4162-9eea-43d2d6e18261",
   "metadata": {},
   "outputs": [
    {
     "data": {
      "text/html": [
       "<div>\n",
       "<style scoped>\n",
       "    .dataframe tbody tr th:only-of-type {\n",
       "        vertical-align: middle;\n",
       "    }\n",
       "\n",
       "    .dataframe tbody tr th {\n",
       "        vertical-align: top;\n",
       "    }\n",
       "\n",
       "    .dataframe thead th {\n",
       "        text-align: right;\n",
       "    }\n",
       "</style>\n",
       "<table border=\"1\" class=\"dataframe\">\n",
       "  <thead>\n",
       "    <tr style=\"text-align: right;\">\n",
       "      <th></th>\n",
       "      <th>producto</th>\n",
       "      <th>monto</th>\n",
       "      <th>vendedor</th>\n",
       "      <th>fecha</th>\n",
       "    </tr>\n",
       "  </thead>\n",
       "  <tbody>\n",
       "    <tr>\n",
       "      <th>0</th>\n",
       "      <td>Laptop</td>\n",
       "      <td>3000</td>\n",
       "      <td>Ana</td>\n",
       "      <td>2023-01-10</td>\n",
       "    </tr>\n",
       "    <tr>\n",
       "      <th>1</th>\n",
       "      <td>Mouse</td>\n",
       "      <td>50</td>\n",
       "      <td>Luis</td>\n",
       "      <td>2023-01-15</td>\n",
       "    </tr>\n",
       "    <tr>\n",
       "      <th>2</th>\n",
       "      <td>Laptop</td>\n",
       "      <td>3500</td>\n",
       "      <td>Ana</td>\n",
       "      <td>2023-02-20</td>\n",
       "    </tr>\n",
       "    <tr>\n",
       "      <th>3</th>\n",
       "      <td>Teclado</td>\n",
       "      <td>100</td>\n",
       "      <td>Luis</td>\n",
       "      <td>2023-02-25</td>\n",
       "    </tr>\n",
       "    <tr>\n",
       "      <th>4</th>\n",
       "      <td>Mouse</td>\n",
       "      <td>70</td>\n",
       "      <td>Ana</td>\n",
       "      <td>2023-03-01</td>\n",
       "    </tr>\n",
       "  </tbody>\n",
       "</table>\n",
       "</div>"
      ],
      "text/plain": [
       "  producto  monto vendedor       fecha\n",
       "0   Laptop   3000      Ana  2023-01-10\n",
       "1    Mouse     50     Luis  2023-01-15\n",
       "2   Laptop   3500      Ana  2023-02-20\n",
       "3  Teclado    100     Luis  2023-02-25\n",
       "4    Mouse     70      Ana  2023-03-01"
      ]
     },
     "execution_count": 53,
     "metadata": {},
     "output_type": "execute_result"
    }
   ],
   "source": [
    "data = {\n",
    "    \"producto\":[\"Laptop\",\"Mouse\",\"Laptop\",\"Teclado\",\"Mouse\",\"Laptop\",\"Monitor\"],\n",
    "    \"monto\":[3000,50,3500,100,70,2800,1200],\n",
    "    \"vendedor\":[\"Ana\",\"Luis\",\"Ana\",\"Luis\",\"Ana\",\"Pedro\",\"Pedro\"],\n",
    "    \"fecha\":[\"2023-01-10\",\"2023-01-15\",\"2023-02-20\",\"2023-02-25\",\"2023-03-01\",\"2023-03-10\",\"2023-03-15\"]\n",
    "}\n",
    "df = pd.DataFrame(data)\n",
    "df.head()"
   ]
  },
  {
   "cell_type": "code",
   "execution_count": 57,
   "id": "9f04ae30-5c6d-41b4-9077-ab8e14e1b3cc",
   "metadata": {},
   "outputs": [],
   "source": [
    "class ReporteVentas:\n",
    "    def __init__(self, df):\n",
    "        self.df = df\n",
    "\n",
    "    def ventas_por_producto(self):\n",
    "        return self.df.groupby('producto')['monto'].sum().sort_values(ascending=False)\n",
    "\n",
    "    def ventas_por_mes(self):\n",
    "        self.df['mes'] = pd.to_datetime(self.df['fecha']).dt.to_period('M')\n",
    "        return self.df.groupby('mes')['monto'].sum()\n",
    "\n",
    "    def resumen_general(self):\n",
    "        total = self.df['monto'].sum()\n",
    "        promedio = self.df['monto'].mean()\n",
    "        cantidad = len(self.df)\n",
    "        ticket_prom = total / cantidad\n",
    "        return {\n",
    "            'Total ventas': total,\n",
    "            'Promedio venta': promedio,\n",
    "            'Cantidad ventas': cantidad,\n",
    "            'Ticket promedio': ticket_prom\n",
    "        }"
   ]
  },
  {
   "cell_type": "code",
   "execution_count": 58,
   "id": "1c553a44-6722-439f-a3f8-df0027379f87",
   "metadata": {},
   "outputs": [],
   "source": [
    "reporte = ReporteVentas(df)"
   ]
  },
  {
   "cell_type": "code",
   "execution_count": 59,
   "id": "ccfe894d-72f2-43a4-aa58-c6f6b554b495",
   "metadata": {},
   "outputs": [
    {
     "name": "stdout",
     "output_type": "stream",
     "text": [
      "Ventas por producto:\n"
     ]
    },
    {
     "data": {
      "text/plain": [
       "producto\n",
       "Laptop     9300\n",
       "Monitor    1200\n",
       "Mouse       120\n",
       "Teclado     100\n",
       "Name: monto, dtype: int64"
      ]
     },
     "execution_count": 59,
     "metadata": {},
     "output_type": "execute_result"
    }
   ],
   "source": [
    "print('Ventas por producto:')\n",
    "reporte.ventas_por_producto()"
   ]
  },
  {
   "cell_type": "code",
   "execution_count": 60,
   "id": "fe173eec-3bb6-42aa-b0c4-effc555f685a",
   "metadata": {},
   "outputs": [
    {
     "name": "stdout",
     "output_type": "stream",
     "text": [
      "Ventas por mes:\n"
     ]
    },
    {
     "data": {
      "text/plain": [
       "mes\n",
       "2023-01    3050\n",
       "2023-02    3600\n",
       "2023-03    4070\n",
       "Freq: M, Name: monto, dtype: int64"
      ]
     },
     "execution_count": 60,
     "metadata": {},
     "output_type": "execute_result"
    }
   ],
   "source": [
    "print('Ventas por mes:')\n",
    "reporte.ventas_por_mes()"
   ]
  },
  {
   "cell_type": "code",
   "execution_count": 61,
   "id": "63a602c6-0679-4f7d-9360-d8885d631774",
   "metadata": {},
   "outputs": [
    {
     "name": "stdout",
     "output_type": "stream",
     "text": [
      "Resumen general:\n"
     ]
    },
    {
     "data": {
      "text/plain": [
       "{'Total ventas': np.int64(10720),\n",
       " 'Promedio venta': np.float64(1531.4285714285713),\n",
       " 'Cantidad ventas': 7,\n",
       " 'Ticket promedio': np.float64(1531.4285714285713)}"
      ]
     },
     "execution_count": 61,
     "metadata": {},
     "output_type": "execute_result"
    }
   ],
   "source": [
    "print('Resumen general:')\n",
    "reporte.resumen_general()"
   ]
  }
 ],
 "metadata": {
  "kernelspec": {
   "display_name": "Python 3 (ipykernel)",
   "language": "python",
   "name": "python3"
  },
  "language_info": {
   "codemirror_mode": {
    "name": "ipython",
    "version": 3
   },
   "file_extension": ".py",
   "mimetype": "text/x-python",
   "name": "python",
   "nbconvert_exporter": "python",
   "pygments_lexer": "ipython3",
   "version": "3.13.7"
  },
  "widgets": {
   "application/vnd.jupyter.widget-state+json": {
    "state": {},
    "version_major": 2,
    "version_minor": 0
   }
  }
 },
 "nbformat": 4,
 "nbformat_minor": 5
}
