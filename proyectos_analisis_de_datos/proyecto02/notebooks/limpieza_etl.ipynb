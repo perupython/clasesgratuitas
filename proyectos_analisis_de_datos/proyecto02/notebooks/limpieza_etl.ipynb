{
 "cells": [
  {
   "cell_type": "markdown",
   "id": "e60ea86a",
   "metadata": {},
   "source": [
    "# **Cantidad de docentes de IE públicas a nivel nacional, por área, edad, sexo, grado académico y modalidad**"
   ]
  },
  {
   "cell_type": "markdown",
   "id": "eed348f3",
   "metadata": {},
   "source": [
    "Conjunto de datos estadísticos que presenta el número de docentes que laboran en instituciones educativas públicas del Perú durante el año lectivo 2024 (fuente: Censo Educativo del Ministerio de Educación del año 2024).\n",
    "\n",
    "La información está agregada y se desglosa por:\n",
    "\n",
    "- Área geográfica\n",
    "\n",
    "    - Sexo (hombres, mujeres)\n",
    "\n",
    "- Grupos de edad (25 años o menos; 26–35; 36–45; 46–55; 56–65; 66 años o más)\n",
    "\n",
    "- Grado académico\n",
    "\n",
    "- Modalidad / nivel educativo\n",
    "\n",
    "Cada fila representa la combinación única de estas categorías con el total de docentes correspondiente. El dataset sirve para analizar la distribución del personal docente público y apoyar decisiones de política educativa, planeamiento y monitoreo del sector público"
   ]
  },
  {
   "cell_type": "code",
   "execution_count": 46,
   "id": "cb9525a4",
   "metadata": {},
   "outputs": [],
   "source": [
    "import pandas as pd\n",
    "import numpy as np\n",
    "import matplotlib.pyplot as plt\n",
    "import seaborn as sns"
   ]
  },
  {
   "cell_type": "markdown",
   "id": "19583d11",
   "metadata": {},
   "source": [
    "### **¿Qué haría primero si recibo tu dataset “Docentes IE públicas”?**"
   ]
  },
  {
   "cell_type": "markdown",
   "id": "ce086315",
   "metadata": {},
   "source": [
    "1. Verifico el contexto\n",
    "- ¿De dónde viene el dataset? ¿Quién lo generó?\n",
    "    - Censo Educativo MINEDU 2024\n",
    "- ¿Cuál es el objetivo de negocio?\n",
    "    - Analizar distribución de docentes por zona, brecha de género, brecha etaria, calidad profesional, brecha rural/urbana.\n",
    "- ¿Para quién es este análisis?\n",
    "    - Toma de decisiones de política educativa"
   ]
  },
  {
   "cell_type": "markdown",
   "id": "40a295ba",
   "metadata": {},
   "source": [
    "2. Reviso la estructura del archivo\n",
    "\n"
   ]
  },
  {
   "cell_type": "markdown",
   "id": "9f472992",
   "metadata": {},
   "source": [
    "- ¿Qué formato tiene?"
   ]
  },
  {
   "cell_type": "code",
   "execution_count": 47,
   "id": "d3dced8e",
   "metadata": {},
   "outputs": [],
   "source": [
    "ruta = '../data/docentes_raw.csv'\n",
    "df = pd.read_csv(ruta)"
   ]
  },
  {
   "cell_type": "code",
   "execution_count": 48,
   "id": "4aaa1bb6",
   "metadata": {},
   "outputs": [
    {
     "data": {
      "text/plain": [
       "Index(['cod_mod', 'anexo', 'codlocal', 'cen_edu', 'dir_cen', 'niv_mod',\n",
       "       'nivel', 'nivel2', 'nivel3', 'ges_dep', 'gestion', 'codgeo', 'codooii',\n",
       "       'area_censo', 'area', 'region', 'dpto', 'prov', 'dist', 'dre_ugel',\n",
       "       'region_e', 'docentes_hombres', 'docentes_mujeres',\n",
       "       'docentes_nombrados', 'docentes_contratados', 'docentes_25_menos_años',\n",
       "       'docentes_2635_años', 'docentes_3645_años', 'docentes_4655_años',\n",
       "       'docentes_5665_años', 'docentes_66_a_mas_años', 'docentes_con_titulo',\n",
       "       'docentes_sin_titulo', 'docentes_total'],\n",
       "      dtype='object')"
      ]
     },
     "execution_count": 48,
     "metadata": {},
     "output_type": "execute_result"
    }
   ],
   "source": [
    "# Columnas\n",
    "df.columns = df.columns.str.strip().str.replace(' ', '_').str.lower()\n",
    "df.columns"
   ]
  },
  {
   "cell_type": "markdown",
   "id": "0c3f6520",
   "metadata": {},
   "source": [
    "- ¿Cuántas filas y columnas hay?"
   ]
  },
  {
   "cell_type": "code",
   "execution_count": 49,
   "id": "a77e3dc9",
   "metadata": {},
   "outputs": [
    {
     "name": "stdout",
     "output_type": "stream",
     "text": [
      "Tiene 66052 filas y 34 columnas.\n"
     ]
    }
   ],
   "source": [
    "estructura = df.shape\n",
    "print(f'Tiene {estructura[0]} filas y {estructura[1]} columnas.')"
   ]
  },
  {
   "cell_type": "markdown",
   "id": "b1ba9222",
   "metadata": {},
   "source": [
    "- ¿Tiene claves únicas?"
   ]
  },
  {
   "cell_type": "code",
   "execution_count": 50,
   "id": "a8e22455",
   "metadata": {},
   "outputs": [
    {
     "name": "stdout",
     "output_type": "stream",
     "text": [
      "Contiene 66045 claves únicas en la columna \"cod_mod\"\n"
     ]
    }
   ],
   "source": [
    "cod_mod_unique = len(df['cod_mod'].unique())\n",
    "print(f'Contiene {cod_mod_unique} claves únicas en la columna \"cod_mod\"')"
   ]
  },
  {
   "cell_type": "markdown",
   "id": "14f08fb0",
   "metadata": {},
   "source": [
    "- ¿Qué significan los campos?\n",
    "    - Reviso el diccionario de datos y me aseguro de entender cada columna"
   ]
  },
  {
   "cell_type": "markdown",
   "id": "df8b637e",
   "metadata": {},
   "source": [
    "3. Valido la calidad de los datos"
   ]
  },
  {
   "cell_type": "markdown",
   "id": "037efedd",
   "metadata": {},
   "source": [
    "- ¿Hay valores nulos?\n",
    "    - No hay valores nulos"
   ]
  },
  {
   "cell_type": "code",
   "execution_count": 51,
   "id": "254d1b7f",
   "metadata": {},
   "outputs": [
    {
     "data": {
      "text/plain": [
       "niv_mod                   0\n",
       "nivel                     0\n",
       "nivel2                    0\n",
       "nivel3                    0\n",
       "ges_dep                   0\n",
       "gestion                   0\n",
       "codgeo                    0\n",
       "codooii                   0\n",
       "area_censo                0\n",
       "area                      0\n",
       "region                    0\n",
       "dpto                      0\n",
       "prov                      0\n",
       "dist                      0\n",
       "dre_ugel                  0\n",
       "region_e                  0\n",
       "docentes_hombres          0\n",
       "docentes_mujeres          0\n",
       "docentes_nombrados        0\n",
       "docentes_contratados      0\n",
       "docentes_25_menos_años    0\n",
       "docentes_2635_años        0\n",
       "docentes_3645_años        0\n",
       "docentes_4655_años        0\n",
       "docentes_5665_años        0\n",
       "docentes_66_a_mas_años    0\n",
       "docentes_con_titulo       0\n",
       "docentes_sin_titulo       0\n",
       "docentes_total            0\n",
       "dtype: int64"
      ]
     },
     "execution_count": 51,
     "metadata": {},
     "output_type": "execute_result"
    }
   ],
   "source": [
    "df.isnull().sum()[5:]"
   ]
  },
  {
   "cell_type": "markdown",
   "id": "2e1a0e11",
   "metadata": {},
   "source": [
    "- ¿Hay duplicados?\n",
    "    - No hay duplicados"
   ]
  },
  {
   "cell_type": "code",
   "execution_count": 52,
   "id": "4edc5dc8",
   "metadata": {},
   "outputs": [
    {
     "data": {
      "text/plain": [
       "np.int64(0)"
      ]
     },
     "execution_count": 52,
     "metadata": {},
     "output_type": "execute_result"
    }
   ],
   "source": [
    "df.duplicated().sum()"
   ]
  },
  {
   "cell_type": "code",
   "execution_count": 53,
   "id": "9c206c44",
   "metadata": {},
   "outputs": [],
   "source": [
    "df = df.drop_duplicates(subset=['cod_mod'])"
   ]
  },
  {
   "cell_type": "markdown",
   "id": "af577a6a",
   "metadata": {},
   "source": [
    "- ¿Los totales cuadran?"
   ]
  },
  {
   "cell_type": "code",
   "execution_count": 54,
   "id": "f64b2ac1",
   "metadata": {},
   "outputs": [
    {
     "data": {
      "text/html": [
       "<div>\n",
       "<style scoped>\n",
       "    .dataframe tbody tr th:only-of-type {\n",
       "        vertical-align: middle;\n",
       "    }\n",
       "\n",
       "    .dataframe tbody tr th {\n",
       "        vertical-align: top;\n",
       "    }\n",
       "\n",
       "    .dataframe thead th {\n",
       "        text-align: right;\n",
       "    }\n",
       "</style>\n",
       "<table border=\"1\" class=\"dataframe\">\n",
       "  <thead>\n",
       "    <tr style=\"text-align: right;\">\n",
       "      <th></th>\n",
       "      <th>docentes_con_titulo</th>\n",
       "      <th>docentes_sin_titulo</th>\n",
       "      <th>docentes_total</th>\n",
       "    </tr>\n",
       "  </thead>\n",
       "  <tbody>\n",
       "    <tr>\n",
       "      <th>0</th>\n",
       "      <td>6</td>\n",
       "      <td>0</td>\n",
       "      <td>6</td>\n",
       "    </tr>\n",
       "    <tr>\n",
       "      <th>1</th>\n",
       "      <td>4</td>\n",
       "      <td>0</td>\n",
       "      <td>4</td>\n",
       "    </tr>\n",
       "    <tr>\n",
       "      <th>2</th>\n",
       "      <td>2</td>\n",
       "      <td>0</td>\n",
       "      <td>2</td>\n",
       "    </tr>\n",
       "    <tr>\n",
       "      <th>3</th>\n",
       "      <td>3</td>\n",
       "      <td>0</td>\n",
       "      <td>3</td>\n",
       "    </tr>\n",
       "    <tr>\n",
       "      <th>4</th>\n",
       "      <td>2</td>\n",
       "      <td>0</td>\n",
       "      <td>2</td>\n",
       "    </tr>\n",
       "    <tr>\n",
       "      <th>...</th>\n",
       "      <td>...</td>\n",
       "      <td>...</td>\n",
       "      <td>...</td>\n",
       "    </tr>\n",
       "    <tr>\n",
       "      <th>66047</th>\n",
       "      <td>4</td>\n",
       "      <td>4</td>\n",
       "      <td>8</td>\n",
       "    </tr>\n",
       "    <tr>\n",
       "      <th>66048</th>\n",
       "      <td>4</td>\n",
       "      <td>4</td>\n",
       "      <td>8</td>\n",
       "    </tr>\n",
       "    <tr>\n",
       "      <th>66049</th>\n",
       "      <td>3</td>\n",
       "      <td>5</td>\n",
       "      <td>8</td>\n",
       "    </tr>\n",
       "    <tr>\n",
       "      <th>66050</th>\n",
       "      <td>0</td>\n",
       "      <td>5</td>\n",
       "      <td>5</td>\n",
       "    </tr>\n",
       "    <tr>\n",
       "      <th>66051</th>\n",
       "      <td>10</td>\n",
       "      <td>2</td>\n",
       "      <td>12</td>\n",
       "    </tr>\n",
       "  </tbody>\n",
       "</table>\n",
       "<p>66045 rows × 3 columns</p>\n",
       "</div>"
      ],
      "text/plain": [
       "       docentes_con_titulo  docentes_sin_titulo  docentes_total\n",
       "0                        6                    0               6\n",
       "1                        4                    0               4\n",
       "2                        2                    0               2\n",
       "3                        3                    0               3\n",
       "4                        2                    0               2\n",
       "...                    ...                  ...             ...\n",
       "66047                    4                    4               8\n",
       "66048                    4                    4               8\n",
       "66049                    3                    5               8\n",
       "66050                    0                    5               5\n",
       "66051                   10                    2              12\n",
       "\n",
       "[66045 rows x 3 columns]"
      ]
     },
     "execution_count": 54,
     "metadata": {},
     "output_type": "execute_result"
    }
   ],
   "source": [
    "df.iloc[:,-3:]"
   ]
  },
  {
   "cell_type": "markdown",
   "id": "f456ba99",
   "metadata": {},
   "source": [
    "- Filtrar y seleccionar las columnas de interés"
   ]
  },
  {
   "cell_type": "code",
   "execution_count": 55,
   "id": "92e4d67d",
   "metadata": {},
   "outputs": [
    {
     "data": {
      "text/html": [
       "<div>\n",
       "<style scoped>\n",
       "    .dataframe tbody tr th:only-of-type {\n",
       "        vertical-align: middle;\n",
       "    }\n",
       "\n",
       "    .dataframe tbody tr th {\n",
       "        vertical-align: top;\n",
       "    }\n",
       "\n",
       "    .dataframe thead th {\n",
       "        text-align: right;\n",
       "    }\n",
       "</style>\n",
       "<table border=\"1\" class=\"dataframe\">\n",
       "  <thead>\n",
       "    <tr style=\"text-align: right;\">\n",
       "      <th></th>\n",
       "      <th>cod_mod</th>\n",
       "      <th>dir_cen</th>\n",
       "      <th>niv_mod</th>\n",
       "      <th>area_censo</th>\n",
       "      <th>dpto</th>\n",
       "      <th>prov</th>\n",
       "      <th>dist</th>\n",
       "      <th>dre_ugel</th>\n",
       "      <th>region_e</th>\n",
       "      <th>docentes_hombres</th>\n",
       "      <th>...</th>\n",
       "      <th>docentes_contratados</th>\n",
       "      <th>docentes_25_menos_años</th>\n",
       "      <th>docentes_2635_años</th>\n",
       "      <th>docentes_3645_años</th>\n",
       "      <th>docentes_4655_años</th>\n",
       "      <th>docentes_5665_años</th>\n",
       "      <th>docentes_66_a_mas_años</th>\n",
       "      <th>docentes_con_titulo</th>\n",
       "      <th>docentes_sin_titulo</th>\n",
       "      <th>docentes_total</th>\n",
       "    </tr>\n",
       "  </thead>\n",
       "  <tbody>\n",
       "    <tr>\n",
       "      <th>0</th>\n",
       "      <td>539213</td>\n",
       "      <td>EL MUYO S/N</td>\n",
       "      <td>A2</td>\n",
       "      <td>2</td>\n",
       "      <td>AMAZONAS</td>\n",
       "      <td>BAGUA</td>\n",
       "      <td>ARAMANGO</td>\n",
       "      <td>UGEL BAGUA</td>\n",
       "      <td>DRE AMAZONAS</td>\n",
       "      <td>0</td>\n",
       "      <td>...</td>\n",
       "      <td>0</td>\n",
       "      <td>1</td>\n",
       "      <td>2</td>\n",
       "      <td>2</td>\n",
       "      <td>1</td>\n",
       "      <td>0</td>\n",
       "      <td>0</td>\n",
       "      <td>6</td>\n",
       "      <td>0</td>\n",
       "      <td>6</td>\n",
       "    </tr>\n",
       "    <tr>\n",
       "      <th>1</th>\n",
       "      <td>585661</td>\n",
       "      <td>CALLE MIGUEL MONTEZA TAFUR S/N</td>\n",
       "      <td>A2</td>\n",
       "      <td>2</td>\n",
       "      <td>AMAZONAS</td>\n",
       "      <td>BAGUA</td>\n",
       "      <td>ARAMANGO</td>\n",
       "      <td>UGEL BAGUA</td>\n",
       "      <td>DRE AMAZONAS</td>\n",
       "      <td>0</td>\n",
       "      <td>...</td>\n",
       "      <td>1</td>\n",
       "      <td>1</td>\n",
       "      <td>1</td>\n",
       "      <td>0</td>\n",
       "      <td>1</td>\n",
       "      <td>1</td>\n",
       "      <td>0</td>\n",
       "      <td>4</td>\n",
       "      <td>0</td>\n",
       "      <td>4</td>\n",
       "    </tr>\n",
       "    <tr>\n",
       "      <th>2</th>\n",
       "      <td>708081</td>\n",
       "      <td>LA LIBERTAD S/N</td>\n",
       "      <td>A2</td>\n",
       "      <td>2</td>\n",
       "      <td>AMAZONAS</td>\n",
       "      <td>BAGUA</td>\n",
       "      <td>ARAMANGO</td>\n",
       "      <td>UGEL BAGUA</td>\n",
       "      <td>DRE AMAZONAS</td>\n",
       "      <td>0</td>\n",
       "      <td>...</td>\n",
       "      <td>0</td>\n",
       "      <td>0</td>\n",
       "      <td>0</td>\n",
       "      <td>1</td>\n",
       "      <td>1</td>\n",
       "      <td>0</td>\n",
       "      <td>0</td>\n",
       "      <td>2</td>\n",
       "      <td>0</td>\n",
       "      <td>2</td>\n",
       "    </tr>\n",
       "    <tr>\n",
       "      <th>3</th>\n",
       "      <td>708099</td>\n",
       "      <td>EL PORVENIR S/N</td>\n",
       "      <td>A2</td>\n",
       "      <td>2</td>\n",
       "      <td>AMAZONAS</td>\n",
       "      <td>BAGUA</td>\n",
       "      <td>ARAMANGO</td>\n",
       "      <td>UGEL BAGUA</td>\n",
       "      <td>DRE AMAZONAS</td>\n",
       "      <td>0</td>\n",
       "      <td>...</td>\n",
       "      <td>2</td>\n",
       "      <td>1</td>\n",
       "      <td>1</td>\n",
       "      <td>1</td>\n",
       "      <td>0</td>\n",
       "      <td>0</td>\n",
       "      <td>0</td>\n",
       "      <td>3</td>\n",
       "      <td>0</td>\n",
       "      <td>3</td>\n",
       "    </tr>\n",
       "    <tr>\n",
       "      <th>4</th>\n",
       "      <td>767939</td>\n",
       "      <td>AVENIDA DOS DE MAYO 557</td>\n",
       "      <td>A2</td>\n",
       "      <td>2</td>\n",
       "      <td>AMAZONAS</td>\n",
       "      <td>BAGUA</td>\n",
       "      <td>ARAMANGO</td>\n",
       "      <td>UGEL BAGUA</td>\n",
       "      <td>DRE AMAZONAS</td>\n",
       "      <td>0</td>\n",
       "      <td>...</td>\n",
       "      <td>0</td>\n",
       "      <td>0</td>\n",
       "      <td>0</td>\n",
       "      <td>0</td>\n",
       "      <td>2</td>\n",
       "      <td>0</td>\n",
       "      <td>0</td>\n",
       "      <td>2</td>\n",
       "      <td>0</td>\n",
       "      <td>2</td>\n",
       "    </tr>\n",
       "  </tbody>\n",
       "</table>\n",
       "<p>5 rows × 22 columns</p>\n",
       "</div>"
      ],
      "text/plain": [
       "   cod_mod                         dir_cen niv_mod  area_censo      dpto  \\\n",
       "0   539213                     EL MUYO S/N      A2           2  AMAZONAS   \n",
       "1   585661  CALLE MIGUEL MONTEZA TAFUR S/N      A2           2  AMAZONAS   \n",
       "2   708081                 LA LIBERTAD S/N      A2           2  AMAZONAS   \n",
       "3   708099                 EL PORVENIR S/N      A2           2  AMAZONAS   \n",
       "4   767939         AVENIDA DOS DE MAYO 557      A2           2  AMAZONAS   \n",
       "\n",
       "    prov      dist    dre_ugel      region_e  docentes_hombres  ...  \\\n",
       "0  BAGUA  ARAMANGO  UGEL BAGUA  DRE AMAZONAS                 0  ...   \n",
       "1  BAGUA  ARAMANGO  UGEL BAGUA  DRE AMAZONAS                 0  ...   \n",
       "2  BAGUA  ARAMANGO  UGEL BAGUA  DRE AMAZONAS                 0  ...   \n",
       "3  BAGUA  ARAMANGO  UGEL BAGUA  DRE AMAZONAS                 0  ...   \n",
       "4  BAGUA  ARAMANGO  UGEL BAGUA  DRE AMAZONAS                 0  ...   \n",
       "\n",
       "   docentes_contratados  docentes_25_menos_años  docentes_2635_años  \\\n",
       "0                     0                       1                   2   \n",
       "1                     1                       1                   1   \n",
       "2                     0                       0                   0   \n",
       "3                     2                       1                   1   \n",
       "4                     0                       0                   0   \n",
       "\n",
       "   docentes_3645_años  docentes_4655_años  docentes_5665_años  \\\n",
       "0                   2                   1                   0   \n",
       "1                   0                   1                   1   \n",
       "2                   1                   1                   0   \n",
       "3                   1                   0                   0   \n",
       "4                   0                   2                   0   \n",
       "\n",
       "   docentes_66_a_mas_años  docentes_con_titulo  docentes_sin_titulo  \\\n",
       "0                       0                    6                    0   \n",
       "1                       0                    4                    0   \n",
       "2                       0                    2                    0   \n",
       "3                       0                    3                    0   \n",
       "4                       0                    2                    0   \n",
       "\n",
       "   docentes_total  \n",
       "0               6  \n",
       "1               4  \n",
       "2               2  \n",
       "3               3  \n",
       "4               2  \n",
       "\n",
       "[5 rows x 22 columns]"
      ]
     },
     "execution_count": 55,
     "metadata": {},
     "output_type": "execute_result"
    }
   ],
   "source": [
    "# Filtrar niv_mod (B0-inicial, A2-primaria, FO-secundaria), ges_dep(A1-estatal)\n",
    "df = df[(df['niv_mod'].isin(['B0', 'A2', 'F0'])) & (df['ges_dep'].isin(['A1']))]\n",
    "# Seleccionar columnas de interés\n",
    "df.drop(columns = ['gestion', 'codgeo', 'codooii', 'area', 'region', 'anexo', 'codlocal', 'cen_edu', 'nivel','nivel2', 'nivel3', 'ges_dep'], inplace = True)\n",
    "df.head()"
   ]
  },
  {
   "cell_type": "markdown",
   "id": "1b29dfe8",
   "metadata": {},
   "source": [
    "- Tabla de dimensión niv_mod"
   ]
  },
  {
   "cell_type": "code",
   "execution_count": 56,
   "id": "41102b24",
   "metadata": {},
   "outputs": [
    {
     "data": {
      "text/html": [
       "<div>\n",
       "<style scoped>\n",
       "    .dataframe tbody tr th:only-of-type {\n",
       "        vertical-align: middle;\n",
       "    }\n",
       "\n",
       "    .dataframe tbody tr th {\n",
       "        vertical-align: top;\n",
       "    }\n",
       "\n",
       "    .dataframe thead th {\n",
       "        text-align: right;\n",
       "    }\n",
       "</style>\n",
       "<table border=\"1\" class=\"dataframe\">\n",
       "  <thead>\n",
       "    <tr style=\"text-align: right;\">\n",
       "      <th></th>\n",
       "      <th>niv_mod</th>\n",
       "      <th>nivel_desc</th>\n",
       "    </tr>\n",
       "  </thead>\n",
       "  <tbody>\n",
       "    <tr>\n",
       "      <th>0</th>\n",
       "      <td>A2</td>\n",
       "      <td>Primaria</td>\n",
       "    </tr>\n",
       "    <tr>\n",
       "      <th>31</th>\n",
       "      <td>B0</td>\n",
       "      <td>Inicial</td>\n",
       "    </tr>\n",
       "    <tr>\n",
       "      <th>86</th>\n",
       "      <td>F0</td>\n",
       "      <td>Secundaria</td>\n",
       "    </tr>\n",
       "  </tbody>\n",
       "</table>\n",
       "</div>"
      ],
      "text/plain": [
       "   niv_mod  nivel_desc\n",
       "0       A2    Primaria\n",
       "31      B0     Inicial\n",
       "86      F0  Secundaria"
      ]
     },
     "execution_count": 56,
     "metadata": {},
     "output_type": "execute_result"
    }
   ],
   "source": [
    "dim_niv_mod = df[['niv_mod']].drop_duplicates()\n",
    "dim_niv_mod['nivel_desc'] = dim_niv_mod['niv_mod'].map({\n",
    "    'B0': 'Inicial',\n",
    "    'A2': 'Primaria',\n",
    "    'F0': 'Secundaria'\n",
    "})\n",
    "dim_niv_mod"
   ]
  },
  {
   "cell_type": "markdown",
   "id": "f047810b",
   "metadata": {},
   "source": [
    "- Tabla de dimensión area_censo"
   ]
  },
  {
   "cell_type": "code",
   "execution_count": 57,
   "id": "638e071e",
   "metadata": {},
   "outputs": [
    {
     "data": {
      "text/html": [
       "<div>\n",
       "<style scoped>\n",
       "    .dataframe tbody tr th:only-of-type {\n",
       "        vertical-align: middle;\n",
       "    }\n",
       "\n",
       "    .dataframe tbody tr th {\n",
       "        vertical-align: top;\n",
       "    }\n",
       "\n",
       "    .dataframe thead th {\n",
       "        text-align: right;\n",
       "    }\n",
       "</style>\n",
       "<table border=\"1\" class=\"dataframe\">\n",
       "  <thead>\n",
       "    <tr style=\"text-align: right;\">\n",
       "      <th></th>\n",
       "      <th>area_censo</th>\n",
       "      <th>area_desc</th>\n",
       "    </tr>\n",
       "  </thead>\n",
       "  <tbody>\n",
       "    <tr>\n",
       "      <th>0</th>\n",
       "      <td>2</td>\n",
       "      <td>Rural</td>\n",
       "    </tr>\n",
       "    <tr>\n",
       "      <th>98</th>\n",
       "      <td>1</td>\n",
       "      <td>Urbano</td>\n",
       "    </tr>\n",
       "  </tbody>\n",
       "</table>\n",
       "</div>"
      ],
      "text/plain": [
       "    area_censo area_desc\n",
       "0            2     Rural\n",
       "98           1    Urbano"
      ]
     },
     "execution_count": 57,
     "metadata": {},
     "output_type": "execute_result"
    }
   ],
   "source": [
    "dim_area = df[['area_censo']].drop_duplicates()\n",
    "dim_area['area_desc'] = dim_area['area_censo'].map({\n",
    "    1: 'Urbano',\n",
    "    2: 'Rural'\n",
    "})\n",
    "dim_area"
   ]
  },
  {
   "cell_type": "markdown",
   "id": "9ac44715",
   "metadata": {},
   "source": [
    "centro_educativo"
   ]
  },
  {
   "cell_type": "code",
   "execution_count": 58,
   "id": "db37358b",
   "metadata": {},
   "outputs": [],
   "source": [
    "centro_educativo = df[['cod_mod', 'dir_cen','niv_mod', 'area_censo', 'dpto', 'prov', 'dist', 'dre_ugel', 'region_e']]"
   ]
  },
  {
   "cell_type": "markdown",
   "id": "a267d355",
   "metadata": {},
   "source": [
    "docentes_hechos"
   ]
  },
  {
   "cell_type": "code",
   "execution_count": 59,
   "id": "161a8a49",
   "metadata": {},
   "outputs": [],
   "source": [
    "docentes_hechos = df[['cod_mod', 'docentes_hombres', 'docentes_mujeres','docentes_nombrados', 'docentes_contratados', 'docentes_25_menos_años', 'docentes_2635_años',\n",
    "                      'docentes_3645_años', 'docentes_4655_años', 'docentes_5665_años', 'docentes_66_a_mas_años', 'docentes_con_titulo', 'docentes_sin_titulo', 'docentes_total',]]"
   ]
  },
  {
   "cell_type": "code",
   "execution_count": 60,
   "id": "be39f468",
   "metadata": {},
   "outputs": [],
   "source": [
    "centro_educativo.to_csv('../data/centro_educativo.csv', index = False)\n",
    "docentes_hechos.to_csv('../data/docentes_hechos.csv', index = False)\n",
    "dim_niv_mod.to_csv('../data/dim_niv_mod.csv', index=False)\n",
    "dim_area.to_csv('../data/dim_area.csv', index=False)"
   ]
  }
 ],
 "metadata": {
  "kernelspec": {
   "display_name": "Python 3",
   "language": "python",
   "name": "python3"
  },
  "language_info": {
   "codemirror_mode": {
    "name": "ipython",
    "version": 3
   },
   "file_extension": ".py",
   "mimetype": "text/x-python",
   "name": "python",
   "nbconvert_exporter": "python",
   "pygments_lexer": "ipython3",
   "version": "3.13.4"
  }
 },
 "nbformat": 4,
 "nbformat_minor": 5
}
