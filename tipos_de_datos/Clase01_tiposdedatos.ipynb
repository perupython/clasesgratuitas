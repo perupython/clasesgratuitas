{
 "cells": [
  {
   "cell_type": "markdown",
   "id": "fc7f8651",
   "metadata": {},
   "source": [
    "![Redes Sociales](../redes_sociales_pythonperu.png)"
   ]
  },
  {
   "cell_type": "markdown",
   "id": "ea2ee9d0",
   "metadata": {},
   "source": [
    "# **Tipos de Datos en Python**"
   ]
  },
  {
   "cell_type": "markdown",
   "id": "a6d4bd61",
   "metadata": {},
   "source": [
    " ¿Qué es un tipo de dato?\n",
    "- Es la naturaleza del valor que guarda una variable. Python detecta automáticamente el tipo de dato."
   ]
  },
  {
   "cell_type": "markdown",
   "id": "6c573343",
   "metadata": {},
   "source": [
    "🖨️ print(): Mostrar datos en pantalla"
   ]
  },
  {
   "cell_type": "markdown",
   "id": "da802159",
   "metadata": {},
   "source": [
    "🔢 TIPOS DE DATOS BÁSICOS EN PYTHON"
   ]
  },
  {
   "cell_type": "markdown",
   "id": "f6c4e970",
   "metadata": {},
   "source": [
    "-  Enteros (integer -> int)"
   ]
  },
  {
   "cell_type": "code",
   "execution_count": null,
   "id": "2b46c369",
   "metadata": {},
   "outputs": [],
   "source": []
  },
  {
   "cell_type": "markdown",
   "id": "5fd4aa57",
   "metadata": {},
   "source": [
    "- Decimales (float)"
   ]
  },
  {
   "cell_type": "code",
   "execution_count": null,
   "id": "9429927b",
   "metadata": {},
   "outputs": [],
   "source": []
  },
  {
   "cell_type": "markdown",
   "id": "129ad1af",
   "metadata": {},
   "source": [
    "- Cadena (string -> str)"
   ]
  },
  {
   "cell_type": "code",
   "execution_count": null,
   "id": "3aea4aec",
   "metadata": {},
   "outputs": [],
   "source": []
  },
  {
   "cell_type": "markdown",
   "id": "fef5c7ae",
   "metadata": {},
   "source": [
    "- Booleanos (bool) - True o False"
   ]
  },
  {
   "cell_type": "code",
   "execution_count": null,
   "id": "126f5f26",
   "metadata": {},
   "outputs": [],
   "source": []
  }
 ],
 "metadata": {
  "language_info": {
   "name": "python"
  }
 },
 "nbformat": 4,
 "nbformat_minor": 5
}
