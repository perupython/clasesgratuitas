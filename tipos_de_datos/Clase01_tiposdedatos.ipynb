{
 "cells": [
  {
   "cell_type": "markdown",
   "id": "fc7f8651",
   "metadata": {},
   "source": [
    "![Redes Sociales](../redes_sociales_pythonperu.png)"
   ]
  },
  {
   "cell_type": "markdown",
   "id": "ea2ee9d0",
   "metadata": {},
   "source": [
    "# **Tipos de Datos en Python**"
   ]
  },
  {
   "cell_type": "markdown",
   "id": "a6d4bd61",
   "metadata": {},
   "source": [
    " ¿Qué es un tipo de dato?\n",
    "- Es la naturaleza del valor que guarda una variable. Python detecta automáticamente el tipo de dato."
   ]
  },
  {
   "cell_type": "markdown",
   "id": "6c573343",
   "metadata": {},
   "source": [
    "🖨️ print(): Mostrar datos en pantalla"
   ]
  },
  {
   "cell_type": "markdown",
   "id": "da802159",
   "metadata": {},
   "source": [
    "🔢 TIPOS DE DATOS BÁSICOS EN PYTHON"
   ]
  },
  {
   "cell_type": "markdown",
   "id": "f6c4e970",
   "metadata": {},
   "source": [
    "-  **Enteros (integer -> int)**"
   ]
  },
  {
   "cell_type": "code",
   "execution_count": 1,
   "id": "2b46c369",
   "metadata": {},
   "outputs": [
    {
     "name": "stdout",
     "output_type": "stream",
     "text": [
      "5 6 -8 2 -34\n"
     ]
    }
   ],
   "source": [
    "print(5, 6, -8, 2, -34)"
   ]
  },
  {
   "cell_type": "code",
   "execution_count": 2,
   "id": "33ebc4cc",
   "metadata": {},
   "outputs": [
    {
     "name": "stdout",
     "output_type": "stream",
     "text": [
      "0\n"
     ]
    }
   ],
   "source": [
    "print(0)"
   ]
  },
  {
   "cell_type": "code",
   "execution_count": 3,
   "id": "83cb1fb9",
   "metadata": {},
   "outputs": [
    {
     "name": "stdout",
     "output_type": "stream",
     "text": [
      "-35 40 5 0 2 -12\n"
     ]
    }
   ],
   "source": [
    "print(-35, 40, 5, 0, 2, -12)"
   ]
  },
  {
   "cell_type": "markdown",
   "id": "5fd4aa57",
   "metadata": {},
   "source": [
    "- **Decimales (float)**"
   ]
  },
  {
   "cell_type": "code",
   "execution_count": null,
   "id": "9429927b",
   "metadata": {},
   "outputs": [
    {
     "name": "stdout",
     "output_type": "stream",
     "text": [
      "3 2\n"
     ]
    }
   ],
   "source": [
    "print(3,2) # Esto no, ya que los decimales se escriben con el punto(.) decimal"
   ]
  },
  {
   "cell_type": "code",
   "execution_count": 5,
   "id": "46d90dad",
   "metadata": {},
   "outputs": [
    {
     "name": "stdout",
     "output_type": "stream",
     "text": [
      "3.2\n"
     ]
    }
   ],
   "source": [
    "print(3.2)"
   ]
  },
  {
   "cell_type": "code",
   "execution_count": 6,
   "id": "6613e1ba",
   "metadata": {},
   "outputs": [
    {
     "name": "stdout",
     "output_type": "stream",
     "text": [
      "0.0\n"
     ]
    }
   ],
   "source": [
    "print(0.0)"
   ]
  },
  {
   "cell_type": "code",
   "execution_count": 14,
   "id": "0fa43605",
   "metadata": {},
   "outputs": [
    {
     "name": "stdout",
     "output_type": "stream",
     "text": [
      "1.75\n"
     ]
    }
   ],
   "source": [
    "print(1.75)"
   ]
  },
  {
   "cell_type": "markdown",
   "id": "129ad1af",
   "metadata": {},
   "source": [
    "- **Cadena (string -> str)**"
   ]
  },
  {
   "cell_type": "code",
   "execution_count": null,
   "id": "3aea4aec",
   "metadata": {},
   "outputs": [
    {
     "data": {
      "text/plain": [
       "'Hola Mundo'"
      ]
     },
     "execution_count": 7,
     "metadata": {},
     "output_type": "execute_result"
    }
   ],
   "source": [
    "'Hola Mundo' # COMILLAS SIMPLES"
   ]
  },
  {
   "cell_type": "code",
   "execution_count": null,
   "id": "3dd987d7",
   "metadata": {},
   "outputs": [
    {
     "data": {
      "text/plain": [
       "' Hola MUNDO '"
      ]
     },
     "execution_count": 8,
     "metadata": {},
     "output_type": "execute_result"
    }
   ],
   "source": [
    "\" Hola MUNDO \" # COMILLAS DOBLES"
   ]
  },
  {
   "cell_type": "code",
   "execution_count": null,
   "id": "4354365b",
   "metadata": {},
   "outputs": [
    {
     "data": {
      "text/plain": [
       "'Hola \\nMundo'"
      ]
     },
     "execution_count": 9,
     "metadata": {},
     "output_type": "execute_result"
    }
   ],
   "source": [
    "'''Hola \n",
    "Mundo''' # COMILLAS TRIPLES"
   ]
  },
  {
   "cell_type": "code",
   "execution_count": 10,
   "id": "34b8689b",
   "metadata": {},
   "outputs": [
    {
     "data": {
      "text/plain": [
       "'Av. Abancay'"
      ]
     },
     "execution_count": 10,
     "metadata": {},
     "output_type": "execute_result"
    }
   ],
   "source": [
    "'Av. Abancay'"
   ]
  },
  {
   "cell_type": "code",
   "execution_count": 11,
   "id": "219c1382",
   "metadata": {},
   "outputs": [
    {
     "data": {
      "text/plain": [
       "'Mikel es top 1'"
      ]
     },
     "execution_count": 11,
     "metadata": {},
     "output_type": "execute_result"
    }
   ],
   "source": [
    "\"Mikel es top 1\""
   ]
  },
  {
   "cell_type": "markdown",
   "id": "fef5c7ae",
   "metadata": {},
   "source": [
    "- Booleanos (bool) - True o False"
   ]
  },
  {
   "cell_type": "code",
   "execution_count": 12,
   "id": "126f5f26",
   "metadata": {},
   "outputs": [
    {
     "data": {
      "text/plain": [
       "True"
      ]
     },
     "execution_count": 12,
     "metadata": {},
     "output_type": "execute_result"
    }
   ],
   "source": [
    "True"
   ]
  },
  {
   "cell_type": "code",
   "execution_count": 13,
   "id": "1353ee24",
   "metadata": {},
   "outputs": [
    {
     "data": {
      "text/plain": [
       "False"
      ]
     },
     "execution_count": 13,
     "metadata": {},
     "output_type": "execute_result"
    }
   ],
   "source": [
    "False"
   ]
  },
  {
   "cell_type": "code",
   "execution_count": 15,
   "id": "9fd6877c",
   "metadata": {},
   "outputs": [
    {
     "data": {
      "text/plain": [
       "False"
      ]
     },
     "execution_count": 15,
     "metadata": {},
     "output_type": "execute_result"
    }
   ],
   "source": [
    "# Ejemplos: 5 > 6\n",
    "5 > 6"
   ]
  },
  {
   "cell_type": "code",
   "execution_count": 16,
   "id": "cfb6bf3a",
   "metadata": {},
   "outputs": [
    {
     "data": {
      "text/plain": [
       "True"
      ]
     },
     "execution_count": 16,
     "metadata": {},
     "output_type": "execute_result"
    }
   ],
   "source": [
    "10 % 2 == 0"
   ]
  }
 ],
 "metadata": {
  "kernelspec": {
   "display_name": "Python 3",
   "language": "python",
   "name": "python3"
  },
  "language_info": {
   "codemirror_mode": {
    "name": "ipython",
    "version": 3
   },
   "file_extension": ".py",
   "mimetype": "text/x-python",
   "name": "python",
   "nbconvert_exporter": "python",
   "pygments_lexer": "ipython3",
   "version": "3.13.5"
  }
 },
 "nbformat": 4,
 "nbformat_minor": 5
}
