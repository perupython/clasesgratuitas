{
 "cells": [
  {
   "cell_type": "markdown",
   "id": "efb2524a-aeb4-4009-b270-52a7547ff617",
   "metadata": {},
   "source": [
    "# **Fundamentos de Python 🐍**"
   ]
  },
  {
   "cell_type": "markdown",
   "id": "558ccc58-caf8-4214-aef8-3720336b0a3b",
   "metadata": {},
   "source": [
    "Introducción a Python\n",
    "- Lenguaje de programación interpretado, de alto nivel y gratuito."
   ]
  },
  {
   "cell_type": "markdown",
   "id": "73b69268-a144-44d4-b32b-751682e65e6e",
   "metadata": {},
   "source": [
    "Sintaxis básica"
   ]
  },
  {
   "cell_type": "code",
   "execution_count": 3,
   "id": "cb1d58ef-201d-4927-9c3f-be7611c5a9fa",
   "metadata": {},
   "outputs": [
    {
     "name": "stdout",
     "output_type": "stream",
     "text": [
      "Hola Mundo\n"
     ]
    }
   ],
   "source": [
    "# Imprimir hola mundo\n",
    "print('Hola Mundo')"
   ]
  },
  {
   "cell_type": "markdown",
   "id": "6abf461d-db24-44fc-957d-fb021ae10f1c",
   "metadata": {},
   "source": [
    "Tipos de datos"
   ]
  },
  {
   "cell_type": "code",
   "execution_count": 4,
   "id": "340e7679-6763-4785-a332-868b0d4dd867",
   "metadata": {},
   "outputs": [
    {
     "name": "stdout",
     "output_type": "stream",
     "text": [
      "0\n"
     ]
    }
   ],
   "source": [
    "# Tipos de datos\n",
    "# int -> numeros enteros -> 1, 2, 3, 4, 0, -1, -2 -3, -4, -5\n",
    "print(0)"
   ]
  },
  {
   "cell_type": "code",
   "execution_count": 6,
   "id": "7bf8d7f2-7f6a-4b96-97e5-e69af0e1b5b2",
   "metadata": {},
   "outputs": [
    {
     "name": "stdout",
     "output_type": "stream",
     "text": [
      "1 0 -1 -2 -10 4 3 2 7\n"
     ]
    }
   ],
   "source": [
    "print(1, 0, -1, -2, -10, 4, 3, 2, 7) # integer -> entero"
   ]
  },
  {
   "cell_type": "code",
   "execution_count": 7,
   "id": "2afd485d-8e64-4dfd-ac69-ea17ed6a06af",
   "metadata": {},
   "outputs": [
    {
     "data": {
      "text/plain": [
       "int"
      ]
     },
     "execution_count": 7,
     "metadata": {},
     "output_type": "execute_result"
    }
   ],
   "source": [
    "# Reconocer el tipo de dato\n",
    "type(-1)"
   ]
  },
  {
   "cell_type": "code",
   "execution_count": 8,
   "id": "971c7177-787e-4571-ac2b-cf8444161c70",
   "metadata": {},
   "outputs": [
    {
     "name": "stdout",
     "output_type": "stream",
     "text": [
      "0.5\n"
     ]
    }
   ],
   "source": [
    "# float -> numero decimales -> 3.0, 4.5,(0.5 -> .5), (5.0 -> 5.)\n",
    "print(.5)"
   ]
  },
  {
   "cell_type": "code",
   "execution_count": 9,
   "id": "0db4d09f-f984-4936-9ebf-eb0453479a02",
   "metadata": {},
   "outputs": [
    {
     "name": "stdout",
     "output_type": "stream",
     "text": [
      "5.0\n"
     ]
    }
   ],
   "source": [
    "print(5.)"
   ]
  },
  {
   "cell_type": "code",
   "execution_count": 10,
   "id": "9c0765fe-97d7-4d4d-b900-1976b072a6b0",
   "metadata": {},
   "outputs": [
    {
     "name": "stdout",
     "output_type": "stream",
     "text": [
      "-5.3\n"
     ]
    }
   ],
   "source": [
    "print(-5.3)"
   ]
  },
  {
   "cell_type": "code",
   "execution_count": 11,
   "id": "cc3fe05f-ad67-422f-9dde-68e922845aad",
   "metadata": {},
   "outputs": [
    {
     "name": "stdout",
     "output_type": "stream",
     "text": [
      "0.0\n"
     ]
    }
   ],
   "source": [
    "print(0.0)"
   ]
  },
  {
   "cell_type": "code",
   "execution_count": 12,
   "id": "a441fa04-f25f-4b9d-a529-9c64f535b3a0",
   "metadata": {},
   "outputs": [
    {
     "data": {
      "text/plain": [
       "float"
      ]
     },
     "execution_count": 12,
     "metadata": {},
     "output_type": "execute_result"
    }
   ],
   "source": [
    "type(0.0)"
   ]
  },
  {
   "cell_type": "code",
   "execution_count": 13,
   "id": "be5074ed-09de-499c-b469-bece1c40c47b",
   "metadata": {},
   "outputs": [
    {
     "data": {
      "text/plain": [
       "float"
      ]
     },
     "execution_count": 13,
     "metadata": {},
     "output_type": "execute_result"
    }
   ],
   "source": [
    "type(.5)"
   ]
  },
  {
   "cell_type": "code",
   "execution_count": 14,
   "id": "4002c598-6097-4360-9e86-cef94096854b",
   "metadata": {},
   "outputs": [
    {
     "name": "stdout",
     "output_type": "stream",
     "text": [
      "3\n"
     ]
    }
   ],
   "source": [
    "# str(string) -> cadena -> cadenas de texto\n",
    "print('3')"
   ]
  },
  {
   "cell_type": "code",
   "execution_count": 15,
   "id": "350f2213-fe6c-4c9b-81dd-7ca9666baf6f",
   "metadata": {},
   "outputs": [
    {
     "data": {
      "text/plain": [
       "str"
      ]
     },
     "execution_count": 15,
     "metadata": {},
     "output_type": "execute_result"
    }
   ],
   "source": [
    "type('3')"
   ]
  },
  {
   "cell_type": "code",
   "execution_count": 16,
   "id": "240cabee-7e99-4337-9022-6fe7acbd8edd",
   "metadata": {},
   "outputs": [
    {
     "ename": "TypeError",
     "evalue": "can only concatenate str (not \"int\") to str",
     "output_type": "error",
     "traceback": [
      "\u001b[31m---------------------------------------------------------------------------\u001b[39m",
      "\u001b[31mTypeError\u001b[39m                                 Traceback (most recent call last)",
      "\u001b[36mCell\u001b[39m\u001b[36m \u001b[39m\u001b[32mIn[16]\u001b[39m\u001b[32m, line 1\u001b[39m\n\u001b[32m----> \u001b[39m\u001b[32m1\u001b[39m \u001b[33;43m'\u001b[39;49m\u001b[33;43m3\u001b[39;49m\u001b[33;43m'\u001b[39;49m\u001b[43m \u001b[49m\u001b[43m+\u001b[49m\u001b[43m \u001b[49m\u001b[32;43m3\u001b[39;49m\n",
      "\u001b[31mTypeError\u001b[39m: can only concatenate str (not \"int\") to str"
     ]
    }
   ],
   "source": [
    "'3' + 3"
   ]
  },
  {
   "cell_type": "code",
   "execution_count": 17,
   "id": "710c0429-5d36-487a-b88b-c2d8fb0a3cdf",
   "metadata": {},
   "outputs": [
    {
     "name": "stdout",
     "output_type": "stream",
     "text": [
      "Hola, mi nombre es Python\n"
     ]
    }
   ],
   "source": [
    "print('Hola, mi nombre es Python')"
   ]
  },
  {
   "cell_type": "code",
   "execution_count": 18,
   "id": "a9754dee-b97e-472d-8724-b308a8cde555",
   "metadata": {},
   "outputs": [
    {
     "name": "stdout",
     "output_type": "stream",
     "text": [
      "Tengo 20 años\n"
     ]
    }
   ],
   "source": [
    "print('Tengo 20 años')"
   ]
  },
  {
   "cell_type": "code",
   "execution_count": 26,
   "id": "4b6c08b2-15c4-4ce9-b255-9bd13280ae95",
   "metadata": {},
   "outputs": [
    {
     "name": "stdout",
     "output_type": "stream",
     "text": [
      "Hola, mi nombre es Python\n"
     ]
    }
   ],
   "source": [
    "print(\"Hola, mi nombre es Python\")"
   ]
  },
  {
   "cell_type": "code",
   "execution_count": 25,
   "id": "b99664fa-ae4e-4af9-847c-2040cd2196a0",
   "metadata": {},
   "outputs": [
    {
     "name": "stdout",
     "output_type": "stream",
     "text": [
      "True\n"
     ]
    }
   ],
   "source": [
    "# bool -> Algebra George Boole\n",
    "print(True) # Representación numérica es 1"
   ]
  },
  {
   "cell_type": "code",
   "execution_count": 24,
   "id": "cc3105d4-97d5-4032-88ae-b7732a545c18",
   "metadata": {},
   "outputs": [
    {
     "name": "stdout",
     "output_type": "stream",
     "text": [
      "False\n"
     ]
    }
   ],
   "source": [
    "print(False) # Representación numérica es 0"
   ]
  },
  {
   "cell_type": "code",
   "execution_count": 21,
   "id": "865d1b28-d59a-4b31-a21d-c8d443876de1",
   "metadata": {},
   "outputs": [
    {
     "data": {
      "text/plain": [
       "2"
      ]
     },
     "execution_count": 21,
     "metadata": {},
     "output_type": "execute_result"
    }
   ],
   "source": [
    "True + 1"
   ]
  },
  {
   "cell_type": "code",
   "execution_count": 23,
   "id": "e7170a38-e8d4-41c0-afb7-c3b0dff6582d",
   "metadata": {},
   "outputs": [
    {
     "data": {
      "text/plain": [
       "1"
      ]
     },
     "execution_count": 23,
     "metadata": {},
     "output_type": "execute_result"
    }
   ],
   "source": [
    "False + 1"
   ]
  },
  {
   "cell_type": "markdown",
   "id": "71ffd319-8385-447e-a85b-0472130a356a",
   "metadata": {},
   "source": [
    "Variables"
   ]
  },
  {
   "cell_type": "code",
   "execution_count": 31,
   "id": "0b8ab244-8935-4f83-a39f-9bc711c7b29b",
   "metadata": {},
   "outputs": [],
   "source": [
    "# Asignar tu primera variable\n",
    "nombre = 'Yoshio'\n",
    "edad = 24\n",
    "pi = 3.14156\n",
    "es_estudiante = True\n",
    "altura = 1.75\n",
    "peso = 72.6"
   ]
  },
  {
   "cell_type": "code",
   "execution_count": 32,
   "id": "624c4cc1-b395-4cb9-bbe5-71f577f77c4b",
   "metadata": {},
   "outputs": [
    {
     "name": "stdout",
     "output_type": "stream",
     "text": [
      "Yoshio\n"
     ]
    }
   ],
   "source": [
    "print(nombre)"
   ]
  },
  {
   "cell_type": "code",
   "execution_count": 33,
   "id": "f8433374-a4b9-454e-8993-a002219afa34",
   "metadata": {},
   "outputs": [
    {
     "name": "stdout",
     "output_type": "stream",
     "text": [
      "24 3.14156 True\n"
     ]
    }
   ],
   "source": [
    "print(edad, pi, es_estudiante)"
   ]
  },
  {
   "cell_type": "code",
   "execution_count": 36,
   "id": "6eab281b-15d6-4213-aeef-9e4a854da8b9",
   "metadata": {},
   "outputs": [
    {
     "name": "stdout",
     "output_type": "stream",
     "text": [
      "['manzana', 'avena', 'agua', 'galleta', 'papa']\n"
     ]
    }
   ],
   "source": [
    "# Listas: estructura de datos mutables\n",
    "lista_mercado = ['manzana', 'avena', 'agua', 'galleta', 'papa']\n",
    "print(lista_mercado)"
   ]
  },
  {
   "cell_type": "code",
   "execution_count": 37,
   "id": "9e512001-f4ba-4365-a2b4-afb60fdef475",
   "metadata": {},
   "outputs": [
    {
     "name": "stdout",
     "output_type": "stream",
     "text": [
      "['manzana', 'avena', 'agua', 'galleta', 'papa', 'pera']\n"
     ]
    }
   ],
   "source": [
    "# Metodos\n",
    "lista_mercado.append('pera')\n",
    "print(lista_mercado)"
   ]
  },
  {
   "cell_type": "code",
   "execution_count": 38,
   "id": "2cc86fe5-d02e-48c9-830e-9e3b640414b0",
   "metadata": {},
   "outputs": [
    {
     "name": "stdout",
     "output_type": "stream",
     "text": [
      "['avena', 'agua', 'galleta', 'papa', 'pera']\n"
     ]
    }
   ],
   "source": [
    "# Eliminar un dato\n",
    "lista_mercado.remove('manzana')\n",
    "print(lista_mercado)"
   ]
  },
  {
   "cell_type": "code",
   "execution_count": 40,
   "id": "ac0aa028-1d21-44b2-bb21-0246e795fbb5",
   "metadata": {},
   "outputs": [
    {
     "name": "stdout",
     "output_type": "stream",
     "text": [
      "((1, 345), (2, -243), (3, 54), (4, -27))\n"
     ]
    }
   ],
   "source": [
    "# Tuplas: estructura de datos inmutables\n",
    "# (n° de transaccion, pagado/abonado)\n",
    "transacciones = ((1, 345), (2, -243), \n",
    "                 (3, 54), (4, -27))\n",
    "print(transacciones)"
   ]
  },
  {
   "cell_type": "code",
   "execution_count": 54,
   "id": "f63efca1-046c-4c24-835b-00e91616720d",
   "metadata": {},
   "outputs": [
    {
     "name": "stdout",
     "output_type": "stream",
     "text": [
      "El segundo pago es: -243\n"
     ]
    }
   ],
   "source": [
    "# Indexación - extraer un elemento\n",
    "segundo_pago = transacciones[1][1]\n",
    "print('El segundo pago es:', segundo_pago)"
   ]
  },
  {
   "cell_type": "code",
   "execution_count": 50,
   "id": "5d9d4a4d-565a-4b0a-8fd1-560b298f9c3f",
   "metadata": {},
   "outputs": [
    {
     "data": {
      "text/plain": [
       "((1, 345), (2, -243), (3, 54))"
      ]
     },
     "execution_count": 50,
     "metadata": {},
     "output_type": "execute_result"
    }
   ],
   "source": [
    "# Slicing - extraer un subconjunto\n",
    "transacciones[0:3]"
   ]
  },
  {
   "cell_type": "code",
   "execution_count": 51,
   "id": "3cfd67e4-8e43-4e0e-8218-abebefe7397a",
   "metadata": {},
   "outputs": [
    {
     "data": {
      "text/plain": [
       "((1, 345), (2, -243), (3, 54))"
      ]
     },
     "execution_count": 51,
     "metadata": {},
     "output_type": "execute_result"
    }
   ],
   "source": [
    "transacciones[:3]"
   ]
  },
  {
   "cell_type": "code",
   "execution_count": 52,
   "id": "51219297-521c-435c-aae7-456a9c685b95",
   "metadata": {},
   "outputs": [
    {
     "data": {
      "text/plain": [
       "((3, 54), (4, -27))"
      ]
     },
     "execution_count": 52,
     "metadata": {},
     "output_type": "execute_result"
    }
   ],
   "source": [
    "transacciones[-2:]"
   ]
  },
  {
   "cell_type": "code",
   "execution_count": 53,
   "id": "6663a57b-1625-476a-9fda-a16d845f1c56",
   "metadata": {},
   "outputs": [
    {
     "data": {
      "text/plain": [
       "((2, -243), (3, 54), (4, -27))"
      ]
     },
     "execution_count": 53,
     "metadata": {},
     "output_type": "execute_result"
    }
   ],
   "source": [
    "transacciones[-3:]"
   ]
  },
  {
   "cell_type": "markdown",
   "id": "56215389-5a6a-437c-8bd8-553d210b4fca",
   "metadata": {},
   "source": [
    "Caso real con la librería de Numpy"
   ]
  },
  {
   "cell_type": "code",
   "execution_count": 62,
   "id": "d4cdd4fc-30dd-4ea8-9628-6343b2692fb7",
   "metadata": {},
   "outputs": [
    {
     "data": {
      "text/plain": [
       "array([[5, 6, 4],\n",
       "       [4, 9, 3],\n",
       "       [5, 1, 0]])"
      ]
     },
     "execution_count": 62,
     "metadata": {},
     "output_type": "execute_result"
    }
   ],
   "source": [
    "# Importación de la librería de Numpy\n",
    "import numpy as np\n",
    "\n",
    "matriz33 = np.array([[5, 6, 4],\n",
    "                    [4, 9, 3],\n",
    "                    [5, 1, 0]])\n",
    "matriz33"
   ]
  },
  {
   "cell_type": "code",
   "execution_count": 63,
   "id": "0bd59582-c9fd-4e81-b44b-10715682a8ba",
   "metadata": {},
   "outputs": [
    {
     "data": {
      "text/plain": [
       "(3, 3)"
      ]
     },
     "execution_count": 63,
     "metadata": {},
     "output_type": "execute_result"
    }
   ],
   "source": [
    "matriz33.shape"
   ]
  },
  {
   "cell_type": "code",
   "execution_count": 64,
   "id": "fc63c064-33ca-4032-822e-e26bff0f6aa8",
   "metadata": {},
   "outputs": [
    {
     "data": {
      "text/plain": [
       "np.int64(6)"
      ]
     },
     "execution_count": 64,
     "metadata": {},
     "output_type": "execute_result"
    }
   ],
   "source": [
    "# Indexación\n",
    "matriz33[0][1]"
   ]
  },
  {
   "cell_type": "code",
   "execution_count": 69,
   "id": "82d5d2fc-737b-413f-b1bb-4e49bc72f4c9",
   "metadata": {},
   "outputs": [
    {
     "data": {
      "text/plain": [
       "array([[5, 6],\n",
       "       [4, 9]])"
      ]
     },
     "execution_count": 69,
     "metadata": {},
     "output_type": "execute_result"
    }
   ],
   "source": [
    "# Slicing\n",
    "matriz33[:2, :2]"
   ]
  },
  {
   "cell_type": "code",
   "execution_count": 70,
   "id": "e43a1427-d513-4274-a5e1-c2a8b09bab55",
   "metadata": {},
   "outputs": [
    {
     "data": {
      "text/plain": [
       "array([[9, 3],\n",
       "       [1, 0]])"
      ]
     },
     "execution_count": 70,
     "metadata": {},
     "output_type": "execute_result"
    }
   ],
   "source": [
    "matriz33[-2:, -2:]"
   ]
  },
  {
   "cell_type": "code",
   "execution_count": 71,
   "id": "15226984-00d0-4d7b-9a67-18e20be609ce",
   "metadata": {},
   "outputs": [
    {
     "data": {
      "text/plain": [
       "array([[6, 4],\n",
       "       [1, 0]])"
      ]
     },
     "execution_count": 71,
     "metadata": {},
     "output_type": "execute_result"
    }
   ],
   "source": [
    "matriz33[::2, -2:]"
   ]
  },
  {
   "cell_type": "markdown",
   "id": "4ebc4ea4-8e46-4c4c-aa03-dad06744ba1b",
   "metadata": {},
   "source": [
    "Operadores aritméticos"
   ]
  },
  {
   "cell_type": "code",
   "execution_count": 80,
   "id": "4c8d5414-e9af-4e2c-bdc8-b026f08dcb1d",
   "metadata": {},
   "outputs": [
    {
     "data": {
      "text/plain": [
       "15"
      ]
     },
     "execution_count": 80,
     "metadata": {},
     "output_type": "execute_result"
    }
   ],
   "source": [
    "a = 10\n",
    "b = 5\n",
    "\n",
    "a + b # suma"
   ]
  },
  {
   "cell_type": "code",
   "execution_count": 81,
   "id": "2f287fcf-f0ef-4952-8ffb-7e3006a963be",
   "metadata": {},
   "outputs": [
    {
     "data": {
      "text/plain": [
       "5"
      ]
     },
     "execution_count": 81,
     "metadata": {},
     "output_type": "execute_result"
    }
   ],
   "source": [
    "a - b # resta"
   ]
  },
  {
   "cell_type": "code",
   "execution_count": 82,
   "id": "2f638e3d-d711-425b-bcf2-720f698f02fc",
   "metadata": {},
   "outputs": [
    {
     "data": {
      "text/plain": [
       "50"
      ]
     },
     "execution_count": 82,
     "metadata": {},
     "output_type": "execute_result"
    }
   ],
   "source": [
    "a * b # multiplicacion"
   ]
  },
  {
   "cell_type": "code",
   "execution_count": 76,
   "id": "a2c05fa1-5e82-42c2-addf-afb3a238c3fb",
   "metadata": {},
   "outputs": [
    {
     "data": {
      "text/plain": [
       "2.0"
      ]
     },
     "execution_count": 76,
     "metadata": {},
     "output_type": "execute_result"
    }
   ],
   "source": [
    "a / b # division"
   ]
  },
  {
   "cell_type": "code",
   "execution_count": 79,
   "id": "9c72c94b-5e2a-4dd9-a7a0-b657db35094b",
   "metadata": {},
   "outputs": [
    {
     "data": {
      "text/plain": [
       "100000"
      ]
     },
     "execution_count": 79,
     "metadata": {},
     "output_type": "execute_result"
    }
   ],
   "source": [
    "a ** b # potencia"
   ]
  },
  {
   "cell_type": "markdown",
   "id": "e921f073-0c68-400c-8342-f808318ca79e",
   "metadata": {},
   "source": [
    "Operadores relacionales"
   ]
  },
  {
   "cell_type": "code",
   "execution_count": 88,
   "id": "633b8765-9858-4c48-9279-04af59c9d354",
   "metadata": {},
   "outputs": [
    {
     "data": {
      "text/plain": [
       "True"
      ]
     },
     "execution_count": 88,
     "metadata": {},
     "output_type": "execute_result"
    }
   ],
   "source": [
    "5 == 5 # 5 es Igual que 5"
   ]
  },
  {
   "cell_type": "code",
   "execution_count": 87,
   "id": "98b64657-d2af-4c80-8fa8-30b90aa6d57b",
   "metadata": {},
   "outputs": [
    {
     "data": {
      "text/plain": [
       "True"
      ]
     },
     "execution_count": 87,
     "metadata": {},
     "output_type": "execute_result"
    }
   ],
   "source": [
    "10 != 6 # 10 es Diferente que 6"
   ]
  },
  {
   "cell_type": "code",
   "execution_count": 86,
   "id": "22f98b36-e564-4cca-8bb7-0953a8f1b5c7",
   "metadata": {},
   "outputs": [
    {
     "data": {
      "text/plain": [
       "False"
      ]
     },
     "execution_count": 86,
     "metadata": {},
     "output_type": "execute_result"
    }
   ],
   "source": [
    "5 > 10 # 5 es mayor que 10"
   ]
  },
  {
   "cell_type": "code",
   "execution_count": 89,
   "id": "0ca5035a-2bd7-4c55-9dfd-67ccea553983",
   "metadata": {},
   "outputs": [
    {
     "data": {
      "text/plain": [
       "True"
      ]
     },
     "execution_count": 89,
     "metadata": {},
     "output_type": "execute_result"
    }
   ],
   "source": [
    "3 >= 3 # 3 es mayor o igual que 3"
   ]
  },
  {
   "cell_type": "code",
   "execution_count": 90,
   "id": "d302c082-71c7-4e94-8af1-e9c195c16687",
   "metadata": {},
   "outputs": [
    {
     "data": {
      "text/plain": [
       "True"
      ]
     },
     "execution_count": 90,
     "metadata": {},
     "output_type": "execute_result"
    }
   ],
   "source": [
    "4 <= 5 # 4 es menor o igual que 5"
   ]
  },
  {
   "cell_type": "code",
   "execution_count": 94,
   "id": "a6673009-d683-4df4-8b49-2105bf077e99",
   "metadata": {},
   "outputs": [
    {
     "name": "stdout",
     "output_type": "stream",
     "text": [
      "Es mayor de edad: True\n"
     ]
    }
   ],
   "source": [
    "# Si eres mayor de edad\n",
    "edad = 23\n",
    "\n",
    "condicion = edad > 18\n",
    "print('Es mayor de edad:', condicion)"
   ]
  },
  {
   "cell_type": "markdown",
   "id": "562f81e8-f8bb-4e71-b9ec-ffbbdefd5a26",
   "metadata": {},
   "source": [
    "Condicionales"
   ]
  },
  {
   "cell_type": "code",
   "execution_count": 97,
   "id": "cfc2c2e5-7090-44d6-9573-e1c103a7acc2",
   "metadata": {},
   "outputs": [
    {
     "name": "stdout",
     "output_type": "stream",
     "text": [
      "Es mayor de edad\n"
     ]
    }
   ],
   "source": [
    "# Sintaxis basica\n",
    "if (edad > 18):\n",
    "    print('Es mayor de edad')"
   ]
  },
  {
   "cell_type": "code",
   "execution_count": 101,
   "id": "615d81af-acc8-4be1-8425-7b986ab43dc1",
   "metadata": {},
   "outputs": [
    {
     "name": "stdout",
     "output_type": "stream",
     "text": [
      "Es menor de edad\n"
     ]
    }
   ],
   "source": [
    "edad = 12\n",
    "if (edad > 18):\n",
    "    print('Es mayor de edad')\n",
    "else:\n",
    "    print('Es menor de edad')"
   ]
  }
 ],
 "metadata": {
  "kernelspec": {
   "display_name": "Python 3 (ipykernel)",
   "language": "python",
   "name": "python3"
  },
  "language_info": {
   "codemirror_mode": {
    "name": "ipython",
    "version": 3
   },
   "file_extension": ".py",
   "mimetype": "text/x-python",
   "name": "python",
   "nbconvert_exporter": "python",
   "pygments_lexer": "ipython3",
   "version": "3.13.7"
  },
  "widgets": {
   "application/vnd.jupyter.widget-state+json": {
    "state": {},
    "version_major": 2,
    "version_minor": 0
   }
  }
 },
 "nbformat": 4,
 "nbformat_minor": 5
}
