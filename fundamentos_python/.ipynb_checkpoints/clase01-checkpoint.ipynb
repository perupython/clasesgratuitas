{
 "cells": [
  {
   "cell_type": "markdown",
   "id": "5f242b95",
   "metadata": {},
   "source": [
    "![Redes Sociales](../redes_sociales_pythonperu.png)"
   ]
  },
  {
   "cell_type": "markdown",
   "id": "a8a4061d",
   "metadata": {},
   "source": [
    "### **¿Qué es Python y por qué es tan usado?**\n",
    "- Lenguaje de programación\n",
    "- Características\n",
    "    - Versátil\n",
    "    - Sintaxis legible\n",
    "    - Oferta laboral +\n",
    "    - Gran ecosistema"
   ]
  },
  {
   "cell_type": "code",
   "execution_count": 1,
   "id": "91740c01",
   "metadata": {},
   "outputs": [
    {
     "name": "stdout",
     "output_type": "stream",
     "text": [
      "Bienvenidos a Python Perú\n"
     ]
    }
   ],
   "source": [
    "print('Bienvenidos a Python Perú')"
   ]
  },
  {
   "cell_type": "markdown",
   "id": "e7250480",
   "metadata": {},
   "source": [
    "Tipado dinámico"
   ]
  },
  {
   "cell_type": "code",
   "execution_count": null,
   "id": "57bd1e8e",
   "metadata": {},
   "outputs": [
    {
     "name": "stdout",
     "output_type": "stream",
     "text": [
      "5\n"
     ]
    }
   ],
   "source": [
    "a = 3 # int -> entero\n",
    "b = 2\n",
    "print(a + b)"
   ]
  },
  {
   "cell_type": "code",
   "execution_count": null,
   "id": "ac3710bf",
   "metadata": {},
   "outputs": [
    {
     "name": "stdout",
     "output_type": "stream",
     "text": [
      "hola\n"
     ]
    }
   ],
   "source": [
    "a = 'hola' # str -> texto\n",
    "print(a)"
   ]
  },
  {
   "cell_type": "markdown",
   "id": "9bad8ac4",
   "metadata": {},
   "source": [
    "### **Variables y tipos de datos**"
   ]
  },
  {
   "cell_type": "code",
   "execution_count": null,
   "id": "4732c27b",
   "metadata": {},
   "outputs": [
    {
     "name": "stdout",
     "output_type": "stream",
     "text": [
      "3 2 5 -2 -3 0\n",
      "3.5 4.6 8.9 -3.2 0.0\n",
      "Hola como estas? pythonperu@gmail.com Av. Grau Ricardo\n",
      "True False\n"
     ]
    }
   ],
   "source": [
    "# int -> enteros\n",
    "print(3, 2, 5, -2, -3, 0)\n",
    "# float -> decimales\n",
    "print(3.5, 4.6, 8.9, -3.2, 0.0)\n",
    "# str -> texto\n",
    "print('Hola como estas?', 'pythonperu@gmail.com', 'Av. Grau', \"Ricardo\")\n",
    "# bool -> booleanos\n",
    "print(True, False)"
   ]
  },
  {
   "cell_type": "markdown",
   "id": "9b61e1b4",
   "metadata": {},
   "source": [
    "### **Estructuras de datos**"
   ]
  },
  {
   "cell_type": "code",
   "execution_count": null,
   "id": "157e784b",
   "metadata": {},
   "outputs": [],
   "source": []
  },
  {
   "cell_type": "markdown",
   "id": "5c0f6665",
   "metadata": {},
   "source": [
    "### **Leer datos reales con Pandas**"
   ]
  },
  {
   "cell_type": "code",
   "execution_count": null,
   "id": "cdc596e0",
   "metadata": {},
   "outputs": [],
   "source": []
  },
  {
   "cell_type": "markdown",
   "id": "4cdce9c8",
   "metadata": {},
   "source": [
    "### **Mini análisis en vivo**"
   ]
  },
  {
   "cell_type": "code",
   "execution_count": null,
   "id": "4c293912",
   "metadata": {},
   "outputs": [],
   "source": []
  }
 ],
 "metadata": {
  "kernelspec": {
   "display_name": "Python 3",
   "language": "python",
   "name": "python3"
  },
  "language_info": {
   "codemirror_mode": {
    "name": "ipython",
    "version": 3
   },
   "file_extension": ".py",
   "mimetype": "text/x-python",
   "name": "python",
   "nbconvert_exporter": "python",
   "pygments_lexer": "ipython3",
   "version": "3.13.5"
  }
 },
 "nbformat": 4,
 "nbformat_minor": 5
}
