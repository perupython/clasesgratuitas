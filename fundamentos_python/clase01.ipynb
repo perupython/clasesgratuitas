{
 "cells": [
  {
   "cell_type": "markdown",
   "id": "5f242b95",
   "metadata": {},
   "source": [
    "![Redes Sociales](../redes_sociales_pythonperu.png)"
   ]
  },
  {
   "cell_type": "markdown",
   "id": "a8a4061d",
   "metadata": {},
   "source": [
    "### **¿Qué es Python y por qué es tan usado?**\n",
    "- Lenguaje de programación\n",
    "- Características\n",
    "    - Versátil\n",
    "    - Sintaxis legible\n",
    "    - Oferta laboral +\n",
    "    - Gran ecosistema"
   ]
  },
  {
   "cell_type": "code",
   "execution_count": 1,
   "id": "91740c01",
   "metadata": {},
   "outputs": [
    {
     "name": "stdout",
     "output_type": "stream",
     "text": [
      "Bienvenidos a Python Perú\n"
     ]
    }
   ],
   "source": [
    "print('Bienvenidos a Python Perú')"
   ]
  },
  {
   "cell_type": "markdown",
   "id": "9bad8ac4",
   "metadata": {},
   "source": [
    "### **Variables y tipos de datos**"
   ]
  },
  {
   "cell_type": "code",
   "execution_count": 11,
   "id": "f6bf907f-d950-4bca-8571-54badbbf0a5b",
   "metadata": {},
   "outputs": [
    {
     "name": "stdout",
     "output_type": "stream",
     "text": [
      "3 2 4 0 10 11 100\n",
      "-3 -2 -100 -2\n"
     ]
    }
   ],
   "source": [
    "# Enteros (int)\n",
    "print(3, 2, 4, 0, 10, 11, 100)\n",
    "print(-3, -2, -100, -2)"
   ]
  },
  {
   "cell_type": "code",
   "execution_count": 7,
   "id": "31d9aec6-5bfe-462d-a162-0003ef364441",
   "metadata": {},
   "outputs": [
    {
     "name": "stdout",
     "output_type": "stream",
     "text": [
      "6\n"
     ]
    }
   ],
   "source": [
    "print(6)"
   ]
  },
  {
   "cell_type": "code",
   "execution_count": 4,
   "id": "54f1288c-045c-4c4a-8fb0-ac415c813f5b",
   "metadata": {},
   "outputs": [
    {
     "data": {
      "text/plain": [
       "int"
      ]
     },
     "execution_count": 4,
     "metadata": {},
     "output_type": "execute_result"
    }
   ],
   "source": [
    "type(2) # Reconocer el tipo de dato"
   ]
  },
  {
   "cell_type": "code",
   "execution_count": 6,
   "id": "0dc3c0d2-682b-409a-b442-c26dd6b620d9",
   "metadata": {},
   "outputs": [
    {
     "name": "stdout",
     "output_type": "stream",
     "text": [
      "3.2 5.6 5.0 0.4 6.0 0.4\n"
     ]
    }
   ],
   "source": [
    "# Decimales (float)\n",
    "print(3.2, 5.6, 5.0, 0.4, 6., .4)"
   ]
  },
  {
   "cell_type": "code",
   "execution_count": 8,
   "id": "53cf0192-0fb8-49f3-941f-5aabed8233c7",
   "metadata": {},
   "outputs": [
    {
     "name": "stdout",
     "output_type": "stream",
     "text": [
      "6.0\n"
     ]
    }
   ],
   "source": [
    "print(6.0)"
   ]
  },
  {
   "cell_type": "code",
   "execution_count": 10,
   "id": "4a520097-3e6d-4548-8a35-65965f8079e8",
   "metadata": {},
   "outputs": [
    {
     "name": "stdout",
     "output_type": "stream",
     "text": [
      "0.0\n"
     ]
    }
   ],
   "source": [
    "print(0.0)"
   ]
  },
  {
   "cell_type": "code",
   "execution_count": 9,
   "id": "3bdc889f-af59-4331-9b9d-0e8d69efeb5e",
   "metadata": {},
   "outputs": [
    {
     "data": {
      "text/plain": [
       "float"
      ]
     },
     "execution_count": 9,
     "metadata": {},
     "output_type": "execute_result"
    }
   ],
   "source": [
    "type(6.0)"
   ]
  },
  {
   "cell_type": "code",
   "execution_count": 12,
   "id": "1bbdedc7-e130-4357-ae8e-d954dd23d2ed",
   "metadata": {},
   "outputs": [
    {
     "name": "stdout",
     "output_type": "stream",
     "text": [
      "Hola, Python\n"
     ]
    }
   ],
   "source": [
    "# Texto (str)\n",
    "print('Hola, Python')"
   ]
  },
  {
   "cell_type": "code",
   "execution_count": 13,
   "id": "4ffd047e-b1ba-47f3-bfa1-4ca8e1e87a08",
   "metadata": {},
   "outputs": [
    {
     "name": "stdout",
     "output_type": "stream",
     "text": [
      "Hola, Rafa\n"
     ]
    }
   ],
   "source": [
    "print(\"Hola, Rafa\")"
   ]
  },
  {
   "cell_type": "code",
   "execution_count": 14,
   "id": "b7cafd7a-3597-4c9e-aefa-0e0c3d4285aa",
   "metadata": {},
   "outputs": [
    {
     "name": "stdout",
     "output_type": "stream",
     "text": [
      "rafa.python@gmail.com\n"
     ]
    }
   ],
   "source": [
    "print('rafa.python@gmail.com')"
   ]
  },
  {
   "cell_type": "code",
   "execution_count": 15,
   "id": "ca416300-aa2c-4d97-b8b8-d6761f067009",
   "metadata": {},
   "outputs": [
    {
     "name": "stdout",
     "output_type": "stream",
     "text": [
      "True\n"
     ]
    }
   ],
   "source": [
    "# Booleanos\n",
    "print(True)"
   ]
  },
  {
   "cell_type": "code",
   "execution_count": 16,
   "id": "92f776f7-1fd5-40da-80cf-cba0ce7fb9f0",
   "metadata": {},
   "outputs": [
    {
     "name": "stdout",
     "output_type": "stream",
     "text": [
      "False\n"
     ]
    }
   ],
   "source": [
    "print(False)"
   ]
  },
  {
   "cell_type": "code",
   "execution_count": 18,
   "id": "9e90c14a-58e2-466c-8be9-b13db6b90a22",
   "metadata": {},
   "outputs": [],
   "source": [
    "# Variables\n",
    "nombre = 'Leonardo'\n",
    "edad = 30\n",
    "altura = 1.75\n",
    "peso = 72.6\n",
    "inversion = 250.67\n",
    "correo = 'leonardo@gmail.com'\n",
    "contrasena = '12345678'"
   ]
  },
  {
   "cell_type": "code",
   "execution_count": 19,
   "id": "72825782-92da-41cf-8ab6-cbd132aeef72",
   "metadata": {},
   "outputs": [
    {
     "name": "stdout",
     "output_type": "stream",
     "text": [
      "Leonardo 30 1.75\n"
     ]
    }
   ],
   "source": [
    "print(nombre, edad, altura)"
   ]
  },
  {
   "cell_type": "code",
   "execution_count": 23,
   "id": "a52b6aee-d427-40c6-aa0b-e2aaa47684bc",
   "metadata": {},
   "outputs": [
    {
     "name": "stdout",
     "output_type": "stream",
     "text": [
      "Mi nombre es Leonardo\n"
     ]
    }
   ],
   "source": [
    "# f-string: dentro de un string sustituir una variable por su valor\n",
    "print(f'Mi nombre es {nombre}')"
   ]
  },
  {
   "cell_type": "code",
   "execution_count": 22,
   "id": "0846126f-da7d-4387-90cf-594857a04124",
   "metadata": {},
   "outputs": [
    {
     "name": "stdout",
     "output_type": "stream",
     "text": [
      "Mi nombre es Leonardo y tengo 30 años, mi correo es :leonardo@gmail.com\n"
     ]
    }
   ],
   "source": [
    "print(f'Mi nombre es {nombre} y tengo {edad} años, mi correo es :{correo}')"
   ]
  },
  {
   "cell_type": "markdown",
   "id": "0efdbed8-ee88-4bce-8205-53beab52c41a",
   "metadata": {},
   "source": [
    "Metodos de strings"
   ]
  },
  {
   "cell_type": "code",
   "execution_count": 24,
   "id": "35e49439-8196-4ba3-8fea-51736ae4dd3e",
   "metadata": {},
   "outputs": [
    {
     "data": {
      "text/plain": [
       "'HOLA'"
      ]
     },
     "execution_count": 24,
     "metadata": {},
     "output_type": "execute_result"
    }
   ],
   "source": [
    "'hola'.upper() # mayusculas"
   ]
  },
  {
   "cell_type": "code",
   "execution_count": 25,
   "id": "25c6b427-63e0-4276-a3d5-9a25c85549a4",
   "metadata": {},
   "outputs": [
    {
     "data": {
      "text/plain": [
       "'hola'"
      ]
     },
     "execution_count": 25,
     "metadata": {},
     "output_type": "execute_result"
    }
   ],
   "source": [
    "'HOLA'.lower() # minusculas"
   ]
  },
  {
   "cell_type": "code",
   "execution_count": 26,
   "id": "f51dd678-bebb-4f3d-a024-b7be0166eb26",
   "metadata": {},
   "outputs": [
    {
     "data": {
      "text/plain": [
       "True"
      ]
     },
     "execution_count": 26,
     "metadata": {},
     "output_type": "execute_result"
    }
   ],
   "source": [
    "'Leonardo'.startswith('Leo')"
   ]
  },
  {
   "cell_type": "code",
   "execution_count": 27,
   "id": "18dc9bd4-2b72-436b-8adb-c0544ff4a104",
   "metadata": {},
   "outputs": [
    {
     "data": {
      "text/plain": [
       "True"
      ]
     },
     "execution_count": 27,
     "metadata": {},
     "output_type": "execute_result"
    }
   ],
   "source": [
    "'Ricardo'.endswith('do')"
   ]
  },
  {
   "cell_type": "code",
   "execution_count": 28,
   "id": "101d30ad-c022-4d3e-8966-7086ab933ca4",
   "metadata": {},
   "outputs": [
    {
     "data": {
      "text/plain": [
       "'Chau Chau hola'"
      ]
     },
     "execution_count": 28,
     "metadata": {},
     "output_type": "execute_result"
    }
   ],
   "source": [
    "'Hola Hola hola'.replace('Hola', 'Chau')"
   ]
  },
  {
   "cell_type": "code",
   "execution_count": 29,
   "id": "dedb3ff3-2cbc-40a4-b9c5-931450445e96",
   "metadata": {},
   "outputs": [
    {
     "data": {
      "text/plain": [
       "['Hola', 'mi', 'nombre', 'es', 'Python']"
      ]
     },
     "execution_count": 29,
     "metadata": {},
     "output_type": "execute_result"
    }
   ],
   "source": [
    "'Hola mi nombre es Python'.split()"
   ]
  },
  {
   "cell_type": "markdown",
   "id": "9b61e1b4",
   "metadata": {},
   "source": [
    "### **Estructuras de datos**"
   ]
  },
  {
   "cell_type": "code",
   "execution_count": 30,
   "id": "157e784b",
   "metadata": {},
   "outputs": [
    {
     "name": "stdout",
     "output_type": "stream",
     "text": [
      "['manzana', 'pera', 'mango']\n"
     ]
    }
   ],
   "source": [
    "# Lista: coleccion de elementos mutables(que se puede modificar)\n",
    "frutas = ['manzana', 'pera', 'mango']\n",
    "print(frutas)"
   ]
  },
  {
   "cell_type": "code",
   "execution_count": 31,
   "id": "d08a99fd-081b-4f9b-b411-9565729a21eb",
   "metadata": {},
   "outputs": [
    {
     "data": {
      "text/plain": [
       "['manzana', 'pera', 'mango', 'uva']"
      ]
     },
     "execution_count": 31,
     "metadata": {},
     "output_type": "execute_result"
    }
   ],
   "source": [
    "frutas.append('uva')\n",
    "frutas"
   ]
  },
  {
   "cell_type": "code",
   "execution_count": 32,
   "id": "55bc53c1-6a98-4cbf-b7d0-d1327a524001",
   "metadata": {},
   "outputs": [
    {
     "data": {
      "text/plain": [
       "['pera', 'mango', 'uva']"
      ]
     },
     "execution_count": 32,
     "metadata": {},
     "output_type": "execute_result"
    }
   ],
   "source": [
    "frutas.remove('manzana')\n",
    "frutas"
   ]
  },
  {
   "cell_type": "code",
   "execution_count": 33,
   "id": "b1d82507-f19b-4ef3-ad08-558d422a4d9a",
   "metadata": {},
   "outputs": [
    {
     "data": {
      "text/plain": [
       "['uva', 'mango', 'pera']"
      ]
     },
     "execution_count": 33,
     "metadata": {},
     "output_type": "execute_result"
    }
   ],
   "source": [
    "frutas.reverse()\n",
    "frutas"
   ]
  },
  {
   "cell_type": "code",
   "execution_count": 36,
   "id": "1cc9b9aa-c859-4f2d-a8f3-52af77e53d8d",
   "metadata": {},
   "outputs": [
    {
     "name": "stdout",
     "output_type": "stream",
     "text": [
      "['uva', 'mango', 'pera']\n"
     ]
    }
   ],
   "source": [
    "print(frutas)"
   ]
  },
  {
   "cell_type": "code",
   "execution_count": 37,
   "id": "eb923dae-8308-4497-8757-1aacf3c22e72",
   "metadata": {},
   "outputs": [
    {
     "data": {
      "text/plain": [
       "'uva'"
      ]
     },
     "execution_count": 37,
     "metadata": {},
     "output_type": "execute_result"
    }
   ],
   "source": [
    "# Indexacion\n",
    "frutas[0]"
   ]
  },
  {
   "cell_type": "code",
   "execution_count": 38,
   "id": "7f325f2b-308d-4ff0-b794-47ac9863d56e",
   "metadata": {},
   "outputs": [
    {
     "data": {
      "text/plain": [
       "'mango'"
      ]
     },
     "execution_count": 38,
     "metadata": {},
     "output_type": "execute_result"
    }
   ],
   "source": [
    "frutas[1]"
   ]
  },
  {
   "cell_type": "code",
   "execution_count": 39,
   "id": "15f5a5b8-d8c3-4de2-9e61-d8ca9e485461",
   "metadata": {},
   "outputs": [
    {
     "data": {
      "text/plain": [
       "'pera'"
      ]
     },
     "execution_count": 39,
     "metadata": {},
     "output_type": "execute_result"
    }
   ],
   "source": [
    "frutas[2]"
   ]
  },
  {
   "cell_type": "code",
   "execution_count": 40,
   "id": "d1c39455-b75a-4594-81d6-8ce87922e654",
   "metadata": {},
   "outputs": [
    {
     "data": {
      "text/plain": [
       "'pera'"
      ]
     },
     "execution_count": 40,
     "metadata": {},
     "output_type": "execute_result"
    }
   ],
   "source": [
    "frutas[-1]"
   ]
  },
  {
   "cell_type": "code",
   "execution_count": 41,
   "id": "35b7d0a5-9d22-4b7f-a0fb-569bc528fb1a",
   "metadata": {},
   "outputs": [
    {
     "data": {
      "text/plain": [
       "'mango'"
      ]
     },
     "execution_count": 41,
     "metadata": {},
     "output_type": "execute_result"
    }
   ],
   "source": [
    "frutas[-2]"
   ]
  },
  {
   "cell_type": "code",
   "execution_count": 42,
   "id": "6051e541-27bf-4e94-832b-48d5ec86b173",
   "metadata": {},
   "outputs": [
    {
     "data": {
      "text/plain": [
       "'uva'"
      ]
     },
     "execution_count": 42,
     "metadata": {},
     "output_type": "execute_result"
    }
   ],
   "source": [
    "frutas[-3]"
   ]
  },
  {
   "cell_type": "code",
   "execution_count": 45,
   "id": "fa9ba3ac-1627-468f-b76f-6d019788c5ef",
   "metadata": {},
   "outputs": [
    {
     "name": "stdout",
     "output_type": "stream",
     "text": [
      "(('galleta', 1.5), ('gaseosa', 2.8), ('arroz', 4.5))\n"
     ]
    }
   ],
   "source": [
    "# Tupla: coleccion de elementos inmutables(que no se puede modificar)\n",
    "productos = (('galleta', 1.5), ('gaseosa', 2.8), ('arroz', 4.5))\n",
    "print(productos)"
   ]
  },
  {
   "cell_type": "code",
   "execution_count": 49,
   "id": "5693d3c7-60b3-49f5-a7a7-7e9b76e1552c",
   "metadata": {},
   "outputs": [
    {
     "data": {
      "text/plain": [
       "1.5"
      ]
     },
     "execution_count": 49,
     "metadata": {},
     "output_type": "execute_result"
    }
   ],
   "source": [
    "productos[0][1]"
   ]
  },
  {
   "cell_type": "code",
   "execution_count": 52,
   "id": "256e34fd-08dc-4bb8-ad1d-a7ba5126555a",
   "metadata": {},
   "outputs": [
    {
     "data": {
      "text/plain": [
       "2.8"
      ]
     },
     "execution_count": 52,
     "metadata": {},
     "output_type": "execute_result"
    }
   ],
   "source": [
    "productos[1][1]"
   ]
  },
  {
   "cell_type": "code",
   "execution_count": 54,
   "id": "8efc93ed-1b91-4d5f-8967-933a57941194",
   "metadata": {},
   "outputs": [
    {
     "data": {
      "text/plain": [
       "'arroz'"
      ]
     },
     "execution_count": 54,
     "metadata": {},
     "output_type": "execute_result"
    }
   ],
   "source": [
    "productos[-1][0]"
   ]
  },
  {
   "cell_type": "code",
   "execution_count": 56,
   "id": "e7ad0278-f5f5-4608-8000-7aaf715ae00e",
   "metadata": {},
   "outputs": [
    {
     "data": {
      "text/plain": [
       "{'oreo': {'precio': 1.5, 'stock': 10},\n",
       " 'inka kola': {'precio': 2.5, 'stock': 13},\n",
       " 'arroz': {'precio': 4.5, 'stock': 12}}"
      ]
     },
     "execution_count": 56,
     "metadata": {},
     "output_type": "execute_result"
    }
   ],
   "source": [
    "# Diccionarios (clave:valor)\n",
    "productos = {'oreo': {'precio': 1.5, 'stock': 10},\n",
    "         'inka kola': {'precio': 2.5, 'stock': 13},\n",
    "         'arroz': {'precio': 4.5, 'stock': 12}}\n",
    "productos"
   ]
  },
  {
   "cell_type": "code",
   "execution_count": 60,
   "id": "065d14e8-b036-4822-94e7-15628591d336",
   "metadata": {},
   "outputs": [
    {
     "data": {
      "text/plain": [
       "1.5"
      ]
     },
     "execution_count": 60,
     "metadata": {},
     "output_type": "execute_result"
    }
   ],
   "source": [
    "productos.get('oreo').get('precio')"
   ]
  },
  {
   "cell_type": "code",
   "execution_count": 59,
   "id": "50926fb1-07b0-47ed-bc22-e751c3474d3e",
   "metadata": {},
   "outputs": [
    {
     "data": {
      "text/plain": [
       "1.5"
      ]
     },
     "execution_count": 59,
     "metadata": {},
     "output_type": "execute_result"
    }
   ],
   "source": [
    "productos['oreo']['precio']"
   ]
  },
  {
   "cell_type": "code",
   "execution_count": 61,
   "id": "1a363eb1-0329-4cd5-9e60-fd792a61fa57",
   "metadata": {},
   "outputs": [
    {
     "ename": "KeyError",
     "evalue": "'agua'",
     "output_type": "error",
     "traceback": [
      "\u001b[31m---------------------------------------------------------------------------\u001b[39m",
      "\u001b[31mKeyError\u001b[39m                                  Traceback (most recent call last)",
      "\u001b[36mCell\u001b[39m\u001b[36m \u001b[39m\u001b[32mIn[61]\u001b[39m\u001b[32m, line 2\u001b[39m\n\u001b[32m      1\u001b[39m \u001b[38;5;66;03m# si no encuentras la clave, te da error\u001b[39;00m\n\u001b[32m----> \u001b[39m\u001b[32m2\u001b[39m \u001b[43mproductos\u001b[49m\u001b[43m[\u001b[49m\u001b[33;43m'\u001b[39;49m\u001b[33;43magua\u001b[39;49m\u001b[33;43m'\u001b[39;49m\u001b[43m]\u001b[49m\n",
      "\u001b[31mKeyError\u001b[39m: 'agua'"
     ]
    }
   ],
   "source": [
    "# si no encuentras la clave, te da error\n",
    "productos['agua']"
   ]
  },
  {
   "cell_type": "code",
   "execution_count": 62,
   "id": "5bb27ac2-b1d4-4976-b105-23c46536a5b0",
   "metadata": {},
   "outputs": [],
   "source": [
    "productos.get('agua')"
   ]
  },
  {
   "cell_type": "code",
   "execution_count": 64,
   "id": "a68a9faa-bec3-445d-8b4d-4ffd90fd66a8",
   "metadata": {},
   "outputs": [],
   "source": [
    "agenda = {987654321: 'Ricardo',\n",
    "         908972781: 'Leonardo',\n",
    "         928167362: 'Luis',\n",
    "         973672826: 'Shirley'}"
   ]
  },
  {
   "cell_type": "code",
   "execution_count": 65,
   "id": "f73d0a67-4542-47b2-b268-7ef39af1cbd6",
   "metadata": {},
   "outputs": [
    {
     "data": {
      "text/plain": [
       "{987654321: 'Ricardo',\n",
       " 908972781: 'Leonardo',\n",
       " 928167362: 'Luis',\n",
       " 973672826: 'Shirley'}"
      ]
     },
     "execution_count": 65,
     "metadata": {},
     "output_type": "execute_result"
    }
   ],
   "source": [
    "agenda"
   ]
  },
  {
   "cell_type": "code",
   "execution_count": 66,
   "id": "2f7ce1ae-60ba-43cb-a08f-c4258a527f96",
   "metadata": {},
   "outputs": [
    {
     "data": {
      "text/plain": [
       "'Ricardo'"
      ]
     },
     "execution_count": 66,
     "metadata": {},
     "output_type": "execute_result"
    }
   ],
   "source": [
    "agenda.get(987654321)"
   ]
  },
  {
   "cell_type": "code",
   "execution_count": 67,
   "id": "9ca2883e-ca71-49ab-a4ea-480ccb47f523",
   "metadata": {},
   "outputs": [
    {
     "data": {
      "text/plain": [
       "'Ricardo'"
      ]
     },
     "execution_count": 67,
     "metadata": {},
     "output_type": "execute_result"
    }
   ],
   "source": [
    "agenda[987654321]"
   ]
  },
  {
   "cell_type": "code",
   "execution_count": 68,
   "id": "071938d4-85eb-4bb1-8ed0-7dad5e5640fc",
   "metadata": {},
   "outputs": [
    {
     "data": {
      "text/plain": [
       "dict_keys([987654321, 908972781, 928167362, 973672826])"
      ]
     },
     "execution_count": 68,
     "metadata": {},
     "output_type": "execute_result"
    }
   ],
   "source": [
    "# Claves\n",
    "agenda.keys()"
   ]
  },
  {
   "cell_type": "code",
   "execution_count": 69,
   "id": "bd2c713a-681c-4a9f-8ec5-06f78425c674",
   "metadata": {},
   "outputs": [
    {
     "data": {
      "text/plain": [
       "dict_values(['Ricardo', 'Leonardo', 'Luis', 'Shirley'])"
      ]
     },
     "execution_count": 69,
     "metadata": {},
     "output_type": "execute_result"
    }
   ],
   "source": [
    "# Valores\n",
    "agenda.values()"
   ]
  },
  {
   "cell_type": "markdown",
   "id": "b91afb81-fecb-409e-84b8-917ead4f88e1",
   "metadata": {},
   "source": [
    "### **Estructuras de control**"
   ]
  },
  {
   "cell_type": "code",
   "execution_count": 83,
   "id": "c1ab3f90-b2d8-4677-ab61-5d0f634048b5",
   "metadata": {},
   "outputs": [
    {
     "name": "stdout",
     "output_type": "stream",
     "text": [
      "Es mayor de edad (25)\n"
     ]
    }
   ],
   "source": [
    "# Condicionales\n",
    "edad = 25\n",
    "\n",
    "if edad > 18:\n",
    "    print(f'Es mayor de edad ({edad})')\n",
    "else:\n",
    "    print(f'Es menor de edad ({edad})')"
   ]
  },
  {
   "cell_type": "code",
   "execution_count": 78,
   "id": "61c77726-e650-4c35-85bc-b09ec166e226",
   "metadata": {},
   "outputs": [
    {
     "name": "stdout",
     "output_type": "stream",
     "text": [
      "Es impar\n"
     ]
    }
   ],
   "source": [
    "numero = 1243\n",
    "\n",
    "if numero % 2 == 0:\n",
    "    print('Es par')\n",
    "else:\n",
    "    print('Es impar')"
   ]
  },
  {
   "cell_type": "code",
   "execution_count": 91,
   "id": "09a6cf24-f12f-4776-8f8f-0dcd569bea22",
   "metadata": {},
   "outputs": [
    {
     "name": "stdout",
     "output_type": "stream",
     "text": [
      "0 es neutro\n"
     ]
    }
   ],
   "source": [
    "num = 0\n",
    "\n",
    "if num > 0:\n",
    "    print(f'{num} es positivo')\n",
    "\n",
    "elif num < 0:\n",
    "    print(f'{num} es negativo')\n",
    "\n",
    "else:\n",
    "    print(f'{num} es neutro')"
   ]
  },
  {
   "cell_type": "code",
   "execution_count": 92,
   "id": "cdc596e0",
   "metadata": {},
   "outputs": [
    {
     "name": "stdout",
     "output_type": "stream",
     "text": [
      "1\n",
      "2\n",
      "3\n",
      "4\n",
      "5\n",
      "6\n",
      "7\n",
      "8\n",
      "9\n"
     ]
    }
   ],
   "source": [
    "# Bucle for: itera con un iterador en un iterable\n",
    "# iterar: recorrer en una coleccion de elementos (iterable)\n",
    "# iterable: coleccion de elementos (lista, tupla, diccionario, string, range())\n",
    "# iterador: es la variable que itera en el iterable\n",
    "\n",
    "for i in range(1, 10):\n",
    "    print(i)"
   ]
  },
  {
   "cell_type": "code",
   "execution_count": 93,
   "id": "1c16162c-745b-4713-bc90-ae70400ae651",
   "metadata": {},
   "outputs": [
    {
     "name": "stdout",
     "output_type": "stream",
     "text": [
      "manzana\n",
      "pera\n",
      "uva\n"
     ]
    }
   ],
   "source": [
    "for i in ['manzana', 'pera', 'uva']:\n",
    "    print(i)"
   ]
  },
  {
   "cell_type": "code",
   "execution_count": 94,
   "id": "47689d08-d948-423e-b79a-272dcc998ced",
   "metadata": {},
   "outputs": [
    {
     "name": "stdout",
     "output_type": "stream",
     "text": [
      "h\n",
      "o\n",
      "l\n",
      "a\n",
      " \n",
      "s\n",
      "o\n",
      "y\n",
      " \n",
      "p\n",
      "y\n",
      "t\n",
      "h\n",
      "o\n",
      "n\n"
     ]
    }
   ],
   "source": [
    "for i in 'hola soy python':\n",
    "    print(i)"
   ]
  },
  {
   "cell_type": "code",
   "execution_count": 98,
   "id": "22205177-9d2f-404b-93dc-87006c7eff99",
   "metadata": {},
   "outputs": [
    {
     "data": {
      "text/plain": [
       "dict_items([(987654321, 'Ricardo'), (908972781, 'Leonardo'), (928167362, 'Luis'), (973672826, 'Shirley')])"
      ]
     },
     "execution_count": 98,
     "metadata": {},
     "output_type": "execute_result"
    }
   ],
   "source": [
    "agenda.items()"
   ]
  },
  {
   "cell_type": "code",
   "execution_count": 101,
   "id": "04533684-104f-47db-8e6a-18ef47cc68ae",
   "metadata": {},
   "outputs": [
    {
     "name": "stdout",
     "output_type": "stream",
     "text": [
      "987654321 Ricardo\n",
      "908972781 Leonardo\n",
      "928167362 Luis\n",
      "973672826 Shirley\n"
     ]
    }
   ],
   "source": [
    "for clave,valor in agenda.items():\n",
    "    print(clave, valor)"
   ]
  },
  {
   "cell_type": "code",
   "execution_count": 102,
   "id": "a39f651d-9f24-4f5a-8761-7e42a184d0aa",
   "metadata": {},
   "outputs": [
    {
     "name": "stdout",
     "output_type": "stream",
     "text": [
      "987654321\n",
      "908972781\n",
      "928167362\n",
      "973672826\n"
     ]
    }
   ],
   "source": [
    "# claves\n",
    "for i in agenda.keys():\n",
    "    print(i)"
   ]
  },
  {
   "cell_type": "code",
   "execution_count": 103,
   "id": "e0351f44-9a8e-4434-b234-cb8702ef9ee3",
   "metadata": {},
   "outputs": [
    {
     "name": "stdout",
     "output_type": "stream",
     "text": [
      "Ricardo\n",
      "Leonardo\n",
      "Luis\n",
      "Shirley\n"
     ]
    }
   ],
   "source": [
    "# valores\n",
    "for i in agenda.values():\n",
    "    print(i)"
   ]
  },
  {
   "cell_type": "code",
   "execution_count": 95,
   "id": "b9e10fe2-2ddb-4245-bee7-68de2aa877c1",
   "metadata": {},
   "outputs": [
    {
     "data": {
      "text/plain": [
       "5"
      ]
     },
     "execution_count": 95,
     "metadata": {},
     "output_type": "execute_result"
    }
   ],
   "source": [
    "# Función len: retorna el numero de elementos de una coleccion\n",
    "len([1, 2, 3, 4, 5])"
   ]
  },
  {
   "cell_type": "code",
   "execution_count": 1,
   "id": "73b4dfc7-e624-4b5e-983e-f768ad388666",
   "metadata": {},
   "outputs": [
    {
     "name": "stdout",
     "output_type": "stream",
     "text": [
      "0\n",
      "1\n",
      "2\n",
      "3\n",
      "4\n",
      "5\n",
      "6\n",
      "7\n",
      "8\n",
      "9\n"
     ]
    }
   ],
   "source": [
    "x = 0\n",
    "\n",
    "while x < 10:\n",
    "    print(x)\n",
    "    x += 1"
   ]
  },
  {
   "cell_type": "markdown",
   "id": "a24a9b58-1b67-4aea-8aaf-cc3bcf94c9e1",
   "metadata": {},
   "source": [
    "### **Funciones**"
   ]
  },
  {
   "cell_type": "code",
   "execution_count": 3,
   "id": "67408a23-08f3-414a-abb0-8cadcf1f289b",
   "metadata": {},
   "outputs": [],
   "source": [
    "def sumar(a, b):\n",
    "    return a + b\n",
    "\n",
    "def promedio(notas):\n",
    "    return sum(notas) / len(notas)\n",
    "\n",
    "def area_triangulo(base, altura):\n",
    "    return (base * altura) / 2"
   ]
  },
  {
   "cell_type": "code",
   "execution_count": 4,
   "id": "3e539a8b-439b-4991-a7d6-231aab866dd9",
   "metadata": {},
   "outputs": [
    {
     "data": {
      "text/plain": [
       "12"
      ]
     },
     "execution_count": 4,
     "metadata": {},
     "output_type": "execute_result"
    }
   ],
   "source": [
    "sumar(5, 7)"
   ]
  },
  {
   "cell_type": "code",
   "execution_count": 5,
   "id": "79b90104-d12b-4eeb-a1fd-d6ab6aa5448d",
   "metadata": {},
   "outputs": [
    {
     "data": {
      "text/plain": [
       "17.25"
      ]
     },
     "execution_count": 5,
     "metadata": {},
     "output_type": "execute_result"
    }
   ],
   "source": [
    "promedio([15, 16, 19, 17, 16.5, 20])"
   ]
  },
  {
   "cell_type": "code",
   "execution_count": 6,
   "id": "7666e4c2-c509-4264-9ce9-91963a5a6618",
   "metadata": {},
   "outputs": [
    {
     "data": {
      "text/plain": [
       "15.0"
      ]
     },
     "execution_count": 6,
     "metadata": {},
     "output_type": "execute_result"
    }
   ],
   "source": [
    "area_triangulo(5, 6)"
   ]
  }
 ],
 "metadata": {
  "kernelspec": {
   "display_name": "Python 3 (ipykernel)",
   "language": "python",
   "name": "python3"
  },
  "language_info": {
   "codemirror_mode": {
    "name": "ipython",
    "version": 3
   },
   "file_extension": ".py",
   "mimetype": "text/x-python",
   "name": "python",
   "nbconvert_exporter": "python",
   "pygments_lexer": "ipython3",
   "version": "3.13.7"
  },
  "widgets": {
   "application/vnd.jupyter.widget-state+json": {
    "state": {},
    "version_major": 2,
    "version_minor": 0
   }
  }
 },
 "nbformat": 4,
 "nbformat_minor": 5
}
