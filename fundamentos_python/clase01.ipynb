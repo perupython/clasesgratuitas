{
 "cells": [
  {
   "cell_type": "markdown",
   "id": "5f242b95",
   "metadata": {},
   "source": [
    "![Redes Sociales](../redes_sociales_pythonperu.png)"
   ]
  },
  {
   "cell_type": "markdown",
   "id": "a8a4061d",
   "metadata": {},
   "source": [
    "### **¿Qué es Python y por qué es tan usado?**\n",
    "- Lenguaje de programación\n",
    "- Características\n",
    "    - Versátil\n",
    "    - Sintaxis legible\n",
    "    - Oferta laboral +\n",
    "    - Gran ecosistema"
   ]
  },
  {
   "cell_type": "code",
   "execution_count": 1,
   "id": "91740c01",
   "metadata": {},
   "outputs": [
    {
     "name": "stdout",
     "output_type": "stream",
     "text": [
      "Bienvenidos a Python Perú\n"
     ]
    }
   ],
   "source": [
    "print('Bienvenidos a Python Perú')"
   ]
  },
  {
   "cell_type": "code",
   "execution_count": null,
   "id": "94173dc7-0425-4902-86f3-58813b6359f9",
   "metadata": {},
   "outputs": [],
   "source": []
  },
  {
   "cell_type": "markdown",
   "id": "9bad8ac4",
   "metadata": {},
   "source": [
    "### **Variables y tipos de datos**"
   ]
  },
  {
   "cell_type": "code",
   "execution_count": null,
   "id": "f6bf907f-d950-4bca-8571-54badbbf0a5b",
   "metadata": {},
   "outputs": [],
   "source": []
  },
  {
   "cell_type": "code",
   "execution_count": null,
   "id": "54f1288c-045c-4c4a-8fb0-ac415c813f5b",
   "metadata": {},
   "outputs": [],
   "source": []
  },
  {
   "cell_type": "markdown",
   "id": "9b61e1b4",
   "metadata": {},
   "source": [
    "### **Estructuras de datos**"
   ]
  },
  {
   "cell_type": "code",
   "execution_count": null,
   "id": "157e784b",
   "metadata": {},
   "outputs": [],
   "source": []
  },
  {
   "cell_type": "code",
   "execution_count": null,
   "id": "25255f74-0aec-4908-ae34-ba18c14d6237",
   "metadata": {},
   "outputs": [],
   "source": []
  },
  {
   "cell_type": "code",
   "execution_count": null,
   "id": "8998b322-963a-43fe-92aa-da4c2821c506",
   "metadata": {},
   "outputs": [],
   "source": []
  },
  {
   "cell_type": "markdown",
   "id": "5c0f6665",
   "metadata": {},
   "source": [
    "### **Leer datos reales con Pandas**"
   ]
  },
  {
   "cell_type": "code",
   "execution_count": null,
   "id": "cdc596e0",
   "metadata": {},
   "outputs": [],
   "source": []
  },
  {
   "cell_type": "markdown",
   "id": "4cdce9c8",
   "metadata": {},
   "source": [
    "### **Mini análisis en vivo**"
   ]
  },
  {
   "cell_type": "code",
   "execution_count": null,
   "id": "4c293912",
   "metadata": {},
   "outputs": [],
   "source": []
  }
 ],
 "metadata": {
  "kernelspec": {
   "display_name": "Python 3",
   "language": "python",
   "name": "python3"
  },
  "language_info": {
   "codemirror_mode": {
    "name": "ipython",
    "version": 3
   },
   "file_extension": ".py",
   "mimetype": "text/x-python",
   "name": "python",
   "nbconvert_exporter": "python",
   "pygments_lexer": "ipython3",
   "version": "3.13.5"
  }
 },
 "nbformat": 4,
 "nbformat_minor": 5
}
