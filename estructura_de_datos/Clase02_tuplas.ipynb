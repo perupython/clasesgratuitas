{
 "cells": [
  {
   "cell_type": "markdown",
   "id": "4f378089",
   "metadata": {},
   "source": [
    "![Redes Sociales](../redes_sociales_pythonperu.png)"
   ]
  },
  {
   "cell_type": "markdown",
   "id": "e51c16e3",
   "metadata": {},
   "source": [
    "# **TUPLAS EN PYTHON**"
   ]
  },
  {
   "cell_type": "markdown",
   "id": "c585ad79",
   "metadata": {},
   "source": [
    "[Grabacion de la clase](https://www.youtube.com/watch?v=rgHTKSk4d4c)"
   ]
  },
  {
   "cell_type": "markdown",
   "id": "e2293125",
   "metadata": {},
   "source": [
    "📌 ¿Qué es una tupla?\n",
    "\n",
    "Una **tupla** es una colección **ordenada e inmutable** de elementos.  \n",
    "A diferencia de las listas, **no se puede modificar** después de su creación.\n",
    "\n",
    "Se define con paréntesis `()`. Se usan para almacenar datos que **no deben cambiar**."
   ]
  },
  {
   "cell_type": "code",
   "execution_count": 1,
   "id": "e0e43588",
   "metadata": {},
   "outputs": [
    {
     "name": "stdout",
     "output_type": "stream",
     "text": [
      "('rojo', 'verde', 'azul', 'morado')\n"
     ]
    }
   ],
   "source": [
    "# Crear una tupla de colores\n",
    "colores = ('rojo', 'verde', 'azul', 'morado')\n",
    "print(colores)"
   ]
  },
  {
   "cell_type": "code",
   "execution_count": 2,
   "id": "d165b066",
   "metadata": {},
   "outputs": [
    {
     "name": "stdout",
     "output_type": "stream",
     "text": [
      "(1, 2, 3, 4, 5, 6)\n"
     ]
    }
   ],
   "source": [
    "# Crea una tupla de ID\n",
    "id = (1, 2, 3, 4, 5, 6)\n",
    "print(id)"
   ]
  },
  {
   "cell_type": "code",
   "execution_count": 3,
   "id": "6a42ef0a",
   "metadata": {},
   "outputs": [
    {
     "data": {
      "text/plain": [
       "tuple"
      ]
     },
     "execution_count": 3,
     "metadata": {},
     "output_type": "execute_result"
    }
   ],
   "source": [
    "# type: reconocer el tipo de dato\n",
    "type(id)"
   ]
  },
  {
   "cell_type": "code",
   "execution_count": 4,
   "id": "2d840836",
   "metadata": {},
   "outputs": [
    {
     "data": {
      "text/plain": [
       "str"
      ]
     },
     "execution_count": 4,
     "metadata": {},
     "output_type": "execute_result"
    }
   ],
   "source": [
    "# Como para crear una tupla con un solo elemento\n",
    "un_elemento = ('televisor') # forma incorrecta de crear una tupla con un solo elemento\n",
    "type(un_elemento)"
   ]
  },
  {
   "cell_type": "code",
   "execution_count": 9,
   "id": "7353c075",
   "metadata": {},
   "outputs": [
    {
     "data": {
      "text/plain": [
       "tuple"
      ]
     },
     "execution_count": 9,
     "metadata": {},
     "output_type": "execute_result"
    }
   ],
   "source": [
    "# Metodo 01\n",
    "tupla1 = ('televisor',) # siempre debe llevar la coma.\n",
    "type(tupla1) "
   ]
  },
  {
   "cell_type": "code",
   "execution_count": 7,
   "id": "e4b4e62b",
   "metadata": {},
   "outputs": [
    {
     "data": {
      "text/plain": [
       "tuple"
      ]
     },
     "execution_count": 7,
     "metadata": {},
     "output_type": "execute_result"
    }
   ],
   "source": [
    "# Metodo 02\n",
    "tupla2 = 'televisor',\n",
    "type(tupla2)"
   ]
  },
  {
   "cell_type": "code",
   "execution_count": 11,
   "id": "868a5bce",
   "metadata": {},
   "outputs": [
    {
     "name": "stdout",
     "output_type": "stream",
     "text": [
      "(1, 2, 3, 4, 5, 6)\n"
     ]
    }
   ],
   "source": [
    "# Crear con la función tuple() con una lista\n",
    "numeros = tuple([1, 2, 3, 4, 5, 6])\n",
    "print(numeros)"
   ]
  },
  {
   "cell_type": "markdown",
   "id": "6aa5026b",
   "metadata": {},
   "source": [
    "📌 Acceder a elementos de una tupla"
   ]
  },
  {
   "cell_type": "code",
   "execution_count": 12,
   "id": "446c02fb",
   "metadata": {},
   "outputs": [
    {
     "name": "stdout",
     "output_type": "stream",
     "text": [
      "('rojo', 'verde', 'azul', 'morado')\n"
     ]
    }
   ],
   "source": [
    "print(colores)"
   ]
  },
  {
   "cell_type": "code",
   "execution_count": 13,
   "id": "e9573261",
   "metadata": {},
   "outputs": [
    {
     "data": {
      "text/plain": [
       "'rojo'"
      ]
     },
     "execution_count": 13,
     "metadata": {},
     "output_type": "execute_result"
    }
   ],
   "source": [
    "# Acceder por índice\n",
    "# Sintaxis:\n",
    "# tupla[indice]\n",
    "colores[0]"
   ]
  },
  {
   "cell_type": "code",
   "execution_count": 14,
   "id": "6b6dbcab",
   "metadata": {},
   "outputs": [
    {
     "data": {
      "text/plain": [
       "'azul'"
      ]
     },
     "execution_count": 14,
     "metadata": {},
     "output_type": "execute_result"
    }
   ],
   "source": [
    "colores[2]"
   ]
  },
  {
   "cell_type": "code",
   "execution_count": 15,
   "id": "b1bceec3",
   "metadata": {},
   "outputs": [
    {
     "data": {
      "text/plain": [
       "'morado'"
      ]
     },
     "execution_count": 15,
     "metadata": {},
     "output_type": "execute_result"
    }
   ],
   "source": [
    "# Indices negativos\n",
    "colores[-1]"
   ]
  },
  {
   "cell_type": "code",
   "execution_count": 16,
   "id": "5bd9f201",
   "metadata": {},
   "outputs": [
    {
     "data": {
      "text/plain": [
       "'azul'"
      ]
     },
     "execution_count": 16,
     "metadata": {},
     "output_type": "execute_result"
    }
   ],
   "source": [
    "colores[-2]"
   ]
  },
  {
   "cell_type": "code",
   "execution_count": 17,
   "id": "4f156f11",
   "metadata": {},
   "outputs": [
    {
     "name": "stdout",
     "output_type": "stream",
     "text": [
      "(1, 2, 3, 4, 5, 6)\n"
     ]
    }
   ],
   "source": [
    "print(numeros)"
   ]
  },
  {
   "cell_type": "code",
   "execution_count": 18,
   "id": "a33b458a",
   "metadata": {},
   "outputs": [
    {
     "data": {
      "text/plain": [
       "5"
      ]
     },
     "execution_count": 18,
     "metadata": {},
     "output_type": "execute_result"
    }
   ],
   "source": [
    "# Acceder al numero 5\n",
    "numeros[4]"
   ]
  },
  {
   "cell_type": "code",
   "execution_count": 19,
   "id": "ae55d41c",
   "metadata": {},
   "outputs": [
    {
     "name": "stdout",
     "output_type": "stream",
     "text": [
      "('rojo', 'verde', 'azul', 'morado')\n"
     ]
    }
   ],
   "source": [
    "print(colores)"
   ]
  },
  {
   "cell_type": "code",
   "execution_count": 21,
   "id": "471e344b",
   "metadata": {},
   "outputs": [
    {
     "data": {
      "text/plain": [
       "('rojo', 'verde')"
      ]
     },
     "execution_count": 21,
     "metadata": {},
     "output_type": "execute_result"
    }
   ],
   "source": [
    "# Extraer una subtupla\n",
    "# sintaxis:\n",
    "# tupla[inicio: final + 1]\n",
    "colores[0:2]\n",
    "# R: ('rojo', 'verde')"
   ]
  },
  {
   "cell_type": "code",
   "execution_count": 22,
   "id": "51d51c0f",
   "metadata": {},
   "outputs": [
    {
     "data": {
      "text/plain": [
       "('rojo', 'verde')"
      ]
     },
     "execution_count": 22,
     "metadata": {},
     "output_type": "execute_result"
    }
   ],
   "source": [
    "colores[:2]"
   ]
  },
  {
   "cell_type": "code",
   "execution_count": 23,
   "id": "370f8fbe",
   "metadata": {},
   "outputs": [
    {
     "data": {
      "text/plain": [
       "('azul', 'morado')"
      ]
     },
     "execution_count": 23,
     "metadata": {},
     "output_type": "execute_result"
    }
   ],
   "source": [
    "# Slicing con indices negativos\n",
    "colores[-2:]"
   ]
  },
  {
   "cell_type": "code",
   "execution_count": 24,
   "id": "fdc4b690",
   "metadata": {},
   "outputs": [
    {
     "data": {
      "text/plain": [
       "('verde', 'azul', 'morado')"
      ]
     },
     "execution_count": 24,
     "metadata": {},
     "output_type": "execute_result"
    }
   ],
   "source": [
    "colores[-3:]"
   ]
  },
  {
   "cell_type": "code",
   "execution_count": 25,
   "id": "80d1da79",
   "metadata": {},
   "outputs": [
    {
     "data": {
      "text/plain": [
       "('rojo', 'verde', 'azul', 'morado')"
      ]
     },
     "execution_count": 25,
     "metadata": {},
     "output_type": "execute_result"
    }
   ],
   "source": [
    "colores[-4:]"
   ]
  },
  {
   "cell_type": "markdown",
   "id": "0f456538",
   "metadata": {},
   "source": [
    "⚠️ Inmutabilidad de las tuplas"
   ]
  },
  {
   "cell_type": "code",
   "execution_count": 26,
   "id": "0175e0e5",
   "metadata": {},
   "outputs": [
    {
     "ename": "TypeError",
     "evalue": "'tuple' object does not support item assignment",
     "output_type": "error",
     "traceback": [
      "\u001b[31m---------------------------------------------------------------------------\u001b[39m",
      "\u001b[31mTypeError\u001b[39m                                 Traceback (most recent call last)",
      "\u001b[36mCell\u001b[39m\u001b[36m \u001b[39m\u001b[32mIn[26]\u001b[39m\u001b[32m, line 2\u001b[39m\n\u001b[32m      1\u001b[39m \u001b[38;5;66;03m# colores[1] = \"amarillo\"  # Esto generaría un error\u001b[39;00m\n\u001b[32m----> \u001b[39m\u001b[32m2\u001b[39m \u001b[43mcolores\u001b[49m\u001b[43m[\u001b[49m\u001b[32;43m1\u001b[39;49m\u001b[43m]\u001b[49m = \u001b[33m\"\u001b[39m\u001b[33mamarillo\u001b[39m\u001b[33m\"\u001b[39m\n",
      "\u001b[31mTypeError\u001b[39m: 'tuple' object does not support item assignment"
     ]
    }
   ],
   "source": [
    "# colores[1] = \"amarillo\"  # Esto generaría un error\n",
    "colores[1] = \"amarillo\""
   ]
  },
  {
   "cell_type": "code",
   "execution_count": 27,
   "id": "85a226e3",
   "metadata": {},
   "outputs": [
    {
     "name": "stdout",
     "output_type": "stream",
     "text": [
      "('rojo', 'amarillo', 'azul', 'morado')\n"
     ]
    }
   ],
   "source": [
    "# Para cambiar algo, se debe convertir la tupla a lista\n",
    "coloresList = list(colores)\n",
    "coloresList[1] = 'amarillo'\n",
    "colores = tuple(coloresList)\n",
    "print(colores)"
   ]
  },
  {
   "cell_type": "markdown",
   "id": "0e0f67f9",
   "metadata": {},
   "source": [
    "📌 Desempaquetado de tuplas  \n",
    "- Podemos extraer directamente sus valores en variables."
   ]
  },
  {
   "cell_type": "code",
   "execution_count": 28,
   "id": "4791fde5",
   "metadata": {},
   "outputs": [
    {
     "name": "stdout",
     "output_type": "stream",
     "text": [
      "Leonardo\n",
      "30\n",
      "Perú\n"
     ]
    }
   ],
   "source": [
    "# ejemplo 01\n",
    "persona = ('Leonardo', 30, 'Perú')\n",
    "\n",
    "nombre, edad, pais = persona\n",
    "\n",
    "print(nombre)\n",
    "print(edad)\n",
    "print(pais)"
   ]
  },
  {
   "cell_type": "code",
   "execution_count": null,
   "id": "b5d26847",
   "metadata": {},
   "outputs": [],
   "source": [
    "# ejemplo 02\n",
    "color1, color2, color3, color4 = colores"
   ]
  },
  {
   "cell_type": "code",
   "execution_count": 31,
   "id": "12592312",
   "metadata": {},
   "outputs": [
    {
     "name": "stdout",
     "output_type": "stream",
     "text": [
      "rojo amarillo azul morado\n"
     ]
    }
   ],
   "source": [
    "print(color1, color2, color3, color4)"
   ]
  },
  {
   "cell_type": "markdown",
   "id": "4ce59c9d",
   "metadata": {},
   "source": [
    "📌 Tuplas anidadas (estructura más compleja)"
   ]
  },
  {
   "cell_type": "code",
   "execution_count": 33,
   "id": "28941b9e",
   "metadata": {},
   "outputs": [
    {
     "name": "stdout",
     "output_type": "stream",
     "text": [
      "Promedio final: 15.0\n"
     ]
    }
   ],
   "source": [
    "alumno = ('Luis', (15, 14, 16)) # (nombre, (notas))\n",
    "# Acceder a la tupla\n",
    "promedio = sum(alumno[1]) / len(alumno[1])\n",
    "\n",
    "print(f'Promedio final: {promedio}')"
   ]
  },
  {
   "cell_type": "markdown",
   "id": "41781ead",
   "metadata": {},
   "source": [
    "📌 Operaciones con tuplas"
   ]
  },
  {
   "cell_type": "code",
   "execution_count": 37,
   "id": "d2205845",
   "metadata": {},
   "outputs": [
    {
     "name": "stdout",
     "output_type": "stream",
     "text": [
      "Longitud: 12\n",
      "Cantidad de veces que aparece el 8: 3 veces\n",
      "Indice del primer 8: En el indice 1\n"
     ]
    }
   ],
   "source": [
    "numeros = (5, 8, 9, 7, 6, 3, 2, 4, 1, 8, 7, 8)\n",
    "\n",
    "# Determinar la longitud de la tupla\n",
    "print(f'Longitud: {len(numeros)}')\n",
    "# Contar cuantas veces se repite un elemento\n",
    "print(f'Cantidad de veces que aparece el 8: {numeros.count(8)} veces')\n",
    "# Saber donde se encuentra la posicion de un elemento\n",
    "print(f'Indice del primer 8: En el indice {numeros.index(8)}')\n"
   ]
  },
  {
   "cell_type": "markdown",
   "id": "8f2095df",
   "metadata": {},
   "source": [
    "📌 Convertir entre lista y tupla"
   ]
  },
  {
   "cell_type": "code",
   "execution_count": 38,
   "id": "64a9d0d4",
   "metadata": {},
   "outputs": [
    {
     "name": "stdout",
     "output_type": "stream",
     "text": [
      "Como tupla: (1, 2, 3, 4, 5)\n"
     ]
    }
   ],
   "source": [
    "lista = [1, 2, 3, 4, 5]\n",
    "tupla = tuple(lista)\n",
    "print(f'Como tupla: {tupla}')"
   ]
  },
  {
   "cell_type": "code",
   "execution_count": 39,
   "id": "b79e23c5",
   "metadata": {},
   "outputs": [
    {
     "name": "stdout",
     "output_type": "stream",
     "text": [
      "Convertido a una lista: [1, 2, 3, 4, 5]\n"
     ]
    }
   ],
   "source": [
    "nueva_lista = list(tupla)\n",
    "print(f'Convertido a una lista: {nueva_lista}')"
   ]
  },
  {
   "cell_type": "markdown",
   "id": "d421a268",
   "metadata": {},
   "source": [
    "✅ Ejercicios resueltos"
   ]
  },
  {
   "cell_type": "markdown",
   "id": "db361f3b",
   "metadata": {},
   "source": [
    "1. Crear una tupla con datos personales y mostrar el país"
   ]
  },
  {
   "cell_type": "code",
   "execution_count": 41,
   "id": "dbd8d9b1",
   "metadata": {},
   "outputs": [
    {
     "name": "stdout",
     "output_type": "stream",
     "text": [
      "Pais: Perú\n"
     ]
    }
   ],
   "source": [
    "persona = ('carlos', 34, 'Perú')\n",
    "print(f'Pais: {persona[-1]}')"
   ]
  },
  {
   "cell_type": "markdown",
   "id": "1b1ff134",
   "metadata": {},
   "source": [
    "2. Crear una tupla con 5 números y mostrar el mayor"
   ]
  },
  {
   "cell_type": "code",
   "execution_count": 42,
   "id": "504d16ad",
   "metadata": {},
   "outputs": [
    {
     "name": "stdout",
     "output_type": "stream",
     "text": [
      "El numero mayor de mi tupla es: 34\n"
     ]
    }
   ],
   "source": [
    "numeros = (25, 16, 19, 7, 34)\n",
    "print(f'El numero mayor de mi tupla es: {max(numeros)}')"
   ]
  },
  {
   "cell_type": "markdown",
   "id": "da990694",
   "metadata": {},
   "source": [
    "3. Desempaquetar una tupla con datos de producto"
   ]
  },
  {
   "cell_type": "code",
   "execution_count": 44,
   "id": "9b2b723c",
   "metadata": {},
   "outputs": [
    {
     "name": "stdout",
     "output_type": "stream",
     "text": [
      "La laptop cuesta 2500 soles y pertenece a la categoria de tecnologia\n"
     ]
    }
   ],
   "source": [
    "producto = ('laptop', 2500, 'tecnologia')\n",
    "\n",
    "nombre, precio, categoria = producto\n",
    "\n",
    "print(f'La {nombre} cuesta {precio} soles y pertenece a la categoria de {categoria}')"
   ]
  },
  {
   "cell_type": "markdown",
   "id": "c5d96f20",
   "metadata": {},
   "source": [
    " 4. Crear una tupla con notas de un estudiante y calcular el promedio"
   ]
  },
  {
   "cell_type": "code",
   "execution_count": 46,
   "id": "42d9f41d",
   "metadata": {},
   "outputs": [
    {
     "name": "stdout",
     "output_type": "stream",
     "text": [
      "Promedio de las notas: 16.8\n"
     ]
    }
   ],
   "source": [
    "notas = (14, 19, 16, 15, 20)\n",
    "\n",
    "promedio = sum(notas) / len(notas)\n",
    "\n",
    "print(f'Promedio de las notas: {promedio}')"
   ]
  },
  {
   "cell_type": "markdown",
   "id": "7f3f9783",
   "metadata": {},
   "source": [
    "💼 Ejercicios con contexto real"
   ]
  },
  {
   "cell_type": "markdown",
   "id": "65e2954a",
   "metadata": {},
   "source": [
    "1. Tuplas con datos de clientes (nombre, compra)"
   ]
  },
  {
   "cell_type": "code",
   "execution_count": 47,
   "id": "8289bb2f",
   "metadata": {},
   "outputs": [
    {
     "name": "stdout",
     "output_type": "stream",
     "text": [
      "Cliente VIP: Ana, compra: 1200\n"
     ]
    }
   ],
   "source": [
    "clientes = [('Luis', 800), ('Ana', 1200), ('Paolo', 950)]\n",
    "# Mostrar las compras mayores a 1000\n",
    "for nombre, precio in clientes:\n",
    "    if precio > 1000:\n",
    "        print(f'Cliente VIP: {nombre}, compra: {precio}')"
   ]
  },
  {
   "cell_type": "markdown",
   "id": "e44f7266",
   "metadata": {},
   "source": [
    "2. Lista de tuplas con empleados y su edad"
   ]
  },
  {
   "cell_type": "code",
   "execution_count": 50,
   "id": "44fa8659",
   "metadata": {},
   "outputs": [
    {
     "name": "stdout",
     "output_type": "stream",
     "text": [
      "Promedio de edades: 26\n"
     ]
    }
   ],
   "source": [
    "empleados = [('Pedro', 25),\n",
    "             ('Lucia', 30),\n",
    "             ('Mario', 22)]\n",
    "\n",
    "# Calcular el promedio de las edades\n",
    "edades = []\n",
    "\n",
    "for tupla in empleados:\n",
    "    edades.append(tupla[1])\n",
    "\n",
    "print(f'Promedio de edades: {round(sum(edades) / len(edades))}')"
   ]
  },
  {
   "cell_type": "markdown",
   "id": "00b000b9",
   "metadata": {},
   "source": [
    "🧠 ¿Cuándo usar tuplas en vez de listas?\n",
    "\n",
    "Usa **tuplas** cuando:\n",
    "- Los datos **no deben cambiar**.\n",
    "- Quieres proteger datos (por ejemplo, coordenadas, configuraciones).\n",
    "- Buscas mejor rendimiento (tuplas usan menos memoria).\n",
    "\n",
    "Usa **listas** cuando:\n",
    "- Necesitas modificar/agregar/quitar elementos."
   ]
  },
  {
   "cell_type": "markdown",
   "id": "dd4ec1ad",
   "metadata": {},
   "source": [
    "🎓 Conclusión\n",
    "\n",
    "- Las tuplas son estructuras inmutables muy útiles para proteger y agrupar datos.\n",
    "- Son más eficientes que las listas cuando no necesitas modificar la colección.\n",
    "- Se usan frecuentemente con desempaquetado y para representar registros fijos.\n",
    "\n",
    "🎯 Ahora que dominas listas y tuplas, estás listo para estructuras más complejas como diccionarios."
   ]
  }
 ],
 "metadata": {
  "kernelspec": {
   "display_name": "Python 3",
   "language": "python",
   "name": "python3"
  },
  "language_info": {
   "codemirror_mode": {
    "name": "ipython",
    "version": 3
   },
   "file_extension": ".py",
   "mimetype": "text/x-python",
   "name": "python",
   "nbconvert_exporter": "python",
   "pygments_lexer": "ipython3",
   "version": "3.13.4"
  }
 },
 "nbformat": 4,
 "nbformat_minor": 5
}
