{
 "cells": [
  {
   "cell_type": "markdown",
   "id": "9e68e294",
   "metadata": {},
   "source": [
    "![Redes Sociales](../redes_sociales_pythonperu.png)"
   ]
  },
  {
   "cell_type": "markdown",
   "id": "094287da",
   "metadata": {},
   "source": [
    "# **DICCIONARIOS EN PYTHON**"
   ]
  },
  {
   "cell_type": "markdown",
   "id": "773c87dc",
   "metadata": {},
   "source": [
    "[Grabacion de la clase](https://www.youtube.com/watch?v=uQrTnfTneTw)"
   ]
  },
  {
   "cell_type": "markdown",
   "id": "33555ac8",
   "metadata": {},
   "source": [
    "📌 ¿Qué es un diccionario?\n",
    "\n",
    "- Un **diccionario** es una colección de datos **desordenada, mutable y con acceso por clave**.  \n",
    "Se define con llaves `{}` y pares `clave: valor`.\n",
    "\n",
    "- Es ideal para representar información estructurada como personas, productos, estadísticas, etc.\n"
   ]
  },
  {
   "cell_type": "code",
   "execution_count": 1,
   "id": "09158671",
   "metadata": {},
   "outputs": [
    {
     "name": "stdout",
     "output_type": "stream",
     "text": [
      "{'nombre': 'Leonardo', 'edad': 28, 'pais': 'Perú'}\n"
     ]
    }
   ],
   "source": [
    "# Crear un diccionario\n",
    "persona = {'nombre': 'Leonardo',\n",
    "           'edad': 28,\n",
    "           'pais':'Perú'}\n",
    "print(persona)"
   ]
  },
  {
   "cell_type": "code",
   "execution_count": 2,
   "id": "667a9d19",
   "metadata": {},
   "outputs": [
    {
     "name": "stdout",
     "output_type": "stream",
     "text": [
      "{'nombre': 'Luis', 'nota': (15, 16, 18, 19), 'carrera': 'Matemática'}\n"
     ]
    }
   ],
   "source": [
    "# Crear una diccionario con la funcion dict()\n",
    "alumno = dict(nombre = 'Luis', nota = (15, 16, 18, 19), carrera = 'Matemática')\n",
    "print(alumno)"
   ]
  },
  {
   "cell_type": "markdown",
   "id": "a90b7f70",
   "metadata": {},
   "source": [
    "📌 ACCESO A DATOS"
   ]
  },
  {
   "cell_type": "code",
   "execution_count": 3,
   "id": "b6c34614",
   "metadata": {},
   "outputs": [
    {
     "data": {
      "text/plain": [
       "'Leonardo'"
      ]
     },
     "execution_count": 3,
     "metadata": {},
     "output_type": "execute_result"
    }
   ],
   "source": [
    "# Acceder a valores por su clave\n",
    "# Metodo 01\n",
    "persona['nombre']"
   ]
  },
  {
   "cell_type": "code",
   "execution_count": 4,
   "id": "5bdd865d",
   "metadata": {},
   "outputs": [
    {
     "name": "stdout",
     "output_type": "stream",
     "text": [
      "Leonardo\n"
     ]
    }
   ],
   "source": [
    "nombre1 = persona['nombre']\n",
    "print(nombre1)"
   ]
  },
  {
   "cell_type": "code",
   "execution_count": 6,
   "id": "21fef71a",
   "metadata": {},
   "outputs": [
    {
     "ename": "KeyError",
     "evalue": "'curso'",
     "output_type": "error",
     "traceback": [
      "\u001b[31m---------------------------------------------------------------------------\u001b[39m",
      "\u001b[31mKeyError\u001b[39m                                  Traceback (most recent call last)",
      "\u001b[36mCell\u001b[39m\u001b[36m \u001b[39m\u001b[32mIn[6]\u001b[39m\u001b[32m, line 2\u001b[39m\n\u001b[32m      1\u001b[39m \u001b[38;5;66;03m# No existe la clave\u001b[39;00m\n\u001b[32m----> \u001b[39m\u001b[32m2\u001b[39m \u001b[43mpersona\u001b[49m\u001b[43m[\u001b[49m\u001b[33;43m'\u001b[39;49m\u001b[33;43mcurso\u001b[39;49m\u001b[33;43m'\u001b[39;49m\u001b[43m]\u001b[49m\n",
      "\u001b[31mKeyError\u001b[39m: 'curso'"
     ]
    }
   ],
   "source": [
    "# No existe la clave\n",
    "persona['curso']"
   ]
  },
  {
   "cell_type": "code",
   "execution_count": 5,
   "id": "c325ccc4",
   "metadata": {},
   "outputs": [
    {
     "data": {
      "text/plain": [
       "'Leonardo'"
      ]
     },
     "execution_count": 5,
     "metadata": {},
     "output_type": "execute_result"
    }
   ],
   "source": [
    "# Metodo 02 - forma correcta\n",
    "persona.get('nombre')\n"
   ]
  },
  {
   "cell_type": "code",
   "execution_count": null,
   "id": "a9d2d185",
   "metadata": {},
   "outputs": [],
   "source": [
    "persona.get('curso') # retorna None"
   ]
  },
  {
   "cell_type": "code",
   "execution_count": 8,
   "id": "3e1fb0db",
   "metadata": {},
   "outputs": [
    {
     "data": {
      "text/plain": [
       "'No existe esa clave'"
      ]
     },
     "execution_count": 8,
     "metadata": {},
     "output_type": "execute_result"
    }
   ],
   "source": [
    "persona.get('curso', 'No existe esa clave')"
   ]
  },
  {
   "cell_type": "markdown",
   "id": "b253485f",
   "metadata": {},
   "source": [
    "📌 MODIFICAR, AGREGAR Y ELIMINAR DATOS"
   ]
  },
  {
   "cell_type": "code",
   "execution_count": 10,
   "id": "631af169",
   "metadata": {},
   "outputs": [],
   "source": [
    "# Modificar un valor\n",
    "persona['edad'] = 29"
   ]
  },
  {
   "cell_type": "code",
   "execution_count": 11,
   "id": "68c6a209",
   "metadata": {},
   "outputs": [],
   "source": [
    "# Agregar nueva clave\n",
    "persona['profesion'] = 'Analista de datos'"
   ]
  },
  {
   "cell_type": "code",
   "execution_count": 12,
   "id": "6870b813",
   "metadata": {},
   "outputs": [],
   "source": [
    "# Eliminar una clave\n",
    "del persona['pais']"
   ]
  },
  {
   "cell_type": "code",
   "execution_count": 13,
   "id": "57786958",
   "metadata": {},
   "outputs": [
    {
     "name": "stdout",
     "output_type": "stream",
     "text": [
      "{'nombre': 'Leonardo', 'edad': 29, 'profesion': 'Analista de datos'}\n"
     ]
    }
   ],
   "source": [
    "print(persona)"
   ]
  },
  {
   "cell_type": "markdown",
   "id": "c5a44e38",
   "metadata": {},
   "source": [
    "📌 FUNCIONES Y MÉTODOS ÚTILES"
   ]
  },
  {
   "cell_type": "code",
   "execution_count": 15,
   "id": "c0b63013",
   "metadata": {},
   "outputs": [
    {
     "name": "stdout",
     "output_type": "stream",
     "text": [
      "{'nombre': 'Laptop', 'precio': 2500, 'stock': 10}\n"
     ]
    }
   ],
   "source": [
    "# Diccionario de ejemplo\n",
    "producto = dict(nombre = 'Laptop', precio = 2500, stock = 10)\n",
    "print(producto)"
   ]
  },
  {
   "cell_type": "code",
   "execution_count": 16,
   "id": "c268654a",
   "metadata": {},
   "outputs": [
    {
     "data": {
      "text/plain": [
       "dict_keys(['nombre', 'precio', 'stock'])"
      ]
     },
     "execution_count": 16,
     "metadata": {},
     "output_type": "execute_result"
    }
   ],
   "source": [
    "# Obtener todas las claves\n",
    "producto.keys()"
   ]
  },
  {
   "cell_type": "code",
   "execution_count": 21,
   "id": "49760b18",
   "metadata": {},
   "outputs": [
    {
     "name": "stdout",
     "output_type": "stream",
     "text": [
      "nombre precio stock\n"
     ]
    }
   ],
   "source": [
    "clave1, clave2, clave3 = producto.keys()\n",
    "\n",
    "print(clave1, clave2, clave3)"
   ]
  },
  {
   "cell_type": "code",
   "execution_count": 17,
   "id": "37db88db",
   "metadata": {},
   "outputs": [
    {
     "data": {
      "text/plain": [
       "dict_values(['Laptop', 2500, 10])"
      ]
     },
     "execution_count": 17,
     "metadata": {},
     "output_type": "execute_result"
    }
   ],
   "source": [
    "# Obtener todos los valores\n",
    "producto.values()"
   ]
  },
  {
   "cell_type": "code",
   "execution_count": 22,
   "id": "d27e6026",
   "metadata": {},
   "outputs": [
    {
     "name": "stdout",
     "output_type": "stream",
     "text": [
      "Laptop 2500 10\n"
     ]
    }
   ],
   "source": [
    "valor1, valor2, valor3 = producto.values()\n",
    "\n",
    "print(valor1, valor2, valor3)"
   ]
  },
  {
   "cell_type": "code",
   "execution_count": 18,
   "id": "9f70d9ba",
   "metadata": {},
   "outputs": [
    {
     "data": {
      "text/plain": [
       "dict_items([('nombre', 'Laptop'), ('precio', 2500), ('stock', 10)])"
      ]
     },
     "execution_count": 18,
     "metadata": {},
     "output_type": "execute_result"
    }
   ],
   "source": [
    "# Obtener pares clave-valor\n",
    "producto.items()"
   ]
  },
  {
   "cell_type": "code",
   "execution_count": 23,
   "id": "a9f68fba",
   "metadata": {},
   "outputs": [
    {
     "data": {
      "text/plain": [
       "True"
      ]
     },
     "execution_count": 23,
     "metadata": {},
     "output_type": "execute_result"
    }
   ],
   "source": [
    "# Verificar existencia de una clave\n",
    "'precio' in producto"
   ]
  },
  {
   "cell_type": "code",
   "execution_count": 24,
   "id": "3949733c",
   "metadata": {},
   "outputs": [
    {
     "data": {
      "text/plain": [
       "True"
      ]
     },
     "execution_count": 24,
     "metadata": {},
     "output_type": "execute_result"
    }
   ],
   "source": [
    "'Laptop' in producto.values()"
   ]
  },
  {
   "cell_type": "markdown",
   "id": "11eea690",
   "metadata": {},
   "source": [
    "📌 RECORRER UN DICCIONARIO"
   ]
  },
  {
   "cell_type": "code",
   "execution_count": 20,
   "id": "878f4a89",
   "metadata": {},
   "outputs": [
    {
     "name": "stdout",
     "output_type": "stream",
     "text": [
      "nombre Laptop\n",
      "precio 2500\n",
      "stock 10\n"
     ]
    }
   ],
   "source": [
    "for clave, valor in producto.items():\n",
    "    print(clave, valor)"
   ]
  },
  {
   "cell_type": "markdown",
   "id": "202886ec",
   "metadata": {},
   "source": [
    "📌 DICCIONARIOS ANIDADOS"
   ]
  },
  {
   "cell_type": "code",
   "execution_count": 25,
   "id": "728f55a3",
   "metadata": {},
   "outputs": [],
   "source": [
    "clientes = {\n",
    "    1: {\"nombre\": \"Ana\", \"compra\": 1200},\n",
    "    2: {\"nombre\": \"Luis\", \"compra\": 900},\n",
    "    3: {\"nombre\": \"Carla\", \"compra\": 1500}\n",
    "}"
   ]
  },
  {
   "cell_type": "code",
   "execution_count": 27,
   "id": "86339a39",
   "metadata": {},
   "outputs": [
    {
     "data": {
      "text/plain": [
       "'Luis'"
      ]
     },
     "execution_count": 27,
     "metadata": {},
     "output_type": "execute_result"
    }
   ],
   "source": [
    "# Acceder al nombre del cliente 2\n",
    "clientes[2]['nombre']"
   ]
  },
  {
   "cell_type": "code",
   "execution_count": 29,
   "id": "018f3519",
   "metadata": {},
   "outputs": [
    {
     "data": {
      "text/plain": [
       "'Luis'"
      ]
     },
     "execution_count": 29,
     "metadata": {},
     "output_type": "execute_result"
    }
   ],
   "source": [
    "clientes.get(2).get('nombre')"
   ]
  },
  {
   "cell_type": "code",
   "execution_count": 30,
   "id": "5f19ad70",
   "metadata": {},
   "outputs": [
    {
     "data": {
      "text/plain": [
       "1500"
      ]
     },
     "execution_count": 30,
     "metadata": {},
     "output_type": "execute_result"
    }
   ],
   "source": [
    "# Acceder a la compra del cliente 3\n",
    "clientes.get(3).get('compra')"
   ]
  },
  {
   "cell_type": "code",
   "execution_count": 31,
   "id": "83f0f551",
   "metadata": {},
   "outputs": [
    {
     "name": "stdout",
     "output_type": "stream",
     "text": [
      "La compra del tercer cliente es 1500\n"
     ]
    }
   ],
   "source": [
    "compra3 = clientes.get(3).get('compra')\n",
    "print(f'La compra del tercer cliente es {compra3}')"
   ]
  },
  {
   "cell_type": "markdown",
   "id": "b97abd36",
   "metadata": {},
   "source": [
    "📌 USO REAL: LISTA DE DICCIONARIOS (como base de datos)"
   ]
  },
  {
   "cell_type": "code",
   "execution_count": null,
   "id": "6731192b",
   "metadata": {},
   "outputs": [],
   "source": [
    "empleados = [\n",
    "    {\"nombre\": \"Pedro\", \"edad\": 30, \"sueldo\": 2500},\n",
    "    {\"nombre\": \"Lucía\", \"edad\": 27, \"sueldo\": 3200},\n",
    "    {\"nombre\": \"Carlos\", \"edad\": 35, \"sueldo\": 2800}\n",
    "]"
   ]
  },
  {
   "cell_type": "code",
   "execution_count": 35,
   "id": "37e7cb0b",
   "metadata": {},
   "outputs": [
    {
     "name": "stdout",
     "output_type": "stream",
     "text": [
      "Lucía gana más de 3000.\n"
     ]
    }
   ],
   "source": [
    "# Mostrar solo los que ganan más de 3000\n",
    "for empleado in empleados:\n",
    "    if (empleado['sueldo'] > 3000):\n",
    "        print(f'{empleado['nombre']} gana más de 3000.')"
   ]
  },
  {
   "cell_type": "markdown",
   "id": "384634c1",
   "metadata": {},
   "source": [
    "📌 EJERCICIOS RESUELTOS"
   ]
  },
  {
   "cell_type": "markdown",
   "id": "87fbaa74",
   "metadata": {},
   "source": [
    "✅ Ejercicio 1: Crear diccionario con información personal\n"
   ]
  },
  {
   "cell_type": "code",
   "execution_count": null,
   "id": "52734bd9",
   "metadata": {},
   "outputs": [
    {
     "name": "stdout",
     "output_type": "stream",
     "text": [
      "{'nombre': 'Carla', 'edad': 25, 'carrera': 'Ingeniería'}\n"
     ]
    }
   ],
   "source": [
    "info = dict(nombre = 'Carla',\n",
    "            edad = 25,\n",
    "            carrera = 'Ingeniería')\n",
    "\n",
    "print(info)"
   ]
  },
  {
   "cell_type": "markdown",
   "id": "0b040dbf",
   "metadata": {},
   "source": [
    "✅ Ejercicio 2: Contar cuántos alumnos aprobaron"
   ]
  },
  {
   "cell_type": "code",
   "execution_count": 38,
   "id": "0c6ecbce",
   "metadata": {},
   "outputs": [
    {
     "name": "stdout",
     "output_type": "stream",
     "text": [
      "Total de aprobados: 2\n"
     ]
    }
   ],
   "source": [
    "alumnos = dict(Luis = 13,\n",
    "               Maria = 8,\n",
    "               Elena = 17,\n",
    "               Carlos = 10)\n",
    "\n",
    "aprobados = 0\n",
    "for nota in alumnos.values():\n",
    "    if (nota >= 11):\n",
    "        aprobados += 1\n",
    "\n",
    "print(f'Total de aprobados: {aprobados}')"
   ]
  },
  {
   "cell_type": "markdown",
   "id": "a807b1f3",
   "metadata": {},
   "source": [
    "✅ Ejercicio 3: Agregar y actualizar un inventario"
   ]
  },
  {
   "cell_type": "code",
   "execution_count": 39,
   "id": "8a33dace",
   "metadata": {},
   "outputs": [
    {
     "name": "stdout",
     "output_type": "stream",
     "text": [
      "{'monitor': 5, 'mouse': 12, 'teclado': 7}\n"
     ]
    }
   ],
   "source": [
    "inventario = {\n",
    "    'monitor': 5,\n",
    "    'mouse': 10\n",
    "}\n",
    "\n",
    "# Agregrar un teclado\n",
    "inventario['teclado'] = 7\n",
    "\n",
    "# Actualizar un elemento existente\n",
    "inventario['mouse'] += 2\n",
    "\n",
    "print(inventario)"
   ]
  },
  {
   "cell_type": "markdown",
   "id": "a5607d6e",
   "metadata": {},
   "source": [
    "💼 Registro de ventas diarias"
   ]
  },
  {
   "cell_type": "code",
   "execution_count": 40,
   "id": "927c13f5",
   "metadata": {},
   "outputs": [
    {
     "name": "stdout",
     "output_type": "stream",
     "text": [
      "Día martes: 1500\n",
      "Día jueves: 1600\n",
      "Día viernes: 2100\n"
     ]
    }
   ],
   "source": [
    "ventas = {\n",
    "    \"lunes\": 800,\n",
    "    \"martes\": 1500,\n",
    "    \"miércoles\": 700,\n",
    "    \"jueves\": 1600,\n",
    "    \"viernes\": 2100\n",
    "}\n",
    "\n",
    "# Mostrar ventas mayores a 1000\n",
    "for dia, monto in ventas.items():\n",
    "    if monto > 1000:\n",
    "        print(f'Día {dia}: {monto}')"
   ]
  },
  {
   "cell_type": "markdown",
   "id": "03b38e1f",
   "metadata": {},
   "source": [
    "💼 Calcular promedio de notas por estudiante (diccionario anidado"
   ]
  },
  {
   "cell_type": "code",
   "execution_count": 41,
   "id": "9dd3c084",
   "metadata": {},
   "outputs": [],
   "source": [
    "estudiantes = {\n",
    "    \"Marta\": {\"notas\": [14, 15, 13]},\n",
    "    \"José\": {\"notas\": [10, 9, 12]},\n",
    "    \"Karla\": {\"notas\": [17, 18, 20]}\n",
    "}"
   ]
  },
  {
   "cell_type": "code",
   "execution_count": 47,
   "id": "60392e64",
   "metadata": {},
   "outputs": [
    {
     "name": "stdout",
     "output_type": "stream",
     "text": [
      "Marta: Promedio-> 14\n",
      "José: Promedio-> 10\n",
      "Karla: Promedio-> 18\n"
     ]
    }
   ],
   "source": [
    "for nombre, dict_notas in estudiantes.items():\n",
    "    promedio = sum(dict_notas['notas']) / len(dict_notas['notas'])\n",
    "    print(f'{nombre}: Promedio-> {round(promedio)}')"
   ]
  },
  {
   "cell_type": "markdown",
   "id": "d31a2f4d",
   "metadata": {},
   "source": [
    "📌 NIVEL AVANZADO: CONTADOR DE FRECUENCIAS"
   ]
  },
  {
   "cell_type": "markdown",
   "id": "a020198f",
   "metadata": {},
   "source": [
    "✅ Contar palabras en una frase"
   ]
  },
  {
   "cell_type": "code",
   "execution_count": 49,
   "id": "13c1dcd9",
   "metadata": {},
   "outputs": [
    {
     "name": "stdout",
     "output_type": "stream",
     "text": [
      "{'python': 2, 'es': 2, 'facil': 1, 'y': 2, 'muy': 1, 'rapido': 1, 'poderoso': 1}\n"
     ]
    }
   ],
   "source": [
    "frase = 'python es facil y python es muy rapido y poderoso'\n",
    "palabras = frase.split()\n",
    "conteo = {}\n",
    "\n",
    "for palabra in palabras:\n",
    "    if palabra in conteo:\n",
    "        conteo[palabra] += 1\n",
    "    else:\n",
    "        conteo[palabra] = 1\n",
    "    \n",
    "print(conteo)"
   ]
  },
  {
   "cell_type": "markdown",
   "id": "6cec5500",
   "metadata": {},
   "source": [
    "✅ Convertir dos listas en un diccionario"
   ]
  },
  {
   "cell_type": "code",
   "execution_count": 52,
   "id": "5a477262",
   "metadata": {},
   "outputs": [],
   "source": [
    "clave = ['nombre', 'edad', 'ciudad']\n",
    "valores = ['Yoshio', 28, 'Lima']\n",
    "\n",
    "# Investigar sobre la función zip()"
   ]
  },
  {
   "cell_type": "markdown",
   "id": "47efa35d",
   "metadata": {},
   "source": [
    "📊 Cuándo usar diccionarios\n",
    "\n",
    "- Cuando necesitas asociar datos por clave (nombre: nota, fecha: venta, etc).\n",
    "- Cuando trabajas con estructuras tipo JSON.\n",
    "- Cuando necesitas acceder rápidamente a un dato conocido.\n",
    "\n",
    "🎯 Son esenciales en web scraping, APIs, manejo de JSON, análisis estadístico y más."
   ]
  },
  {
   "cell_type": "markdown",
   "id": "d527bfe1",
   "metadata": {},
   "source": [
    "🎓 Conclusión\n",
    "\n",
    "- Los diccionarios son estructuras clave-valor poderosas y flexibles.\n",
    "- Permiten representar objetos complejos como registros, usuarios, ventas, encuestas.\n",
    "- Se integran fácilmente con listas, bucles, condicionales y estructuras anidadas."
   ]
  }
 ],
 "metadata": {
  "kernelspec": {
   "display_name": "Python 3",
   "language": "python",
   "name": "python3"
  },
  "language_info": {
   "codemirror_mode": {
    "name": "ipython",
    "version": 3
   },
   "file_extension": ".py",
   "mimetype": "text/x-python",
   "name": "python",
   "nbconvert_exporter": "python",
   "pygments_lexer": "ipython3",
   "version": "3.13.5"
  }
 },
 "nbformat": 4,
 "nbformat_minor": 5
}
