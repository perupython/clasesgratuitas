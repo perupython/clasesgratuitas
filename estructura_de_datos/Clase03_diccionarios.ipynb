{
 "cells": [
  {
   "cell_type": "markdown",
   "id": "094287da",
   "metadata": {},
   "source": [
    "# **DICCIONARIOS EN PYTHON**"
   ]
  }
 ],
 "metadata": {
  "language_info": {
   "name": "python"
  }
 },
 "nbformat": 4,
 "nbformat_minor": 5
}
