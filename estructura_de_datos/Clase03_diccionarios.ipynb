{
 "cells": [
  {
   "cell_type": "markdown",
   "id": "094287da",
   "metadata": {},
   "source": [
    "# **DICCIONARIOS EN PYTHON**"
   ]
  },
  {
   "cell_type": "markdown",
   "id": "33555ac8",
   "metadata": {},
   "source": [
    "📌 ¿Qué es un diccionario?\n",
    "\n",
    "- Un **diccionario** es una colección de datos **desordenada, mutable y con acceso por clave**.  \n",
    "Se define con llaves `{}` y pares `clave: valor`.\n",
    "\n",
    "- Es ideal para representar información estructurada como personas, productos, estadísticas, etc.\n"
   ]
  },
  {
   "cell_type": "code",
   "execution_count": null,
   "id": "09158671",
   "metadata": {},
   "outputs": [],
   "source": [
    "# Crear un diccionario"
   ]
  },
  {
   "cell_type": "markdown",
   "id": "a90b7f70",
   "metadata": {},
   "source": [
    "📌 ACCESO A DATOS"
   ]
  },
  {
   "cell_type": "code",
   "execution_count": null,
   "id": "b6c34614",
   "metadata": {},
   "outputs": [],
   "source": [
    "# Acceder a valores por su clave"
   ]
  },
  {
   "cell_type": "markdown",
   "id": "b253485f",
   "metadata": {},
   "source": [
    "📌 MODIFICAR, AGREGAR Y ELIMINAR DATOS"
   ]
  },
  {
   "cell_type": "code",
   "execution_count": null,
   "id": "631af169",
   "metadata": {},
   "outputs": [],
   "source": [
    "# Modificar un valor"
   ]
  },
  {
   "cell_type": "code",
   "execution_count": null,
   "id": "68c6a209",
   "metadata": {},
   "outputs": [],
   "source": [
    "# Agregar nueva clave"
   ]
  },
  {
   "cell_type": "code",
   "execution_count": null,
   "id": "6870b813",
   "metadata": {},
   "outputs": [],
   "source": [
    "# Eliminar una clave"
   ]
  },
  {
   "cell_type": "markdown",
   "id": "c5a44e38",
   "metadata": {},
   "source": [
    "📌 FUNCIONES Y MÉTODOS ÚTILES"
   ]
  },
  {
   "cell_type": "code",
   "execution_count": null,
   "id": "c0b63013",
   "metadata": {},
   "outputs": [],
   "source": [
    "# Diccionario de ejemplo"
   ]
  },
  {
   "cell_type": "code",
   "execution_count": null,
   "id": "c268654a",
   "metadata": {},
   "outputs": [],
   "source": [
    "# Obtener todas las claves"
   ]
  },
  {
   "cell_type": "code",
   "execution_count": null,
   "id": "37db88db",
   "metadata": {},
   "outputs": [],
   "source": [
    "# Obtener todos los valores"
   ]
  },
  {
   "cell_type": "code",
   "execution_count": null,
   "id": "9f70d9ba",
   "metadata": {},
   "outputs": [],
   "source": [
    "# Obtener pares clave-valor"
   ]
  },
  {
   "cell_type": "code",
   "execution_count": null,
   "id": "a9f68fba",
   "metadata": {},
   "outputs": [],
   "source": [
    "# Verificar existencia"
   ]
  },
  {
   "cell_type": "markdown",
   "id": "11eea690",
   "metadata": {},
   "source": [
    "📌 RECORRER UN DICCIONARIO"
   ]
  },
  {
   "cell_type": "code",
   "execution_count": null,
   "id": "878f4a89",
   "metadata": {},
   "outputs": [],
   "source": []
  },
  {
   "cell_type": "markdown",
   "id": "202886ec",
   "metadata": {},
   "source": [
    "📌 DICCIONARIOS ANIDADOS"
   ]
  },
  {
   "cell_type": "code",
   "execution_count": null,
   "id": "728f55a3",
   "metadata": {},
   "outputs": [],
   "source": []
  },
  {
   "cell_type": "code",
   "execution_count": null,
   "id": "86339a39",
   "metadata": {},
   "outputs": [],
   "source": [
    "# Acceder al nombre del cliente 2"
   ]
  },
  {
   "cell_type": "markdown",
   "id": "b97abd36",
   "metadata": {},
   "source": [
    "📌 USO REAL: LISTA DE DICCIONARIOS (como base de datos)"
   ]
  },
  {
   "cell_type": "code",
   "execution_count": null,
   "id": "6731192b",
   "metadata": {},
   "outputs": [],
   "source": []
  },
  {
   "cell_type": "code",
   "execution_count": null,
   "id": "37e7cb0b",
   "metadata": {},
   "outputs": [],
   "source": [
    "# Mostrar solo los que ganan más de 3000"
   ]
  },
  {
   "cell_type": "markdown",
   "id": "384634c1",
   "metadata": {},
   "source": [
    "📌 EJERCICIOS RESUELTOS"
   ]
  },
  {
   "cell_type": "markdown",
   "id": "87fbaa74",
   "metadata": {},
   "source": [
    "✅ Ejercicio 1: Crear diccionario con información personal\n"
   ]
  },
  {
   "cell_type": "code",
   "execution_count": null,
   "id": "52734bd9",
   "metadata": {},
   "outputs": [],
   "source": []
  },
  {
   "cell_type": "markdown",
   "id": "0b040dbf",
   "metadata": {},
   "source": [
    "✅ Ejercicio 2: Contar cuántos alumnos aprobaron"
   ]
  },
  {
   "cell_type": "code",
   "execution_count": null,
   "id": "0c6ecbce",
   "metadata": {},
   "outputs": [],
   "source": []
  },
  {
   "cell_type": "markdown",
   "id": "a807b1f3",
   "metadata": {},
   "source": [
    "✅ Ejercicio 3: Agregar y actualizar un inventario"
   ]
  },
  {
   "cell_type": "code",
   "execution_count": null,
   "id": "8a33dace",
   "metadata": {},
   "outputs": [],
   "source": []
  },
  {
   "cell_type": "markdown",
   "id": "a5607d6e",
   "metadata": {},
   "source": [
    "💼 Registro de ventas diarias"
   ]
  },
  {
   "cell_type": "code",
   "execution_count": null,
   "id": "927c13f5",
   "metadata": {},
   "outputs": [],
   "source": []
  },
  {
   "cell_type": "markdown",
   "id": "03b38e1f",
   "metadata": {},
   "source": [
    "💼 Calcular promedio de notas por estudiante (diccionario anidado"
   ]
  },
  {
   "cell_type": "code",
   "execution_count": null,
   "id": "9dd3c084",
   "metadata": {},
   "outputs": [],
   "source": []
  },
  {
   "cell_type": "markdown",
   "id": "d31a2f4d",
   "metadata": {},
   "source": [
    "📌 NIVEL AVANZADO: CONTADOR DE FRECUENCIAS"
   ]
  },
  {
   "cell_type": "markdown",
   "id": "a020198f",
   "metadata": {},
   "source": [
    "✅ Contar palabras en una frase"
   ]
  },
  {
   "cell_type": "code",
   "execution_count": null,
   "id": "13c1dcd9",
   "metadata": {},
   "outputs": [],
   "source": []
  },
  {
   "cell_type": "markdown",
   "id": "6cec5500",
   "metadata": {},
   "source": [
    "✅ Convertir dos listas en un diccionario"
   ]
  },
  {
   "cell_type": "code",
   "execution_count": null,
   "id": "5a477262",
   "metadata": {},
   "outputs": [],
   "source": []
  },
  {
   "cell_type": "markdown",
   "id": "47efa35d",
   "metadata": {},
   "source": [
    "📊 Cuándo usar diccionarios\n",
    "\n",
    "- Cuando necesitas asociar datos por clave (nombre: nota, fecha: venta, etc).\n",
    "- Cuando trabajas con estructuras tipo JSON.\n",
    "- Cuando necesitas acceder rápidamente a un dato conocido.\n",
    "\n",
    "🎯 Son esenciales en web scraping, APIs, manejo de JSON, análisis estadístico y más."
   ]
  },
  {
   "cell_type": "markdown",
   "id": "d527bfe1",
   "metadata": {},
   "source": [
    "🎓 Conclusión\n",
    "\n",
    "- Los diccionarios son estructuras clave-valor poderosas y flexibles.\n",
    "- Permiten representar objetos complejos como registros, usuarios, ventas, encuestas.\n",
    "- Se integran fácilmente con listas, bucles, condicionales y estructuras anidadas."
   ]
  }
 ],
 "metadata": {
  "language_info": {
   "name": "python"
  }
 },
 "nbformat": 4,
 "nbformat_minor": 5
}
