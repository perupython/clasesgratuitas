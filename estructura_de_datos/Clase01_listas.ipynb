{
 "cells": [
  {
   "cell_type": "markdown",
   "id": "4eb96e5a",
   "metadata": {},
   "source": [
    "![Redes Sociales](../redes_sociales_pythonperu.png)"
   ]
  },
  {
   "cell_type": "markdown",
   "id": "2ec3c428",
   "metadata": {},
   "source": [
    "# **LISTAS EN PYTHON**"
   ]
  },
  {
   "cell_type": "markdown",
   "id": "437e6e83",
   "metadata": {},
   "source": [
    "[Grabacion de la clase](https://www.youtube.com/watch?v=5fba43wL6X0)"
   ]
  },
  {
   "cell_type": "markdown",
   "id": "7b1b2c51",
   "metadata": {},
   "source": [
    "🧠 ¿Qué es una lista?\n",
    "- Una lista es una estructura de datos en Python que permite almacenar múltiples elementos (números, cadenas, booleanos, etc.) en una sola variable.  \n",
    "\n",
    "    - Son mutables: se pueden modificar.\n",
    "\n",
    "    - Aceptan elementos duplicados.\n",
    "\n",
    "    - Se definen entre corchetes []."
   ]
  },
  {
   "cell_type": "markdown",
   "id": "195587f8",
   "metadata": {},
   "source": [
    "🛠️ Crear una lista"
   ]
  },
  {
   "cell_type": "code",
   "execution_count": 1,
   "id": "fce75237",
   "metadata": {},
   "outputs": [
    {
     "name": "stdout",
     "output_type": "stream",
     "text": [
      "['manzana', 'pera', 'uva', 'mango', 'platano']\n"
     ]
    }
   ],
   "source": [
    "# Lista de frutas\n",
    "frutas = ['manzana', 'pera', 'uva', 'mango', 'platano']\n",
    "print(frutas)"
   ]
  },
  {
   "cell_type": "code",
   "execution_count": 2,
   "id": "d2894876",
   "metadata": {},
   "outputs": [
    {
     "name": "stdout",
     "output_type": "stream",
     "text": [
      "[1, 2, 3, 4, 5]\n"
     ]
    }
   ],
   "source": [
    "# Lista de números\n",
    "numeros = [1, 2, 3, 4, 5]\n",
    "print(numeros)"
   ]
  },
  {
   "cell_type": "code",
   "execution_count": 3,
   "id": "5120b6c4",
   "metadata": {},
   "outputs": [
    {
     "name": "stdout",
     "output_type": "stream",
     "text": [
      "['manzana', 13, 70.56, True]\n"
     ]
    }
   ],
   "source": [
    "# Lista mixta (texto, números, booleanos)\n",
    "mixta = ['manzana', 13, 70.56, True]\n",
    "print(mixta)"
   ]
  },
  {
   "cell_type": "markdown",
   "id": "884bb496",
   "metadata": {},
   "source": [
    "🎯 Acceder a elementos de una lista"
   ]
  },
  {
   "cell_type": "code",
   "execution_count": 5,
   "id": "7ef97668",
   "metadata": {},
   "outputs": [
    {
     "name": "stdout",
     "output_type": "stream",
     "text": [
      "['manzana', 'pera', 'uva', 'mango', 'platano']\n"
     ]
    }
   ],
   "source": [
    "print(frutas)"
   ]
  },
  {
   "cell_type": "code",
   "execution_count": 4,
   "id": "fa104d4e",
   "metadata": {},
   "outputs": [
    {
     "data": {
      "text/plain": [
       "'manzana'"
      ]
     },
     "execution_count": 4,
     "metadata": {},
     "output_type": "execute_result"
    }
   ],
   "source": [
    "# Sintaxis:\n",
    "# lista[indice]\n",
    "frutas[0] # primer elemento"
   ]
  },
  {
   "cell_type": "code",
   "execution_count": 8,
   "id": "c0804274",
   "metadata": {},
   "outputs": [
    {
     "data": {
      "text/plain": [
       "'uva'"
      ]
     },
     "execution_count": 8,
     "metadata": {},
     "output_type": "execute_result"
    }
   ],
   "source": [
    "frutas[2]\n",
    "# R: 'uva'"
   ]
  },
  {
   "cell_type": "code",
   "execution_count": 6,
   "id": "6c21f9d5",
   "metadata": {},
   "outputs": [
    {
     "data": {
      "text/plain": [
       "'pera'"
      ]
     },
     "execution_count": 6,
     "metadata": {},
     "output_type": "execute_result"
    }
   ],
   "source": [
    "frutas[1] # segundo elemento"
   ]
  },
  {
   "cell_type": "code",
   "execution_count": 7,
   "id": "b799a406",
   "metadata": {},
   "outputs": [
    {
     "data": {
      "text/plain": [
       "'platano'"
      ]
     },
     "execution_count": 7,
     "metadata": {},
     "output_type": "execute_result"
    }
   ],
   "source": [
    "frutas[-1] # ultimo elemento"
   ]
  },
  {
   "cell_type": "markdown",
   "id": "4353fefe",
   "metadata": {},
   "source": [
    "🎯 Extraer una sublista de una lista"
   ]
  },
  {
   "cell_type": "code",
   "execution_count": 9,
   "id": "c75038f9",
   "metadata": {},
   "outputs": [
    {
     "name": "stdout",
     "output_type": "stream",
     "text": [
      "['manzana', 'pera', 'uva', 'mango', 'platano']\n"
     ]
    }
   ],
   "source": [
    "print(frutas)"
   ]
  },
  {
   "cell_type": "code",
   "execution_count": 10,
   "id": "81242156",
   "metadata": {},
   "outputs": [
    {
     "data": {
      "text/plain": [
       "['manzana', 'pera']"
      ]
     },
     "execution_count": 10,
     "metadata": {},
     "output_type": "execute_result"
    }
   ],
   "source": [
    "# Sintaxis:\n",
    "# lista[inicio: final + 1]\n",
    "frutas[0: 2]\n",
    "# R: ['manzana', 'pera']"
   ]
  },
  {
   "cell_type": "code",
   "execution_count": 11,
   "id": "e83ad7f1",
   "metadata": {},
   "outputs": [
    {
     "data": {
      "text/plain": [
       "['uva', 'mango']"
      ]
     },
     "execution_count": 11,
     "metadata": {},
     "output_type": "execute_result"
    }
   ],
   "source": [
    "frutas[2:4]\n",
    "# ['uva', 'mango']"
   ]
  },
  {
   "cell_type": "code",
   "execution_count": 13,
   "id": "d2b8b5ad",
   "metadata": {},
   "outputs": [
    {
     "data": {
      "text/plain": [
       "['manzana', 'pera', 'uva']"
      ]
     },
     "execution_count": 13,
     "metadata": {},
     "output_type": "execute_result"
    }
   ],
   "source": [
    "frutas[0:3]\n",
    "# ['manzana', 'pera', 'uva']"
   ]
  },
  {
   "cell_type": "code",
   "execution_count": 14,
   "id": "8c529310",
   "metadata": {},
   "outputs": [
    {
     "data": {
      "text/plain": [
       "['manzana', 'pera', 'uva']"
      ]
     },
     "execution_count": 14,
     "metadata": {},
     "output_type": "execute_result"
    }
   ],
   "source": [
    "frutas[:3]\n",
    "# ['manzana', 'pera', 'uva']"
   ]
  },
  {
   "cell_type": "code",
   "execution_count": 15,
   "id": "03618eec",
   "metadata": {},
   "outputs": [
    {
     "data": {
      "text/plain": [
       "['uva', 'mango', 'platano']"
      ]
     },
     "execution_count": 15,
     "metadata": {},
     "output_type": "execute_result"
    }
   ],
   "source": [
    "frutas[-3:] # los 3 ultimos elementos"
   ]
  },
  {
   "cell_type": "code",
   "execution_count": 16,
   "id": "6315bb4e",
   "metadata": {},
   "outputs": [
    {
     "data": {
      "text/plain": [
       "['mango', 'platano']"
      ]
     },
     "execution_count": 16,
     "metadata": {},
     "output_type": "execute_result"
    }
   ],
   "source": [
    "frutas[-2:] # los 2 ultimos elementos"
   ]
  },
  {
   "cell_type": "code",
   "execution_count": 17,
   "id": "33df0d5c",
   "metadata": {},
   "outputs": [
    {
     "name": "stdout",
     "output_type": "stream",
     "text": [
      "['manzana', 'pera', 'uva', 'mango', 'platano']\n"
     ]
    }
   ],
   "source": [
    "print(frutas)"
   ]
  },
  {
   "cell_type": "markdown",
   "id": "0e2fbd05",
   "metadata": {},
   "source": [
    "✏️ Modificar elementos"
   ]
  },
  {
   "cell_type": "code",
   "execution_count": 19,
   "id": "9765dce1",
   "metadata": {},
   "outputs": [
    {
     "name": "stdout",
     "output_type": "stream",
     "text": [
      "['manzana', 'fresa', 'uva', 'mango', 'platano']\n"
     ]
    }
   ],
   "source": [
    "# Cambiar 'pera' por 'fresa'\n",
    "frutas[1] = 'fresa'\n",
    "print(frutas)"
   ]
  },
  {
   "cell_type": "code",
   "execution_count": 21,
   "id": "3a402751",
   "metadata": {},
   "outputs": [],
   "source": [
    "# Cambiar 'uva' por 'mandarina'\n",
    "frutas[2] = 'mandarina'"
   ]
  },
  {
   "cell_type": "code",
   "execution_count": 22,
   "id": "8cc89232",
   "metadata": {},
   "outputs": [
    {
     "name": "stdout",
     "output_type": "stream",
     "text": [
      "['manzana', 'fresa', 'mandarina', 'mango', 'platano']\n"
     ]
    }
   ],
   "source": [
    "print(frutas)"
   ]
  },
  {
   "cell_type": "markdown",
   "id": "5b27d029",
   "metadata": {},
   "source": [
    "➕ Agregar elementos"
   ]
  },
  {
   "cell_type": "code",
   "execution_count": 23,
   "id": "70d4e841",
   "metadata": {},
   "outputs": [
    {
     "name": "stdout",
     "output_type": "stream",
     "text": [
      "['manzana', 'fresa', 'mandarina', 'mango', 'platano', 'sandia']\n"
     ]
    }
   ],
   "source": [
    "# Agregar al final de la lista\n",
    "frutas.append('sandia')\n",
    "print(frutas)"
   ]
  },
  {
   "cell_type": "markdown",
   "id": "4451986d",
   "metadata": {},
   "source": [
    "➖ Eliminar elementos"
   ]
  },
  {
   "cell_type": "code",
   "execution_count": 24,
   "id": "b0ae2110",
   "metadata": {},
   "outputs": [
    {
     "name": "stdout",
     "output_type": "stream",
     "text": [
      "['fresa', 'mandarina', 'mango', 'platano', 'sandia']\n"
     ]
    }
   ],
   "source": [
    "frutas.remove('manzana')\n",
    "print(frutas)"
   ]
  },
  {
   "cell_type": "markdown",
   "id": "1bf4b69f",
   "metadata": {},
   "source": [
    "✏️ Insertar elementos en una posición dada"
   ]
  },
  {
   "cell_type": "code",
   "execution_count": 25,
   "id": "77b6e763",
   "metadata": {},
   "outputs": [
    {
     "name": "stdout",
     "output_type": "stream",
     "text": [
      "['fresa', 'naranja', 'mandarina', 'mango', 'platano', 'sandia']\n"
     ]
    }
   ],
   "source": [
    "frutas.insert(1, 'naranja')\n",
    "print(frutas)"
   ]
  },
  {
   "cell_type": "code",
   "execution_count": 26,
   "id": "66c6b132",
   "metadata": {},
   "outputs": [
    {
     "name": "stdout",
     "output_type": "stream",
     "text": [
      "['fresa', 'manzana', 'naranja', 'mandarina', 'mango', 'platano', 'sandia']\n"
     ]
    }
   ],
   "source": [
    "frutas.insert(1, 'manzana')\n",
    "print(frutas)"
   ]
  },
  {
   "cell_type": "markdown",
   "id": "a3bd6c99",
   "metadata": {},
   "source": [
    "➖ Elimina y retorna el elemento"
   ]
  },
  {
   "cell_type": "code",
   "execution_count": 27,
   "id": "04ed7f5a",
   "metadata": {},
   "outputs": [
    {
     "name": "stdout",
     "output_type": "stream",
     "text": [
      "sandia\n"
     ]
    }
   ],
   "source": [
    "ultimo_elemento = frutas.pop(-1)\n",
    "print(ultimo_elemento)"
   ]
  },
  {
   "cell_type": "markdown",
   "id": "0a5fddf2",
   "metadata": {},
   "source": [
    "⚙️ Otras operaciones comunes "
   ]
  },
  {
   "cell_type": "code",
   "execution_count": 28,
   "id": "d3908244",
   "metadata": {},
   "outputs": [],
   "source": [
    "numeros = [4, 2, 9, 1, 6, 7, 12]"
   ]
  },
  {
   "cell_type": "code",
   "execution_count": 36,
   "id": "afbe657d",
   "metadata": {},
   "outputs": [
    {
     "name": "stdout",
     "output_type": "stream",
     "text": [
      "9 pertenece a la lista de numeros\n"
     ]
    }
   ],
   "source": [
    "# Verificar existencia\n",
    "numero = int(input('Ingrese su numero: '))\n",
    "\n",
    "if (numero in numeros):\n",
    "    print(f'{numero} pertenece a la lista de numeros')\n",
    "else:\n",
    "    print(f'{numero} no pertenece a la lista de numeros')"
   ]
  },
  {
   "cell_type": "code",
   "execution_count": 38,
   "id": "b376f98d",
   "metadata": {},
   "outputs": [
    {
     "name": "stdout",
     "output_type": "stream",
     "text": [
      "[1, 2, 4, 6, 7, 9, 12]\n"
     ]
    }
   ],
   "source": [
    "# Ordenar\n",
    "numeros.sort()\n",
    "print(numeros)"
   ]
  },
  {
   "cell_type": "code",
   "execution_count": 39,
   "id": "3a181a69",
   "metadata": {},
   "outputs": [
    {
     "name": "stdout",
     "output_type": "stream",
     "text": [
      "[12, 9, 7, 6, 4, 2, 1]\n"
     ]
    }
   ],
   "source": [
    "# Invertir\n",
    "numeros.reverse()\n",
    "print(numeros)"
   ]
  },
  {
   "cell_type": "markdown",
   "id": "93bb1557",
   "metadata": {},
   "source": [
    "📌 Funciones útiles con listas"
   ]
  },
  {
   "cell_type": "code",
   "execution_count": 40,
   "id": "ce7ed240",
   "metadata": {},
   "outputs": [
    {
     "data": {
      "text/plain": [
       "12"
      ]
     },
     "execution_count": 40,
     "metadata": {},
     "output_type": "execute_result"
    }
   ],
   "source": [
    "# Maximo\n",
    "max(numeros)"
   ]
  },
  {
   "cell_type": "code",
   "execution_count": 41,
   "id": "4956393c",
   "metadata": {},
   "outputs": [
    {
     "data": {
      "text/plain": [
       "1"
      ]
     },
     "execution_count": 41,
     "metadata": {},
     "output_type": "execute_result"
    }
   ],
   "source": [
    "# Minimo\n",
    "min(numeros)"
   ]
  },
  {
   "cell_type": "code",
   "execution_count": 42,
   "id": "76a9a54d",
   "metadata": {},
   "outputs": [
    {
     "data": {
      "text/plain": [
       "41"
      ]
     },
     "execution_count": 42,
     "metadata": {},
     "output_type": "execute_result"
    }
   ],
   "source": [
    "# Suma\n",
    "sum(numeros)"
   ]
  },
  {
   "cell_type": "code",
   "execution_count": 43,
   "id": "c517eb04",
   "metadata": {},
   "outputs": [
    {
     "data": {
      "text/plain": [
       "7"
      ]
     },
     "execution_count": 43,
     "metadata": {},
     "output_type": "execute_result"
    }
   ],
   "source": [
    "# Longitud de la lista\n",
    "len(numeros)"
   ]
  },
  {
   "cell_type": "markdown",
   "id": "b861fc9a",
   "metadata": {},
   "source": [
    "🔁 Recorrer una lista con for"
   ]
  },
  {
   "cell_type": "code",
   "execution_count": 44,
   "id": "5a4c54ab",
   "metadata": {},
   "outputs": [
    {
     "name": "stdout",
     "output_type": "stream",
     "text": [
      "fruta: fresa\n",
      "fruta: manzana\n",
      "fruta: naranja\n",
      "fruta: mandarina\n",
      "fruta: mango\n",
      "fruta: platano\n"
     ]
    }
   ],
   "source": [
    "for fruta in frutas:\n",
    "    print(f'fruta: {fruta}')"
   ]
  },
  {
   "cell_type": "markdown",
   "id": "085cdf25",
   "metadata": {},
   "source": [
    "!! Cuidado con las copias"
   ]
  },
  {
   "cell_type": "code",
   "execution_count": null,
   "id": "7f594b0f",
   "metadata": {},
   "outputs": [],
   "source": [
    "# Método incorrecto para realizar una copia\n",
    "herramientas = ['martillo', 'tornillo', 'alicate']\n",
    "utensilios = herramientas"
   ]
  },
  {
   "cell_type": "code",
   "execution_count": 72,
   "id": "87f8f721",
   "metadata": {},
   "outputs": [
    {
     "name": "stdout",
     "output_type": "stream",
     "text": [
      "['martillo', 'tornillo', 'alicate'] ['martillo', 'tornillo', 'alicate']\n"
     ]
    }
   ],
   "source": [
    "print(herramientas, utensilios)"
   ]
  },
  {
   "cell_type": "code",
   "execution_count": 73,
   "id": "ce0a9ef5",
   "metadata": {},
   "outputs": [],
   "source": [
    "herramientas.append('desarmador')"
   ]
  },
  {
   "cell_type": "code",
   "execution_count": null,
   "id": "994b76f8",
   "metadata": {},
   "outputs": [
    {
     "name": "stdout",
     "output_type": "stream",
     "text": [
      "['martillo', 'tornillo', 'alicate', 'desarmador'] ['martillo', 'tornillo', 'alicate', 'desarmador']\n"
     ]
    }
   ],
   "source": [
    "# Porque agregará el elemento 'desarmador' a las dos listas ya que apunta a la misma lista.\n",
    "print(herramientas, utensilios)"
   ]
  },
  {
   "cell_type": "code",
   "execution_count": 76,
   "id": "c58d01cd",
   "metadata": {},
   "outputs": [
    {
     "name": "stdout",
     "output_type": "stream",
     "text": [
      "['martillo', 'tornillo', 'alicate'] ['martillo', 'tornillo', 'alicate']\n"
     ]
    }
   ],
   "source": [
    "# Método correcto de realizar una copia\n",
    "herramientas = ['martillo', 'tornillo', 'alicate']\n",
    "utensilios = herramientas.copy()\n",
    "# Asigna una copia de herramientas\n",
    "print(herramientas, utensilios)"
   ]
  },
  {
   "cell_type": "code",
   "execution_count": 77,
   "id": "0f40b2f8",
   "metadata": {},
   "outputs": [],
   "source": [
    "herramientas.append('desarmador')"
   ]
  },
  {
   "cell_type": "code",
   "execution_count": 78,
   "id": "cdf82d34",
   "metadata": {},
   "outputs": [
    {
     "name": "stdout",
     "output_type": "stream",
     "text": [
      "['martillo', 'tornillo', 'alicate', 'desarmador'] ['martillo', 'tornillo', 'alicate']\n"
     ]
    }
   ],
   "source": [
    "print(herramientas, utensilios)"
   ]
  },
  {
   "cell_type": "markdown",
   "id": "5bad6f59",
   "metadata": {},
   "source": [
    "📌 Ejercicios básicos con solución\n"
   ]
  },
  {
   "cell_type": "markdown",
   "id": "07625851",
   "metadata": {},
   "source": [
    "✅ Ejercicio 1: Crear una lista con tus 5 comidas favoritas y mostrar la segunda\n"
   ]
  },
  {
   "cell_type": "code",
   "execution_count": null,
   "id": "f40a1a2a",
   "metadata": {},
   "outputs": [],
   "source": [
    "comidas = []\n",
    "for i in range(5):\n",
    "    comida = input('Ingrese su comida favorita: ')\n",
    "    comidas.append(comida)"
   ]
  },
  {
   "cell_type": "code",
   "execution_count": 47,
   "id": "ad1a28d3",
   "metadata": {},
   "outputs": [
    {
     "name": "stdout",
     "output_type": "stream",
     "text": [
      "['pollo a la chiclayana', 'pollo horneado', 'filete de pescado', 'arepa con queso', 'cabrito a la norteña']\n"
     ]
    }
   ],
   "source": [
    "print(comidas)"
   ]
  },
  {
   "cell_type": "code",
   "execution_count": 48,
   "id": "3e2107a9",
   "metadata": {},
   "outputs": [
    {
     "data": {
      "text/plain": [
       "'pollo horneado'"
      ]
     },
     "execution_count": 48,
     "metadata": {},
     "output_type": "execute_result"
    }
   ],
   "source": [
    "# Seleccionar el segundo elemento\n",
    "comidas[1]"
   ]
  },
  {
   "cell_type": "code",
   "execution_count": 49,
   "id": "3479d924",
   "metadata": {},
   "outputs": [
    {
     "name": "stdout",
     "output_type": "stream",
     "text": [
      "['pollo a la chiclayana', 'arroz chaufa', 'filete de pescado', 'arepa con queso', 'cabrito a la norteña']\n"
     ]
    }
   ],
   "source": [
    "# Cambio de pollo horneado por arroz chaufa\n",
    "comidas[1] = 'arroz chaufa'\n",
    "print(comidas)"
   ]
  },
  {
   "cell_type": "code",
   "execution_count": 50,
   "id": "2eb13f7b",
   "metadata": {},
   "outputs": [
    {
     "name": "stdout",
     "output_type": "stream",
     "text": [
      "['pollo a la chiclayana', 'arroz chaufa', 'filete de pescado', 'arepa con queso', 'cabrito a la norteña', 'ceviche']\n"
     ]
    }
   ],
   "source": [
    "# agregar un elemento al final\n",
    "comidas.append('ceviche')\n",
    "print(comidas)"
   ]
  },
  {
   "cell_type": "markdown",
   "id": "10d6cebc",
   "metadata": {},
   "source": [
    "✅ Ejercicio 2: Crear una lista de números y mostrar solo los pares"
   ]
  },
  {
   "cell_type": "code",
   "execution_count": 51,
   "id": "ebe04378",
   "metadata": {},
   "outputs": [
    {
     "name": "stdout",
     "output_type": "stream",
     "text": [
      "Numeros pares: [10, 16, 18, 20, 22]\n"
     ]
    }
   ],
   "source": [
    "numeros = [10, 13, 16, 18, 20, 22, 23, 25]\n",
    "pares = []\n",
    "\n",
    "for numero in numeros:\n",
    "    if (numero % 2 == 0):\n",
    "        pares.append(numero)\n",
    "\n",
    "print(f'Numeros pares: {pares}')"
   ]
  },
  {
   "cell_type": "code",
   "execution_count": 52,
   "id": "fc1ab933",
   "metadata": {},
   "outputs": [
    {
     "name": "stdout",
     "output_type": "stream",
     "text": [
      "Numeros pares: [13, 23, 25]\n"
     ]
    }
   ],
   "source": [
    "numeros = [10, 13, 16, 18, 20, 22, 23, 25]\n",
    "impares = []\n",
    "\n",
    "for numero in numeros:\n",
    "    if (numero % 2 != 0):\n",
    "        impares.append(numero)\n",
    "\n",
    "print(f'Numeros pares: {impares}')"
   ]
  },
  {
   "cell_type": "markdown",
   "id": "48d53e35",
   "metadata": {},
   "source": [
    "✅ Ejercicio 3: Eliminar todos los elementos mayores a 20 de una lista\n"
   ]
  },
  {
   "cell_type": "code",
   "execution_count": 64,
   "id": "ff78cddf",
   "metadata": {},
   "outputs": [
    {
     "name": "stdout",
     "output_type": "stream",
     "text": [
      "Edades menores: [7, 10, 13, 16, 18]\n",
      "Edades mayores: [22, 30, 20, 23, 25]\n"
     ]
    }
   ],
   "source": [
    "edades = [22, 30, 7, 10, 13, 16, 18, 20, 23, 25]\n",
    "edades_menores = []\n",
    "edades_mayores = []\n",
    "\n",
    "for edad in edades:\n",
    "    if edad < 20:\n",
    "        edades_menores.append(edad)\n",
    "    else:\n",
    "        edades_mayores.append(edad)\n",
    "\n",
    "print(f'Edades menores: {edades_menores}')\n",
    "print(f'Edades mayores: {edades_mayores}')"
   ]
  },
  {
   "cell_type": "markdown",
   "id": "90995d6a",
   "metadata": {},
   "source": [
    "💼 Ejercicio real 1: Lista de ventas semanales, obtener ventas mayores a 1000"
   ]
  },
  {
   "cell_type": "code",
   "execution_count": 65,
   "id": "3e905709",
   "metadata": {},
   "outputs": [
    {
     "name": "stdout",
     "output_type": "stream",
     "text": [
      "Ventas destacadas: [1200, 1500, 2000]\n"
     ]
    }
   ],
   "source": [
    "ventas = [900, 1200, 1500, 500, 800, 2000]\n",
    "ventas_altas = []\n",
    "\n",
    "for venta in ventas:\n",
    "    if venta >= 1000:\n",
    "        ventas_altas.append(venta)\n",
    "\n",
    "print(f'Ventas destacadas: {ventas_altas}')"
   ]
  },
  {
   "cell_type": "markdown",
   "id": "b8dc8dd9",
   "metadata": {},
   "source": [
    "💼 Ejercicio real 2: Encuesta de satisfacción: contar cuántos dieron nota mayor o igual a 4"
   ]
  },
  {
   "cell_type": "code",
   "execution_count": 66,
   "id": "2f083d84",
   "metadata": {},
   "outputs": [
    {
     "name": "stdout",
     "output_type": "stream",
     "text": [
      "Clientes satisfechos: 4\n"
     ]
    }
   ],
   "source": [
    "respuestas = [5, 4, 3, 4, 5, 1, 2, 3]\n",
    "satisfechos = 0\n",
    "\n",
    "for resp in respuestas:\n",
    "    if resp >= 4:\n",
    "        satisfechos += 1\n",
    "\n",
    "print(f'Clientes satisfechos: {satisfechos}')"
   ]
  },
  {
   "cell_type": "markdown",
   "id": "48ee5c2a",
   "metadata": {},
   "source": [
    "💼 Ejercicio real 3: Calcular el promedio de edades de un grupo\n"
   ]
  },
  {
   "cell_type": "code",
   "execution_count": 70,
   "id": "f6224000",
   "metadata": {},
   "outputs": [
    {
     "name": "stdout",
     "output_type": "stream",
     "text": [
      "Promedio de edades: 18\n"
     ]
    }
   ],
   "source": [
    "edades = [20, 18, 17, 19, 20, 22, 19, 18, 17, 16, 17, 18]\n",
    "promedio = round(sum(edades) / len(edades))\n",
    "print(f'Promedio de edades: {promedio}')"
   ]
  },
  {
   "cell_type": "markdown",
   "id": "57ae7ea0",
   "metadata": {},
   "source": [
    "🎓 Conclusión\n",
    "\n",
    "- Las listas son estructuras flexibles y fundamentales en Python.\n",
    "- Permiten almacenar y manipular colecciones de datos.\n",
    "- Son ideales para programación estructurada, análisis de datos, IA y más."
   ]
  }
 ],
 "metadata": {
  "kernelspec": {
   "display_name": "Python 3",
   "language": "python",
   "name": "python3"
  },
  "language_info": {
   "codemirror_mode": {
    "name": "ipython",
    "version": 3
   },
   "file_extension": ".py",
   "mimetype": "text/x-python",
   "name": "python",
   "nbconvert_exporter": "python",
   "pygments_lexer": "ipython3",
   "version": "3.13.5"
  }
 },
 "nbformat": 4,
 "nbformat_minor": 5
}
