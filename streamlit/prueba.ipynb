{
 "cells": [
  {
   "cell_type": "code",
   "execution_count": 1,
   "id": "26854add",
   "metadata": {},
   "outputs": [
    {
     "data": {
      "text/html": [
       "<div>\n",
       "<style scoped>\n",
       "    .dataframe tbody tr th:only-of-type {\n",
       "        vertical-align: middle;\n",
       "    }\n",
       "\n",
       "    .dataframe tbody tr th {\n",
       "        vertical-align: top;\n",
       "    }\n",
       "\n",
       "    .dataframe thead th {\n",
       "        text-align: right;\n",
       "    }\n",
       "</style>\n",
       "<table border=\"1\" class=\"dataframe\">\n",
       "  <thead>\n",
       "    <tr style=\"text-align: right;\">\n",
       "      <th></th>\n",
       "      <th>LATITUD</th>\n",
       "      <th>LONGITUD</th>\n",
       "      <th>PROFUNDIDAD</th>\n",
       "      <th>MAGNITUD</th>\n",
       "      <th>FECHA_HORA</th>\n",
       "      <th>CLASIFICACION</th>\n",
       "    </tr>\n",
       "  </thead>\n",
       "  <tbody>\n",
       "    <tr>\n",
       "      <th>0</th>\n",
       "      <td>-16.145</td>\n",
       "      <td>-72.144</td>\n",
       "      <td>60</td>\n",
       "      <td>7.5</td>\n",
       "      <td>1960-01-13 15:40:34</td>\n",
       "      <td>Fuerte</td>\n",
       "    </tr>\n",
       "    <tr>\n",
       "      <th>1</th>\n",
       "      <td>-15.000</td>\n",
       "      <td>-75.000</td>\n",
       "      <td>70</td>\n",
       "      <td>7.0</td>\n",
       "      <td>1960-01-15 09:30:24</td>\n",
       "      <td>Fuerte</td>\n",
       "    </tr>\n",
       "    <tr>\n",
       "      <th>2</th>\n",
       "      <td>-14.500</td>\n",
       "      <td>-74.500</td>\n",
       "      <td>150</td>\n",
       "      <td>6.4</td>\n",
       "      <td>1960-01-17 02:57:58</td>\n",
       "      <td>Fuerte</td>\n",
       "    </tr>\n",
       "    <tr>\n",
       "      <th>3</th>\n",
       "      <td>-12.500</td>\n",
       "      <td>-68.500</td>\n",
       "      <td>300</td>\n",
       "      <td>5.8</td>\n",
       "      <td>1960-01-23 03:37:32</td>\n",
       "      <td>Moderado</td>\n",
       "    </tr>\n",
       "    <tr>\n",
       "      <th>4</th>\n",
       "      <td>-5.500</td>\n",
       "      <td>-77.500</td>\n",
       "      <td>100</td>\n",
       "      <td>5.7</td>\n",
       "      <td>1960-01-30 05:07:24</td>\n",
       "      <td>Moderado</td>\n",
       "    </tr>\n",
       "  </tbody>\n",
       "</table>\n",
       "</div>"
      ],
      "text/plain": [
       "   LATITUD  LONGITUD  PROFUNDIDAD  MAGNITUD           FECHA_HORA CLASIFICACION\n",
       "0  -16.145   -72.144           60       7.5  1960-01-13 15:40:34        Fuerte\n",
       "1  -15.000   -75.000           70       7.0  1960-01-15 09:30:24        Fuerte\n",
       "2  -14.500   -74.500          150       6.4  1960-01-17 02:57:58        Fuerte\n",
       "3  -12.500   -68.500          300       5.8  1960-01-23 03:37:32      Moderado\n",
       "4   -5.500   -77.500          100       5.7  1960-01-30 05:07:24      Moderado"
      ]
     },
     "execution_count": 1,
     "metadata": {},
     "output_type": "execute_result"
    }
   ],
   "source": [
    "import pandas as pd\n",
    "df = pd.read_csv('SismosPeru1960_2023.csv')\n",
    "df.head()"
   ]
  },
  {
   "cell_type": "code",
   "execution_count": 2,
   "id": "3a08f4b5",
   "metadata": {},
   "outputs": [],
   "source": [
    "df['FECHA_HORA'] = pd.to_datetime(df['FECHA_HORA'])"
   ]
  },
  {
   "cell_type": "code",
   "execution_count": 11,
   "id": "b8a96f3d",
   "metadata": {},
   "outputs": [],
   "source": [
    "df_size = df.groupby(df['FECHA_HORA'].dt.month)['MAGNITUD'].size()"
   ]
  },
  {
   "cell_type": "code",
   "execution_count": 12,
   "id": "a23841d7",
   "metadata": {},
   "outputs": [
    {
     "data": {
      "text/plain": [
       "FECHA_HORA\n",
       "1     1857\n",
       "2     1825\n",
       "3     1977\n",
       "4     1838\n",
       "5     1991\n",
       "6     2113\n",
       "7     1852\n",
       "8     2069\n",
       "9     1740\n",
       "10    2197\n",
       "11    2105\n",
       "12    2116\n",
       "Name: MAGNITUD, dtype: int64"
      ]
     },
     "execution_count": 12,
     "metadata": {},
     "output_type": "execute_result"
    }
   ],
   "source": [
    "df_size"
   ]
  },
  {
   "cell_type": "code",
   "execution_count": 14,
   "id": "cea13fec",
   "metadata": {},
   "outputs": [],
   "source": [
    "df_size.index = df_size.index.map({1:'Ene', 2:'Feb', 3:'Mar', 4:'Abr', 5:'May', 6:'Jun', 7:'Jul', 8:'Ago', 9:'Set', 10:'Oct', 11:'Nov', 12:'Dic'})"
   ]
  },
  {
   "cell_type": "code",
   "execution_count": 16,
   "id": "fb8c8385",
   "metadata": {},
   "outputs": [
    {
     "data": {
      "text/plain": [
       "FECHA_HORA\n",
       "Ene    1857\n",
       "Feb    1825\n",
       "Mar    1977\n",
       "Abr    1838\n",
       "May    1991\n",
       "Jun    2113\n",
       "Jul    1852\n",
       "Ago    2069\n",
       "Set    1740\n",
       "Oct    2197\n",
       "Nov    2105\n",
       "Dic    2116\n",
       "Name: MAGNITUD, dtype: int64"
      ]
     },
     "execution_count": 16,
     "metadata": {},
     "output_type": "execute_result"
    }
   ],
   "source": [
    "df_size"
   ]
  }
 ],
 "metadata": {
  "kernelspec": {
   "display_name": "Python 3",
   "language": "python",
   "name": "python3"
  },
  "language_info": {
   "codemirror_mode": {
    "name": "ipython",
    "version": 3
   },
   "file_extension": ".py",
   "mimetype": "text/x-python",
   "name": "python",
   "nbconvert_exporter": "python",
   "pygments_lexer": "ipython3",
   "version": "3.13.7"
  }
 },
 "nbformat": 4,
 "nbformat_minor": 5
}
